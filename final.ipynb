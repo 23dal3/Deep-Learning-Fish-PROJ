{
 "cells": [
  {
   "cell_type": "markdown",
   "id": "40166ce6",
   "metadata": {
    "papermill": {
     "duration": 0.059648,
     "end_time": "2022-05-14T16:14:26.762549",
     "exception": false,
     "start_time": "2022-05-14T16:14:26.702901",
     "status": "completed"
    },
    "tags": []
   },
   "source": [
    "# A Deep Learning Program Run on Commercial Pelagic Vessels in the Pacific"
   ]
  },
  {
   "cell_type": "markdown",
   "id": "2ee08070",
   "metadata": {
    "papermill": {
     "duration": 0.053802,
     "end_time": "2022-05-14T16:14:26.870216",
     "exception": false,
     "start_time": "2022-05-14T16:14:26.816414",
     "status": "completed"
    },
    "tags": []
   },
   "source": [
    "## Introduction"
   ]
  },
  {
   "cell_type": "markdown",
   "id": "a72a6604",
   "metadata": {
    "papermill": {
     "duration": 0.052801,
     "end_time": "2022-05-14T16:14:26.979708",
     "exception": false,
     "start_time": "2022-05-14T16:14:26.926907",
     "status": "completed"
    },
    "tags": []
   },
   "source": [
    "With the advent of modern technologies, we have seen unprecedented growth, yet this growth is proving to be problematic. An area that hs been heavily impacted by these modern technologies is our oceans. This project seeks to create a solution to an issue facing commercial pelagic longliners in the Pacific Ocean. An industrial longliner can set over 500 miles (800 km) worth of line with over ten thouasands hooks. With so many hooks, longliners have trouble keeping track of catches, and this is where this deep learning project seeks to help. By using deep learning image labelling, this project aims to be able to identify fish species in an image. The data set was retrieved from https://www.fishnet.ai/download from the v0.2.0 Dataset (September 2020) and has 12 GB of images containing different fish and animal species from commerical longliners operating in the Pacific.  The goal of this project is to able to accurately return the species present in an image and be able to predict the species in an image. "
   ]
  },
  {
   "cell_type": "markdown",
   "id": "61619c06",
   "metadata": {
    "papermill": {
     "duration": 0.052677,
     "end_time": "2022-05-14T16:14:27.085318",
     "exception": false,
     "start_time": "2022-05-14T16:14:27.032641",
     "status": "completed"
    },
    "tags": []
   },
   "source": [
    "**Packages Used**"
   ]
  },
  {
   "cell_type": "code",
   "execution_count": 1,
   "id": "0287554c",
   "metadata": {
    "execution": {
     "iopub.execute_input": "2022-05-14T16:14:27.198812Z",
     "iopub.status.busy": "2022-05-14T16:14:27.198416Z",
     "iopub.status.idle": "2022-05-14T16:14:33.174826Z",
     "shell.execute_reply": "2022-05-14T16:14:33.174022Z"
    },
    "papermill": {
     "duration": 6.036479,
     "end_time": "2022-05-14T16:14:33.177469",
     "exception": false,
     "start_time": "2022-05-14T16:14:27.140990",
     "status": "completed"
    },
    "tags": []
   },
   "outputs": [],
   "source": [
    "import shutil \n",
    "import keras\n",
    "from tensorflow.keras.applications.vgg16 import VGG16\n",
    "from keras.models import Sequential\n",
    "from keras.layers import Dense, Dropout, Flatten\n",
    "from keras.layers import Conv2D, MaxPooling2D\n",
    "from keras.utils import *\n",
    "from keras.preprocessing import image\n",
    "import os\n",
    "import numpy as np # linear algebra\n",
    "import pandas as pd # data processing, CSV file I/O (e.g. pd.read_csv)\n",
    "import matplotlib.pyplot as plt\n",
    "from sklearn.model_selection import train_test_split\n",
    "from tqdm import tqdm\n",
    "from tensorflow.keras.callbacks import EarlyStopping # early stopping\n",
    "import matplotlib.pyplot as plt\n",
    "from tensorflow.keras.applications.resnet50 import ResNet50, preprocess_input, decode_predictions\n",
    "from keras.applications.mobilenet_v2 import MobileNetV2\n",
    "from keras.applications.mobilenet import preprocess_input\n",
    "from tensorflow.keras.preprocessing.image import ImageDataGenerator\n",
    "np.random.seed(34)"
   ]
  },
  {
   "cell_type": "markdown",
   "id": "9574a2c4",
   "metadata": {
    "papermill": {
     "duration": 0.053619,
     "end_time": "2022-05-14T16:14:33.285623",
     "exception": false,
     "start_time": "2022-05-14T16:14:33.232004",
     "status": "completed"
    },
    "tags": []
   },
   "source": [
    "## Data Preprocessing"
   ]
  },
  {
   "cell_type": "markdown",
   "id": "8573f05a",
   "metadata": {
    "papermill": {
     "duration": 0.053662,
     "end_time": "2022-05-14T16:14:33.393620",
     "exception": false,
     "start_time": "2022-05-14T16:14:33.339958",
     "status": "completed"
    },
    "tags": []
   },
   "source": [
    "The original CSV (\"*foid_labels_bbox_v020.csv*\") contains 9 categories the image name, the bounding box, its corresponding dimensions, and the corresponding labels with the bounding boxes. For the purpose of multilabeling images, in this project only *label_l2* and image name is utilized.  The categoris in *label_l2* are \n",
    "> ['HUMAN', 'NoF', 'YFT', 'ALB', 'OTH', 'BILL', 'DOL', 'BET', 'SKJ', 'LAG', 'SHARK', 'OIL', 'PLS', 'TUNA', 'WATER']\n",
    "\n",
    "each label represents either kind of fish or an obstruction on the camera. \n"
   ]
  },
  {
   "cell_type": "markdown",
   "id": "aefc3e2c",
   "metadata": {
    "papermill": {
     "duration": 0.053751,
     "end_time": "2022-05-14T16:14:33.502339",
     "exception": false,
     "start_time": "2022-05-14T16:14:33.448588",
     "status": "completed"
    },
    "tags": []
   },
   "source": [
    "Due to RAM complications, this project takes a randomly selected group of 10,000 images, which were saved into a CSV file (\"*Subsetted_Fish.csv*\"). The fish data frame takes the image id and 15 categories based on *label_l2*. Each column in the fish data frame is a *label_l2* category, and if the image contains one of those categories it has a 0 in the respective column else it has a zero (binary encoding of contains? Y/N)."
   ]
  },
  {
   "cell_type": "markdown",
   "id": "00adf109",
   "metadata": {
    "_kg_hide-input": true,
    "papermill": {
     "duration": 0.052948,
     "end_time": "2022-05-14T16:14:33.609114",
     "exception": false,
     "start_time": "2022-05-14T16:14:33.556166",
     "status": "completed"
    },
    "tags": []
   },
   "source": [
    "## Solution"
   ]
  },
  {
   "cell_type": "markdown",
   "id": "c945139b",
   "metadata": {
    "papermill": {
     "duration": 0.053637,
     "end_time": "2022-05-14T16:14:33.715980",
     "exception": false,
     "start_time": "2022-05-14T16:14:33.662343",
     "status": "completed"
    },
    "tags": []
   },
   "source": [
    "First *Subsetted_Fish.csv* is read in (in this case called *file_name.csv*). And assign it to the pandas dataframe named subsetted. "
   ]
  },
  {
   "cell_type": "code",
   "execution_count": 2,
   "id": "f3077d50",
   "metadata": {
    "execution": {
     "iopub.execute_input": "2022-05-14T16:14:33.823948Z",
     "iopub.status.busy": "2022-05-14T16:14:33.823290Z",
     "iopub.status.idle": "2022-05-14T16:14:33.856361Z",
     "shell.execute_reply": "2022-05-14T16:14:33.855646Z"
    },
    "papermill": {
     "duration": 0.089303,
     "end_time": "2022-05-14T16:14:33.858134",
     "exception": false,
     "start_time": "2022-05-14T16:14:33.768831",
     "status": "completed"
    },
    "tags": []
   },
   "outputs": [],
   "source": [
    "subsetted= pd.read_csv(\"../input/subsetted/file_name.csv\")\n"
   ]
  },
  {
   "cell_type": "markdown",
   "id": "d34bcbc0",
   "metadata": {
    "papermill": {
     "duration": 0.054981,
     "end_time": "2022-05-14T16:14:33.967782",
     "exception": false,
     "start_time": "2022-05-14T16:14:33.912801",
     "status": "completed"
    },
    "tags": []
   },
   "source": [
    "Next in order to assign the corresponding images found in the \"subsetted\" dataframe a new folder called 'image' is created using the \n",
    "**os** package. "
   ]
  },
  {
   "cell_type": "code",
   "execution_count": 3,
   "id": "d457af90",
   "metadata": {
    "execution": {
     "iopub.execute_input": "2022-05-14T16:14:34.075781Z",
     "iopub.status.busy": "2022-05-14T16:14:34.075552Z",
     "iopub.status.idle": "2022-05-14T16:14:34.079510Z",
     "shell.execute_reply": "2022-05-14T16:14:34.078678Z"
    },
    "papermill": {
     "duration": 0.060085,
     "end_time": "2022-05-14T16:14:34.081585",
     "exception": false,
     "start_time": "2022-05-14T16:14:34.021500",
     "status": "completed"
    },
    "tags": []
   },
   "outputs": [],
   "source": [
    "os.makedirs('image')"
   ]
  },
  {
   "cell_type": "markdown",
   "id": "13a8eeda",
   "metadata": {
    "papermill": {
     "duration": 0.053175,
     "end_time": "2022-05-14T16:14:34.188629",
     "exception": false,
     "start_time": "2022-05-14T16:14:34.135454",
     "status": "completed"
    },
    "tags": []
   },
   "source": [
    "In order for \"subsetted\" to be used properly it needs to be cleaned. First, the null values must be filled with 0 for the absence of that category in the image. Next, the redundant row \"Unnamed\" is dropped. The new \"subsetted\" data frame is called proper as it is properly formatted."
   ]
  },
  {
   "cell_type": "code",
   "execution_count": 4,
   "id": "7b96ac17",
   "metadata": {
    "execution": {
     "iopub.execute_input": "2022-05-14T16:14:34.295300Z",
     "iopub.status.busy": "2022-05-14T16:14:34.295099Z",
     "iopub.status.idle": "2022-05-14T16:14:34.331631Z",
     "shell.execute_reply": "2022-05-14T16:14:34.330996Z"
    },
    "papermill": {
     "duration": 0.092205,
     "end_time": "2022-05-14T16:14:34.333678",
     "exception": false,
     "start_time": "2022-05-14T16:14:34.241473",
     "status": "completed"
    },
    "tags": []
   },
   "outputs": [
    {
     "data": {
      "text/html": [
       "<div>\n",
       "<style scoped>\n",
       "    .dataframe tbody tr th:only-of-type {\n",
       "        vertical-align: middle;\n",
       "    }\n",
       "\n",
       "    .dataframe tbody tr th {\n",
       "        vertical-align: top;\n",
       "    }\n",
       "\n",
       "    .dataframe thead th {\n",
       "        text-align: right;\n",
       "    }\n",
       "</style>\n",
       "<table border=\"1\" class=\"dataframe\">\n",
       "  <thead>\n",
       "    <tr style=\"text-align: right;\">\n",
       "      <th></th>\n",
       "      <th>img_id</th>\n",
       "      <th>HUMAN</th>\n",
       "      <th>NoF</th>\n",
       "      <th>YFT</th>\n",
       "      <th>ALB</th>\n",
       "      <th>OTH</th>\n",
       "      <th>BILL</th>\n",
       "      <th>DOL</th>\n",
       "      <th>BET</th>\n",
       "      <th>SKJ</th>\n",
       "      <th>LAG</th>\n",
       "      <th>SHARK</th>\n",
       "      <th>OIL</th>\n",
       "      <th>PLS</th>\n",
       "      <th>TUNA</th>\n",
       "      <th>WATER</th>\n",
       "    </tr>\n",
       "  </thead>\n",
       "  <tbody>\n",
       "    <tr>\n",
       "      <th>0</th>\n",
       "      <td>dabf988c-db28-11ea-b646-f751770c2667</td>\n",
       "      <td>1.0</td>\n",
       "      <td>0.0</td>\n",
       "      <td>0.0</td>\n",
       "      <td>1.0</td>\n",
       "      <td>0.0</td>\n",
       "      <td>0.0</td>\n",
       "      <td>0.0</td>\n",
       "      <td>0.0</td>\n",
       "      <td>0.0</td>\n",
       "      <td>0.0</td>\n",
       "      <td>0.0</td>\n",
       "      <td>0.0</td>\n",
       "      <td>0.0</td>\n",
       "      <td>0.0</td>\n",
       "      <td>0.0</td>\n",
       "    </tr>\n",
       "    <tr>\n",
       "      <th>1</th>\n",
       "      <td>da4cbfa6-db28-11ea-b466-bb5f9e1c58d1</td>\n",
       "      <td>1.0</td>\n",
       "      <td>0.0</td>\n",
       "      <td>0.0</td>\n",
       "      <td>1.0</td>\n",
       "      <td>0.0</td>\n",
       "      <td>0.0</td>\n",
       "      <td>0.0</td>\n",
       "      <td>0.0</td>\n",
       "      <td>0.0</td>\n",
       "      <td>0.0</td>\n",
       "      <td>0.0</td>\n",
       "      <td>0.0</td>\n",
       "      <td>0.0</td>\n",
       "      <td>0.0</td>\n",
       "      <td>0.0</td>\n",
       "    </tr>\n",
       "    <tr>\n",
       "      <th>2</th>\n",
       "      <td>94d2518e-23f0-11e9-a8ae-97372c179db9</td>\n",
       "      <td>1.0</td>\n",
       "      <td>0.0</td>\n",
       "      <td>0.0</td>\n",
       "      <td>0.0</td>\n",
       "      <td>0.0</td>\n",
       "      <td>0.0</td>\n",
       "      <td>0.0</td>\n",
       "      <td>1.0</td>\n",
       "      <td>0.0</td>\n",
       "      <td>0.0</td>\n",
       "      <td>0.0</td>\n",
       "      <td>0.0</td>\n",
       "      <td>0.0</td>\n",
       "      <td>0.0</td>\n",
       "      <td>0.0</td>\n",
       "    </tr>\n",
       "    <tr>\n",
       "      <th>3</th>\n",
       "      <td>da97f94e-db28-11ea-a4e2-6bc6f4fb7b0e</td>\n",
       "      <td>1.0</td>\n",
       "      <td>0.0</td>\n",
       "      <td>0.0</td>\n",
       "      <td>1.0</td>\n",
       "      <td>0.0</td>\n",
       "      <td>0.0</td>\n",
       "      <td>0.0</td>\n",
       "      <td>0.0</td>\n",
       "      <td>1.0</td>\n",
       "      <td>0.0</td>\n",
       "      <td>0.0</td>\n",
       "      <td>0.0</td>\n",
       "      <td>0.0</td>\n",
       "      <td>0.0</td>\n",
       "      <td>0.0</td>\n",
       "    </tr>\n",
       "    <tr>\n",
       "      <th>4</th>\n",
       "      <td>dad1c426-db28-11ea-bb6b-3f63cdd14d9d</td>\n",
       "      <td>1.0</td>\n",
       "      <td>0.0</td>\n",
       "      <td>1.0</td>\n",
       "      <td>0.0</td>\n",
       "      <td>0.0</td>\n",
       "      <td>0.0</td>\n",
       "      <td>0.0</td>\n",
       "      <td>0.0</td>\n",
       "      <td>0.0</td>\n",
       "      <td>0.0</td>\n",
       "      <td>0.0</td>\n",
       "      <td>0.0</td>\n",
       "      <td>0.0</td>\n",
       "      <td>0.0</td>\n",
       "      <td>0.0</td>\n",
       "    </tr>\n",
       "  </tbody>\n",
       "</table>\n",
       "</div>"
      ],
      "text/plain": [
       "                                 img_id  HUMAN  NoF  YFT  ALB  OTH  BILL  DOL  \\\n",
       "0  dabf988c-db28-11ea-b646-f751770c2667    1.0  0.0  0.0  1.0  0.0   0.0  0.0   \n",
       "1  da4cbfa6-db28-11ea-b466-bb5f9e1c58d1    1.0  0.0  0.0  1.0  0.0   0.0  0.0   \n",
       "2  94d2518e-23f0-11e9-a8ae-97372c179db9    1.0  0.0  0.0  0.0  0.0   0.0  0.0   \n",
       "3  da97f94e-db28-11ea-a4e2-6bc6f4fb7b0e    1.0  0.0  0.0  1.0  0.0   0.0  0.0   \n",
       "4  dad1c426-db28-11ea-bb6b-3f63cdd14d9d    1.0  0.0  1.0  0.0  0.0   0.0  0.0   \n",
       "\n",
       "   BET  SKJ  LAG  SHARK  OIL  PLS  TUNA  WATER  \n",
       "0  0.0  0.0  0.0    0.0  0.0  0.0   0.0    0.0  \n",
       "1  0.0  0.0  0.0    0.0  0.0  0.0   0.0    0.0  \n",
       "2  1.0  0.0  0.0    0.0  0.0  0.0   0.0    0.0  \n",
       "3  0.0  1.0  0.0    0.0  0.0  0.0   0.0    0.0  \n",
       "4  0.0  0.0  0.0    0.0  0.0  0.0   0.0    0.0  "
      ]
     },
     "execution_count": 4,
     "metadata": {},
     "output_type": "execute_result"
    }
   ],
   "source": [
    "proper = subsetted.fillna(0)\n",
    "proper = proper.drop(columns=\"Unnamed: 0\")\n",
    "proper.head()"
   ]
  },
  {
   "cell_type": "markdown",
   "id": "a364e5c6",
   "metadata": {
    "papermill": {
     "duration": 0.054959,
     "end_time": "2022-05-14T16:14:34.444023",
     "exception": false,
     "start_time": "2022-05-14T16:14:34.389064",
     "status": "completed"
    },
    "tags": []
   },
   "source": [
    "Since humans are present in every single image it does not make sense to include this category because the 'accuracy' while the other labels in the images are not present."
   ]
  },
  {
   "cell_type": "code",
   "execution_count": 5,
   "id": "a71ea065",
   "metadata": {
    "execution": {
     "iopub.execute_input": "2022-05-14T16:14:34.552450Z",
     "iopub.status.busy": "2022-05-14T16:14:34.551968Z",
     "iopub.status.idle": "2022-05-14T16:14:34.574714Z",
     "shell.execute_reply": "2022-05-14T16:14:34.573894Z"
    },
    "papermill": {
     "duration": 0.078592,
     "end_time": "2022-05-14T16:14:34.576656",
     "exception": false,
     "start_time": "2022-05-14T16:14:34.498064",
     "status": "completed"
    },
    "tags": []
   },
   "outputs": [
    {
     "data": {
      "text/html": [
       "<div>\n",
       "<style scoped>\n",
       "    .dataframe tbody tr th:only-of-type {\n",
       "        vertical-align: middle;\n",
       "    }\n",
       "\n",
       "    .dataframe tbody tr th {\n",
       "        vertical-align: top;\n",
       "    }\n",
       "\n",
       "    .dataframe thead th {\n",
       "        text-align: right;\n",
       "    }\n",
       "</style>\n",
       "<table border=\"1\" class=\"dataframe\">\n",
       "  <thead>\n",
       "    <tr style=\"text-align: right;\">\n",
       "      <th></th>\n",
       "      <th>img_id</th>\n",
       "      <th>NoF</th>\n",
       "      <th>YFT</th>\n",
       "      <th>ALB</th>\n",
       "      <th>OTH</th>\n",
       "      <th>BILL</th>\n",
       "      <th>DOL</th>\n",
       "      <th>BET</th>\n",
       "      <th>SKJ</th>\n",
       "      <th>LAG</th>\n",
       "      <th>SHARK</th>\n",
       "      <th>OIL</th>\n",
       "      <th>PLS</th>\n",
       "      <th>TUNA</th>\n",
       "      <th>WATER</th>\n",
       "    </tr>\n",
       "  </thead>\n",
       "  <tbody>\n",
       "    <tr>\n",
       "      <th>0</th>\n",
       "      <td>dabf988c-db28-11ea-b646-f751770c2667</td>\n",
       "      <td>0.0</td>\n",
       "      <td>0.0</td>\n",
       "      <td>1.0</td>\n",
       "      <td>0.0</td>\n",
       "      <td>0.0</td>\n",
       "      <td>0.0</td>\n",
       "      <td>0.0</td>\n",
       "      <td>0.0</td>\n",
       "      <td>0.0</td>\n",
       "      <td>0.0</td>\n",
       "      <td>0.0</td>\n",
       "      <td>0.0</td>\n",
       "      <td>0.0</td>\n",
       "      <td>0.0</td>\n",
       "    </tr>\n",
       "    <tr>\n",
       "      <th>1</th>\n",
       "      <td>da4cbfa6-db28-11ea-b466-bb5f9e1c58d1</td>\n",
       "      <td>0.0</td>\n",
       "      <td>0.0</td>\n",
       "      <td>1.0</td>\n",
       "      <td>0.0</td>\n",
       "      <td>0.0</td>\n",
       "      <td>0.0</td>\n",
       "      <td>0.0</td>\n",
       "      <td>0.0</td>\n",
       "      <td>0.0</td>\n",
       "      <td>0.0</td>\n",
       "      <td>0.0</td>\n",
       "      <td>0.0</td>\n",
       "      <td>0.0</td>\n",
       "      <td>0.0</td>\n",
       "    </tr>\n",
       "    <tr>\n",
       "      <th>2</th>\n",
       "      <td>94d2518e-23f0-11e9-a8ae-97372c179db9</td>\n",
       "      <td>0.0</td>\n",
       "      <td>0.0</td>\n",
       "      <td>0.0</td>\n",
       "      <td>0.0</td>\n",
       "      <td>0.0</td>\n",
       "      <td>0.0</td>\n",
       "      <td>1.0</td>\n",
       "      <td>0.0</td>\n",
       "      <td>0.0</td>\n",
       "      <td>0.0</td>\n",
       "      <td>0.0</td>\n",
       "      <td>0.0</td>\n",
       "      <td>0.0</td>\n",
       "      <td>0.0</td>\n",
       "    </tr>\n",
       "    <tr>\n",
       "      <th>3</th>\n",
       "      <td>da97f94e-db28-11ea-a4e2-6bc6f4fb7b0e</td>\n",
       "      <td>0.0</td>\n",
       "      <td>0.0</td>\n",
       "      <td>1.0</td>\n",
       "      <td>0.0</td>\n",
       "      <td>0.0</td>\n",
       "      <td>0.0</td>\n",
       "      <td>0.0</td>\n",
       "      <td>1.0</td>\n",
       "      <td>0.0</td>\n",
       "      <td>0.0</td>\n",
       "      <td>0.0</td>\n",
       "      <td>0.0</td>\n",
       "      <td>0.0</td>\n",
       "      <td>0.0</td>\n",
       "    </tr>\n",
       "    <tr>\n",
       "      <th>4</th>\n",
       "      <td>dad1c426-db28-11ea-bb6b-3f63cdd14d9d</td>\n",
       "      <td>0.0</td>\n",
       "      <td>1.0</td>\n",
       "      <td>0.0</td>\n",
       "      <td>0.0</td>\n",
       "      <td>0.0</td>\n",
       "      <td>0.0</td>\n",
       "      <td>0.0</td>\n",
       "      <td>0.0</td>\n",
       "      <td>0.0</td>\n",
       "      <td>0.0</td>\n",
       "      <td>0.0</td>\n",
       "      <td>0.0</td>\n",
       "      <td>0.0</td>\n",
       "      <td>0.0</td>\n",
       "    </tr>\n",
       "  </tbody>\n",
       "</table>\n",
       "</div>"
      ],
      "text/plain": [
       "                                 img_id  NoF  YFT  ALB  OTH  BILL  DOL  BET  \\\n",
       "0  dabf988c-db28-11ea-b646-f751770c2667  0.0  0.0  1.0  0.0   0.0  0.0  0.0   \n",
       "1  da4cbfa6-db28-11ea-b466-bb5f9e1c58d1  0.0  0.0  1.0  0.0   0.0  0.0  0.0   \n",
       "2  94d2518e-23f0-11e9-a8ae-97372c179db9  0.0  0.0  0.0  0.0   0.0  0.0  1.0   \n",
       "3  da97f94e-db28-11ea-a4e2-6bc6f4fb7b0e  0.0  0.0  1.0  0.0   0.0  0.0  0.0   \n",
       "4  dad1c426-db28-11ea-bb6b-3f63cdd14d9d  0.0  1.0  0.0  0.0   0.0  0.0  0.0   \n",
       "\n",
       "   SKJ  LAG  SHARK  OIL  PLS  TUNA  WATER  \n",
       "0  0.0  0.0    0.0  0.0  0.0   0.0    0.0  \n",
       "1  0.0  0.0    0.0  0.0  0.0   0.0    0.0  \n",
       "2  0.0  0.0    0.0  0.0  0.0   0.0    0.0  \n",
       "3  1.0  0.0    0.0  0.0  0.0   0.0    0.0  \n",
       "4  0.0  0.0    0.0  0.0  0.0   0.0    0.0  "
      ]
     },
     "execution_count": 5,
     "metadata": {},
     "output_type": "execute_result"
    }
   ],
   "source": [
    "# Testing w/o Humans\n",
    "proper = proper.drop(columns=\"HUMAN\")\n",
    "proper.head()"
   ]
  },
  {
   "cell_type": "markdown",
   "id": "2193f70b",
   "metadata": {
    "papermill": {
     "duration": 0.054006,
     "end_time": "2022-05-14T16:14:34.690585",
     "exception": false,
     "start_time": "2022-05-14T16:14:34.636579",
     "status": "completed"
    },
    "tags": []
   },
   "source": [
    "The image names then are put into a list called *list_ids*, so we can move the images in \"proper\" to the image folder."
   ]
  },
  {
   "cell_type": "code",
   "execution_count": 6,
   "id": "ba733638",
   "metadata": {
    "execution": {
     "iopub.execute_input": "2022-05-14T16:14:34.801085Z",
     "iopub.status.busy": "2022-05-14T16:14:34.800487Z",
     "iopub.status.idle": "2022-05-14T16:14:34.808333Z",
     "shell.execute_reply": "2022-05-14T16:14:34.807659Z"
    },
    "papermill": {
     "duration": 0.065186,
     "end_time": "2022-05-14T16:14:34.809957",
     "exception": false,
     "start_time": "2022-05-14T16:14:34.744771",
     "status": "completed"
    },
    "tags": []
   },
   "outputs": [
    {
     "data": {
      "text/plain": [
       "'da97f94e-db28-11ea-a4e2-6bc6f4fb7b0e'"
      ]
     },
     "execution_count": 6,
     "metadata": {},
     "output_type": "execute_result"
    }
   ],
   "source": [
    "list_ids= list(proper['img_id'])\n",
    "list_ids[3]"
   ]
  },
  {
   "cell_type": "markdown",
   "id": "2b55f78f",
   "metadata": {
    "papermill": {
     "duration": 0.055201,
     "end_time": "2022-05-14T16:14:34.920086",
     "exception": false,
     "start_time": "2022-05-14T16:14:34.864885",
     "status": "completed"
    },
    "tags": []
   },
   "source": [
    "Using the image ids from *list_ids*, the image id is then concatenated with where the file is stored ( a Kaggle data set). Then if the image does not exist then there is a failure and the function exits. If the file path does exists the image is copied then moved into the image folder using the **shutil** package."
   ]
  },
  {
   "cell_type": "code",
   "execution_count": 7,
   "id": "e3c1f9ad",
   "metadata": {
    "execution": {
     "iopub.execute_input": "2022-05-14T16:14:35.033610Z",
     "iopub.status.busy": "2022-05-14T16:14:35.032997Z",
     "iopub.status.idle": "2022-05-14T16:15:49.621784Z",
     "shell.execute_reply": "2022-05-14T16:15:49.619727Z"
    },
    "papermill": {
     "duration": 74.647791,
     "end_time": "2022-05-14T16:15:49.623664",
     "exception": false,
     "start_time": "2022-05-14T16:14:34.975873",
     "status": "completed"
    },
    "tags": []
   },
   "outputs": [
    {
     "name": "stderr",
     "output_type": "stream",
     "text": [
      "100%|██████████| 10000/10000 [01:14<00:00, 134.09it/s]\n"
     ]
    }
   ],
   "source": [
    "for i in tqdm(list_ids):\n",
    "    c = i+'.jpg'\n",
    "    get_image = '/kaggle/input/attempt-13/foid_images_v020/images/' + c\n",
    "    if not os.path.exists('/kaggle/input/attempt-13/foid_images_v020/images/'+c):\n",
    "            print(\"FAILED\")\n",
    "            break\n",
    "    else:\n",
    "        move_image = shutil.copy(get_image,'/kaggle/working/image/')"
   ]
  },
  {
   "cell_type": "markdown",
   "id": "328210cc",
   "metadata": {
    "execution": {
     "iopub.execute_input": "2022-05-14T14:45:57.911355Z",
     "iopub.status.busy": "2022-05-14T14:45:57.910616Z",
     "iopub.status.idle": "2022-05-14T14:45:57.919834Z",
     "shell.execute_reply": "2022-05-14T14:45:57.918429Z",
     "shell.execute_reply.started": "2022-05-14T14:45:57.911314Z"
    },
    "papermill": {
     "duration": 0.266281,
     "end_time": "2022-05-14T16:15:50.157485",
     "exception": false,
     "start_time": "2022-05-14T16:15:49.891204",
     "status": "completed"
    },
    "tags": []
   },
   "source": [
    "Due to RAM limits, \"proper\" is further subsetted to 1000 images. The new data frame is called \"proper_sub\"."
   ]
  },
  {
   "cell_type": "code",
   "execution_count": 8,
   "id": "26efbd51",
   "metadata": {
    "execution": {
     "iopub.execute_input": "2022-05-14T16:15:50.691998Z",
     "iopub.status.busy": "2022-05-14T16:15:50.691749Z",
     "iopub.status.idle": "2022-05-14T16:15:50.695796Z",
     "shell.execute_reply": "2022-05-14T16:15:50.695017Z"
    },
    "papermill": {
     "duration": 0.272919,
     "end_time": "2022-05-14T16:15:50.698009",
     "exception": false,
     "start_time": "2022-05-14T16:15:50.425090",
     "status": "completed"
    },
    "tags": []
   },
   "outputs": [],
   "source": [
    "proper_sub= proper.head(1000)\n"
   ]
  },
  {
   "cell_type": "markdown",
   "id": "6b98f6ce",
   "metadata": {
    "papermill": {
     "duration": 0.266478,
     "end_time": "2022-05-14T16:15:51.228757",
     "exception": false,
     "start_time": "2022-05-14T16:15:50.962279",
     "status": "completed"
    },
    "tags": []
   },
   "source": [
    "Printing out the first 5 elements of the data frame \"proper_sub\"."
   ]
  },
  {
   "cell_type": "code",
   "execution_count": 9,
   "id": "d499fceb",
   "metadata": {
    "execution": {
     "iopub.execute_input": "2022-05-14T16:15:51.763670Z",
     "iopub.status.busy": "2022-05-14T16:15:51.763419Z",
     "iopub.status.idle": "2022-05-14T16:15:51.786442Z",
     "shell.execute_reply": "2022-05-14T16:15:51.785507Z"
    },
    "papermill": {
     "duration": 0.293512,
     "end_time": "2022-05-14T16:15:51.789605",
     "exception": false,
     "start_time": "2022-05-14T16:15:51.496093",
     "status": "completed"
    },
    "tags": []
   },
   "outputs": [
    {
     "data": {
      "text/html": [
       "<div>\n",
       "<style scoped>\n",
       "    .dataframe tbody tr th:only-of-type {\n",
       "        vertical-align: middle;\n",
       "    }\n",
       "\n",
       "    .dataframe tbody tr th {\n",
       "        vertical-align: top;\n",
       "    }\n",
       "\n",
       "    .dataframe thead th {\n",
       "        text-align: right;\n",
       "    }\n",
       "</style>\n",
       "<table border=\"1\" class=\"dataframe\">\n",
       "  <thead>\n",
       "    <tr style=\"text-align: right;\">\n",
       "      <th></th>\n",
       "      <th>img_id</th>\n",
       "      <th>NoF</th>\n",
       "      <th>YFT</th>\n",
       "      <th>ALB</th>\n",
       "      <th>OTH</th>\n",
       "      <th>BILL</th>\n",
       "      <th>DOL</th>\n",
       "      <th>BET</th>\n",
       "      <th>SKJ</th>\n",
       "      <th>LAG</th>\n",
       "      <th>SHARK</th>\n",
       "      <th>OIL</th>\n",
       "      <th>PLS</th>\n",
       "      <th>TUNA</th>\n",
       "      <th>WATER</th>\n",
       "    </tr>\n",
       "  </thead>\n",
       "  <tbody>\n",
       "    <tr>\n",
       "      <th>0</th>\n",
       "      <td>dabf988c-db28-11ea-b646-f751770c2667</td>\n",
       "      <td>0.0</td>\n",
       "      <td>0.0</td>\n",
       "      <td>1.0</td>\n",
       "      <td>0.0</td>\n",
       "      <td>0.0</td>\n",
       "      <td>0.0</td>\n",
       "      <td>0.0</td>\n",
       "      <td>0.0</td>\n",
       "      <td>0.0</td>\n",
       "      <td>0.0</td>\n",
       "      <td>0.0</td>\n",
       "      <td>0.0</td>\n",
       "      <td>0.0</td>\n",
       "      <td>0.0</td>\n",
       "    </tr>\n",
       "    <tr>\n",
       "      <th>1</th>\n",
       "      <td>da4cbfa6-db28-11ea-b466-bb5f9e1c58d1</td>\n",
       "      <td>0.0</td>\n",
       "      <td>0.0</td>\n",
       "      <td>1.0</td>\n",
       "      <td>0.0</td>\n",
       "      <td>0.0</td>\n",
       "      <td>0.0</td>\n",
       "      <td>0.0</td>\n",
       "      <td>0.0</td>\n",
       "      <td>0.0</td>\n",
       "      <td>0.0</td>\n",
       "      <td>0.0</td>\n",
       "      <td>0.0</td>\n",
       "      <td>0.0</td>\n",
       "      <td>0.0</td>\n",
       "    </tr>\n",
       "    <tr>\n",
       "      <th>2</th>\n",
       "      <td>94d2518e-23f0-11e9-a8ae-97372c179db9</td>\n",
       "      <td>0.0</td>\n",
       "      <td>0.0</td>\n",
       "      <td>0.0</td>\n",
       "      <td>0.0</td>\n",
       "      <td>0.0</td>\n",
       "      <td>0.0</td>\n",
       "      <td>1.0</td>\n",
       "      <td>0.0</td>\n",
       "      <td>0.0</td>\n",
       "      <td>0.0</td>\n",
       "      <td>0.0</td>\n",
       "      <td>0.0</td>\n",
       "      <td>0.0</td>\n",
       "      <td>0.0</td>\n",
       "    </tr>\n",
       "    <tr>\n",
       "      <th>3</th>\n",
       "      <td>da97f94e-db28-11ea-a4e2-6bc6f4fb7b0e</td>\n",
       "      <td>0.0</td>\n",
       "      <td>0.0</td>\n",
       "      <td>1.0</td>\n",
       "      <td>0.0</td>\n",
       "      <td>0.0</td>\n",
       "      <td>0.0</td>\n",
       "      <td>0.0</td>\n",
       "      <td>1.0</td>\n",
       "      <td>0.0</td>\n",
       "      <td>0.0</td>\n",
       "      <td>0.0</td>\n",
       "      <td>0.0</td>\n",
       "      <td>0.0</td>\n",
       "      <td>0.0</td>\n",
       "    </tr>\n",
       "    <tr>\n",
       "      <th>4</th>\n",
       "      <td>dad1c426-db28-11ea-bb6b-3f63cdd14d9d</td>\n",
       "      <td>0.0</td>\n",
       "      <td>1.0</td>\n",
       "      <td>0.0</td>\n",
       "      <td>0.0</td>\n",
       "      <td>0.0</td>\n",
       "      <td>0.0</td>\n",
       "      <td>0.0</td>\n",
       "      <td>0.0</td>\n",
       "      <td>0.0</td>\n",
       "      <td>0.0</td>\n",
       "      <td>0.0</td>\n",
       "      <td>0.0</td>\n",
       "      <td>0.0</td>\n",
       "      <td>0.0</td>\n",
       "    </tr>\n",
       "  </tbody>\n",
       "</table>\n",
       "</div>"
      ],
      "text/plain": [
       "                                 img_id  NoF  YFT  ALB  OTH  BILL  DOL  BET  \\\n",
       "0  dabf988c-db28-11ea-b646-f751770c2667  0.0  0.0  1.0  0.0   0.0  0.0  0.0   \n",
       "1  da4cbfa6-db28-11ea-b466-bb5f9e1c58d1  0.0  0.0  1.0  0.0   0.0  0.0  0.0   \n",
       "2  94d2518e-23f0-11e9-a8ae-97372c179db9  0.0  0.0  0.0  0.0   0.0  0.0  1.0   \n",
       "3  da97f94e-db28-11ea-a4e2-6bc6f4fb7b0e  0.0  0.0  1.0  0.0   0.0  0.0  0.0   \n",
       "4  dad1c426-db28-11ea-bb6b-3f63cdd14d9d  0.0  1.0  0.0  0.0   0.0  0.0  0.0   \n",
       "\n",
       "   SKJ  LAG  SHARK  OIL  PLS  TUNA  WATER  \n",
       "0  0.0  0.0    0.0  0.0  0.0   0.0    0.0  \n",
       "1  0.0  0.0    0.0  0.0  0.0   0.0    0.0  \n",
       "2  0.0  0.0    0.0  0.0  0.0   0.0    0.0  \n",
       "3  1.0  0.0    0.0  0.0  0.0   0.0    0.0  \n",
       "4  0.0  0.0    0.0  0.0  0.0   0.0    0.0  "
      ]
     },
     "execution_count": 9,
     "metadata": {},
     "output_type": "execute_result"
    }
   ],
   "source": [
    "proper_sub.head()"
   ]
  },
  {
   "cell_type": "markdown",
   "id": "c4fd0502",
   "metadata": {
    "papermill": {
     "duration": 0.268829,
     "end_time": "2022-05-14T16:15:52.347349",
     "exception": false,
     "start_time": "2022-05-14T16:15:52.078520",
     "status": "completed"
    },
    "tags": []
   },
   "source": [
    "We are creating the image array called **X**. First all the rows are taken in to account, row by row the for loop resizes the images in to a (400, 400, 3) shape. The images are then converted to an array and rescaled by 255. The rescaled images are saved to **numpy** array called **X**."
   ]
  },
  {
   "cell_type": "code",
   "execution_count": 10,
   "id": "76f5afee",
   "metadata": {
    "execution": {
     "iopub.execute_input": "2022-05-14T16:15:52.884219Z",
     "iopub.status.busy": "2022-05-14T16:15:52.882788Z",
     "iopub.status.idle": "2022-05-14T16:16:09.507239Z",
     "shell.execute_reply": "2022-05-14T16:16:09.506334Z"
    },
    "papermill": {
     "duration": 16.893081,
     "end_time": "2022-05-14T16:16:09.509494",
     "exception": false,
     "start_time": "2022-05-14T16:15:52.616413",
     "status": "completed"
    },
    "tags": []
   },
   "outputs": [
    {
     "name": "stderr",
     "output_type": "stream",
     "text": [
      "100%|██████████| 1000/1000 [00:16<00:00, 62.36it/s]\n"
     ]
    }
   ],
   "source": [
    "train_image = []\n",
    "for i in tqdm(range(proper_sub.shape[0])):\n",
    "    img = image.load_img('./image/'+proper['img_id'][i]+'.jpg',target_size=(400,400,3))\n",
    "    img = image.img_to_array(img)\n",
    "    img = img/255\n",
    "    train_image.append(img)\n",
    "X = np.array(train_image)"
   ]
  },
  {
   "cell_type": "markdown",
   "id": "948591fb",
   "metadata": {
    "papermill": {
     "duration": 0.309144,
     "end_time": "2022-05-14T16:16:10.149227",
     "exception": false,
     "start_time": "2022-05-14T16:16:09.840083",
     "status": "completed"
    },
    "tags": []
   },
   "source": [
    "The dimensions of **X** are *1000x400x400x3*."
   ]
  },
  {
   "cell_type": "code",
   "execution_count": 11,
   "id": "59dfe340",
   "metadata": {
    "execution": {
     "iopub.execute_input": "2022-05-14T16:16:10.766605Z",
     "iopub.status.busy": "2022-05-14T16:16:10.765883Z",
     "iopub.status.idle": "2022-05-14T16:16:10.771336Z",
     "shell.execute_reply": "2022-05-14T16:16:10.770620Z"
    },
    "papermill": {
     "duration": 0.314803,
     "end_time": "2022-05-14T16:16:10.773179",
     "exception": false,
     "start_time": "2022-05-14T16:16:10.458376",
     "status": "completed"
    },
    "tags": []
   },
   "outputs": [
    {
     "data": {
      "text/plain": [
       "(1000, 400, 400, 3)"
      ]
     },
     "execution_count": 11,
     "metadata": {},
     "output_type": "execute_result"
    }
   ],
   "source": [
    "X.shape"
   ]
  },
  {
   "cell_type": "markdown",
   "id": "5a9a357b",
   "metadata": {
    "papermill": {
     "duration": 0.304739,
     "end_time": "2022-05-14T16:16:11.385233",
     "exception": false,
     "start_time": "2022-05-14T16:16:11.080494",
     "status": "completed"
    },
    "tags": []
   },
   "source": [
    "To check if **X** worked properly, using matplotlib, the second array value is converted back into an image."
   ]
  },
  {
   "cell_type": "code",
   "execution_count": 12,
   "id": "f366fa37",
   "metadata": {
    "execution": {
     "iopub.execute_input": "2022-05-14T16:16:12.001801Z",
     "iopub.status.busy": "2022-05-14T16:16:12.001527Z",
     "iopub.status.idle": "2022-05-14T16:16:12.253951Z",
     "shell.execute_reply": "2022-05-14T16:16:12.253228Z"
    },
    "papermill": {
     "duration": 0.562273,
     "end_time": "2022-05-14T16:16:12.256800",
     "exception": false,
     "start_time": "2022-05-14T16:16:11.694527",
     "status": "completed"
    },
    "tags": []
   },
   "outputs": [
    {
     "data": {
      "text/plain": [
       "<matplotlib.image.AxesImage at 0x7f9128ddb910>"
      ]
     },
     "execution_count": 12,
     "metadata": {},
     "output_type": "execute_result"
    },
    {
     "data": {
      "image/png": "[encoded data removed]",
      "text/plain": [
       "<Figure size 432x288 with 1 Axes>"
      ]
     },
     "metadata": {
      "needs_background": "light"
     },
     "output_type": "display_data"
    }
   ],
   "source": [
    "plt.imshow(X[2])"
   ]
  },
  {
   "cell_type": "markdown",
   "id": "76cd9c6f",
   "metadata": {
    "papermill": {
     "duration": 0.313244,
     "end_time": "2022-05-14T16:16:12.889164",
     "exception": false,
     "start_time": "2022-05-14T16:16:12.575920",
     "status": "completed"
    },
    "tags": []
   },
   "source": [
    "Next the **Y** array is created from the #proper_sub#, for proper cleaning the 'img_id' column must be dropped."
   ]
  },
  {
   "cell_type": "code",
   "execution_count": 13,
   "id": "436a17de",
   "metadata": {
    "execution": {
     "iopub.execute_input": "2022-05-14T16:16:13.518637Z",
     "iopub.status.busy": "2022-05-14T16:16:13.518334Z",
     "iopub.status.idle": "2022-05-14T16:16:13.527238Z",
     "shell.execute_reply": "2022-05-14T16:16:13.526528Z"
    },
    "papermill": {
     "duration": 0.324037,
     "end_time": "2022-05-14T16:16:13.529012",
     "exception": false,
     "start_time": "2022-05-14T16:16:13.204975",
     "status": "completed"
    },
    "tags": []
   },
   "outputs": [
    {
     "data": {
      "text/plain": [
       "(1000, 14)"
      ]
     },
     "execution_count": 13,
     "metadata": {},
     "output_type": "execute_result"
    }
   ],
   "source": [
    "y = np.array(proper_sub.drop(['img_id'],axis=1))\n",
    "y.shape"
   ]
  },
  {
   "cell_type": "markdown",
   "id": "994d3bd4",
   "metadata": {
    "papermill": {
     "duration": 0.365264,
     "end_time": "2022-05-14T16:16:14.241951",
     "exception": false,
     "start_time": "2022-05-14T16:16:13.876687",
     "status": "completed"
    },
    "tags": []
   },
   "source": [
    "Using the **sklearn** package we take the train_test_split function inputting the **X** and **y** **numpy** arrays. The arrays are then split into X_train, X_test, y_train, and y_test."
   ]
  },
  {
   "cell_type": "code",
   "execution_count": 14,
   "id": "6241897b",
   "metadata": {
    "execution": {
     "iopub.execute_input": "2022-05-14T16:16:14.871540Z",
     "iopub.status.busy": "2022-05-14T16:16:14.870937Z",
     "iopub.status.idle": "2022-05-14T16:16:15.560409Z",
     "shell.execute_reply": "2022-05-14T16:16:15.559656Z"
    },
    "papermill": {
     "duration": 1.006223,
     "end_time": "2022-05-14T16:16:15.562755",
     "exception": false,
     "start_time": "2022-05-14T16:16:14.556532",
     "status": "completed"
    },
    "tags": []
   },
   "outputs": [],
   "source": [
    "X_train, X_test, y_train, y_test = train_test_split(X, y, random_state=42, test_size=0.1)"
   ]
  },
  {
   "cell_type": "markdown",
   "id": "7554b752",
   "metadata": {
    "papermill": {
     "duration": 0.34388,
     "end_time": "2022-05-14T16:16:16.218889",
     "exception": false,
     "start_time": "2022-05-14T16:16:15.875009",
     "status": "completed"
    },
    "tags": []
   },
   "source": [
    "# "
   ]
  },
  {
   "cell_type": "markdown",
   "id": "80879691",
   "metadata": {
    "papermill": {
     "duration": 0.310143,
     "end_time": "2022-05-14T16:16:16.840279",
     "exception": false,
     "start_time": "2022-05-14T16:16:16.530136",
     "status": "completed"
    },
    "tags": []
   },
   "source": [
    "### Actually Creating the Model"
   ]
  },
  {
   "cell_type": "code",
   "execution_count": 15,
   "id": "a66c347c",
   "metadata": {
    "execution": {
     "iopub.execute_input": "2022-05-14T16:16:17.471669Z",
     "iopub.status.busy": "2022-05-14T16:16:17.471398Z",
     "iopub.status.idle": "2022-05-14T16:16:17.475654Z",
     "shell.execute_reply": "2022-05-14T16:16:17.474811Z"
    },
    "papermill": {
     "duration": 0.325936,
     "end_time": "2022-05-14T16:16:17.477658",
     "exception": false,
     "start_time": "2022-05-14T16:16:17.151722",
     "status": "completed"
    },
    "tags": []
   },
   "outputs": [],
   "source": [
    "# Old Model\n",
    "#    model = Sequential()\n",
    "#    model.add(Conv2D(filters=16, kernel_size=(5, 5), activation=\"relu\", input_shape=(400,400,3)))\n",
    "#   model.add(MaxPooling2D(pool_size=(2, 2)))\n",
    "#  model.add(Dropout(0.25))\n",
    "#     model.add(Conv2D(filters=32, kernel_size=(5, 5), activation='relu'))   \n",
    "#     model.add(MaxPooling2D(pool_size=(2, 2)))\n",
    "#     model.add(Dropout(0.25))\n",
    "#     model.add(Conv2D(filters=64, kernel_size=(5, 5), activation=\"relu\"))\n",
    "#     model.add(MaxPooling2D(pool_size=(2, 2)))\n",
    "#     model.add(Dropout(0.25))\n",
    "#     model.add(Conv2D(filters=64, kernel_size=(5, 5), activation='relu'))\n",
    "#     model.add(MaxPooling2D(pool_size=(2, 2)))\n",
    "#     model.add(Dropout(0.25))\n",
    "#     model.add(Flatten())\n",
    "#     model.add(Dense(128, activation='relu'))\n",
    "#     model.add(Dropout(0.5))\n",
    "#     model.add(Dense(64, activation='relu'))\n",
    "#     model.add(Dropout(0.5))\n",
    "#     model.add(Dense(15, activation='sigmoid'))\n",
    "#     from keras.utils.vis_utils import plot_model\n",
    "#     model.summary()\n",
    "#     plot_model(model, to_file='model_plot.png', show_shapes=True, show_layer_names=True)"
   ]
  },
  {
   "cell_type": "markdown",
   "id": "eebe9084",
   "metadata": {
    "papermill": {
     "duration": 0.308813,
     "end_time": "2022-05-14T16:16:18.106768",
     "exception": false,
     "start_time": "2022-05-14T16:16:17.797955",
     "status": "completed"
    },
    "tags": []
   },
   "source": [
    "After much trial and tribulation, the decision was made to use transfer learning rather than a model from scratch.\n",
    "\n",
    "Utilizing the **MobileNetV2**, the model takes in the image of size (400, 400, 3) then uses the weights associated with the imagenet database. We also utilize a 2D pooling. The model ouput kayer has 14 neurons (one for each category), and uses *sigmoid* to normalize the values."
   ]
  },
  {
   "cell_type": "code",
   "execution_count": 16,
   "id": "d484acea",
   "metadata": {
    "execution": {
     "iopub.execute_input": "2022-05-14T16:16:19.015621Z",
     "iopub.status.busy": "2022-05-14T16:16:19.015366Z",
     "iopub.status.idle": "2022-05-14T16:16:23.114447Z",
     "shell.execute_reply": "2022-05-14T16:16:23.113746Z"
    },
    "papermill": {
     "duration": 4.472886,
     "end_time": "2022-05-14T16:16:23.116439",
     "exception": false,
     "start_time": "2022-05-14T16:16:18.643553",
     "status": "completed"
    },
    "tags": []
   },
   "outputs": [
    {
     "name": "stderr",
     "output_type": "stream",
     "text": [
      "2022-05-14 16:16:19.115827: I tensorflow/stream_executor/cuda/cuda_gpu_executor.cc:937] successful NUMA node read from SysFS had negative value (-1), but there must be at least one NUMA node, so returning NUMA node zero\n",
      "2022-05-14 16:16:19.287266: I tensorflow/stream_executor/cuda/cuda_gpu_executor.cc:937] successful NUMA node read from SysFS had negative value (-1), but there must be at least one NUMA node, so returning NUMA node zero\n",
      "2022-05-14 16:16:19.288019: I tensorflow/stream_executor/cuda/cuda_gpu_executor.cc:937] successful NUMA node read from SysFS had negative value (-1), but there must be at least one NUMA node, so returning NUMA node zero\n",
      "2022-05-14 16:16:19.289266: I tensorflow/core/platform/cpu_feature_guard.cc:142] This TensorFlow binary is optimized with oneAPI Deep Neural Network Library (oneDNN) to use the following CPU instructions in performance-critical operations:  AVX2 AVX512F FMA\n",
      "To enable them in other operations, rebuild TensorFlow with the appropriate compiler flags.\n",
      "2022-05-14 16:16:19.289576: I tensorflow/stream_executor/cuda/cuda_gpu_executor.cc:937] successful NUMA node read from SysFS had negative value (-1), but there must be at least one NUMA node, so returning NUMA node zero\n",
      "2022-05-14 16:16:19.290289: I tensorflow/stream_executor/cuda/cuda_gpu_executor.cc:937] successful NUMA node read from SysFS had negative value (-1), but there must be at least one NUMA node, so returning NUMA node zero\n",
      "2022-05-14 16:16:19.290925: I tensorflow/stream_executor/cuda/cuda_gpu_executor.cc:937] successful NUMA node read from SysFS had negative value (-1), but there must be at least one NUMA node, so returning NUMA node zero\n",
      "2022-05-14 16:16:21.589833: I tensorflow/stream_executor/cuda/cuda_gpu_executor.cc:937] successful NUMA node read from SysFS had negative value (-1), but there must be at least one NUMA node, so returning NUMA node zero\n",
      "2022-05-14 16:16:21.590756: I tensorflow/stream_executor/cuda/cuda_gpu_executor.cc:937] successful NUMA node read from SysFS had negative value (-1), but there must be at least one NUMA node, so returning NUMA node zero\n",
      "2022-05-14 16:16:21.591527: I tensorflow/stream_executor/cuda/cuda_gpu_executor.cc:937] successful NUMA node read from SysFS had negative value (-1), but there must be at least one NUMA node, so returning NUMA node zero\n",
      "2022-05-14 16:16:21.593889: I tensorflow/core/common_runtime/gpu/gpu_device.cc:1510] Created device /job:localhost/replica:0/task:0/device:GPU:0 with 15403 MB memory:  -> device: 0, name: Tesla P100-PCIE-16GB, pci bus id: 0000:00:04.0, compute capability: 6.0\n"
     ]
    },
    {
     "name": "stdout",
     "output_type": "stream",
     "text": [
      "Downloading data from https://storage.googleapis.com/tensorflow/keras-applications/mobilenet_v2/mobilenet_v2_weights_tf_dim_ordering_tf_kernels_1.0_224_no_top.h5\n",
      "9412608/9406464 [==============================] - 0s 0us/step\n",
      "9420800/9406464 [==============================] - 0s 0us/step\n"
     ]
    }
   ],
   "source": [
    "from tensorflow.keras.initializers import HeNormal\n",
    "from tensorflow.keras.layers import Dense, GlobalAveragePooling2D\n",
    "from tensorflow.keras.models import Model\n",
    "#model2 = Sequential()\n",
    "#model2.add()\n",
    "\n",
    "base_model = MobileNetV2(input_shape = (400, 400, 3), include_top = False, weights = \"imagenet\")\n",
    "x = base_model.output\n",
    "x = GlobalAveragePooling2D()(x)\n",
    "# ADD A DENSE LAYER WITH 1024 neurons\n",
    "x = Dense(1024, activation='relu', kernel_initializer=HeNormal())(x)\n",
    "# ADD AN OUTPUT LAYER FOR BINARY CLASSIFICATION\n",
    "#predictions = Dense(15, activation='sigmoid')(x)\n",
    "## Test w/o Humans\n",
    "predictions = Dense(14, activation='sigmoid')(x)\n",
    "## returns 13% accuracy\n",
    "model2 = Model(inputs=base_model.input, outputs=predictions)\n"
   ]
  },
  {
   "cell_type": "markdown",
   "id": "c4268bd5",
   "metadata": {
    "papermill": {
     "duration": 0.31701,
     "end_time": "2022-05-14T16:16:23.754407",
     "exception": false,
     "start_time": "2022-05-14T16:16:23.437397",
     "status": "completed"
    },
    "tags": []
   },
   "source": [
    "We output the model summary of the model, which **MobileNetV2** slightly modified."
   ]
  },
  {
   "cell_type": "code",
   "execution_count": 17,
   "id": "0cf09dbd",
   "metadata": {
    "execution": {
     "iopub.execute_input": "2022-05-14T16:16:24.388825Z",
     "iopub.status.busy": "2022-05-14T16:16:24.388127Z",
     "iopub.status.idle": "2022-05-14T16:16:24.456348Z",
     "shell.execute_reply": "2022-05-14T16:16:24.455695Z"
    },
    "papermill": {
     "duration": 0.387826,
     "end_time": "2022-05-14T16:16:24.461918",
     "exception": false,
     "start_time": "2022-05-14T16:16:24.074092",
     "status": "completed"
    },
    "tags": []
   },
   "outputs": [
    {
     "name": "stdout",
     "output_type": "stream",
     "text": [
      "Model: \"model\"\n",
      "__________________________________________________________________________________________________\n",
      "Layer (type)                    Output Shape         Param #     Connected to                     \n",
      "==================================================================================================\n",
      "input_1 (InputLayer)            [(None, 400, 400, 3) 0                                            \n",
      "__________________________________________________________________________________________________\n",
      "Conv1 (Conv2D)                  (None, 200, 200, 32) 864         input_1[0][0]                    \n",
      "__________________________________________________________________________________________________\n",
      "bn_Conv1 (BatchNormalization)   (None, 200, 200, 32) 128         Conv1[0][0]                      \n",
      "__________________________________________________________________________________________________\n",
      "Conv1_relu (ReLU)               (None, 200, 200, 32) 0           bn_Conv1[0][0]                   \n",
      "__________________________________________________________________________________________________\n",
      "expanded_conv_depthwise (Depthw (None, 200, 200, 32) 288         Conv1_relu[0][0]                 \n",
      "__________________________________________________________________________________________________\n",
      "expanded_conv_depthwise_BN (Bat (None, 200, 200, 32) 128         expanded_conv_depthwise[0][0]    \n",
      "__________________________________________________________________________________________________\n",
      "expanded_conv_depthwise_relu (R (None, 200, 200, 32) 0           expanded_conv_depthwise_BN[0][0] \n",
      "__________________________________________________________________________________________________\n",
      "expanded_conv_project (Conv2D)  (None, 200, 200, 16) 512         expanded_conv_depthwise_relu[0][0\n",
      "__________________________________________________________________________________________________\n",
      "expanded_conv_project_BN (Batch (None, 200, 200, 16) 64          expanded_conv_project[0][0]      \n",
      "__________________________________________________________________________________________________\n",
      "block_1_expand (Conv2D)         (None, 200, 200, 96) 1536        expanded_conv_project_BN[0][0]   \n",
      "__________________________________________________________________________________________________\n",
      "block_1_expand_BN (BatchNormali (None, 200, 200, 96) 384         block_1_expand[0][0]             \n",
      "__________________________________________________________________________________________________\n",
      "block_1_expand_relu (ReLU)      (None, 200, 200, 96) 0           block_1_expand_BN[0][0]          \n",
      "__________________________________________________________________________________________________\n",
      "block_1_pad (ZeroPadding2D)     (None, 201, 201, 96) 0           block_1_expand_relu[0][0]        \n",
      "__________________________________________________________________________________________________\n",
      "block_1_depthwise (DepthwiseCon (None, 100, 100, 96) 864         block_1_pad[0][0]                \n",
      "__________________________________________________________________________________________________\n",
      "block_1_depthwise_BN (BatchNorm (None, 100, 100, 96) 384         block_1_depthwise[0][0]          \n",
      "__________________________________________________________________________________________________\n",
      "block_1_depthwise_relu (ReLU)   (None, 100, 100, 96) 0           block_1_depthwise_BN[0][0]       \n",
      "__________________________________________________________________________________________________\n",
      "block_1_project (Conv2D)        (None, 100, 100, 24) 2304        block_1_depthwise_relu[0][0]     \n",
      "__________________________________________________________________________________________________\n",
      "block_1_project_BN (BatchNormal (None, 100, 100, 24) 96          block_1_project[0][0]            \n",
      "__________________________________________________________________________________________________\n",
      "block_2_expand (Conv2D)         (None, 100, 100, 144 3456        block_1_project_BN[0][0]         \n",
      "__________________________________________________________________________________________________\n",
      "block_2_expand_BN (BatchNormali (None, 100, 100, 144 576         block_2_expand[0][0]             \n",
      "__________________________________________________________________________________________________\n",
      "block_2_expand_relu (ReLU)      (None, 100, 100, 144 0           block_2_expand_BN[0][0]          \n",
      "__________________________________________________________________________________________________\n",
      "block_2_depthwise (DepthwiseCon (None, 100, 100, 144 1296        block_2_expand_relu[0][0]        \n",
      "__________________________________________________________________________________________________\n",
      "block_2_depthwise_BN (BatchNorm (None, 100, 100, 144 576         block_2_depthwise[0][0]          \n",
      "__________________________________________________________________________________________________\n",
      "block_2_depthwise_relu (ReLU)   (None, 100, 100, 144 0           block_2_depthwise_BN[0][0]       \n",
      "__________________________________________________________________________________________________\n",
      "block_2_project (Conv2D)        (None, 100, 100, 24) 3456        block_2_depthwise_relu[0][0]     \n",
      "__________________________________________________________________________________________________\n",
      "block_2_project_BN (BatchNormal (None, 100, 100, 24) 96          block_2_project[0][0]            \n",
      "__________________________________________________________________________________________________\n",
      "block_2_add (Add)               (None, 100, 100, 24) 0           block_1_project_BN[0][0]         \n",
      "                                                                 block_2_project_BN[0][0]         \n",
      "__________________________________________________________________________________________________\n",
      "block_3_expand (Conv2D)         (None, 100, 100, 144 3456        block_2_add[0][0]                \n",
      "__________________________________________________________________________________________________\n",
      "block_3_expand_BN (BatchNormali (None, 100, 100, 144 576         block_3_expand[0][0]             \n",
      "__________________________________________________________________________________________________\n",
      "block_3_expand_relu (ReLU)      (None, 100, 100, 144 0           block_3_expand_BN[0][0]          \n",
      "__________________________________________________________________________________________________\n",
      "block_3_pad (ZeroPadding2D)     (None, 101, 101, 144 0           block_3_expand_relu[0][0]        \n",
      "__________________________________________________________________________________________________\n",
      "block_3_depthwise (DepthwiseCon (None, 50, 50, 144)  1296        block_3_pad[0][0]                \n",
      "__________________________________________________________________________________________________\n",
      "block_3_depthwise_BN (BatchNorm (None, 50, 50, 144)  576         block_3_depthwise[0][0]          \n",
      "__________________________________________________________________________________________________\n",
      "block_3_depthwise_relu (ReLU)   (None, 50, 50, 144)  0           block_3_depthwise_BN[0][0]       \n",
      "__________________________________________________________________________________________________\n",
      "block_3_project (Conv2D)        (None, 50, 50, 32)   4608        block_3_depthwise_relu[0][0]     \n",
      "__________________________________________________________________________________________________\n",
      "block_3_project_BN (BatchNormal (None, 50, 50, 32)   128         block_3_project[0][0]            \n",
      "__________________________________________________________________________________________________\n",
      "block_4_expand (Conv2D)         (None, 50, 50, 192)  6144        block_3_project_BN[0][0]         \n",
      "__________________________________________________________________________________________________\n",
      "block_4_expand_BN (BatchNormali (None, 50, 50, 192)  768         block_4_expand[0][0]             \n",
      "__________________________________________________________________________________________________\n",
      "block_4_expand_relu (ReLU)      (None, 50, 50, 192)  0           block_4_expand_BN[0][0]          \n",
      "__________________________________________________________________________________________________\n",
      "block_4_depthwise (DepthwiseCon (None, 50, 50, 192)  1728        block_4_expand_relu[0][0]        \n",
      "__________________________________________________________________________________________________\n",
      "block_4_depthwise_BN (BatchNorm (None, 50, 50, 192)  768         block_4_depthwise[0][0]          \n",
      "__________________________________________________________________________________________________\n",
      "block_4_depthwise_relu (ReLU)   (None, 50, 50, 192)  0           block_4_depthwise_BN[0][0]       \n",
      "__________________________________________________________________________________________________\n",
      "block_4_project (Conv2D)        (None, 50, 50, 32)   6144        block_4_depthwise_relu[0][0]     \n",
      "__________________________________________________________________________________________________\n",
      "block_4_project_BN (BatchNormal (None, 50, 50, 32)   128         block_4_project[0][0]            \n",
      "__________________________________________________________________________________________________\n",
      "block_4_add (Add)               (None, 50, 50, 32)   0           block_3_project_BN[0][0]         \n",
      "                                                                 block_4_project_BN[0][0]         \n",
      "__________________________________________________________________________________________________\n",
      "block_5_expand (Conv2D)         (None, 50, 50, 192)  6144        block_4_add[0][0]                \n",
      "__________________________________________________________________________________________________\n",
      "block_5_expand_BN (BatchNormali (None, 50, 50, 192)  768         block_5_expand[0][0]             \n",
      "__________________________________________________________________________________________________\n",
      "block_5_expand_relu (ReLU)      (None, 50, 50, 192)  0           block_5_expand_BN[0][0]          \n",
      "__________________________________________________________________________________________________\n",
      "block_5_depthwise (DepthwiseCon (None, 50, 50, 192)  1728        block_5_expand_relu[0][0]        \n",
      "__________________________________________________________________________________________________\n",
      "block_5_depthwise_BN (BatchNorm (None, 50, 50, 192)  768         block_5_depthwise[0][0]          \n",
      "__________________________________________________________________________________________________\n",
      "block_5_depthwise_relu (ReLU)   (None, 50, 50, 192)  0           block_5_depthwise_BN[0][0]       \n",
      "__________________________________________________________________________________________________\n",
      "block_5_project (Conv2D)        (None, 50, 50, 32)   6144        block_5_depthwise_relu[0][0]     \n",
      "__________________________________________________________________________________________________\n",
      "block_5_project_BN (BatchNormal (None, 50, 50, 32)   128         block_5_project[0][0]            \n",
      "__________________________________________________________________________________________________\n",
      "block_5_add (Add)               (None, 50, 50, 32)   0           block_4_add[0][0]                \n",
      "                                                                 block_5_project_BN[0][0]         \n",
      "__________________________________________________________________________________________________\n",
      "block_6_expand (Conv2D)         (None, 50, 50, 192)  6144        block_5_add[0][0]                \n",
      "__________________________________________________________________________________________________\n",
      "block_6_expand_BN (BatchNormali (None, 50, 50, 192)  768         block_6_expand[0][0]             \n",
      "__________________________________________________________________________________________________\n",
      "block_6_expand_relu (ReLU)      (None, 50, 50, 192)  0           block_6_expand_BN[0][0]          \n",
      "__________________________________________________________________________________________________\n",
      "block_6_pad (ZeroPadding2D)     (None, 51, 51, 192)  0           block_6_expand_relu[0][0]        \n",
      "__________________________________________________________________________________________________\n",
      "block_6_depthwise (DepthwiseCon (None, 25, 25, 192)  1728        block_6_pad[0][0]                \n",
      "__________________________________________________________________________________________________\n",
      "block_6_depthwise_BN (BatchNorm (None, 25, 25, 192)  768         block_6_depthwise[0][0]          \n",
      "__________________________________________________________________________________________________\n",
      "block_6_depthwise_relu (ReLU)   (None, 25, 25, 192)  0           block_6_depthwise_BN[0][0]       \n",
      "__________________________________________________________________________________________________\n",
      "block_6_project (Conv2D)        (None, 25, 25, 64)   12288       block_6_depthwise_relu[0][0]     \n",
      "__________________________________________________________________________________________________\n",
      "block_6_project_BN (BatchNormal (None, 25, 25, 64)   256         block_6_project[0][0]            \n",
      "__________________________________________________________________________________________________\n",
      "block_7_expand (Conv2D)         (None, 25, 25, 384)  24576       block_6_project_BN[0][0]         \n",
      "__________________________________________________________________________________________________\n",
      "block_7_expand_BN (BatchNormali (None, 25, 25, 384)  1536        block_7_expand[0][0]             \n",
      "__________________________________________________________________________________________________\n",
      "block_7_expand_relu (ReLU)      (None, 25, 25, 384)  0           block_7_expand_BN[0][0]          \n",
      "__________________________________________________________________________________________________\n",
      "block_7_depthwise (DepthwiseCon (None, 25, 25, 384)  3456        block_7_expand_relu[0][0]        \n",
      "__________________________________________________________________________________________________\n",
      "block_7_depthwise_BN (BatchNorm (None, 25, 25, 384)  1536        block_7_depthwise[0][0]          \n",
      "__________________________________________________________________________________________________\n",
      "block_7_depthwise_relu (ReLU)   (None, 25, 25, 384)  0           block_7_depthwise_BN[0][0]       \n",
      "__________________________________________________________________________________________________\n",
      "block_7_project (Conv2D)        (None, 25, 25, 64)   24576       block_7_depthwise_relu[0][0]     \n",
      "__________________________________________________________________________________________________\n",
      "block_7_project_BN (BatchNormal (None, 25, 25, 64)   256         block_7_project[0][0]            \n",
      "__________________________________________________________________________________________________\n",
      "block_7_add (Add)               (None, 25, 25, 64)   0           block_6_project_BN[0][0]         \n",
      "                                                                 block_7_project_BN[0][0]         \n",
      "__________________________________________________________________________________________________\n",
      "block_8_expand (Conv2D)         (None, 25, 25, 384)  24576       block_7_add[0][0]                \n",
      "__________________________________________________________________________________________________\n",
      "block_8_expand_BN (BatchNormali (None, 25, 25, 384)  1536        block_8_expand[0][0]             \n",
      "__________________________________________________________________________________________________\n",
      "block_8_expand_relu (ReLU)      (None, 25, 25, 384)  0           block_8_expand_BN[0][0]          \n",
      "__________________________________________________________________________________________________\n",
      "block_8_depthwise (DepthwiseCon (None, 25, 25, 384)  3456        block_8_expand_relu[0][0]        \n",
      "__________________________________________________________________________________________________\n",
      "block_8_depthwise_BN (BatchNorm (None, 25, 25, 384)  1536        block_8_depthwise[0][0]          \n",
      "__________________________________________________________________________________________________\n",
      "block_8_depthwise_relu (ReLU)   (None, 25, 25, 384)  0           block_8_depthwise_BN[0][0]       \n",
      "__________________________________________________________________________________________________\n",
      "block_8_project (Conv2D)        (None, 25, 25, 64)   24576       block_8_depthwise_relu[0][0]     \n",
      "__________________________________________________________________________________________________\n",
      "block_8_project_BN (BatchNormal (None, 25, 25, 64)   256         block_8_project[0][0]            \n",
      "__________________________________________________________________________________________________\n",
      "block_8_add (Add)               (None, 25, 25, 64)   0           block_7_add[0][0]                \n",
      "                                                                 block_8_project_BN[0][0]         \n",
      "__________________________________________________________________________________________________\n",
      "block_9_expand (Conv2D)         (None, 25, 25, 384)  24576       block_8_add[0][0]                \n",
      "__________________________________________________________________________________________________\n",
      "block_9_expand_BN (BatchNormali (None, 25, 25, 384)  1536        block_9_expand[0][0]             \n",
      "__________________________________________________________________________________________________\n",
      "block_9_expand_relu (ReLU)      (None, 25, 25, 384)  0           block_9_expand_BN[0][0]          \n",
      "__________________________________________________________________________________________________\n",
      "block_9_depthwise (DepthwiseCon (None, 25, 25, 384)  3456        block_9_expand_relu[0][0]        \n",
      "__________________________________________________________________________________________________\n",
      "block_9_depthwise_BN (BatchNorm (None, 25, 25, 384)  1536        block_9_depthwise[0][0]          \n",
      "__________________________________________________________________________________________________\n",
      "block_9_depthwise_relu (ReLU)   (None, 25, 25, 384)  0           block_9_depthwise_BN[0][0]       \n",
      "__________________________________________________________________________________________________\n",
      "block_9_project (Conv2D)        (None, 25, 25, 64)   24576       block_9_depthwise_relu[0][0]     \n",
      "__________________________________________________________________________________________________\n",
      "block_9_project_BN (BatchNormal (None, 25, 25, 64)   256         block_9_project[0][0]            \n",
      "__________________________________________________________________________________________________\n",
      "block_9_add (Add)               (None, 25, 25, 64)   0           block_8_add[0][0]                \n",
      "                                                                 block_9_project_BN[0][0]         \n",
      "__________________________________________________________________________________________________\n",
      "block_10_expand (Conv2D)        (None, 25, 25, 384)  24576       block_9_add[0][0]                \n",
      "__________________________________________________________________________________________________\n",
      "block_10_expand_BN (BatchNormal (None, 25, 25, 384)  1536        block_10_expand[0][0]            \n",
      "__________________________________________________________________________________________________\n",
      "block_10_expand_relu (ReLU)     (None, 25, 25, 384)  0           block_10_expand_BN[0][0]         \n",
      "__________________________________________________________________________________________________\n",
      "block_10_depthwise (DepthwiseCo (None, 25, 25, 384)  3456        block_10_expand_relu[0][0]       \n",
      "__________________________________________________________________________________________________\n",
      "block_10_depthwise_BN (BatchNor (None, 25, 25, 384)  1536        block_10_depthwise[0][0]         \n",
      "__________________________________________________________________________________________________\n",
      "block_10_depthwise_relu (ReLU)  (None, 25, 25, 384)  0           block_10_depthwise_BN[0][0]      \n",
      "__________________________________________________________________________________________________\n",
      "block_10_project (Conv2D)       (None, 25, 25, 96)   36864       block_10_depthwise_relu[0][0]    \n",
      "__________________________________________________________________________________________________\n",
      "block_10_project_BN (BatchNorma (None, 25, 25, 96)   384         block_10_project[0][0]           \n",
      "__________________________________________________________________________________________________\n",
      "block_11_expand (Conv2D)        (None, 25, 25, 576)  55296       block_10_project_BN[0][0]        \n",
      "__________________________________________________________________________________________________\n",
      "block_11_expand_BN (BatchNormal (None, 25, 25, 576)  2304        block_11_expand[0][0]            \n",
      "__________________________________________________________________________________________________\n",
      "block_11_expand_relu (ReLU)     (None, 25, 25, 576)  0           block_11_expand_BN[0][0]         \n",
      "__________________________________________________________________________________________________\n",
      "block_11_depthwise (DepthwiseCo (None, 25, 25, 576)  5184        block_11_expand_relu[0][0]       \n",
      "__________________________________________________________________________________________________\n",
      "block_11_depthwise_BN (BatchNor (None, 25, 25, 576)  2304        block_11_depthwise[0][0]         \n",
      "__________________________________________________________________________________________________\n",
      "block_11_depthwise_relu (ReLU)  (None, 25, 25, 576)  0           block_11_depthwise_BN[0][0]      \n",
      "__________________________________________________________________________________________________\n",
      "block_11_project (Conv2D)       (None, 25, 25, 96)   55296       block_11_depthwise_relu[0][0]    \n",
      "__________________________________________________________________________________________________\n",
      "block_11_project_BN (BatchNorma (None, 25, 25, 96)   384         block_11_project[0][0]           \n",
      "__________________________________________________________________________________________________\n",
      "block_11_add (Add)              (None, 25, 25, 96)   0           block_10_project_BN[0][0]        \n",
      "                                                                 block_11_project_BN[0][0]        \n",
      "__________________________________________________________________________________________________\n",
      "block_12_expand (Conv2D)        (None, 25, 25, 576)  55296       block_11_add[0][0]               \n",
      "__________________________________________________________________________________________________\n",
      "block_12_expand_BN (BatchNormal (None, 25, 25, 576)  2304        block_12_expand[0][0]            \n",
      "__________________________________________________________________________________________________\n",
      "block_12_expand_relu (ReLU)     (None, 25, 25, 576)  0           block_12_expand_BN[0][0]         \n",
      "__________________________________________________________________________________________________\n",
      "block_12_depthwise (DepthwiseCo (None, 25, 25, 576)  5184        block_12_expand_relu[0][0]       \n",
      "__________________________________________________________________________________________________\n",
      "block_12_depthwise_BN (BatchNor (None, 25, 25, 576)  2304        block_12_depthwise[0][0]         \n",
      "__________________________________________________________________________________________________\n",
      "block_12_depthwise_relu (ReLU)  (None, 25, 25, 576)  0           block_12_depthwise_BN[0][0]      \n",
      "__________________________________________________________________________________________________\n",
      "block_12_project (Conv2D)       (None, 25, 25, 96)   55296       block_12_depthwise_relu[0][0]    \n",
      "__________________________________________________________________________________________________\n",
      "block_12_project_BN (BatchNorma (None, 25, 25, 96)   384         block_12_project[0][0]           \n",
      "__________________________________________________________________________________________________\n",
      "block_12_add (Add)              (None, 25, 25, 96)   0           block_11_add[0][0]               \n",
      "                                                                 block_12_project_BN[0][0]        \n",
      "__________________________________________________________________________________________________\n",
      "block_13_expand (Conv2D)        (None, 25, 25, 576)  55296       block_12_add[0][0]               \n",
      "__________________________________________________________________________________________________\n",
      "block_13_expand_BN (BatchNormal (None, 25, 25, 576)  2304        block_13_expand[0][0]            \n",
      "__________________________________________________________________________________________________\n",
      "block_13_expand_relu (ReLU)     (None, 25, 25, 576)  0           block_13_expand_BN[0][0]         \n",
      "__________________________________________________________________________________________________\n",
      "block_13_pad (ZeroPadding2D)    (None, 27, 27, 576)  0           block_13_expand_relu[0][0]       \n",
      "__________________________________________________________________________________________________\n",
      "block_13_depthwise (DepthwiseCo (None, 13, 13, 576)  5184        block_13_pad[0][0]               \n",
      "__________________________________________________________________________________________________\n",
      "block_13_depthwise_BN (BatchNor (None, 13, 13, 576)  2304        block_13_depthwise[0][0]         \n",
      "__________________________________________________________________________________________________\n",
      "block_13_depthwise_relu (ReLU)  (None, 13, 13, 576)  0           block_13_depthwise_BN[0][0]      \n",
      "__________________________________________________________________________________________________\n",
      "block_13_project (Conv2D)       (None, 13, 13, 160)  92160       block_13_depthwise_relu[0][0]    \n",
      "__________________________________________________________________________________________________\n",
      "block_13_project_BN (BatchNorma (None, 13, 13, 160)  640         block_13_project[0][0]           \n",
      "__________________________________________________________________________________________________\n",
      "block_14_expand (Conv2D)        (None, 13, 13, 960)  153600      block_13_project_BN[0][0]        \n",
      "__________________________________________________________________________________________________\n",
      "block_14_expand_BN (BatchNormal (None, 13, 13, 960)  3840        block_14_expand[0][0]            \n",
      "__________________________________________________________________________________________________\n",
      "block_14_expand_relu (ReLU)     (None, 13, 13, 960)  0           block_14_expand_BN[0][0]         \n",
      "__________________________________________________________________________________________________\n",
      "block_14_depthwise (DepthwiseCo (None, 13, 13, 960)  8640        block_14_expand_relu[0][0]       \n",
      "__________________________________________________________________________________________________\n",
      "block_14_depthwise_BN (BatchNor (None, 13, 13, 960)  3840        block_14_depthwise[0][0]         \n",
      "__________________________________________________________________________________________________\n",
      "block_14_depthwise_relu (ReLU)  (None, 13, 13, 960)  0           block_14_depthwise_BN[0][0]      \n",
      "__________________________________________________________________________________________________\n",
      "block_14_project (Conv2D)       (None, 13, 13, 160)  153600      block_14_depthwise_relu[0][0]    \n",
      "__________________________________________________________________________________________________\n",
      "block_14_project_BN (BatchNorma (None, 13, 13, 160)  640         block_14_project[0][0]           \n",
      "__________________________________________________________________________________________________\n",
      "block_14_add (Add)              (None, 13, 13, 160)  0           block_13_project_BN[0][0]        \n",
      "                                                                 block_14_project_BN[0][0]        \n",
      "__________________________________________________________________________________________________\n",
      "block_15_expand (Conv2D)        (None, 13, 13, 960)  153600      block_14_add[0][0]               \n",
      "__________________________________________________________________________________________________\n",
      "block_15_expand_BN (BatchNormal (None, 13, 13, 960)  3840        block_15_expand[0][0]            \n",
      "__________________________________________________________________________________________________\n",
      "block_15_expand_relu (ReLU)     (None, 13, 13, 960)  0           block_15_expand_BN[0][0]         \n",
      "__________________________________________________________________________________________________\n",
      "block_15_depthwise (DepthwiseCo (None, 13, 13, 960)  8640        block_15_expand_relu[0][0]       \n",
      "__________________________________________________________________________________________________\n",
      "block_15_depthwise_BN (BatchNor (None, 13, 13, 960)  3840        block_15_depthwise[0][0]         \n",
      "__________________________________________________________________________________________________\n",
      "block_15_depthwise_relu (ReLU)  (None, 13, 13, 960)  0           block_15_depthwise_BN[0][0]      \n",
      "__________________________________________________________________________________________________\n",
      "block_15_project (Conv2D)       (None, 13, 13, 160)  153600      block_15_depthwise_relu[0][0]    \n",
      "__________________________________________________________________________________________________\n",
      "block_15_project_BN (BatchNorma (None, 13, 13, 160)  640         block_15_project[0][0]           \n",
      "__________________________________________________________________________________________________\n",
      "block_15_add (Add)              (None, 13, 13, 160)  0           block_14_add[0][0]               \n",
      "                                                                 block_15_project_BN[0][0]        \n",
      "__________________________________________________________________________________________________\n",
      "block_16_expand (Conv2D)        (None, 13, 13, 960)  153600      block_15_add[0][0]               \n",
      "__________________________________________________________________________________________________\n",
      "block_16_expand_BN (BatchNormal (None, 13, 13, 960)  3840        block_16_expand[0][0]            \n",
      "__________________________________________________________________________________________________\n",
      "block_16_expand_relu (ReLU)     (None, 13, 13, 960)  0           block_16_expand_BN[0][0]         \n",
      "__________________________________________________________________________________________________\n",
      "block_16_depthwise (DepthwiseCo (None, 13, 13, 960)  8640        block_16_expand_relu[0][0]       \n",
      "__________________________________________________________________________________________________\n",
      "block_16_depthwise_BN (BatchNor (None, 13, 13, 960)  3840        block_16_depthwise[0][0]         \n",
      "__________________________________________________________________________________________________\n",
      "block_16_depthwise_relu (ReLU)  (None, 13, 13, 960)  0           block_16_depthwise_BN[0][0]      \n",
      "__________________________________________________________________________________________________\n",
      "block_16_project (Conv2D)       (None, 13, 13, 320)  307200      block_16_depthwise_relu[0][0]    \n",
      "__________________________________________________________________________________________________\n",
      "block_16_project_BN (BatchNorma (None, 13, 13, 320)  1280        block_16_project[0][0]           \n",
      "__________________________________________________________________________________________________\n",
      "Conv_1 (Conv2D)                 (None, 13, 13, 1280) 409600      block_16_project_BN[0][0]        \n",
      "__________________________________________________________________________________________________\n",
      "Conv_1_bn (BatchNormalization)  (None, 13, 13, 1280) 5120        Conv_1[0][0]                     \n",
      "__________________________________________________________________________________________________\n",
      "out_relu (ReLU)                 (None, 13, 13, 1280) 0           Conv_1_bn[0][0]                  \n",
      "__________________________________________________________________________________________________\n",
      "global_average_pooling2d (Globa (None, 1280)         0           out_relu[0][0]                   \n",
      "__________________________________________________________________________________________________\n",
      "dense (Dense)                   (None, 1024)         1311744     global_average_pooling2d[0][0]   \n",
      "__________________________________________________________________________________________________\n",
      "dense_1 (Dense)                 (None, 14)           14350       dense[0][0]                      \n",
      "==================================================================================================\n",
      "Total params: 3,584,078\n",
      "Trainable params: 3,549,966\n",
      "Non-trainable params: 34,112\n",
      "__________________________________________________________________________________________________\n"
     ]
    }
   ],
   "source": [
    "model2.summary()"
   ]
  },
  {
   "cell_type": "markdown",
   "id": "d2f83252",
   "metadata": {
    "papermill": {
     "duration": 0.313351,
     "end_time": "2022-05-14T16:16:25.089660",
     "exception": false,
     "start_time": "2022-05-14T16:16:24.776309",
     "status": "completed"
    },
    "tags": []
   },
   "source": [
    "# Compiling and fitting the Model"
   ]
  },
  {
   "cell_type": "code",
   "execution_count": 18,
   "id": "a70160fb",
   "metadata": {
    "execution": {
     "iopub.execute_input": "2022-05-14T16:16:25.776745Z",
     "iopub.status.busy": "2022-05-14T16:16:25.776486Z",
     "iopub.status.idle": "2022-05-14T16:16:25.780271Z",
     "shell.execute_reply": "2022-05-14T16:16:25.779582Z"
    },
    "papermill": {
     "duration": 0.326265,
     "end_time": "2022-05-14T16:16:25.782118",
     "exception": false,
     "start_time": "2022-05-14T16:16:25.455853",
     "status": "completed"
    },
    "tags": []
   },
   "outputs": [],
   "source": [
    "#freezing layers attempt 1.0\n",
    "#accuracy -> 0\n",
    "#decision not to freeze layers\n",
    "\n",
    "#for layer in model2.layers[:172]:\n",
    "       #layer.trainable = False\n",
    "#for layer in model2.layers[172:]:\n",
    "       #layer.trainable = True\n",
    "#from keras.utils.vis_utils import plot_model\n",
    "#model.summary()\n",
    "#plot_model(model, to_file='model_plot.png', show_shapes=True, show_layer_names=True)\n",
    "#es = EarlyStopping(patience=3, restore_best_weights=True, monitor='val_accuracy') # Early stopping\n",
    "#from tensorflow.keras.callbacks import LearningRateScheduler\n",
    "#initial_learning_rate = 0.01\n",
    "#epochs = 50\n",
    "#decay = initial_learning_rate / epochs\n",
    "#def lr_time_based_decay(epoch, lr):\n",
    "  #  return lr # 1 / (1 + decay # epoch)"
   ]
  },
  {
   "cell_type": "markdown",
   "id": "d22ec614",
   "metadata": {
    "papermill": {
     "duration": 0.326059,
     "end_time": "2022-05-14T16:16:26.454208",
     "exception": false,
     "start_time": "2022-05-14T16:16:26.128149",
     "status": "completed"
    },
    "tags": []
   },
   "source": [
    "We use the **SGD** optimizer with a learning rate of 0.0001, and use the loss function for 'binary_crossentropy' because if each category occurs it either a zero or one."
   ]
  },
  {
   "cell_type": "code",
   "execution_count": 19,
   "id": "af716b11",
   "metadata": {
    "execution": {
     "iopub.execute_input": "2022-05-14T16:16:27.084320Z",
     "iopub.status.busy": "2022-05-14T16:16:27.084028Z",
     "iopub.status.idle": "2022-05-14T16:16:27.100649Z",
     "shell.execute_reply": "2022-05-14T16:16:27.099996Z"
    },
    "papermill": {
     "duration": 0.334264,
     "end_time": "2022-05-14T16:16:27.102612",
     "exception": false,
     "start_time": "2022-05-14T16:16:26.768348",
     "status": "completed"
    },
    "tags": []
   },
   "outputs": [],
   "source": [
    "from tensorflow.keras.optimizers import SGD\n",
    "model2.compile(optimizer=SGD(learning_rate=0.0001, momentum=0.9), metrics=['accuracy'], \n",
    "              loss='binary_crossentropy')"
   ]
  },
  {
   "cell_type": "markdown",
   "id": "4c269d4a",
   "metadata": {
    "execution": {
     "iopub.execute_input": "2022-05-04T18:02:13.507916Z",
     "iopub.status.busy": "2022-05-04T18:02:13.507638Z",
     "iopub.status.idle": "2022-05-04T18:03:38.973218Z",
     "shell.execute_reply": "2022-05-04T18:03:38.972337Z",
     "shell.execute_reply.started": "2022-05-04T18:02:13.507885Z"
    },
    "papermill": {
     "duration": 0.319981,
     "end_time": "2022-05-14T16:16:27.737523",
     "exception": false,
     "start_time": "2022-05-14T16:16:27.417542",
     "status": "completed"
    },
    "tags": []
   },
   "source": [
    "We run the model on 20 epochs for fear of over fitting. We do not use the early stopping function because the data set is so sparse that overfitting is extremely likely to occure because the prediction of all zeros has a high accuracy."
   ]
  },
  {
   "cell_type": "code",
   "execution_count": 20,
   "id": "103cc50c",
   "metadata": {
    "execution": {
     "iopub.execute_input": "2022-05-14T16:16:28.383639Z",
     "iopub.status.busy": "2022-05-14T16:16:28.383106Z",
     "iopub.status.idle": "2022-05-14T16:20:56.864140Z",
     "shell.execute_reply": "2022-05-14T16:20:56.863370Z"
    },
    "papermill": {
     "duration": 268.803457,
     "end_time": "2022-05-14T16:20:56.866564",
     "exception": false,
     "start_time": "2022-05-14T16:16:28.063107",
     "status": "completed"
    },
    "tags": []
   },
   "outputs": [
    {
     "name": "stderr",
     "output_type": "stream",
     "text": [
      "2022-05-14 16:16:28.388199: W tensorflow/core/framework/cpu_allocator_impl.cc:80] Allocation of 1382400000 exceeds 10% of free system memory.\n",
      "2022-05-14 16:16:29.997671: W tensorflow/core/framework/cpu_allocator_impl.cc:80] Allocation of 1382400000 exceeds 10% of free system memory.\n",
      "2022-05-14 16:16:31.106586: I tensorflow/compiler/mlir/mlir_graph_optimization_pass.cc:185] None of the MLIR Optimization Passes are enabled (registered 2)\n"
     ]
    },
    {
     "name": "stdout",
     "output_type": "stream",
     "text": [
      "Epoch 1/20\n"
     ]
    },
    {
     "name": "stderr",
     "output_type": "stream",
     "text": [
      "2022-05-14 16:16:34.959558: W tensorflow/core/framework/cpu_allocator_impl.cc:80] Allocation of 122880000 exceeds 10% of free system memory.\n",
      "2022-05-14 16:16:34.960276: W tensorflow/core/framework/cpu_allocator_impl.cc:80] Allocation of 122880000 exceeds 10% of free system memory.\n",
      "2022-05-14 16:16:35.104562: W tensorflow/core/framework/cpu_allocator_impl.cc:80] Allocation of 122880000 exceeds 10% of free system memory.\n",
      "2022-05-14 16:16:35.994952: I tensorflow/stream_executor/cuda/cuda_dnn.cc:369] Loaded cuDNN version 8005\n"
     ]
    },
    {
     "name": "stdout",
     "output_type": "stream",
     "text": [
      "12/12 [==============================] - 26s 1s/step - loss: 0.6441 - accuracy: 0.0125 - val_loss: 0.6261 - val_accuracy: 0.0056\n",
      "Epoch 2/20\n",
      "12/12 [==============================] - 12s 1s/step - loss: 0.6144 - accuracy: 0.0153 - val_loss: 0.5971 - val_accuracy: 0.0056\n",
      "Epoch 3/20\n",
      "12/12 [==============================] - 12s 1s/step - loss: 0.5782 - accuracy: 0.0278 - val_loss: 0.5670 - val_accuracy: 0.0056\n",
      "Epoch 4/20\n",
      "12/12 [==============================] - 12s 1s/step - loss: 0.5435 - accuracy: 0.0361 - val_loss: 0.5388 - val_accuracy: 0.0056\n",
      "Epoch 5/20\n",
      "12/12 [==============================] - 12s 1s/step - loss: 0.5116 - accuracy: 0.0514 - val_loss: 0.5134 - val_accuracy: 0.0056\n",
      "Epoch 6/20\n",
      "12/12 [==============================] - 12s 990ms/step - loss: 0.4833 - accuracy: 0.0667 - val_loss: 0.4905 - val_accuracy: 0.0111\n",
      "Epoch 7/20\n",
      "12/12 [==============================] - 12s 1s/step - loss: 0.4580 - accuracy: 0.0903 - val_loss: 0.4699 - val_accuracy: 0.0167\n",
      "Epoch 8/20\n",
      "12/12 [==============================] - 12s 996ms/step - loss: 0.4350 - accuracy: 0.1069 - val_loss: 0.4514 - val_accuracy: 0.0278\n",
      "Epoch 9/20\n",
      "12/12 [==============================] - 12s 1s/step - loss: 0.4151 - accuracy: 0.1236 - val_loss: 0.4347 - val_accuracy: 0.0333\n",
      "Epoch 10/20\n",
      "12/12 [==============================] - 12s 1s/step - loss: 0.3973 - accuracy: 0.1458 - val_loss: 0.4196 - val_accuracy: 0.0333\n",
      "Epoch 11/20\n",
      "12/12 [==============================] - 12s 989ms/step - loss: 0.3815 - accuracy: 0.1611 - val_loss: 0.4059 - val_accuracy: 0.0500\n",
      "Epoch 12/20\n",
      "12/12 [==============================] - 12s 998ms/step - loss: 0.3670 - accuracy: 0.1764 - val_loss: 0.3934 - val_accuracy: 0.0611\n",
      "Epoch 13/20\n",
      "12/12 [==============================] - 12s 1s/step - loss: 0.3541 - accuracy: 0.2000 - val_loss: 0.3819 - val_accuracy: 0.0611\n",
      "Epoch 14/20\n",
      "12/12 [==============================] - 12s 1s/step - loss: 0.3420 - accuracy: 0.2042 - val_loss: 0.3714 - val_accuracy: 0.0667\n",
      "Epoch 15/20\n",
      "12/12 [==============================] - 12s 1s/step - loss: 0.3319 - accuracy: 0.2139 - val_loss: 0.3617 - val_accuracy: 0.0722\n",
      "Epoch 16/20\n",
      "12/12 [==============================] - 12s 994ms/step - loss: 0.3217 - accuracy: 0.2222 - val_loss: 0.3528 - val_accuracy: 0.0722\n",
      "Epoch 17/20\n",
      "12/12 [==============================] - 12s 1s/step - loss: 0.3135 - accuracy: 0.2333 - val_loss: 0.3446 - val_accuracy: 0.0778\n",
      "Epoch 18/20\n",
      "12/12 [==============================] - 12s 1s/step - loss: 0.3055 - accuracy: 0.2444 - val_loss: 0.3370 - val_accuracy: 0.0889\n",
      "Epoch 19/20\n",
      "12/12 [==============================] - 12s 983ms/step - loss: 0.2975 - accuracy: 0.2514 - val_loss: 0.3299 - val_accuracy: 0.1167\n",
      "Epoch 20/20\n",
      "12/12 [==============================] - 12s 1s/step - loss: 0.2902 - accuracy: 0.2556 - val_loss: 0.3233 - val_accuracy: 0.1278\n"
     ]
    }
   ],
   "source": [
    "\n",
    "fitted_model= model2.fit(X_train, y_train, batch_size=64, \n",
    "                            epochs=20, validation_split=0.2)\n"
   ]
  },
  {
   "cell_type": "markdown",
   "id": "85545c1d",
   "metadata": {
    "papermill": {
     "duration": 0.402038,
     "end_time": "2022-05-14T16:20:57.674544",
     "exception": false,
     "start_time": "2022-05-14T16:20:57.272506",
     "status": "completed"
    },
    "tags": []
   },
   "source": [
    "# Evaluating the Model\n"
   ]
  },
  {
   "cell_type": "markdown",
   "id": "9af24bcb",
   "metadata": {
    "papermill": {
     "duration": 0.396026,
     "end_time": "2022-05-14T16:20:58.482457",
     "exception": false,
     "start_time": "2022-05-14T16:20:58.086431",
     "status": "completed"
    },
    "tags": []
   },
   "source": [
    "The function is very inaccurate. The function does give concrete results, but it has large issues with overfitting. The overfitting of this model quickly becomes quite extreme, so underfitting is the preferred option. The graph below shows the increase in accuracy as the epochs increase and the decrease of loss which is good."
   ]
  },
  {
   "cell_type": "code",
   "execution_count": 21,
   "id": "845c9749",
   "metadata": {
    "execution": {
     "iopub.execute_input": "2022-05-14T16:20:59.287893Z",
     "iopub.status.busy": "2022-05-14T16:20:59.287639Z",
     "iopub.status.idle": "2022-05-14T16:20:59.608564Z",
     "shell.execute_reply": "2022-05-14T16:20:59.607874Z"
    },
    "papermill": {
     "duration": 0.728953,
     "end_time": "2022-05-14T16:20:59.610756",
     "exception": false,
     "start_time": "2022-05-14T16:20:58.881803",
     "status": "completed"
    },
    "tags": []
   },
   "outputs": [
    {
     "data": {
      "image/png": "[encoded data removed]",
      "text/plain": [
       "<Figure size 1080x1080 with 2 Axes>"
      ]
     },
     "metadata": {
      "needs_background": "light"
     },
     "output_type": "display_data"
    }
   ],
   "source": [
    "acc = fitted_model.history['accuracy']\n",
    "val_acc = fitted_model.history['val_accuracy']\n",
    "loss = fitted_model.history['loss']\n",
    "val_loss = fitted_model.history['val_loss']\n",
    "epochs_range = range(20)\n",
    "\n",
    "plt.figure(figsize=(15, 15))\n",
    "plt.subplot(2, 2, 1)\n",
    "plt.plot(epochs_range, acc, label='Training Accuracy')\n",
    "plt.plot(epochs_range, val_acc, label='Validation Accuracy')\n",
    "plt.legend(loc='lower right')\n",
    "plt.title('Training and Validation Accuracy')\n",
    "\n",
    "plt.subplot(2, 2, 2)\n",
    "plt.plot(epochs_range, loss, label='Training Loss')\n",
    "plt.plot(epochs_range, val_loss, label='Validation Loss')\n",
    "plt.legend(loc='upper right')\n",
    "plt.title('Training and Validation Loss')\n",
    "plt.show()"
   ]
  },
  {
   "cell_type": "markdown",
   "id": "2bffb285",
   "metadata": {
    "papermill": {
     "duration": 0.404248,
     "end_time": "2022-05-14T16:21:00.423845",
     "exception": false,
     "start_time": "2022-05-14T16:21:00.019597",
     "status": "completed"
    },
    "tags": []
   },
   "source": [
    "The model prediction accuracy is around 20%, which should be improved."
   ]
  },
  {
   "cell_type": "code",
   "execution_count": 22,
   "id": "227720f3",
   "metadata": {
    "execution": {
     "iopub.execute_input": "2022-05-14T16:21:01.228054Z",
     "iopub.status.busy": "2022-05-14T16:21:01.227790Z",
     "iopub.status.idle": "2022-05-14T16:21:02.274565Z",
     "shell.execute_reply": "2022-05-14T16:21:02.273707Z"
    },
    "papermill": {
     "duration": 1.453377,
     "end_time": "2022-05-14T16:21:02.276837",
     "exception": false,
     "start_time": "2022-05-14T16:21:00.823460",
     "status": "completed"
    },
    "tags": []
   },
   "outputs": [
    {
     "name": "stdout",
     "output_type": "stream",
     "text": [
      "4/4 [==============================] - 1s 105ms/step - loss: 0.3245 - accuracy: 0.1000\n",
      "[0.3244762718677521, 0.10000000149011612]\n"
     ]
    }
   ],
   "source": [
    "print(model2.evaluate(X_test, y_test))"
   ]
  },
  {
   "cell_type": "markdown",
   "id": "1e4f8610",
   "metadata": {
    "papermill": {
     "duration": 0.404865,
     "end_time": "2022-05-14T16:21:03.095461",
     "exception": false,
     "start_time": "2022-05-14T16:21:02.690596",
     "status": "completed"
    },
    "tags": []
   },
   "source": [
    "Here the model is checked that it hasn't picked up patterns in the sparsity, but is rather making predictions based on the image."
   ]
  },
  {
   "cell_type": "code",
   "execution_count": 23,
   "id": "e80103f6",
   "metadata": {
    "execution": {
     "iopub.execute_input": "2022-05-14T16:21:03.918138Z",
     "iopub.status.busy": "2022-05-14T16:21:03.917866Z",
     "iopub.status.idle": "2022-05-14T16:21:05.007841Z",
     "shell.execute_reply": "2022-05-14T16:21:05.007088Z"
    },
    "papermill": {
     "duration": 1.496939,
     "end_time": "2022-05-14T16:21:05.009955",
     "exception": false,
     "start_time": "2022-05-14T16:21:03.513016",
     "status": "completed"
    },
    "tags": []
   },
   "outputs": [],
   "source": [
    "preds2 = model2.predict(X_test[:10])"
   ]
  },
  {
   "cell_type": "markdown",
   "id": "4d9074cf",
   "metadata": {
    "papermill": {
     "duration": 0.409973,
     "end_time": "2022-05-14T16:21:05.825586",
     "exception": false,
     "start_time": "2022-05-14T16:21:05.415613",
     "status": "completed"
    },
    "tags": []
   },
   "source": [
    "In the first 10 predictions, the model's inaccuracy is apparent, as it predicts only 3/10 rows."
   ]
  },
  {
   "cell_type": "code",
   "execution_count": 24,
   "id": "d2ddd6f9",
   "metadata": {
    "execution": {
     "iopub.execute_input": "2022-05-14T16:21:06.651050Z",
     "iopub.status.busy": "2022-05-14T16:21:06.650784Z",
     "iopub.status.idle": "2022-05-14T16:21:06.657756Z",
     "shell.execute_reply": "2022-05-14T16:21:06.656900Z"
    },
    "papermill": {
     "duration": 0.412337,
     "end_time": "2022-05-14T16:21:06.660568",
     "exception": false,
     "start_time": "2022-05-14T16:21:06.248231",
     "status": "completed"
    },
    "tags": []
   },
   "outputs": [
    {
     "data": {
      "text/plain": [
       "array([[0., 0., 0., 0., 0., 0., 0., 0., 0., 0., 0., 0., 0., 0.],\n",
       "       [0., 0., 0., 0., 0., 0., 0., 0., 0., 0., 0., 0., 0., 0.],\n",
       "       [0., 0., 0., 0., 0., 0., 0., 0., 0., 0., 0., 0., 0., 0.],\n",
       "       [0., 0., 0., 0., 0., 0., 0., 0., 0., 0., 0., 0., 0., 0.],\n",
       "       [0., 0., 0., 0., 0., 0., 0., 0., 0., 0., 0., 0., 0., 0.],\n",
       "       [0., 0., 0., 0., 0., 0., 0., 0., 0., 0., 0., 0., 0., 0.],\n",
       "       [0., 0., 0., 0., 0., 0., 0., 0., 0., 0., 0., 0., 0., 0.],\n",
       "       [0., 0., 0., 0., 0., 0., 0., 0., 0., 0., 0., 0., 0., 0.],\n",
       "       [0., 0., 0., 0., 0., 0., 0., 0., 0., 0., 0., 0., 0., 0.],\n",
       "       [0., 0., 0., 0., 0., 0., 0., 0., 0., 0., 0., 0., 0., 0.]],\n",
       "      dtype=float32)"
      ]
     },
     "execution_count": 24,
     "metadata": {},
     "output_type": "execute_result"
    }
   ],
   "source": [
    "np.round(preds2)"
   ]
  },
  {
   "cell_type": "code",
   "execution_count": 25,
   "id": "fbc345e5",
   "metadata": {
    "execution": {
     "iopub.execute_input": "2022-05-14T16:21:07.502973Z",
     "iopub.status.busy": "2022-05-14T16:21:07.502723Z",
     "iopub.status.idle": "2022-05-14T16:21:07.509356Z",
     "shell.execute_reply": "2022-05-14T16:21:07.508572Z"
    },
    "papermill": {
     "duration": 0.420387,
     "end_time": "2022-05-14T16:21:07.511574",
     "exception": false,
     "start_time": "2022-05-14T16:21:07.091187",
     "status": "completed"
    },
    "tags": []
   },
   "outputs": [
    {
     "data": {
      "text/plain": [
       "array([[0., 0., 0., 0., 0., 0., 0., 0., 0., 0., 0., 0., 0., 0.],\n",
       "       [0., 1., 0., 0., 0., 0., 0., 0., 0., 0., 0., 0., 0., 0.],\n",
       "       [0., 0., 1., 0., 0., 0., 0., 0., 0., 0., 0., 0., 0., 0.],\n",
       "       [0., 0., 1., 0., 0., 0., 0., 1., 0., 0., 0., 0., 0., 0.],\n",
       "       [0., 0., 0., 1., 0., 0., 0., 0., 0., 0., 0., 0., 0., 0.],\n",
       "       [0., 0., 0., 0., 0., 0., 0., 0., 1., 0., 0., 0., 0., 0.],\n",
       "       [0., 0., 1., 0., 0., 0., 0., 0., 0., 0., 0., 0., 0., 0.],\n",
       "       [0., 0., 1., 0., 0., 0., 0., 0., 0., 0., 0., 0., 0., 0.],\n",
       "       [0., 0., 0., 0., 0., 0., 0., 0., 0., 0., 0., 0., 0., 0.],\n",
       "       [0., 0., 0., 0., 0., 0., 0., 0., 0., 0., 0., 0., 0., 0.]])"
      ]
     },
     "execution_count": 25,
     "metadata": {},
     "output_type": "execute_result"
    }
   ],
   "source": [
    "y_test[:10]"
   ]
  },
  {
   "cell_type": "markdown",
   "id": "5be6ae50",
   "metadata": {
    "papermill": {
     "duration": 0.405596,
     "end_time": "2022-05-14T16:21:08.336596",
     "exception": false,
     "start_time": "2022-05-14T16:21:07.931000",
     "status": "completed"
    },
    "tags": []
   },
   "source": [
    "In order to see how the model fares in reality against the different categories, a multilabel confusion matrix is created, The multilabel confusion matrix compares the predicted values against the tested value and finds that the model is highly inaccurate in the categories that are present (which are few due to the sparsity)."
   ]
  },
  {
   "cell_type": "code",
   "execution_count": 26,
   "id": "3e08d392",
   "metadata": {
    "execution": {
     "iopub.execute_input": "2022-05-14T16:21:09.143160Z",
     "iopub.status.busy": "2022-05-14T16:21:09.142896Z",
     "iopub.status.idle": "2022-05-14T16:21:09.811614Z",
     "shell.execute_reply": "2022-05-14T16:21:09.810888Z"
    },
    "papermill": {
     "duration": 1.074247,
     "end_time": "2022-05-14T16:21:09.813575",
     "exception": false,
     "start_time": "2022-05-14T16:21:08.739328",
     "status": "completed"
    },
    "tags": []
   },
   "outputs": [
    {
     "data": {
      "text/plain": [
       "array([[[ 95,   0],\n",
       "        [  5,   0]],\n",
       "\n",
       "       [[ 79,   0],\n",
       "        [ 21,   0]],\n",
       "\n",
       "       [[ 70,   1],\n",
       "        [ 29,   0]],\n",
       "\n",
       "       [[ 94,   0],\n",
       "        [  6,   0]],\n",
       "\n",
       "       [[ 92,   0],\n",
       "        [  8,   0]],\n",
       "\n",
       "       [[ 95,   0],\n",
       "        [  5,   0]],\n",
       "\n",
       "       [[ 96,   0],\n",
       "        [  4,   0]],\n",
       "\n",
       "       [[ 91,   0],\n",
       "        [  9,   0]],\n",
       "\n",
       "       [[ 95,   1],\n",
       "        [  4,   0]],\n",
       "\n",
       "       [[100,   0],\n",
       "        [  0,   0]],\n",
       "\n",
       "       [[100,   0],\n",
       "        [  0,   0]],\n",
       "\n",
       "       [[100,   0],\n",
       "        [  0,   0]],\n",
       "\n",
       "       [[ 98,   0],\n",
       "        [  2,   0]],\n",
       "\n",
       "       [[100,   0],\n",
       "        [  0,   0]]])"
      ]
     },
     "execution_count": 26,
     "metadata": {},
     "output_type": "execute_result"
    }
   ],
   "source": [
    "from sklearn.metrics import multilabel_confusion_matrix\n",
    "preds = model2.predict(X_test) \n",
    "y_pred = np.round(preds)\n",
    "multilabel_confusion_matrix(y_test, y_pred)"
   ]
  },
  {
   "cell_type": "code",
   "execution_count": 27,
   "id": "c185f1d8",
   "metadata": {
    "execution": {
     "iopub.execute_input": "2022-05-14T16:21:10.625061Z",
     "iopub.status.busy": "2022-05-14T16:21:10.624790Z",
     "iopub.status.idle": "2022-05-14T16:21:10.785715Z",
     "shell.execute_reply": "2022-05-14T16:21:10.784968Z"
    },
    "papermill": {
     "duration": 0.56729,
     "end_time": "2022-05-14T16:21:10.787845",
     "exception": false,
     "start_time": "2022-05-14T16:21:10.220555",
     "status": "completed"
    },
    "tags": []
   },
   "outputs": [],
   "source": [
    "import pandas as pd\n",
    "import matplotlib.pyplot as plt\n",
    "import seaborn as sns\n",
    "\n",
    "\n",
    "def print_confusion_matrix(confusion_matrix, axes, class_label, class_names, fontsize=14):\n",
    "\n",
    "    df_cm = pd.DataFrame(\n",
    "        confusion_matrix, index=class_names, columns=class_names,\n",
    "    )\n",
    "\n",
    "    try:\n",
    "        heatmap = sns.heatmap(df_cm, annot=True, fmt=\"d\", cbar=False, ax=axes)\n",
    "    except ValueError:\n",
    "        raise ValueError(\"Confusion matrix values must be integers.\")\n",
    "    heatmap.yaxis.set_ticklabels(heatmap.yaxis.get_ticklabels(), rotation=0, ha='right', fontsize=fontsize)\n",
    "    heatmap.xaxis.set_ticklabels(heatmap.xaxis.get_ticklabels(), rotation=45, ha='right', fontsize=fontsize)\n",
    "    axes.set_ylabel('True label')\n",
    "    axes.set_xlabel('Predicted label')\n",
    "    axes.set_title(\"Class:\" + class_label)"
   ]
  },
  {
   "cell_type": "code",
   "execution_count": 28,
   "id": "d24dee01",
   "metadata": {
    "execution": {
     "iopub.execute_input": "2022-05-14T16:21:11.604922Z",
     "iopub.status.busy": "2022-05-14T16:21:11.604675Z",
     "iopub.status.idle": "2022-05-14T16:21:14.840555Z",
     "shell.execute_reply": "2022-05-14T16:21:14.839883Z"
    },
    "papermill": {
     "duration": 3.643678,
     "end_time": "2022-05-14T16:21:14.842387",
     "exception": false,
     "start_time": "2022-05-14T16:21:11.198709",
     "status": "completed"
    },
    "tags": []
   },
   "outputs": [
    {
     "data": {
      "image/png": "[encoded data removed]",
      "text/plain": [
       "<Figure size 864x504 with 15 Axes>"
      ]
     },
     "metadata": {
      "needs_background": "light"
     },
     "output_type": "display_data"
    }
   ],
   "source": [
    "vis_arr = np.asarray(multilabel_confusion_matrix(y_test, y_pred))\n",
    "labels = ['NoF', 'YFT', 'ALB', 'OTH', 'BILL', 'DOL', 'BET', 'SKJ', 'LAG', 'SHARK', 'OIL', 'PLS', 'TUNA', 'WATER']\n",
    "fig, ax = plt.subplots(5, 3, figsize=(12, 7))\n",
    "for axes, cfs_matrix, label in zip(ax.flatten(), vis_arr, labels):\n",
    "        print_confusion_matrix(cfs_matrix, axes, label, [\"N\", \"Y\"])\n",
    "fig.tight_layout()\n",
    "plt.show()"
   ]
  },
  {
   "cell_type": "markdown",
   "id": "898fa5e8",
   "metadata": {
    "papermill": {
     "duration": 0.557495,
     "end_time": "2022-05-14T16:21:15.918928",
     "exception": false,
     "start_time": "2022-05-14T16:21:15.361433",
     "status": "completed"
    },
    "tags": []
   },
   "source": [
    "In order to create see the true distribution of the test, a frequancy plot is created to display the occurences."
   ]
  },
  {
   "cell_type": "code",
   "execution_count": 29,
   "id": "94786cb8",
   "metadata": {
    "execution": {
     "iopub.execute_input": "2022-05-14T16:21:16.785416Z",
     "iopub.status.busy": "2022-05-14T16:21:16.785154Z",
     "iopub.status.idle": "2022-05-14T16:21:17.453767Z",
     "shell.execute_reply": "2022-05-14T16:21:17.452969Z"
    },
    "papermill": {
     "duration": 1.084133,
     "end_time": "2022-05-14T16:21:17.456086",
     "exception": false,
     "start_time": "2022-05-14T16:21:16.371953",
     "status": "completed"
    },
    "tags": []
   },
   "outputs": [
    {
     "data": {
      "text/plain": [
       "0\n",
       "0.0    882\n",
       "1.0     18\n",
       "dtype: int64"
      ]
     },
     "execution_count": 29,
     "metadata": {},
     "output_type": "execute_result"
    }
   ],
   "source": [
    "Y_train= pd.DataFrame(y_train)\n",
    "Y_test= pd.DataFrame(y_test)\n",
    "preds2 = np.round(model2.predict(X_test))\n",
    "Y_preds= pd.DataFrame(preds2)\n",
    "Y_train.columns\n",
    "(Y_train.groupby(0).size())\n",
    "\n"
   ]
  },
  {
   "cell_type": "code",
   "execution_count": 30,
   "id": "8f9d657f",
   "metadata": {
    "execution": {
     "iopub.execute_input": "2022-05-14T16:21:18.297604Z",
     "iopub.status.busy": "2022-05-14T16:21:18.297029Z",
     "iopub.status.idle": "2022-05-14T16:21:18.313747Z",
     "shell.execute_reply": "2022-05-14T16:21:18.312905Z"
    },
    "papermill": {
     "duration": 0.43129,
     "end_time": "2022-05-14T16:21:18.316293",
     "exception": false,
     "start_time": "2022-05-14T16:21:17.885003",
     "status": "completed"
    },
    "tags": []
   },
   "outputs": [
    {
     "name": "stdout",
     "output_type": "stream",
     "text": [
      "14\n",
      "[0.882, 0.689, 0.614, 0.839, 0.866, 0.863, 0.837, 0.832, 0.884, 0.891, 0.9, 0.899, 0.898, 0.897]\n",
      "14\n",
      "[0.118, 0.311, 0.386, 0.161, 0.134, 0.137, 0.163, 0.168, 0.116, 0.109, 0.1, 0.101, 0.102, 0.103]\n",
      "14\n"
     ]
    }
   ],
   "source": [
    "y_labels = ['NoF', 'YFT', 'ALB', 'OTH', 'BILL', 'DOL', 'BET', 'SKJ', 'LAG', 'SHARK', 'OIL', 'PLS', 'TUNA', 'WATER']\n",
    "print(len(y_labels))\n",
    "counts = []\n",
    "for i in range(0,14):\n",
    "    x = list(Y_train.groupby(i).size())\n",
    "    counts.append(x[0]/1000)\n",
    "print(counts)\n",
    "print(len(counts))\n",
    "frequency= [round(1-i, 3) for i in counts]\n",
    "print(frequency)\n",
    "print(len(frequency))"
   ]
  },
  {
   "cell_type": "code",
   "execution_count": 31,
   "id": "35f8b1c3",
   "metadata": {
    "execution": {
     "iopub.execute_input": "2022-05-14T16:21:19.181754Z",
     "iopub.status.busy": "2022-05-14T16:21:19.180911Z",
     "iopub.status.idle": "2022-05-14T16:21:19.487676Z",
     "shell.execute_reply": "2022-05-14T16:21:19.486925Z"
    },
    "papermill": {
     "duration": 0.720865,
     "end_time": "2022-05-14T16:21:19.489480",
     "exception": false,
     "start_time": "2022-05-14T16:21:18.768615",
     "status": "completed"
    },
    "tags": []
   },
   "outputs": [
    {
     "data": {
      "image/png": "[encoded data removed]",
      "text/plain": [
       "<Figure size 864x576 with 1 Axes>"
      ]
     },
     "metadata": {
      "needs_background": "light"
     },
     "output_type": "display_data"
    }
   ],
   "source": [
    "df_counts = pd.DataFrame({'Frequency': frequency}, index=y_labels)\n",
    "ax = df_counts.plot(kind='bar', figsize=(12, 8), title='Label Occurence in images in Train',\n",
    "             xlabel='Label', ylabel='Frequency', legend=False)\n",
    "\n",
    "# annotate\n",
    "ax.bar_label(ax.containers[0], label_type='edge')\n",
    "\n",
    "# pad the spacing between the number and the edge of the figure\n",
    "ax.margins(y=0.1)"
   ]
  },
  {
   "cell_type": "markdown",
   "id": "3fcb209f",
   "metadata": {
    "papermill": {
     "duration": 0.411453,
     "end_time": "2022-05-14T16:21:20.314118",
     "exception": false,
     "start_time": "2022-05-14T16:21:19.902665",
     "status": "completed"
    },
    "tags": []
   },
   "source": [
    "The data is very sparse with most categories appearing less that 18% of the time. The two most common occurences are YFT and ALB, which occur less than 40% of the time."
   ]
  },
  {
   "cell_type": "code",
   "execution_count": 32,
   "id": "338d8444",
   "metadata": {
    "execution": {
     "iopub.execute_input": "2022-05-14T16:21:21.145067Z",
     "iopub.status.busy": "2022-05-14T16:21:21.144796Z",
     "iopub.status.idle": "2022-05-14T16:21:21.152935Z",
     "shell.execute_reply": "2022-05-14T16:21:21.152100Z"
    },
    "papermill": {
     "duration": 0.425115,
     "end_time": "2022-05-14T16:21:21.155082",
     "exception": false,
     "start_time": "2022-05-14T16:21:20.729967",
     "status": "completed"
    },
    "tags": []
   },
   "outputs": [
    {
     "data": {
      "text/plain": [
       "3\n",
       "0.0    94\n",
       "1.0     6\n",
       "dtype: int64"
      ]
     },
     "execution_count": 32,
     "metadata": {},
     "output_type": "execute_result"
    }
   ],
   "source": [
    "Y_test.groupby(3).size()"
   ]
  },
  {
   "cell_type": "code",
   "execution_count": 33,
   "id": "ad367356",
   "metadata": {
    "execution": {
     "iopub.execute_input": "2022-05-14T16:21:21.998373Z",
     "iopub.status.busy": "2022-05-14T16:21:21.998110Z",
     "iopub.status.idle": "2022-05-14T16:21:22.015472Z",
     "shell.execute_reply": "2022-05-14T16:21:22.014715Z"
    },
    "papermill": {
     "duration": 0.430985,
     "end_time": "2022-05-14T16:21:22.017422",
     "exception": false,
     "start_time": "2022-05-14T16:21:21.586437",
     "status": "completed"
    },
    "tags": []
   },
   "outputs": [
    {
     "name": "stdout",
     "output_type": "stream",
     "text": [
      "14\n",
      "[0.95, 0.79, 0.71, 0.94, 0.92, 0.95, 0.96, 0.91, 0.96, 1.0, 1.0, 1.0, 0.98, 1.0]\n",
      "14\n",
      "[0.05, 0.21, 0.29, 0.06, 0.08, 0.05, 0.04, 0.09, 0.04, 0.0, 0.0, 0.0, 0.02, 0.0]\n",
      "14\n"
     ]
    }
   ],
   "source": [
    "print(len(y_labels))\n",
    "counts = []\n",
    "for i in range(0,14):\n",
    "    x = list(Y_test.groupby(i).size())\n",
    "    counts.append(x[0]/100)\n",
    "print(counts)\n",
    "print(len(counts))\n",
    "frequency= [round(1-i, 3) for i in counts]\n",
    "print(frequency)\n",
    "print(len(frequency))"
   ]
  },
  {
   "cell_type": "code",
   "execution_count": 34,
   "id": "77e478d6",
   "metadata": {
    "execution": {
     "iopub.execute_input": "2022-05-14T16:21:23.099451Z",
     "iopub.status.busy": "2022-05-14T16:21:23.099132Z",
     "iopub.status.idle": "2022-05-14T16:21:23.505642Z",
     "shell.execute_reply": "2022-05-14T16:21:23.504882Z"
    },
    "papermill": {
     "duration": 1.081371,
     "end_time": "2022-05-14T16:21:23.511126",
     "exception": false,
     "start_time": "2022-05-14T16:21:22.429755",
     "status": "completed"
    },
    "tags": []
   },
   "outputs": [
    {
     "data": {
      "image/png": "[encoded data removed]",
      "text/plain": [
       "<Figure size 864x576 with 1 Axes>"
      ]
     },
     "metadata": {
      "needs_background": "light"
     },
     "output_type": "display_data"
    }
   ],
   "source": [
    "df_counts = pd.DataFrame({'Frequency': frequency}, index=y_labels)\n",
    "ax = df_counts.plot(kind='bar', figsize=(12, 8), title='Label Occurence in Images in Test',\n",
    "             xlabel='Label', ylabel='Frequency', legend=False)\n",
    "\n",
    "# annotate\n",
    "ax.bar_label(ax.containers[0], label_type='edge')\n",
    "\n",
    "# pad the spacing between the number and the edge of the figure\n",
    "ax.margins(y=0.1)"
   ]
  },
  {
   "cell_type": "markdown",
   "id": "6e6ab935",
   "metadata": {
    "papermill": {
     "duration": 0.407415,
     "end_time": "2022-05-14T16:21:24.496878",
     "exception": false,
     "start_time": "2022-05-14T16:21:24.089463",
     "status": "completed"
    },
    "tags": []
   },
   "source": [
    "In the test data the occurences become even sparser. Most categories occur less than 10% of the time, and many categories appearing less than 5% of the time."
   ]
  },
  {
   "cell_type": "code",
   "execution_count": 35,
   "id": "355a86e4",
   "metadata": {
    "execution": {
     "iopub.execute_input": "2022-05-14T16:21:25.319725Z",
     "iopub.status.busy": "2022-05-14T16:21:25.319456Z",
     "iopub.status.idle": "2022-05-14T16:21:25.334908Z",
     "shell.execute_reply": "2022-05-14T16:21:25.333782Z"
    },
    "papermill": {
     "duration": 0.433033,
     "end_time": "2022-05-14T16:21:25.337287",
     "exception": false,
     "start_time": "2022-05-14T16:21:24.904254",
     "status": "completed"
    },
    "tags": []
   },
   "outputs": [
    {
     "name": "stdout",
     "output_type": "stream",
     "text": [
      "14\n",
      "[1.0, 1.0, 0.99, 1.0, 1.0, 1.0, 1.0, 1.0, 0.99, 1.0, 1.0, 1.0, 1.0, 1.0]\n",
      "14\n",
      "[0.0, 0.0, 0.01, 0.0, 0.0, 0.0, 0.0, 0.0, 0.01, 0.0, 0.0, 0.0, 0.0, 0.0]\n",
      "14\n"
     ]
    }
   ],
   "source": [
    "print(len(y_labels))\n",
    "counts = []\n",
    "for i in range(0,14):\n",
    "    x = list(Y_preds.groupby(i).size())\n",
    "    counts.append(x[0]/100)\n",
    "print(counts)\n",
    "print(len(counts))\n",
    "frequency= [round(1-i, 3) for i in counts]\n",
    "print(frequency)\n",
    "print(len(frequency))"
   ]
  },
  {
   "cell_type": "code",
   "execution_count": 36,
   "id": "e3a21f9e",
   "metadata": {
    "execution": {
     "iopub.execute_input": "2022-05-14T16:21:26.214057Z",
     "iopub.status.busy": "2022-05-14T16:21:26.213465Z",
     "iopub.status.idle": "2022-05-14T16:21:26.624730Z",
     "shell.execute_reply": "2022-05-14T16:21:26.623989Z"
    },
    "papermill": {
     "duration": 0.878578,
     "end_time": "2022-05-14T16:21:26.626919",
     "exception": false,
     "start_time": "2022-05-14T16:21:25.748341",
     "status": "completed"
    },
    "tags": []
   },
   "outputs": [
    {
     "data": {
      "image/png": "[encoded data removed]",
      "text/plain": [
       "<Figure size 864x576 with 1 Axes>"
      ]
     },
     "metadata": {
      "needs_background": "light"
     },
     "output_type": "display_data"
    }
   ],
   "source": [
    "df_counts = pd.DataFrame({'Frequency': frequency}, index=y_labels)\n",
    "ax = df_counts.plot(kind='bar', figsize=(12, 8), title='Label Occurence in Images in Prediction',\n",
    "             xlabel='Label', ylabel='Frequency', legend=False)\n",
    "\n",
    "# annotate\n",
    "ax.bar_label(ax.containers[0], label_type='edge')\n",
    "\n",
    "# pad the spacing between the number and the edge of the figure\n",
    "ax.margins(y=0.1)"
   ]
  },
  {
   "cell_type": "markdown",
   "id": "4ff39cf5",
   "metadata": {
    "papermill": {
     "duration": 0.411794,
     "end_time": "2022-05-14T16:21:27.527237",
     "exception": false,
     "start_time": "2022-05-14T16:21:27.115443",
     "status": "completed"
    },
    "tags": []
   },
   "source": [
    "The predictions lack of accuracy is highly apperent in the frequency plot, which ideally would be identically to the test plot."
   ]
  },
  {
   "cell_type": "code",
   "execution_count": 37,
   "id": "9ca0e920",
   "metadata": {
    "execution": {
     "iopub.execute_input": "2022-05-14T16:21:28.355802Z",
     "iopub.status.busy": "2022-05-14T16:21:28.355140Z",
     "iopub.status.idle": "2022-05-14T16:21:28.359046Z",
     "shell.execute_reply": "2022-05-14T16:21:28.358337Z"
    },
    "papermill": {
     "duration": 0.41895,
     "end_time": "2022-05-14T16:21:28.360732",
     "exception": false,
     "start_time": "2022-05-14T16:21:27.941782",
     "status": "completed"
    },
    "tags": []
   },
   "outputs": [],
   "source": [
    "from sklearn.metrics import coverage_error"
   ]
  },
  {
   "cell_type": "code",
   "execution_count": 38,
   "id": "499aa0a4",
   "metadata": {
    "execution": {
     "iopub.execute_input": "2022-05-14T16:21:29.185578Z",
     "iopub.status.busy": "2022-05-14T16:21:29.185326Z",
     "iopub.status.idle": "2022-05-14T16:21:29.192241Z",
     "shell.execute_reply": "2022-05-14T16:21:29.191381Z"
    },
    "papermill": {
     "duration": 0.419564,
     "end_time": "2022-05-14T16:21:29.194775",
     "exception": false,
     "start_time": "2022-05-14T16:21:28.775211",
     "status": "completed"
    },
    "tags": []
   },
   "outputs": [
    {
     "name": "stdout",
     "output_type": "stream",
     "text": [
      "10.92\n"
     ]
    }
   ],
   "source": [
    "print(coverage_error(y_test, y_pred))"
   ]
  },
  {
   "cell_type": "markdown",
   "id": "ea455dea",
   "metadata": {
    "papermill": {
     "duration": 0.411578,
     "end_time": "2022-05-14T16:21:30.041386",
     "exception": false,
     "start_time": "2022-05-14T16:21:29.629808",
     "status": "completed"
    },
    "tags": []
   },
   "source": [
    "Here we look at further metrics to determine how in accurate the model is. A 'good' coverage error would be closer to the number of categories. "
   ]
  },
  {
   "cell_type": "code",
   "execution_count": 39,
   "id": "d422d6ab",
   "metadata": {
    "execution": {
     "iopub.execute_input": "2022-05-14T16:21:30.863331Z",
     "iopub.status.busy": "2022-05-14T16:21:30.862649Z",
     "iopub.status.idle": "2022-05-14T16:21:30.867547Z",
     "shell.execute_reply": "2022-05-14T16:21:30.866779Z"
    },
    "papermill": {
     "duration": 0.420323,
     "end_time": "2022-05-14T16:21:30.869698",
     "exception": false,
     "start_time": "2022-05-14T16:21:30.449375",
     "status": "completed"
    },
    "tags": []
   },
   "outputs": [],
   "source": [
    "exact_acc = (y_test == y_pred).all(axis=1).mean()"
   ]
  },
  {
   "cell_type": "code",
   "execution_count": 40,
   "id": "1a32afed",
   "metadata": {
    "execution": {
     "iopub.execute_input": "2022-05-14T16:21:31.690853Z",
     "iopub.status.busy": "2022-05-14T16:21:31.690596Z",
     "iopub.status.idle": "2022-05-14T16:21:31.695521Z",
     "shell.execute_reply": "2022-05-14T16:21:31.694819Z"
    },
    "papermill": {
     "duration": 0.41592,
     "end_time": "2022-05-14T16:21:31.697766",
     "exception": false,
     "start_time": "2022-05-14T16:21:31.281846",
     "status": "completed"
    },
    "tags": []
   },
   "outputs": [
    {
     "name": "stdout",
     "output_type": "stream",
     "text": [
      "Exact Match Ratio: 0.22\n"
     ]
    }
   ],
   "source": [
    "print(\"Exact Match Ratio:\", exact_acc)"
   ]
  },
  {
   "cell_type": "markdown",
   "id": "e59a0316",
   "metadata": {
    "papermill": {
     "duration": 0.414038,
     "end_time": "2022-05-14T16:21:32.522742",
     "exception": false,
     "start_time": "2022-05-14T16:21:32.108704",
     "status": "completed"
    },
    "tags": []
   },
   "source": [
    "The exact match ratio is the number of rows that much perfectly. The ratio is 22%, which is not great but shows that one fifth of all the images were classified 100% correctly."
   ]
  },
  {
   "cell_type": "markdown",
   "id": "263d12ad",
   "metadata": {
    "papermill": {
     "duration": 0.413135,
     "end_time": "2022-05-14T16:21:33.343732",
     "exception": false,
     "start_time": "2022-05-14T16:21:32.930597",
     "status": "completed"
    },
    "tags": []
   },
   "source": [
    "## Previous Solutions"
   ]
  },
  {
   "cell_type": "markdown",
   "id": "6504b835",
   "metadata": {
    "papermill": {
     "duration": 0.409804,
     "end_time": "2022-05-14T16:21:34.165922",
     "exception": false,
     "start_time": "2022-05-14T16:21:33.756118",
     "status": "completed"
    },
    "tags": []
   },
   "source": [
    "## Discussion and Results"
   ]
  },
  {
   "cell_type": "code",
   "execution_count": null,
   "id": "c6b71662",
   "metadata": {
    "papermill": {
     "duration": 0.407921,
     "end_time": "2022-05-14T16:21:34.982571",
     "exception": false,
     "start_time": "2022-05-14T16:21:34.574650",
     "status": "completed"
    },
    "tags": []
   },
   "outputs": [],
   "source": []
  }
 ],
 "metadata": {
  "kernelspec": {
   "display_name": "Python 3",
   "language": "python",
   "name": "python3"
  },
  "language_info": {
   "codemirror_mode": {
    "name": "ipython",
    "version": 3
   },
   "file_extension": ".py",
   "mimetype": "text/x-python",
   "name": "python",
   "nbconvert_exporter": "python",
   "pygments_lexer": "ipython3",
   "version": "3.7.12"
  },
  "papermill": {
   "default_parameters": {},
   "duration": 440.202071,
   "end_time": "2022-05-14T16:21:38.802777",
   "environment_variables": {},
   "exception": null,
   "input_path": "__notebook__.ipynb",
   "output_path": "__notebook__.ipynb",
   "parameters": {},
   "start_time": "2022-05-14T16:14:18.600706",
   "version": "2.3.4"
  }
 },
 "nbformat": 4,
 "nbformat_minor": 5
}
