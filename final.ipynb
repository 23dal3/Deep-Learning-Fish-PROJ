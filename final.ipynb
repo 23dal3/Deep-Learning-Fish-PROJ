{
 "cells": [
  {
   "cell_type": "markdown",
   "id": "be68665b",
   "metadata": {
    "papermill": {
     "duration": 0.08435,
     "end_time": "2022-05-15T18:45:37.084749",
     "exception": false,
     "start_time": "2022-05-15T18:45:37.000399",
     "status": "completed"
    },
    "tags": []
   },
   "source": [
    "# A Deep Learning Program Run on Commercial Pelagic Vessels in the Pacific"
   ]
  },
  {
   "cell_type": "markdown",
   "id": "f3baf38e",
   "metadata": {
    "papermill": {
     "duration": 0.078894,
     "end_time": "2022-05-15T18:45:37.243770",
     "exception": false,
     "start_time": "2022-05-15T18:45:37.164876",
     "status": "completed"
    },
    "tags": []
   },
   "source": [
    "## Introduction"
   ]
  },
  {
   "cell_type": "markdown",
   "id": "6640ddfd",
   "metadata": {
    "papermill": {
     "duration": 0.07888,
     "end_time": "2022-05-15T18:45:37.402930",
     "exception": false,
     "start_time": "2022-05-15T18:45:37.324050",
     "status": "completed"
    },
    "tags": []
   },
   "source": [
    "With the advent of modern technologies, we have seen unprecedented growth, yet this growth is proving to be problematic. An area that hs been heavily impacted by these modern technologies is our oceans. This project seeks to create a solution to an issue facing commercial pelagic longliners in the Pacific Ocean. An industrial longliner can set over 500 miles (800 km) worth of line with over ten thouasands hooks. With so many hooks, longliners have trouble keeping track of catches, and this is where this deep learning project seeks to help. By using deep learning image labelling, this project aims to be able to identify fish species in an image. The data set was retrieved from https://www.fishnet.ai/download from the v0.2.0 Dataset (September 2020) and has 12 GB of images containing different fish and animal species from commerical longliners operating in the Pacific.  The goal of this project is to able to accurately return the species present in an image and be able to predict the species in an image. "
   ]
  },
  {
   "cell_type": "markdown",
   "id": "00902ea0",
   "metadata": {
    "papermill": {
     "duration": 0.159991,
     "end_time": "2022-05-15T18:45:37.707685",
     "exception": false,
     "start_time": "2022-05-15T18:45:37.547694",
     "status": "completed"
    },
    "tags": []
   },
   "source": [
    "**Packages Used**"
   ]
  },
  {
   "cell_type": "code",
   "execution_count": 1,
   "id": "0d72def9",
   "metadata": {
    "execution": {
     "iopub.execute_input": "2022-05-15T18:45:37.955471Z",
     "iopub.status.busy": "2022-05-15T18:45:37.955014Z",
     "iopub.status.idle": "2022-05-15T18:45:44.820008Z",
     "shell.execute_reply": "2022-05-15T18:45:44.818976Z"
    },
    "papermill": {
     "duration": 6.98979,
     "end_time": "2022-05-15T18:45:44.823127",
     "exception": false,
     "start_time": "2022-05-15T18:45:37.833337",
     "status": "completed"
    },
    "tags": []
   },
   "outputs": [],
   "source": [
    "import shutil \n",
    "import keras\n",
    "from tensorflow.keras.applications.vgg16 import VGG16\n",
    "from keras.models import Sequential\n",
    "from keras.layers import Dense, Dropout, Flatten\n",
    "from keras.layers import Conv2D, MaxPooling2D\n",
    "from keras.utils import *\n",
    "from keras.preprocessing import image\n",
    "import os\n",
    "import numpy as np # linear algebra\n",
    "import pandas as pd # data processing, CSV file I/O (e.g. pd.read_csv)\n",
    "import matplotlib.pyplot as plt\n",
    "from sklearn.model_selection import train_test_split\n",
    "from tqdm import tqdm\n",
    "from tensorflow.keras.callbacks import EarlyStopping # early stopping\n",
    "import matplotlib.pyplot as plt\n",
    "from tensorflow.keras.applications.resnet50 import ResNet50, preprocess_input, decode_predictions\n",
    "from keras.applications.mobilenet_v2 import MobileNetV2\n",
    "from keras.applications.mobilenet import preprocess_input\n",
    "from tensorflow.keras.preprocessing.image import ImageDataGenerator\n",
    "np.random.seed(34)"
   ]
  },
  {
   "cell_type": "markdown",
   "id": "d011e902",
   "metadata": {
    "papermill": {
     "duration": 0.070104,
     "end_time": "2022-05-15T18:45:44.964106",
     "exception": false,
     "start_time": "2022-05-15T18:45:44.894002",
     "status": "completed"
    },
    "tags": []
   },
   "source": [
    "## Data Preprocessing"
   ]
  },
  {
   "cell_type": "markdown",
   "id": "90aba8b6",
   "metadata": {
    "papermill": {
     "duration": 0.06957,
     "end_time": "2022-05-15T18:45:45.103110",
     "exception": false,
     "start_time": "2022-05-15T18:45:45.033540",
     "status": "completed"
    },
    "tags": []
   },
   "source": [
    "The original CSV (\"*foid_labels_bbox_v020.csv*\") contains 9 categories the image name, the bounding box, its corresponding dimensions, and the corresponding labels with the bounding boxes. For the purpose of multilabeling images, in this project only *label_l2* and image name is utilized.  The categoris in *label_l2* are \n",
    "> ['HUMAN', 'NoF', 'YFT', 'ALB', 'OTH', 'BILL', 'DOL', 'BET', 'SKJ', 'LAG', 'SHARK', 'OIL', 'PLS', 'TUNA', 'WATER']\n",
    "\n",
    "each label represents either kind of fish or an obstruction on the camera. \n"
   ]
  },
  {
   "cell_type": "markdown",
   "id": "3f78c462",
   "metadata": {
    "papermill": {
     "duration": 0.067443,
     "end_time": "2022-05-15T18:45:45.239602",
     "exception": false,
     "start_time": "2022-05-15T18:45:45.172159",
     "status": "completed"
    },
    "tags": []
   },
   "source": [
    "Due to RAM complications, this project takes a randomly selected group of 10,000 images, which were saved into a CSV file (\"*Subsetted_Fish.csv*\"). The fish data frame takes the image id and 15 categories based on *label_l2*. Each column in the fish data frame is a *label_l2* category, and if the image contains one of those categories it has a 0 in the respective column else it has a zero (binary encoding of contains? Y/N)."
   ]
  },
  {
   "cell_type": "markdown",
   "id": "530fc539",
   "metadata": {
    "_kg_hide-input": true,
    "papermill": {
     "duration": 0.068993,
     "end_time": "2022-05-15T18:45:45.379340",
     "exception": false,
     "start_time": "2022-05-15T18:45:45.310347",
     "status": "completed"
    },
    "tags": []
   },
   "source": [
    "## Solution"
   ]
  },
  {
   "cell_type": "markdown",
   "id": "54dc30f6",
   "metadata": {
    "papermill": {
     "duration": 0.071148,
     "end_time": "2022-05-15T18:45:45.535471",
     "exception": false,
     "start_time": "2022-05-15T18:45:45.464323",
     "status": "completed"
    },
    "tags": []
   },
   "source": [
    "First *Subsetted_Fish.csv* is read in (in this case called *file_name.csv*). And assign it to the pandas dataframe named subsetted. "
   ]
  },
  {
   "cell_type": "code",
   "execution_count": 2,
   "id": "78a9fdb0",
   "metadata": {
    "execution": {
     "iopub.execute_input": "2022-05-15T18:45:45.678123Z",
     "iopub.status.busy": "2022-05-15T18:45:45.677841Z",
     "iopub.status.idle": "2022-05-15T18:45:45.717035Z",
     "shell.execute_reply": "2022-05-15T18:45:45.716129Z"
    },
    "papermill": {
     "duration": 0.111803,
     "end_time": "2022-05-15T18:45:45.719405",
     "exception": false,
     "start_time": "2022-05-15T18:45:45.607602",
     "status": "completed"
    },
    "tags": []
   },
   "outputs": [],
   "source": [
    "subsetted= pd.read_csv(\"../input/subsetted/file_name.csv\")\n"
   ]
  },
  {
   "cell_type": "markdown",
   "id": "11ae5e33",
   "metadata": {
    "papermill": {
     "duration": 0.06627,
     "end_time": "2022-05-15T18:45:45.854417",
     "exception": false,
     "start_time": "2022-05-15T18:45:45.788147",
     "status": "completed"
    },
    "tags": []
   },
   "source": [
    "Next in order to assign the corresponding images found in the \"subsetted\" dataframe a new folder called 'image' is created using the \n",
    "**os** package. "
   ]
  },
  {
   "cell_type": "code",
   "execution_count": 3,
   "id": "55313642",
   "metadata": {
    "execution": {
     "iopub.execute_input": "2022-05-15T18:45:45.999919Z",
     "iopub.status.busy": "2022-05-15T18:45:45.998948Z",
     "iopub.status.idle": "2022-05-15T18:45:46.004969Z",
     "shell.execute_reply": "2022-05-15T18:45:46.003773Z"
    },
    "papermill": {
     "duration": 0.081615,
     "end_time": "2022-05-15T18:45:46.007401",
     "exception": false,
     "start_time": "2022-05-15T18:45:45.925786",
     "status": "completed"
    },
    "tags": []
   },
   "outputs": [],
   "source": [
    "os.makedirs('image')"
   ]
  },
  {
   "cell_type": "markdown",
   "id": "f4fd82fa",
   "metadata": {
    "papermill": {
     "duration": 0.071963,
     "end_time": "2022-05-15T18:45:46.151311",
     "exception": false,
     "start_time": "2022-05-15T18:45:46.079348",
     "status": "completed"
    },
    "tags": []
   },
   "source": [
    "In order for \"subsetted\" to be used properly it needs to be cleaned. First, the null values must be filled with 0 for the absence of that category in the image. Next, the redundant row \"Unnamed\" is dropped. The new \"subsetted\" data frame is called proper as it is properly formatted."
   ]
  },
  {
   "cell_type": "code",
   "execution_count": 4,
   "id": "7c3bd536",
   "metadata": {
    "execution": {
     "iopub.execute_input": "2022-05-15T18:45:46.297604Z",
     "iopub.status.busy": "2022-05-15T18:45:46.297284Z",
     "iopub.status.idle": "2022-05-15T18:45:46.343627Z",
     "shell.execute_reply": "2022-05-15T18:45:46.342514Z"
    },
    "papermill": {
     "duration": 0.123402,
     "end_time": "2022-05-15T18:45:46.347265",
     "exception": false,
     "start_time": "2022-05-15T18:45:46.223863",
     "status": "completed"
    },
    "tags": []
   },
   "outputs": [
    {
     "data": {
      "text/html": [
       "<div>\n",
       "<style scoped>\n",
       "    .dataframe tbody tr th:only-of-type {\n",
       "        vertical-align: middle;\n",
       "    }\n",
       "\n",
       "    .dataframe tbody tr th {\n",
       "        vertical-align: top;\n",
       "    }\n",
       "\n",
       "    .dataframe thead th {\n",
       "        text-align: right;\n",
       "    }\n",
       "</style>\n",
       "<table border=\"1\" class=\"dataframe\">\n",
       "  <thead>\n",
       "    <tr style=\"text-align: right;\">\n",
       "      <th></th>\n",
       "      <th>img_id</th>\n",
       "      <th>HUMAN</th>\n",
       "      <th>NoF</th>\n",
       "      <th>YFT</th>\n",
       "      <th>ALB</th>\n",
       "      <th>OTH</th>\n",
       "      <th>BILL</th>\n",
       "      <th>DOL</th>\n",
       "      <th>BET</th>\n",
       "      <th>SKJ</th>\n",
       "      <th>LAG</th>\n",
       "      <th>SHARK</th>\n",
       "      <th>OIL</th>\n",
       "      <th>PLS</th>\n",
       "      <th>TUNA</th>\n",
       "      <th>WATER</th>\n",
       "    </tr>\n",
       "  </thead>\n",
       "  <tbody>\n",
       "    <tr>\n",
       "      <th>0</th>\n",
       "      <td>dabf988c-db28-11ea-b646-f751770c2667</td>\n",
       "      <td>1.0</td>\n",
       "      <td>0.0</td>\n",
       "      <td>0.0</td>\n",
       "      <td>1.0</td>\n",
       "      <td>0.0</td>\n",
       "      <td>0.0</td>\n",
       "      <td>0.0</td>\n",
       "      <td>0.0</td>\n",
       "      <td>0.0</td>\n",
       "      <td>0.0</td>\n",
       "      <td>0.0</td>\n",
       "      <td>0.0</td>\n",
       "      <td>0.0</td>\n",
       "      <td>0.0</td>\n",
       "      <td>0.0</td>\n",
       "    </tr>\n",
       "    <tr>\n",
       "      <th>1</th>\n",
       "      <td>da4cbfa6-db28-11ea-b466-bb5f9e1c58d1</td>\n",
       "      <td>1.0</td>\n",
       "      <td>0.0</td>\n",
       "      <td>0.0</td>\n",
       "      <td>1.0</td>\n",
       "      <td>0.0</td>\n",
       "      <td>0.0</td>\n",
       "      <td>0.0</td>\n",
       "      <td>0.0</td>\n",
       "      <td>0.0</td>\n",
       "      <td>0.0</td>\n",
       "      <td>0.0</td>\n",
       "      <td>0.0</td>\n",
       "      <td>0.0</td>\n",
       "      <td>0.0</td>\n",
       "      <td>0.0</td>\n",
       "    </tr>\n",
       "    <tr>\n",
       "      <th>2</th>\n",
       "      <td>94d2518e-23f0-11e9-a8ae-97372c179db9</td>\n",
       "      <td>1.0</td>\n",
       "      <td>0.0</td>\n",
       "      <td>0.0</td>\n",
       "      <td>0.0</td>\n",
       "      <td>0.0</td>\n",
       "      <td>0.0</td>\n",
       "      <td>0.0</td>\n",
       "      <td>1.0</td>\n",
       "      <td>0.0</td>\n",
       "      <td>0.0</td>\n",
       "      <td>0.0</td>\n",
       "      <td>0.0</td>\n",
       "      <td>0.0</td>\n",
       "      <td>0.0</td>\n",
       "      <td>0.0</td>\n",
       "    </tr>\n",
       "    <tr>\n",
       "      <th>3</th>\n",
       "      <td>da97f94e-db28-11ea-a4e2-6bc6f4fb7b0e</td>\n",
       "      <td>1.0</td>\n",
       "      <td>0.0</td>\n",
       "      <td>0.0</td>\n",
       "      <td>1.0</td>\n",
       "      <td>0.0</td>\n",
       "      <td>0.0</td>\n",
       "      <td>0.0</td>\n",
       "      <td>0.0</td>\n",
       "      <td>1.0</td>\n",
       "      <td>0.0</td>\n",
       "      <td>0.0</td>\n",
       "      <td>0.0</td>\n",
       "      <td>0.0</td>\n",
       "      <td>0.0</td>\n",
       "      <td>0.0</td>\n",
       "    </tr>\n",
       "    <tr>\n",
       "      <th>4</th>\n",
       "      <td>dad1c426-db28-11ea-bb6b-3f63cdd14d9d</td>\n",
       "      <td>1.0</td>\n",
       "      <td>0.0</td>\n",
       "      <td>1.0</td>\n",
       "      <td>0.0</td>\n",
       "      <td>0.0</td>\n",
       "      <td>0.0</td>\n",
       "      <td>0.0</td>\n",
       "      <td>0.0</td>\n",
       "      <td>0.0</td>\n",
       "      <td>0.0</td>\n",
       "      <td>0.0</td>\n",
       "      <td>0.0</td>\n",
       "      <td>0.0</td>\n",
       "      <td>0.0</td>\n",
       "      <td>0.0</td>\n",
       "    </tr>\n",
       "  </tbody>\n",
       "</table>\n",
       "</div>"
      ],
      "text/plain": [
       "                                 img_id  HUMAN  NoF  YFT  ALB  OTH  BILL  DOL  \\\n",
       "0  dabf988c-db28-11ea-b646-f751770c2667    1.0  0.0  0.0  1.0  0.0   0.0  0.0   \n",
       "1  da4cbfa6-db28-11ea-b466-bb5f9e1c58d1    1.0  0.0  0.0  1.0  0.0   0.0  0.0   \n",
       "2  94d2518e-23f0-11e9-a8ae-97372c179db9    1.0  0.0  0.0  0.0  0.0   0.0  0.0   \n",
       "3  da97f94e-db28-11ea-a4e2-6bc6f4fb7b0e    1.0  0.0  0.0  1.0  0.0   0.0  0.0   \n",
       "4  dad1c426-db28-11ea-bb6b-3f63cdd14d9d    1.0  0.0  1.0  0.0  0.0   0.0  0.0   \n",
       "\n",
       "   BET  SKJ  LAG  SHARK  OIL  PLS  TUNA  WATER  \n",
       "0  0.0  0.0  0.0    0.0  0.0  0.0   0.0    0.0  \n",
       "1  0.0  0.0  0.0    0.0  0.0  0.0   0.0    0.0  \n",
       "2  1.0  0.0  0.0    0.0  0.0  0.0   0.0    0.0  \n",
       "3  0.0  1.0  0.0    0.0  0.0  0.0   0.0    0.0  \n",
       "4  0.0  0.0  0.0    0.0  0.0  0.0   0.0    0.0  "
      ]
     },
     "execution_count": 4,
     "metadata": {},
     "output_type": "execute_result"
    }
   ],
   "source": [
    "proper = subsetted.fillna(0)\n",
    "proper = proper.drop(columns=\"Unnamed: 0\")\n",
    "proper.head()"
   ]
  },
  {
   "cell_type": "markdown",
   "id": "8d2a7004",
   "metadata": {
    "papermill": {
     "duration": 0.072105,
     "end_time": "2022-05-15T18:45:46.490312",
     "exception": false,
     "start_time": "2022-05-15T18:45:46.418207",
     "status": "completed"
    },
    "tags": []
   },
   "source": [
    "Since humans are present in every single image it does not make sense to include this category. "
   ]
  },
  {
   "cell_type": "code",
   "execution_count": 5,
   "id": "94db321e",
   "metadata": {
    "execution": {
     "iopub.execute_input": "2022-05-15T18:45:46.639314Z",
     "iopub.status.busy": "2022-05-15T18:45:46.638999Z",
     "iopub.status.idle": "2022-05-15T18:45:46.668323Z",
     "shell.execute_reply": "2022-05-15T18:45:46.667343Z"
    },
    "papermill": {
     "duration": 0.10716,
     "end_time": "2022-05-15T18:45:46.671139",
     "exception": false,
     "start_time": "2022-05-15T18:45:46.563979",
     "status": "completed"
    },
    "tags": []
   },
   "outputs": [
    {
     "data": {
      "text/html": [
       "<div>\n",
       "<style scoped>\n",
       "    .dataframe tbody tr th:only-of-type {\n",
       "        vertical-align: middle;\n",
       "    }\n",
       "\n",
       "    .dataframe tbody tr th {\n",
       "        vertical-align: top;\n",
       "    }\n",
       "\n",
       "    .dataframe thead th {\n",
       "        text-align: right;\n",
       "    }\n",
       "</style>\n",
       "<table border=\"1\" class=\"dataframe\">\n",
       "  <thead>\n",
       "    <tr style=\"text-align: right;\">\n",
       "      <th></th>\n",
       "      <th>img_id</th>\n",
       "      <th>NoF</th>\n",
       "      <th>YFT</th>\n",
       "      <th>ALB</th>\n",
       "      <th>OTH</th>\n",
       "      <th>BILL</th>\n",
       "      <th>DOL</th>\n",
       "      <th>BET</th>\n",
       "      <th>SKJ</th>\n",
       "      <th>LAG</th>\n",
       "      <th>SHARK</th>\n",
       "      <th>OIL</th>\n",
       "      <th>PLS</th>\n",
       "      <th>TUNA</th>\n",
       "      <th>WATER</th>\n",
       "    </tr>\n",
       "  </thead>\n",
       "  <tbody>\n",
       "    <tr>\n",
       "      <th>0</th>\n",
       "      <td>dabf988c-db28-11ea-b646-f751770c2667</td>\n",
       "      <td>0.0</td>\n",
       "      <td>0.0</td>\n",
       "      <td>1.0</td>\n",
       "      <td>0.0</td>\n",
       "      <td>0.0</td>\n",
       "      <td>0.0</td>\n",
       "      <td>0.0</td>\n",
       "      <td>0.0</td>\n",
       "      <td>0.0</td>\n",
       "      <td>0.0</td>\n",
       "      <td>0.0</td>\n",
       "      <td>0.0</td>\n",
       "      <td>0.0</td>\n",
       "      <td>0.0</td>\n",
       "    </tr>\n",
       "    <tr>\n",
       "      <th>1</th>\n",
       "      <td>da4cbfa6-db28-11ea-b466-bb5f9e1c58d1</td>\n",
       "      <td>0.0</td>\n",
       "      <td>0.0</td>\n",
       "      <td>1.0</td>\n",
       "      <td>0.0</td>\n",
       "      <td>0.0</td>\n",
       "      <td>0.0</td>\n",
       "      <td>0.0</td>\n",
       "      <td>0.0</td>\n",
       "      <td>0.0</td>\n",
       "      <td>0.0</td>\n",
       "      <td>0.0</td>\n",
       "      <td>0.0</td>\n",
       "      <td>0.0</td>\n",
       "      <td>0.0</td>\n",
       "    </tr>\n",
       "    <tr>\n",
       "      <th>2</th>\n",
       "      <td>94d2518e-23f0-11e9-a8ae-97372c179db9</td>\n",
       "      <td>0.0</td>\n",
       "      <td>0.0</td>\n",
       "      <td>0.0</td>\n",
       "      <td>0.0</td>\n",
       "      <td>0.0</td>\n",
       "      <td>0.0</td>\n",
       "      <td>1.0</td>\n",
       "      <td>0.0</td>\n",
       "      <td>0.0</td>\n",
       "      <td>0.0</td>\n",
       "      <td>0.0</td>\n",
       "      <td>0.0</td>\n",
       "      <td>0.0</td>\n",
       "      <td>0.0</td>\n",
       "    </tr>\n",
       "    <tr>\n",
       "      <th>3</th>\n",
       "      <td>da97f94e-db28-11ea-a4e2-6bc6f4fb7b0e</td>\n",
       "      <td>0.0</td>\n",
       "      <td>0.0</td>\n",
       "      <td>1.0</td>\n",
       "      <td>0.0</td>\n",
       "      <td>0.0</td>\n",
       "      <td>0.0</td>\n",
       "      <td>0.0</td>\n",
       "      <td>1.0</td>\n",
       "      <td>0.0</td>\n",
       "      <td>0.0</td>\n",
       "      <td>0.0</td>\n",
       "      <td>0.0</td>\n",
       "      <td>0.0</td>\n",
       "      <td>0.0</td>\n",
       "    </tr>\n",
       "    <tr>\n",
       "      <th>4</th>\n",
       "      <td>dad1c426-db28-11ea-bb6b-3f63cdd14d9d</td>\n",
       "      <td>0.0</td>\n",
       "      <td>1.0</td>\n",
       "      <td>0.0</td>\n",
       "      <td>0.0</td>\n",
       "      <td>0.0</td>\n",
       "      <td>0.0</td>\n",
       "      <td>0.0</td>\n",
       "      <td>0.0</td>\n",
       "      <td>0.0</td>\n",
       "      <td>0.0</td>\n",
       "      <td>0.0</td>\n",
       "      <td>0.0</td>\n",
       "      <td>0.0</td>\n",
       "      <td>0.0</td>\n",
       "    </tr>\n",
       "  </tbody>\n",
       "</table>\n",
       "</div>"
      ],
      "text/plain": [
       "                                 img_id  NoF  YFT  ALB  OTH  BILL  DOL  BET  \\\n",
       "0  dabf988c-db28-11ea-b646-f751770c2667  0.0  0.0  1.0  0.0   0.0  0.0  0.0   \n",
       "1  da4cbfa6-db28-11ea-b466-bb5f9e1c58d1  0.0  0.0  1.0  0.0   0.0  0.0  0.0   \n",
       "2  94d2518e-23f0-11e9-a8ae-97372c179db9  0.0  0.0  0.0  0.0   0.0  0.0  1.0   \n",
       "3  da97f94e-db28-11ea-a4e2-6bc6f4fb7b0e  0.0  0.0  1.0  0.0   0.0  0.0  0.0   \n",
       "4  dad1c426-db28-11ea-bb6b-3f63cdd14d9d  0.0  1.0  0.0  0.0   0.0  0.0  0.0   \n",
       "\n",
       "   SKJ  LAG  SHARK  OIL  PLS  TUNA  WATER  \n",
       "0  0.0  0.0    0.0  0.0  0.0   0.0    0.0  \n",
       "1  0.0  0.0    0.0  0.0  0.0   0.0    0.0  \n",
       "2  0.0  0.0    0.0  0.0  0.0   0.0    0.0  \n",
       "3  1.0  0.0    0.0  0.0  0.0   0.0    0.0  \n",
       "4  0.0  0.0    0.0  0.0  0.0   0.0    0.0  "
      ]
     },
     "execution_count": 5,
     "metadata": {},
     "output_type": "execute_result"
    }
   ],
   "source": [
    "# Testing w/o Humans\n",
    "proper = proper.drop(columns=\"HUMAN\")\n",
    "proper.head()"
   ]
  },
  {
   "cell_type": "markdown",
   "id": "824bda5f",
   "metadata": {
    "papermill": {
     "duration": 0.152162,
     "end_time": "2022-05-15T18:45:46.900752",
     "exception": false,
     "start_time": "2022-05-15T18:45:46.748590",
     "status": "completed"
    },
    "tags": []
   },
   "source": [
    "The image names then are put into a list called *list_ids*, so we can move the images in \"proper\" to the image folder."
   ]
  },
  {
   "cell_type": "code",
   "execution_count": 6,
   "id": "32f8fed8",
   "metadata": {
    "execution": {
     "iopub.execute_input": "2022-05-15T18:45:47.163828Z",
     "iopub.status.busy": "2022-05-15T18:45:47.163325Z",
     "iopub.status.idle": "2022-05-15T18:45:47.181758Z",
     "shell.execute_reply": "2022-05-15T18:45:47.180816Z"
    },
    "papermill": {
     "duration": 0.156491,
     "end_time": "2022-05-15T18:45:47.185339",
     "exception": false,
     "start_time": "2022-05-15T18:45:47.028848",
     "status": "completed"
    },
    "tags": []
   },
   "outputs": [
    {
     "data": {
      "text/plain": [
       "'da97f94e-db28-11ea-a4e2-6bc6f4fb7b0e'"
      ]
     },
     "execution_count": 6,
     "metadata": {},
     "output_type": "execute_result"
    }
   ],
   "source": [
    "list_ids= list(proper['img_id'])\n",
    "list_ids[3]"
   ]
  },
  {
   "cell_type": "markdown",
   "id": "0ad58c2a",
   "metadata": {
    "papermill": {
     "duration": 0.12536,
     "end_time": "2022-05-15T18:45:47.437361",
     "exception": false,
     "start_time": "2022-05-15T18:45:47.312001",
     "status": "completed"
    },
    "tags": []
   },
   "source": [
    "Using the image ids from *list_ids*, the image id is then concatenated with where the file is stored ( a Kaggle data set). Then if the image does not exist then there is a failure and the function exits. If the file path does exists the image is copied then moved into the image folder using the **shutil** package."
   ]
  },
  {
   "cell_type": "code",
   "execution_count": 7,
   "id": "9cb24ceb",
   "metadata": {
    "execution": {
     "iopub.execute_input": "2022-05-15T18:45:47.671374Z",
     "iopub.status.busy": "2022-05-15T18:45:47.671049Z",
     "iopub.status.idle": "2022-05-15T18:46:42.045158Z",
     "shell.execute_reply": "2022-05-15T18:46:42.044047Z"
    },
    "papermill": {
     "duration": 54.493182,
     "end_time": "2022-05-15T18:46:42.048070",
     "exception": false,
     "start_time": "2022-05-15T18:45:47.554888",
     "status": "completed"
    },
    "tags": []
   },
   "outputs": [
    {
     "name": "stderr",
     "output_type": "stream",
     "text": [
      "100%|██████████| 10000/10000 [00:54<00:00, 183.96it/s]\n"
     ]
    }
   ],
   "source": [
    "for i in tqdm(list_ids):\n",
    "    c = i+'.jpg'\n",
    "    get_image = '/kaggle/input/attempt-13/foid_images_v020/images/' + c\n",
    "    if not os.path.exists('/kaggle/input/attempt-13/foid_images_v020/images/'+c):\n",
    "            print(\"FAILED\")\n",
    "            break\n",
    "    else:\n",
    "        move_image = shutil.copy(get_image,'/kaggle/working/image/')"
   ]
  },
  {
   "cell_type": "markdown",
   "id": "9bdd7ca2",
   "metadata": {
    "execution": {
     "iopub.execute_input": "2022-05-14T14:45:57.911355Z",
     "iopub.status.busy": "2022-05-14T14:45:57.910616Z",
     "iopub.status.idle": "2022-05-14T14:45:57.919834Z",
     "shell.execute_reply": "2022-05-14T14:45:57.918429Z",
     "shell.execute_reply.started": "2022-05-14T14:45:57.911314Z"
    },
    "papermill": {
     "duration": 0.290045,
     "end_time": "2022-05-15T18:46:42.664606",
     "exception": false,
     "start_time": "2022-05-15T18:46:42.374561",
     "status": "completed"
    },
    "tags": []
   },
   "source": [
    "Due to RAM limits, \"proper\" is further subsetted to 1000 images. The new data frame is called \"proper_sub\"."
   ]
  },
  {
   "cell_type": "code",
   "execution_count": 8,
   "id": "956d3f74",
   "metadata": {
    "execution": {
     "iopub.execute_input": "2022-05-15T18:46:43.213491Z",
     "iopub.status.busy": "2022-05-15T18:46:43.213229Z",
     "iopub.status.idle": "2022-05-15T18:46:43.218069Z",
     "shell.execute_reply": "2022-05-15T18:46:43.217159Z"
    },
    "papermill": {
     "duration": 0.281835,
     "end_time": "2022-05-15T18:46:43.220335",
     "exception": false,
     "start_time": "2022-05-15T18:46:42.938500",
     "status": "completed"
    },
    "tags": []
   },
   "outputs": [],
   "source": [
    "proper_sub= proper.head(1000)\n"
   ]
  },
  {
   "cell_type": "markdown",
   "id": "0635247d",
   "metadata": {
    "papermill": {
     "duration": 0.494206,
     "end_time": "2022-05-15T18:46:44.076481",
     "exception": false,
     "start_time": "2022-05-15T18:46:43.582275",
     "status": "completed"
    },
    "tags": []
   },
   "source": [
    "Printing out the first 5 elements of the data frame \"proper_sub\"."
   ]
  },
  {
   "cell_type": "code",
   "execution_count": 9,
   "id": "035d704d",
   "metadata": {
    "execution": {
     "iopub.execute_input": "2022-05-15T18:46:44.625155Z",
     "iopub.status.busy": "2022-05-15T18:46:44.624496Z",
     "iopub.status.idle": "2022-05-15T18:46:44.650426Z",
     "shell.execute_reply": "2022-05-15T18:46:44.649467Z"
    },
    "papermill": {
     "duration": 0.298871,
     "end_time": "2022-05-15T18:46:44.653402",
     "exception": false,
     "start_time": "2022-05-15T18:46:44.354531",
     "status": "completed"
    },
    "tags": []
   },
   "outputs": [
    {
     "data": {
      "text/html": [
       "<div>\n",
       "<style scoped>\n",
       "    .dataframe tbody tr th:only-of-type {\n",
       "        vertical-align: middle;\n",
       "    }\n",
       "\n",
       "    .dataframe tbody tr th {\n",
       "        vertical-align: top;\n",
       "    }\n",
       "\n",
       "    .dataframe thead th {\n",
       "        text-align: right;\n",
       "    }\n",
       "</style>\n",
       "<table border=\"1\" class=\"dataframe\">\n",
       "  <thead>\n",
       "    <tr style=\"text-align: right;\">\n",
       "      <th></th>\n",
       "      <th>img_id</th>\n",
       "      <th>NoF</th>\n",
       "      <th>YFT</th>\n",
       "      <th>ALB</th>\n",
       "      <th>OTH</th>\n",
       "      <th>BILL</th>\n",
       "      <th>DOL</th>\n",
       "      <th>BET</th>\n",
       "      <th>SKJ</th>\n",
       "      <th>LAG</th>\n",
       "      <th>SHARK</th>\n",
       "      <th>OIL</th>\n",
       "      <th>PLS</th>\n",
       "      <th>TUNA</th>\n",
       "      <th>WATER</th>\n",
       "    </tr>\n",
       "  </thead>\n",
       "  <tbody>\n",
       "    <tr>\n",
       "      <th>0</th>\n",
       "      <td>dabf988c-db28-11ea-b646-f751770c2667</td>\n",
       "      <td>0.0</td>\n",
       "      <td>0.0</td>\n",
       "      <td>1.0</td>\n",
       "      <td>0.0</td>\n",
       "      <td>0.0</td>\n",
       "      <td>0.0</td>\n",
       "      <td>0.0</td>\n",
       "      <td>0.0</td>\n",
       "      <td>0.0</td>\n",
       "      <td>0.0</td>\n",
       "      <td>0.0</td>\n",
       "      <td>0.0</td>\n",
       "      <td>0.0</td>\n",
       "      <td>0.0</td>\n",
       "    </tr>\n",
       "    <tr>\n",
       "      <th>1</th>\n",
       "      <td>da4cbfa6-db28-11ea-b466-bb5f9e1c58d1</td>\n",
       "      <td>0.0</td>\n",
       "      <td>0.0</td>\n",
       "      <td>1.0</td>\n",
       "      <td>0.0</td>\n",
       "      <td>0.0</td>\n",
       "      <td>0.0</td>\n",
       "      <td>0.0</td>\n",
       "      <td>0.0</td>\n",
       "      <td>0.0</td>\n",
       "      <td>0.0</td>\n",
       "      <td>0.0</td>\n",
       "      <td>0.0</td>\n",
       "      <td>0.0</td>\n",
       "      <td>0.0</td>\n",
       "    </tr>\n",
       "    <tr>\n",
       "      <th>2</th>\n",
       "      <td>94d2518e-23f0-11e9-a8ae-97372c179db9</td>\n",
       "      <td>0.0</td>\n",
       "      <td>0.0</td>\n",
       "      <td>0.0</td>\n",
       "      <td>0.0</td>\n",
       "      <td>0.0</td>\n",
       "      <td>0.0</td>\n",
       "      <td>1.0</td>\n",
       "      <td>0.0</td>\n",
       "      <td>0.0</td>\n",
       "      <td>0.0</td>\n",
       "      <td>0.0</td>\n",
       "      <td>0.0</td>\n",
       "      <td>0.0</td>\n",
       "      <td>0.0</td>\n",
       "    </tr>\n",
       "    <tr>\n",
       "      <th>3</th>\n",
       "      <td>da97f94e-db28-11ea-a4e2-6bc6f4fb7b0e</td>\n",
       "      <td>0.0</td>\n",
       "      <td>0.0</td>\n",
       "      <td>1.0</td>\n",
       "      <td>0.0</td>\n",
       "      <td>0.0</td>\n",
       "      <td>0.0</td>\n",
       "      <td>0.0</td>\n",
       "      <td>1.0</td>\n",
       "      <td>0.0</td>\n",
       "      <td>0.0</td>\n",
       "      <td>0.0</td>\n",
       "      <td>0.0</td>\n",
       "      <td>0.0</td>\n",
       "      <td>0.0</td>\n",
       "    </tr>\n",
       "    <tr>\n",
       "      <th>4</th>\n",
       "      <td>dad1c426-db28-11ea-bb6b-3f63cdd14d9d</td>\n",
       "      <td>0.0</td>\n",
       "      <td>1.0</td>\n",
       "      <td>0.0</td>\n",
       "      <td>0.0</td>\n",
       "      <td>0.0</td>\n",
       "      <td>0.0</td>\n",
       "      <td>0.0</td>\n",
       "      <td>0.0</td>\n",
       "      <td>0.0</td>\n",
       "      <td>0.0</td>\n",
       "      <td>0.0</td>\n",
       "      <td>0.0</td>\n",
       "      <td>0.0</td>\n",
       "      <td>0.0</td>\n",
       "    </tr>\n",
       "  </tbody>\n",
       "</table>\n",
       "</div>"
      ],
      "text/plain": [
       "                                 img_id  NoF  YFT  ALB  OTH  BILL  DOL  BET  \\\n",
       "0  dabf988c-db28-11ea-b646-f751770c2667  0.0  0.0  1.0  0.0   0.0  0.0  0.0   \n",
       "1  da4cbfa6-db28-11ea-b466-bb5f9e1c58d1  0.0  0.0  1.0  0.0   0.0  0.0  0.0   \n",
       "2  94d2518e-23f0-11e9-a8ae-97372c179db9  0.0  0.0  0.0  0.0   0.0  0.0  1.0   \n",
       "3  da97f94e-db28-11ea-a4e2-6bc6f4fb7b0e  0.0  0.0  1.0  0.0   0.0  0.0  0.0   \n",
       "4  dad1c426-db28-11ea-bb6b-3f63cdd14d9d  0.0  1.0  0.0  0.0   0.0  0.0  0.0   \n",
       "\n",
       "   SKJ  LAG  SHARK  OIL  PLS  TUNA  WATER  \n",
       "0  0.0  0.0    0.0  0.0  0.0   0.0    0.0  \n",
       "1  0.0  0.0    0.0  0.0  0.0   0.0    0.0  \n",
       "2  0.0  0.0    0.0  0.0  0.0   0.0    0.0  \n",
       "3  1.0  0.0    0.0  0.0  0.0   0.0    0.0  \n",
       "4  0.0  0.0    0.0  0.0  0.0   0.0    0.0  "
      ]
     },
     "execution_count": 9,
     "metadata": {},
     "output_type": "execute_result"
    }
   ],
   "source": [
    "proper_sub.head()"
   ]
  },
  {
   "cell_type": "markdown",
   "id": "89a47284",
   "metadata": {
    "papermill": {
     "duration": 0.303367,
     "end_time": "2022-05-15T18:46:45.226702",
     "exception": false,
     "start_time": "2022-05-15T18:46:44.923335",
     "status": "completed"
    },
    "tags": []
   },
   "source": [
    "We are creating the image array called **X**. First all the rows are taken in to account, row by row the for loop resizes the images in to a (400, 400, 3) shape. The images are then converted to an array and rescaled by 255. The rescaled images are saved to **numpy** array called **X**."
   ]
  },
  {
   "cell_type": "code",
   "execution_count": 10,
   "id": "30fcf6a9",
   "metadata": {
    "execution": {
     "iopub.execute_input": "2022-05-15T18:46:45.803125Z",
     "iopub.status.busy": "2022-05-15T18:46:45.802845Z",
     "iopub.status.idle": "2022-05-15T18:47:05.214529Z",
     "shell.execute_reply": "2022-05-15T18:47:05.213608Z"
    },
    "papermill": {
     "duration": 19.690051,
     "end_time": "2022-05-15T18:47:05.217007",
     "exception": false,
     "start_time": "2022-05-15T18:46:45.526956",
     "status": "completed"
    },
    "tags": []
   },
   "outputs": [
    {
     "name": "stderr",
     "output_type": "stream",
     "text": [
      "100%|██████████| 1000/1000 [00:18<00:00, 53.52it/s]\n"
     ]
    }
   ],
   "source": [
    "train_image = []\n",
    "for i in tqdm(range(proper_sub.shape[0])):\n",
    "    img = image.load_img('./image/'+proper['img_id'][i]+'.jpg',target_size=(400,400,3))\n",
    "    img = image.img_to_array(img)\n",
    "    img = img/255\n",
    "    train_image.append(img)\n",
    "X = np.array(train_image)"
   ]
  },
  {
   "cell_type": "markdown",
   "id": "b38a764c",
   "metadata": {
    "papermill": {
     "duration": 0.490487,
     "end_time": "2022-05-15T18:47:06.206310",
     "exception": false,
     "start_time": "2022-05-15T18:47:05.715823",
     "status": "completed"
    },
    "tags": []
   },
   "source": [
    "The dimensions of **X** are *1000x400x400x3*."
   ]
  },
  {
   "cell_type": "code",
   "execution_count": 11,
   "id": "60f54281",
   "metadata": {
    "execution": {
     "iopub.execute_input": "2022-05-15T18:47:06.891518Z",
     "iopub.status.busy": "2022-05-15T18:47:06.891225Z",
     "iopub.status.idle": "2022-05-15T18:47:06.897645Z",
     "shell.execute_reply": "2022-05-15T18:47:06.896677Z"
    },
    "papermill": {
     "duration": 0.351978,
     "end_time": "2022-05-15T18:47:06.900161",
     "exception": false,
     "start_time": "2022-05-15T18:47:06.548183",
     "status": "completed"
    },
    "tags": []
   },
   "outputs": [
    {
     "data": {
      "text/plain": [
       "(1000, 400, 400, 3)"
      ]
     },
     "execution_count": 11,
     "metadata": {},
     "output_type": "execute_result"
    }
   ],
   "source": [
    "X.shape"
   ]
  },
  {
   "cell_type": "markdown",
   "id": "144d236b",
   "metadata": {
    "papermill": {
     "duration": 0.339895,
     "end_time": "2022-05-15T18:47:07.588289",
     "exception": false,
     "start_time": "2022-05-15T18:47:07.248394",
     "status": "completed"
    },
    "tags": []
   },
   "source": [
    "To check if **X** worked properly, using matplotlib, the second array value is converted back into an image."
   ]
  },
  {
   "cell_type": "code",
   "execution_count": 12,
   "id": "8d45b782",
   "metadata": {
    "execution": {
     "iopub.execute_input": "2022-05-15T18:47:08.282251Z",
     "iopub.status.busy": "2022-05-15T18:47:08.281957Z",
     "iopub.status.idle": "2022-05-15T18:47:08.572313Z",
     "shell.execute_reply": "2022-05-15T18:47:08.571223Z"
    },
    "papermill": {
     "duration": 0.642283,
     "end_time": "2022-05-15T18:47:08.575534",
     "exception": false,
     "start_time": "2022-05-15T18:47:07.933251",
     "status": "completed"
    },
    "tags": []
   },
   "outputs": [
    {
     "data": {
      "text/plain": [
       "<matplotlib.image.AxesImage at 0x7f33599ba3d0>"
      ]
     },
     "execution_count": 12,
     "metadata": {},
     "output_type": "execute_result"
    },
    {
     "data": {
      "image/png": "[encoded data removed]",
      "text/plain": [
       "<Figure size 432x288 with 1 Axes>"
      ]
     },
     "metadata": {
      "needs_background": "light"
     },
     "output_type": "display_data"
    }
   ],
   "source": [
    "plt.imshow(X[2])"
   ]
  },
  {
   "cell_type": "markdown",
   "id": "b29dda90",
   "metadata": {
    "papermill": {
     "duration": 0.344579,
     "end_time": "2022-05-15T18:47:09.260953",
     "exception": false,
     "start_time": "2022-05-15T18:47:08.916374",
     "status": "completed"
    },
    "tags": []
   },
   "source": [
    "Next the **Y** array is created from the *proper_sub*, for proper cleaning the 'img_id' column must be dropped."
   ]
  },
  {
   "cell_type": "code",
   "execution_count": 13,
   "id": "daffac31",
   "metadata": {
    "execution": {
     "iopub.execute_input": "2022-05-15T18:47:09.939561Z",
     "iopub.status.busy": "2022-05-15T18:47:09.939269Z",
     "iopub.status.idle": "2022-05-15T18:47:09.949441Z",
     "shell.execute_reply": "2022-05-15T18:47:09.948400Z"
    },
    "papermill": {
     "duration": 0.353569,
     "end_time": "2022-05-15T18:47:09.951827",
     "exception": false,
     "start_time": "2022-05-15T18:47:09.598258",
     "status": "completed"
    },
    "tags": []
   },
   "outputs": [
    {
     "data": {
      "text/plain": [
       "(1000, 14)"
      ]
     },
     "execution_count": 13,
     "metadata": {},
     "output_type": "execute_result"
    }
   ],
   "source": [
    "y = np.array(proper_sub.drop(['img_id'],axis=1))\n",
    "y.shape"
   ]
  },
  {
   "cell_type": "markdown",
   "id": "4d28a724",
   "metadata": {
    "papermill": {
     "duration": 0.338233,
     "end_time": "2022-05-15T18:47:10.643695",
     "exception": false,
     "start_time": "2022-05-15T18:47:10.305462",
     "status": "completed"
    },
    "tags": []
   },
   "source": [
    "Using the **sklearn** package we take the train_test_split function inputting the **X** and **y** **numpy** arrays. The arrays are then split into X_train, X_test, y_train, and y_test."
   ]
  },
  {
   "cell_type": "code",
   "execution_count": 14,
   "id": "78f78438",
   "metadata": {
    "execution": {
     "iopub.execute_input": "2022-05-15T18:47:11.348320Z",
     "iopub.status.busy": "2022-05-15T18:47:11.348011Z",
     "iopub.status.idle": "2022-05-15T18:47:12.397557Z",
     "shell.execute_reply": "2022-05-15T18:47:12.396634Z"
    },
    "papermill": {
     "duration": 1.40687,
     "end_time": "2022-05-15T18:47:12.400247",
     "exception": false,
     "start_time": "2022-05-15T18:47:10.993377",
     "status": "completed"
    },
    "tags": []
   },
   "outputs": [],
   "source": [
    "X_train, X_test, y_train, y_test = train_test_split(X, y, random_state=42, test_size=0.1)"
   ]
  },
  {
   "cell_type": "markdown",
   "id": "88103df6",
   "metadata": {
    "papermill": {
     "duration": 0.342267,
     "end_time": "2022-05-15T18:47:13.090809",
     "exception": false,
     "start_time": "2022-05-15T18:47:12.748542",
     "status": "completed"
    },
    "tags": []
   },
   "source": [
    "# "
   ]
  },
  {
   "cell_type": "markdown",
   "id": "4f48eae8",
   "metadata": {
    "papermill": {
     "duration": 0.339567,
     "end_time": "2022-05-15T18:47:13.773367",
     "exception": false,
     "start_time": "2022-05-15T18:47:13.433800",
     "status": "completed"
    },
    "tags": []
   },
   "source": [
    "### Actually Creating the Model"
   ]
  },
  {
   "cell_type": "markdown",
   "id": "b71d8c12",
   "metadata": {
    "papermill": {
     "duration": 0.343286,
     "end_time": "2022-05-15T18:47:14.461596",
     "exception": false,
     "start_time": "2022-05-15T18:47:14.118310",
     "status": "completed"
    },
    "tags": []
   },
   "source": [
    "After much trial and tribulation, the decision was made to use transfer learning rather than a model from scratch.\n",
    "\n",
    "Utilizing the **MobileNetV2**, the model takes in the image of size (400, 400, 3) then uses the weights associated with the imagenet database. We also utilize a 2D pooling. The model ouput layer has 14 neurons (one for each category), and uses *sigmoid* to normalize the values."
   ]
  },
  {
   "cell_type": "code",
   "execution_count": 15,
   "id": "7c7ca243",
   "metadata": {
    "execution": {
     "iopub.execute_input": "2022-05-15T18:47:15.148611Z",
     "iopub.status.busy": "2022-05-15T18:47:15.148313Z",
     "iopub.status.idle": "2022-05-15T18:47:20.109653Z",
     "shell.execute_reply": "2022-05-15T18:47:20.108665Z"
    },
    "papermill": {
     "duration": 5.310969,
     "end_time": "2022-05-15T18:47:20.112365",
     "exception": false,
     "start_time": "2022-05-15T18:47:14.801396",
     "status": "completed"
    },
    "tags": []
   },
   "outputs": [
    {
     "name": "stderr",
     "output_type": "stream",
     "text": [
      "2022-05-15 18:47:15.293028: I tensorflow/stream_executor/cuda/cuda_gpu_executor.cc:937] successful NUMA node read from SysFS had negative value (-1), but there must be at least one NUMA node, so returning NUMA node zero\n",
      "2022-05-15 18:47:15.420534: I tensorflow/stream_executor/cuda/cuda_gpu_executor.cc:937] successful NUMA node read from SysFS had negative value (-1), but there must be at least one NUMA node, so returning NUMA node zero\n",
      "2022-05-15 18:47:15.422023: I tensorflow/stream_executor/cuda/cuda_gpu_executor.cc:937] successful NUMA node read from SysFS had negative value (-1), but there must be at least one NUMA node, so returning NUMA node zero\n",
      "2022-05-15 18:47:15.424781: I tensorflow/core/platform/cpu_feature_guard.cc:142] This TensorFlow binary is optimized with oneAPI Deep Neural Network Library (oneDNN) to use the following CPU instructions in performance-critical operations:  AVX2 FMA\n",
      "To enable them in other operations, rebuild TensorFlow with the appropriate compiler flags.\n",
      "2022-05-15 18:47:15.425217: I tensorflow/stream_executor/cuda/cuda_gpu_executor.cc:937] successful NUMA node read from SysFS had negative value (-1), but there must be at least one NUMA node, so returning NUMA node zero\n",
      "2022-05-15 18:47:15.426470: I tensorflow/stream_executor/cuda/cuda_gpu_executor.cc:937] successful NUMA node read from SysFS had negative value (-1), but there must be at least one NUMA node, so returning NUMA node zero\n",
      "2022-05-15 18:47:15.427936: I tensorflow/stream_executor/cuda/cuda_gpu_executor.cc:937] successful NUMA node read from SysFS had negative value (-1), but there must be at least one NUMA node, so returning NUMA node zero\n",
      "2022-05-15 18:47:18.169985: I tensorflow/stream_executor/cuda/cuda_gpu_executor.cc:937] successful NUMA node read from SysFS had negative value (-1), but there must be at least one NUMA node, so returning NUMA node zero\n",
      "2022-05-15 18:47:18.171291: I tensorflow/stream_executor/cuda/cuda_gpu_executor.cc:937] successful NUMA node read from SysFS had negative value (-1), but there must be at least one NUMA node, so returning NUMA node zero\n",
      "2022-05-15 18:47:18.172339: I tensorflow/stream_executor/cuda/cuda_gpu_executor.cc:937] successful NUMA node read from SysFS had negative value (-1), but there must be at least one NUMA node, so returning NUMA node zero\n",
      "2022-05-15 18:47:18.174858: I tensorflow/core/common_runtime/gpu/gpu_device.cc:1510] Created device /job:localhost/replica:0/task:0/device:GPU:0 with 15403 MB memory:  -> device: 0, name: Tesla P100-PCIE-16GB, pci bus id: 0000:00:04.0, compute capability: 6.0\n"
     ]
    },
    {
     "name": "stdout",
     "output_type": "stream",
     "text": [
      "Downloading data from https://storage.googleapis.com/tensorflow/keras-applications/mobilenet_v2/mobilenet_v2_weights_tf_dim_ordering_tf_kernels_1.0_224_no_top.h5\n",
      "9412608/9406464 [==============================] - 0s 0us/step\n",
      "9420800/9406464 [==============================] - 0s 0us/step\n"
     ]
    }
   ],
   "source": [
    "from tensorflow.keras.initializers import HeNormal\n",
    "from tensorflow.keras.layers import Dense, GlobalAveragePooling2D\n",
    "from tensorflow.keras.models import Model\n",
    "#model2 = Sequential()\n",
    "#model2.add()\n",
    "\n",
    "base_model = MobileNetV2(input_shape = (400, 400, 3), include_top = False, weights = \"imagenet\")\n",
    "x = base_model.output\n",
    "x = GlobalAveragePooling2D()(x)\n",
    "# ADD A DENSE LAYER WITH 1024 neurons\n",
    "x = Dense(1024, activation='relu', kernel_initializer=HeNormal())(x)\n",
    "# ADD AN OUTPUT LAYER FOR BINARY CLASSIFICATION\n",
    "#predictions = Dense(15, activation='sigmoid')(x)\n",
    "## Test w/o Humans\n",
    "predictions = Dense(14, activation='sigmoid')(x)\n",
    "## returns 13% accuracy\n",
    "model2 = Model(inputs=base_model.input, outputs=predictions)\n"
   ]
  },
  {
   "cell_type": "markdown",
   "id": "707f0c18",
   "metadata": {
    "papermill": {
     "duration": 0.342856,
     "end_time": "2022-05-15T18:47:20.806886",
     "exception": false,
     "start_time": "2022-05-15T18:47:20.464030",
     "status": "completed"
    },
    "tags": []
   },
   "source": [
    "We output the model summary of the model, which **MobileNetV2** slightly modified."
   ]
  },
  {
   "cell_type": "code",
   "execution_count": 16,
   "id": "d9b4fb8d",
   "metadata": {
    "execution": {
     "iopub.execute_input": "2022-05-15T18:47:21.504454Z",
     "iopub.status.busy": "2022-05-15T18:47:21.504182Z",
     "iopub.status.idle": "2022-05-15T18:47:21.616365Z",
     "shell.execute_reply": "2022-05-15T18:47:21.615417Z"
    },
    "papermill": {
     "duration": 0.464473,
     "end_time": "2022-05-15T18:47:21.620234",
     "exception": false,
     "start_time": "2022-05-15T18:47:21.155761",
     "status": "completed"
    },
    "tags": []
   },
   "outputs": [
    {
     "name": "stdout",
     "output_type": "stream",
     "text": [
      "Model: \"model\"\n",
      "__________________________________________________________________________________________________\n",
      "Layer (type)                    Output Shape         Param #     Connected to                     \n",
      "==================================================================================================\n",
      "input_1 (InputLayer)            [(None, 400, 400, 3) 0                                            \n",
      "__________________________________________________________________________________________________\n",
      "Conv1 (Conv2D)                  (None, 200, 200, 32) 864         input_1[0][0]                    \n",
      "__________________________________________________________________________________________________\n",
      "bn_Conv1 (BatchNormalization)   (None, 200, 200, 32) 128         Conv1[0][0]                      \n",
      "__________________________________________________________________________________________________\n",
      "Conv1_relu (ReLU)               (None, 200, 200, 32) 0           bn_Conv1[0][0]                   \n",
      "__________________________________________________________________________________________________\n",
      "expanded_conv_depthwise (Depthw (None, 200, 200, 32) 288         Conv1_relu[0][0]                 \n",
      "__________________________________________________________________________________________________\n",
      "expanded_conv_depthwise_BN (Bat (None, 200, 200, 32) 128         expanded_conv_depthwise[0][0]    \n",
      "__________________________________________________________________________________________________\n",
      "expanded_conv_depthwise_relu (R (None, 200, 200, 32) 0           expanded_conv_depthwise_BN[0][0] \n",
      "__________________________________________________________________________________________________\n",
      "expanded_conv_project (Conv2D)  (None, 200, 200, 16) 512         expanded_conv_depthwise_relu[0][0\n",
      "__________________________________________________________________________________________________\n",
      "expanded_conv_project_BN (Batch (None, 200, 200, 16) 64          expanded_conv_project[0][0]      \n",
      "__________________________________________________________________________________________________\n",
      "block_1_expand (Conv2D)         (None, 200, 200, 96) 1536        expanded_conv_project_BN[0][0]   \n",
      "__________________________________________________________________________________________________\n",
      "block_1_expand_BN (BatchNormali (None, 200, 200, 96) 384         block_1_expand[0][0]             \n",
      "__________________________________________________________________________________________________\n",
      "block_1_expand_relu (ReLU)      (None, 200, 200, 96) 0           block_1_expand_BN[0][0]          \n",
      "__________________________________________________________________________________________________\n",
      "block_1_pad (ZeroPadding2D)     (None, 201, 201, 96) 0           block_1_expand_relu[0][0]        \n",
      "__________________________________________________________________________________________________\n",
      "block_1_depthwise (DepthwiseCon (None, 100, 100, 96) 864         block_1_pad[0][0]                \n",
      "__________________________________________________________________________________________________\n",
      "block_1_depthwise_BN (BatchNorm (None, 100, 100, 96) 384         block_1_depthwise[0][0]          \n",
      "__________________________________________________________________________________________________\n",
      "block_1_depthwise_relu (ReLU)   (None, 100, 100, 96) 0           block_1_depthwise_BN[0][0]       \n",
      "__________________________________________________________________________________________________\n",
      "block_1_project (Conv2D)        (None, 100, 100, 24) 2304        block_1_depthwise_relu[0][0]     \n",
      "__________________________________________________________________________________________________\n",
      "block_1_project_BN (BatchNormal (None, 100, 100, 24) 96          block_1_project[0][0]            \n",
      "__________________________________________________________________________________________________\n",
      "block_2_expand (Conv2D)         (None, 100, 100, 144 3456        block_1_project_BN[0][0]         \n",
      "__________________________________________________________________________________________________\n",
      "block_2_expand_BN (BatchNormali (None, 100, 100, 144 576         block_2_expand[0][0]             \n",
      "__________________________________________________________________________________________________\n",
      "block_2_expand_relu (ReLU)      (None, 100, 100, 144 0           block_2_expand_BN[0][0]          \n",
      "__________________________________________________________________________________________________\n",
      "block_2_depthwise (DepthwiseCon (None, 100, 100, 144 1296        block_2_expand_relu[0][0]        \n",
      "__________________________________________________________________________________________________\n",
      "block_2_depthwise_BN (BatchNorm (None, 100, 100, 144 576         block_2_depthwise[0][0]          \n",
      "__________________________________________________________________________________________________\n",
      "block_2_depthwise_relu (ReLU)   (None, 100, 100, 144 0           block_2_depthwise_BN[0][0]       \n",
      "__________________________________________________________________________________________________\n",
      "block_2_project (Conv2D)        (None, 100, 100, 24) 3456        block_2_depthwise_relu[0][0]     \n",
      "__________________________________________________________________________________________________\n",
      "block_2_project_BN (BatchNormal (None, 100, 100, 24) 96          block_2_project[0][0]            \n",
      "__________________________________________________________________________________________________\n",
      "block_2_add (Add)               (None, 100, 100, 24) 0           block_1_project_BN[0][0]         \n",
      "                                                                 block_2_project_BN[0][0]         \n",
      "__________________________________________________________________________________________________\n",
      "block_3_expand (Conv2D)         (None, 100, 100, 144 3456        block_2_add[0][0]                \n",
      "__________________________________________________________________________________________________\n",
      "block_3_expand_BN (BatchNormali (None, 100, 100, 144 576         block_3_expand[0][0]             \n",
      "__________________________________________________________________________________________________\n",
      "block_3_expand_relu (ReLU)      (None, 100, 100, 144 0           block_3_expand_BN[0][0]          \n",
      "__________________________________________________________________________________________________\n",
      "block_3_pad (ZeroPadding2D)     (None, 101, 101, 144 0           block_3_expand_relu[0][0]        \n",
      "__________________________________________________________________________________________________\n",
      "block_3_depthwise (DepthwiseCon (None, 50, 50, 144)  1296        block_3_pad[0][0]                \n",
      "__________________________________________________________________________________________________\n",
      "block_3_depthwise_BN (BatchNorm (None, 50, 50, 144)  576         block_3_depthwise[0][0]          \n",
      "__________________________________________________________________________________________________\n",
      "block_3_depthwise_relu (ReLU)   (None, 50, 50, 144)  0           block_3_depthwise_BN[0][0]       \n",
      "__________________________________________________________________________________________________\n",
      "block_3_project (Conv2D)        (None, 50, 50, 32)   4608        block_3_depthwise_relu[0][0]     \n",
      "__________________________________________________________________________________________________\n",
      "block_3_project_BN (BatchNormal (None, 50, 50, 32)   128         block_3_project[0][0]            \n",
      "__________________________________________________________________________________________________\n",
      "block_4_expand (Conv2D)         (None, 50, 50, 192)  6144        block_3_project_BN[0][0]         \n",
      "__________________________________________________________________________________________________\n",
      "block_4_expand_BN (BatchNormali (None, 50, 50, 192)  768         block_4_expand[0][0]             \n",
      "__________________________________________________________________________________________________\n",
      "block_4_expand_relu (ReLU)      (None, 50, 50, 192)  0           block_4_expand_BN[0][0]          \n",
      "__________________________________________________________________________________________________\n",
      "block_4_depthwise (DepthwiseCon (None, 50, 50, 192)  1728        block_4_expand_relu[0][0]        \n",
      "__________________________________________________________________________________________________\n",
      "block_4_depthwise_BN (BatchNorm (None, 50, 50, 192)  768         block_4_depthwise[0][0]          \n",
      "__________________________________________________________________________________________________\n",
      "block_4_depthwise_relu (ReLU)   (None, 50, 50, 192)  0           block_4_depthwise_BN[0][0]       \n",
      "__________________________________________________________________________________________________\n",
      "block_4_project (Conv2D)        (None, 50, 50, 32)   6144        block_4_depthwise_relu[0][0]     \n",
      "__________________________________________________________________________________________________\n",
      "block_4_project_BN (BatchNormal (None, 50, 50, 32)   128         block_4_project[0][0]            \n",
      "__________________________________________________________________________________________________\n",
      "block_4_add (Add)               (None, 50, 50, 32)   0           block_3_project_BN[0][0]         \n",
      "                                                                 block_4_project_BN[0][0]         \n",
      "__________________________________________________________________________________________________\n",
      "block_5_expand (Conv2D)         (None, 50, 50, 192)  6144        block_4_add[0][0]                \n",
      "__________________________________________________________________________________________________\n",
      "block_5_expand_BN (BatchNormali (None, 50, 50, 192)  768         block_5_expand[0][0]             \n",
      "__________________________________________________________________________________________________\n",
      "block_5_expand_relu (ReLU)      (None, 50, 50, 192)  0           block_5_expand_BN[0][0]          \n",
      "__________________________________________________________________________________________________\n",
      "block_5_depthwise (DepthwiseCon (None, 50, 50, 192)  1728        block_5_expand_relu[0][0]        \n",
      "__________________________________________________________________________________________________\n",
      "block_5_depthwise_BN (BatchNorm (None, 50, 50, 192)  768         block_5_depthwise[0][0]          \n",
      "__________________________________________________________________________________________________\n",
      "block_5_depthwise_relu (ReLU)   (None, 50, 50, 192)  0           block_5_depthwise_BN[0][0]       \n",
      "__________________________________________________________________________________________________\n",
      "block_5_project (Conv2D)        (None, 50, 50, 32)   6144        block_5_depthwise_relu[0][0]     \n",
      "__________________________________________________________________________________________________\n",
      "block_5_project_BN (BatchNormal (None, 50, 50, 32)   128         block_5_project[0][0]            \n",
      "__________________________________________________________________________________________________\n",
      "block_5_add (Add)               (None, 50, 50, 32)   0           block_4_add[0][0]                \n",
      "                                                                 block_5_project_BN[0][0]         \n",
      "__________________________________________________________________________________________________\n",
      "block_6_expand (Conv2D)         (None, 50, 50, 192)  6144        block_5_add[0][0]                \n",
      "__________________________________________________________________________________________________\n",
      "block_6_expand_BN (BatchNormali (None, 50, 50, 192)  768         block_6_expand[0][0]             \n",
      "__________________________________________________________________________________________________\n",
      "block_6_expand_relu (ReLU)      (None, 50, 50, 192)  0           block_6_expand_BN[0][0]          \n",
      "__________________________________________________________________________________________________\n",
      "block_6_pad (ZeroPadding2D)     (None, 51, 51, 192)  0           block_6_expand_relu[0][0]        \n",
      "__________________________________________________________________________________________________\n",
      "block_6_depthwise (DepthwiseCon (None, 25, 25, 192)  1728        block_6_pad[0][0]                \n",
      "__________________________________________________________________________________________________\n",
      "block_6_depthwise_BN (BatchNorm (None, 25, 25, 192)  768         block_6_depthwise[0][0]          \n",
      "__________________________________________________________________________________________________\n",
      "block_6_depthwise_relu (ReLU)   (None, 25, 25, 192)  0           block_6_depthwise_BN[0][0]       \n",
      "__________________________________________________________________________________________________\n",
      "block_6_project (Conv2D)        (None, 25, 25, 64)   12288       block_6_depthwise_relu[0][0]     \n",
      "__________________________________________________________________________________________________\n",
      "block_6_project_BN (BatchNormal (None, 25, 25, 64)   256         block_6_project[0][0]            \n",
      "__________________________________________________________________________________________________\n",
      "block_7_expand (Conv2D)         (None, 25, 25, 384)  24576       block_6_project_BN[0][0]         \n",
      "__________________________________________________________________________________________________\n",
      "block_7_expand_BN (BatchNormali (None, 25, 25, 384)  1536        block_7_expand[0][0]             \n",
      "__________________________________________________________________________________________________\n",
      "block_7_expand_relu (ReLU)      (None, 25, 25, 384)  0           block_7_expand_BN[0][0]          \n",
      "__________________________________________________________________________________________________\n",
      "block_7_depthwise (DepthwiseCon (None, 25, 25, 384)  3456        block_7_expand_relu[0][0]        \n",
      "__________________________________________________________________________________________________\n",
      "block_7_depthwise_BN (BatchNorm (None, 25, 25, 384)  1536        block_7_depthwise[0][0]          \n",
      "__________________________________________________________________________________________________\n",
      "block_7_depthwise_relu (ReLU)   (None, 25, 25, 384)  0           block_7_depthwise_BN[0][0]       \n",
      "__________________________________________________________________________________________________\n",
      "block_7_project (Conv2D)        (None, 25, 25, 64)   24576       block_7_depthwise_relu[0][0]     \n",
      "__________________________________________________________________________________________________\n",
      "block_7_project_BN (BatchNormal (None, 25, 25, 64)   256         block_7_project[0][0]            \n",
      "__________________________________________________________________________________________________\n",
      "block_7_add (Add)               (None, 25, 25, 64)   0           block_6_project_BN[0][0]         \n",
      "                                                                 block_7_project_BN[0][0]         \n",
      "__________________________________________________________________________________________________\n",
      "block_8_expand (Conv2D)         (None, 25, 25, 384)  24576       block_7_add[0][0]                \n",
      "__________________________________________________________________________________________________\n",
      "block_8_expand_BN (BatchNormali (None, 25, 25, 384)  1536        block_8_expand[0][0]             \n",
      "__________________________________________________________________________________________________\n",
      "block_8_expand_relu (ReLU)      (None, 25, 25, 384)  0           block_8_expand_BN[0][0]          \n",
      "__________________________________________________________________________________________________\n",
      "block_8_depthwise (DepthwiseCon (None, 25, 25, 384)  3456        block_8_expand_relu[0][0]        \n",
      "__________________________________________________________________________________________________\n",
      "block_8_depthwise_BN (BatchNorm (None, 25, 25, 384)  1536        block_8_depthwise[0][0]          \n",
      "__________________________________________________________________________________________________\n",
      "block_8_depthwise_relu (ReLU)   (None, 25, 25, 384)  0           block_8_depthwise_BN[0][0]       \n",
      "__________________________________________________________________________________________________\n",
      "block_8_project (Conv2D)        (None, 25, 25, 64)   24576       block_8_depthwise_relu[0][0]     \n",
      "__________________________________________________________________________________________________\n",
      "block_8_project_BN (BatchNormal (None, 25, 25, 64)   256         block_8_project[0][0]            \n",
      "__________________________________________________________________________________________________\n",
      "block_8_add (Add)               (None, 25, 25, 64)   0           block_7_add[0][0]                \n",
      "                                                                 block_8_project_BN[0][0]         \n",
      "__________________________________________________________________________________________________\n",
      "block_9_expand (Conv2D)         (None, 25, 25, 384)  24576       block_8_add[0][0]                \n",
      "__________________________________________________________________________________________________\n",
      "block_9_expand_BN (BatchNormali (None, 25, 25, 384)  1536        block_9_expand[0][0]             \n",
      "__________________________________________________________________________________________________\n",
      "block_9_expand_relu (ReLU)      (None, 25, 25, 384)  0           block_9_expand_BN[0][0]          \n",
      "__________________________________________________________________________________________________\n",
      "block_9_depthwise (DepthwiseCon (None, 25, 25, 384)  3456        block_9_expand_relu[0][0]        \n",
      "__________________________________________________________________________________________________\n",
      "block_9_depthwise_BN (BatchNorm (None, 25, 25, 384)  1536        block_9_depthwise[0][0]          \n",
      "__________________________________________________________________________________________________\n",
      "block_9_depthwise_relu (ReLU)   (None, 25, 25, 384)  0           block_9_depthwise_BN[0][0]       \n",
      "__________________________________________________________________________________________________\n",
      "block_9_project (Conv2D)        (None, 25, 25, 64)   24576       block_9_depthwise_relu[0][0]     \n",
      "__________________________________________________________________________________________________\n",
      "block_9_project_BN (BatchNormal (None, 25, 25, 64)   256         block_9_project[0][0]            \n",
      "__________________________________________________________________________________________________\n",
      "block_9_add (Add)               (None, 25, 25, 64)   0           block_8_add[0][0]                \n",
      "                                                                 block_9_project_BN[0][0]         \n",
      "__________________________________________________________________________________________________\n",
      "block_10_expand (Conv2D)        (None, 25, 25, 384)  24576       block_9_add[0][0]                \n",
      "__________________________________________________________________________________________________\n",
      "block_10_expand_BN (BatchNormal (None, 25, 25, 384)  1536        block_10_expand[0][0]            \n",
      "__________________________________________________________________________________________________\n",
      "block_10_expand_relu (ReLU)     (None, 25, 25, 384)  0           block_10_expand_BN[0][0]         \n",
      "__________________________________________________________________________________________________\n",
      "block_10_depthwise (DepthwiseCo (None, 25, 25, 384)  3456        block_10_expand_relu[0][0]       \n",
      "__________________________________________________________________________________________________\n",
      "block_10_depthwise_BN (BatchNor (None, 25, 25, 384)  1536        block_10_depthwise[0][0]         \n",
      "__________________________________________________________________________________________________\n",
      "block_10_depthwise_relu (ReLU)  (None, 25, 25, 384)  0           block_10_depthwise_BN[0][0]      \n",
      "__________________________________________________________________________________________________\n",
      "block_10_project (Conv2D)       (None, 25, 25, 96)   36864       block_10_depthwise_relu[0][0]    \n",
      "__________________________________________________________________________________________________\n",
      "block_10_project_BN (BatchNorma (None, 25, 25, 96)   384         block_10_project[0][0]           \n",
      "__________________________________________________________________________________________________\n",
      "block_11_expand (Conv2D)        (None, 25, 25, 576)  55296       block_10_project_BN[0][0]        \n",
      "__________________________________________________________________________________________________\n",
      "block_11_expand_BN (BatchNormal (None, 25, 25, 576)  2304        block_11_expand[0][0]            \n",
      "__________________________________________________________________________________________________\n",
      "block_11_expand_relu (ReLU)     (None, 25, 25, 576)  0           block_11_expand_BN[0][0]         \n",
      "__________________________________________________________________________________________________\n",
      "block_11_depthwise (DepthwiseCo (None, 25, 25, 576)  5184        block_11_expand_relu[0][0]       \n",
      "__________________________________________________________________________________________________\n",
      "block_11_depthwise_BN (BatchNor (None, 25, 25, 576)  2304        block_11_depthwise[0][0]         \n",
      "__________________________________________________________________________________________________\n",
      "block_11_depthwise_relu (ReLU)  (None, 25, 25, 576)  0           block_11_depthwise_BN[0][0]      \n",
      "__________________________________________________________________________________________________\n",
      "block_11_project (Conv2D)       (None, 25, 25, 96)   55296       block_11_depthwise_relu[0][0]    \n",
      "__________________________________________________________________________________________________\n",
      "block_11_project_BN (BatchNorma (None, 25, 25, 96)   384         block_11_project[0][0]           \n",
      "__________________________________________________________________________________________________\n",
      "block_11_add (Add)              (None, 25, 25, 96)   0           block_10_project_BN[0][0]        \n",
      "                                                                 block_11_project_BN[0][0]        \n",
      "__________________________________________________________________________________________________\n",
      "block_12_expand (Conv2D)        (None, 25, 25, 576)  55296       block_11_add[0][0]               \n",
      "__________________________________________________________________________________________________\n",
      "block_12_expand_BN (BatchNormal (None, 25, 25, 576)  2304        block_12_expand[0][0]            \n",
      "__________________________________________________________________________________________________\n",
      "block_12_expand_relu (ReLU)     (None, 25, 25, 576)  0           block_12_expand_BN[0][0]         \n",
      "__________________________________________________________________________________________________\n",
      "block_12_depthwise (DepthwiseCo (None, 25, 25, 576)  5184        block_12_expand_relu[0][0]       \n",
      "__________________________________________________________________________________________________\n",
      "block_12_depthwise_BN (BatchNor (None, 25, 25, 576)  2304        block_12_depthwise[0][0]         \n",
      "__________________________________________________________________________________________________\n",
      "block_12_depthwise_relu (ReLU)  (None, 25, 25, 576)  0           block_12_depthwise_BN[0][0]      \n",
      "__________________________________________________________________________________________________\n",
      "block_12_project (Conv2D)       (None, 25, 25, 96)   55296       block_12_depthwise_relu[0][0]    \n",
      "__________________________________________________________________________________________________\n",
      "block_12_project_BN (BatchNorma (None, 25, 25, 96)   384         block_12_project[0][0]           \n",
      "__________________________________________________________________________________________________\n",
      "block_12_add (Add)              (None, 25, 25, 96)   0           block_11_add[0][0]               \n",
      "                                                                 block_12_project_BN[0][0]        \n",
      "__________________________________________________________________________________________________\n",
      "block_13_expand (Conv2D)        (None, 25, 25, 576)  55296       block_12_add[0][0]               \n",
      "__________________________________________________________________________________________________\n",
      "block_13_expand_BN (BatchNormal (None, 25, 25, 576)  2304        block_13_expand[0][0]            \n",
      "__________________________________________________________________________________________________\n",
      "block_13_expand_relu (ReLU)     (None, 25, 25, 576)  0           block_13_expand_BN[0][0]         \n",
      "__________________________________________________________________________________________________\n",
      "block_13_pad (ZeroPadding2D)    (None, 27, 27, 576)  0           block_13_expand_relu[0][0]       \n",
      "__________________________________________________________________________________________________\n",
      "block_13_depthwise (DepthwiseCo (None, 13, 13, 576)  5184        block_13_pad[0][0]               \n",
      "__________________________________________________________________________________________________\n",
      "block_13_depthwise_BN (BatchNor (None, 13, 13, 576)  2304        block_13_depthwise[0][0]         \n",
      "__________________________________________________________________________________________________\n",
      "block_13_depthwise_relu (ReLU)  (None, 13, 13, 576)  0           block_13_depthwise_BN[0][0]      \n",
      "__________________________________________________________________________________________________\n",
      "block_13_project (Conv2D)       (None, 13, 13, 160)  92160       block_13_depthwise_relu[0][0]    \n",
      "__________________________________________________________________________________________________\n",
      "block_13_project_BN (BatchNorma (None, 13, 13, 160)  640         block_13_project[0][0]           \n",
      "__________________________________________________________________________________________________\n",
      "block_14_expand (Conv2D)        (None, 13, 13, 960)  153600      block_13_project_BN[0][0]        \n",
      "__________________________________________________________________________________________________\n",
      "block_14_expand_BN (BatchNormal (None, 13, 13, 960)  3840        block_14_expand[0][0]            \n",
      "__________________________________________________________________________________________________\n",
      "block_14_expand_relu (ReLU)     (None, 13, 13, 960)  0           block_14_expand_BN[0][0]         \n",
      "__________________________________________________________________________________________________\n",
      "block_14_depthwise (DepthwiseCo (None, 13, 13, 960)  8640        block_14_expand_relu[0][0]       \n",
      "__________________________________________________________________________________________________\n",
      "block_14_depthwise_BN (BatchNor (None, 13, 13, 960)  3840        block_14_depthwise[0][0]         \n",
      "__________________________________________________________________________________________________\n",
      "block_14_depthwise_relu (ReLU)  (None, 13, 13, 960)  0           block_14_depthwise_BN[0][0]      \n",
      "__________________________________________________________________________________________________\n",
      "block_14_project (Conv2D)       (None, 13, 13, 160)  153600      block_14_depthwise_relu[0][0]    \n",
      "__________________________________________________________________________________________________\n",
      "block_14_project_BN (BatchNorma (None, 13, 13, 160)  640         block_14_project[0][0]           \n",
      "__________________________________________________________________________________________________\n",
      "block_14_add (Add)              (None, 13, 13, 160)  0           block_13_project_BN[0][0]        \n",
      "                                                                 block_14_project_BN[0][0]        \n",
      "__________________________________________________________________________________________________\n",
      "block_15_expand (Conv2D)        (None, 13, 13, 960)  153600      block_14_add[0][0]               \n",
      "__________________________________________________________________________________________________\n",
      "block_15_expand_BN (BatchNormal (None, 13, 13, 960)  3840        block_15_expand[0][0]            \n",
      "__________________________________________________________________________________________________\n",
      "block_15_expand_relu (ReLU)     (None, 13, 13, 960)  0           block_15_expand_BN[0][0]         \n",
      "__________________________________________________________________________________________________\n",
      "block_15_depthwise (DepthwiseCo (None, 13, 13, 960)  8640        block_15_expand_relu[0][0]       \n",
      "__________________________________________________________________________________________________\n",
      "block_15_depthwise_BN (BatchNor (None, 13, 13, 960)  3840        block_15_depthwise[0][0]         \n",
      "__________________________________________________________________________________________________\n",
      "block_15_depthwise_relu (ReLU)  (None, 13, 13, 960)  0           block_15_depthwise_BN[0][0]      \n",
      "__________________________________________________________________________________________________\n",
      "block_15_project (Conv2D)       (None, 13, 13, 160)  153600      block_15_depthwise_relu[0][0]    \n",
      "__________________________________________________________________________________________________\n",
      "block_15_project_BN (BatchNorma (None, 13, 13, 160)  640         block_15_project[0][0]           \n",
      "__________________________________________________________________________________________________\n",
      "block_15_add (Add)              (None, 13, 13, 160)  0           block_14_add[0][0]               \n",
      "                                                                 block_15_project_BN[0][0]        \n",
      "__________________________________________________________________________________________________\n",
      "block_16_expand (Conv2D)        (None, 13, 13, 960)  153600      block_15_add[0][0]               \n",
      "__________________________________________________________________________________________________\n",
      "block_16_expand_BN (BatchNormal (None, 13, 13, 960)  3840        block_16_expand[0][0]            \n",
      "__________________________________________________________________________________________________\n",
      "block_16_expand_relu (ReLU)     (None, 13, 13, 960)  0           block_16_expand_BN[0][0]         \n",
      "__________________________________________________________________________________________________\n",
      "block_16_depthwise (DepthwiseCo (None, 13, 13, 960)  8640        block_16_expand_relu[0][0]       \n",
      "__________________________________________________________________________________________________\n",
      "block_16_depthwise_BN (BatchNor (None, 13, 13, 960)  3840        block_16_depthwise[0][0]         \n",
      "__________________________________________________________________________________________________\n",
      "block_16_depthwise_relu (ReLU)  (None, 13, 13, 960)  0           block_16_depthwise_BN[0][0]      \n",
      "__________________________________________________________________________________________________\n",
      "block_16_project (Conv2D)       (None, 13, 13, 320)  307200      block_16_depthwise_relu[0][0]    \n",
      "__________________________________________________________________________________________________\n",
      "block_16_project_BN (BatchNorma (None, 13, 13, 320)  1280        block_16_project[0][0]           \n",
      "__________________________________________________________________________________________________\n",
      "Conv_1 (Conv2D)                 (None, 13, 13, 1280) 409600      block_16_project_BN[0][0]        \n",
      "__________________________________________________________________________________________________\n",
      "Conv_1_bn (BatchNormalization)  (None, 13, 13, 1280) 5120        Conv_1[0][0]                     \n",
      "__________________________________________________________________________________________________\n",
      "out_relu (ReLU)                 (None, 13, 13, 1280) 0           Conv_1_bn[0][0]                  \n",
      "__________________________________________________________________________________________________\n",
      "global_average_pooling2d (Globa (None, 1280)         0           out_relu[0][0]                   \n",
      "__________________________________________________________________________________________________\n",
      "dense (Dense)                   (None, 1024)         1311744     global_average_pooling2d[0][0]   \n",
      "__________________________________________________________________________________________________\n",
      "dense_1 (Dense)                 (None, 14)           14350       dense[0][0]                      \n",
      "==================================================================================================\n",
      "Total params: 3,584,078\n",
      "Trainable params: 3,549,966\n",
      "Non-trainable params: 34,112\n",
      "__________________________________________________________________________________________________\n"
     ]
    }
   ],
   "source": [
    "model2.summary()"
   ]
  },
  {
   "cell_type": "markdown",
   "id": "ffc89d42",
   "metadata": {
    "papermill": {
     "duration": 0.344639,
     "end_time": "2022-05-15T18:47:22.316186",
     "exception": false,
     "start_time": "2022-05-15T18:47:21.971547",
     "status": "completed"
    },
    "tags": []
   },
   "source": [
    "# Compiling and fitting the Model"
   ]
  },
  {
   "cell_type": "markdown",
   "id": "9b69f1f3",
   "metadata": {
    "papermill": {
     "duration": 0.345467,
     "end_time": "2022-05-15T18:47:23.009430",
     "exception": false,
     "start_time": "2022-05-15T18:47:22.663963",
     "status": "completed"
    },
    "tags": []
   },
   "source": [
    "We use the **SGD** optimizer with a learning rate of 0.0001, and use the loss function for 'binary_crossentropy' because if each category occurs it is either a zero or one."
   ]
  },
  {
   "cell_type": "code",
   "execution_count": 17,
   "id": "ef15f8cd",
   "metadata": {
    "execution": {
     "iopub.execute_input": "2022-05-15T18:47:23.702671Z",
     "iopub.status.busy": "2022-05-15T18:47:23.702384Z",
     "iopub.status.idle": "2022-05-15T18:47:23.723451Z",
     "shell.execute_reply": "2022-05-15T18:47:23.722493Z"
    },
    "papermill": {
     "duration": 0.36557,
     "end_time": "2022-05-15T18:47:23.725697",
     "exception": false,
     "start_time": "2022-05-15T18:47:23.360127",
     "status": "completed"
    },
    "tags": []
   },
   "outputs": [],
   "source": [
    "from tensorflow.keras.optimizers import SGD\n",
    "model2.compile(optimizer=SGD(learning_rate=0.0001, momentum=0.9), metrics=['accuracy'], \n",
    "              loss='binary_crossentropy')"
   ]
  },
  {
   "cell_type": "markdown",
   "id": "9f31eee6",
   "metadata": {
    "execution": {
     "iopub.execute_input": "2022-05-04T18:02:13.507916Z",
     "iopub.status.busy": "2022-05-04T18:02:13.507638Z",
     "iopub.status.idle": "2022-05-04T18:03:38.973218Z",
     "shell.execute_reply": "2022-05-04T18:03:38.972337Z",
     "shell.execute_reply.started": "2022-05-04T18:02:13.507885Z"
    },
    "papermill": {
     "duration": 0.350013,
     "end_time": "2022-05-15T18:47:24.413342",
     "exception": false,
     "start_time": "2022-05-15T18:47:24.063329",
     "status": "completed"
    },
    "tags": []
   },
   "source": [
    "We run the model on 20 epochs for fear of over fitting. We do not use the early stopping function because the data set is so sparse that overfitting is extremely likely to occure because the prediction of all zeros has a high accuracy."
   ]
  },
  {
   "cell_type": "code",
   "execution_count": 18,
   "id": "05503ee9",
   "metadata": {
    "execution": {
     "iopub.execute_input": "2022-05-15T18:47:25.508505Z",
     "iopub.status.busy": "2022-05-15T18:47:25.508166Z",
     "iopub.status.idle": "2022-05-15T18:51:55.085093Z",
     "shell.execute_reply": "2022-05-15T18:51:55.083937Z"
    },
    "papermill": {
     "duration": 270.225972,
     "end_time": "2022-05-15T18:51:55.088235",
     "exception": false,
     "start_time": "2022-05-15T18:47:24.862263",
     "status": "completed"
    },
    "tags": []
   },
   "outputs": [
    {
     "name": "stderr",
     "output_type": "stream",
     "text": [
      "2022-05-15 18:47:25.527122: W tensorflow/core/framework/cpu_allocator_impl.cc:80] Allocation of 1382400000 exceeds 10% of free system memory.\n",
      "2022-05-15 18:47:27.062254: W tensorflow/core/framework/cpu_allocator_impl.cc:80] Allocation of 1382400000 exceeds 10% of free system memory.\n",
      "2022-05-15 18:47:28.294293: I tensorflow/compiler/mlir/mlir_graph_optimization_pass.cc:185] None of the MLIR Optimization Passes are enabled (registered 2)\n"
     ]
    },
    {
     "name": "stdout",
     "output_type": "stream",
     "text": [
      "Epoch 1/20\n"
     ]
    },
    {
     "name": "stderr",
     "output_type": "stream",
     "text": [
      "2022-05-15 18:47:33.180602: W tensorflow/core/framework/cpu_allocator_impl.cc:80] Allocation of 122880000 exceeds 10% of free system memory.\n",
      "2022-05-15 18:47:33.181511: W tensorflow/core/framework/cpu_allocator_impl.cc:80] Allocation of 122880000 exceeds 10% of free system memory.\n",
      "2022-05-15 18:47:33.359622: W tensorflow/core/framework/cpu_allocator_impl.cc:80] Allocation of 122880000 exceeds 10% of free system memory.\n",
      "2022-05-15 18:47:34.347197: I tensorflow/stream_executor/cuda/cuda_dnn.cc:369] Loaded cuDNN version 8005\n"
     ]
    },
    {
     "name": "stdout",
     "output_type": "stream",
     "text": [
      "12/12 [==============================] - 28s 1s/step - loss: 0.8483 - accuracy: 0.0097 - val_loss: 0.9236 - val_accuracy: 0.0500\n",
      "Epoch 2/20\n",
      "12/12 [==============================] - 12s 1s/step - loss: 0.8055 - accuracy: 0.0097 - val_loss: 0.8726 - val_accuracy: 0.0500\n",
      "Epoch 3/20\n",
      "12/12 [==============================] - 12s 998ms/step - loss: 0.7507 - accuracy: 0.0097 - val_loss: 0.8196 - val_accuracy: 0.0500\n",
      "Epoch 4/20\n",
      "12/12 [==============================] - 12s 994ms/step - loss: 0.6977 - accuracy: 0.0125 - val_loss: 0.7698 - val_accuracy: 0.0556\n",
      "Epoch 5/20\n",
      "12/12 [==============================] - 12s 983ms/step - loss: 0.6498 - accuracy: 0.0097 - val_loss: 0.7242 - val_accuracy: 0.0611\n",
      "Epoch 6/20\n",
      "12/12 [==============================] - 12s 1s/step - loss: 0.6081 - accuracy: 0.0208 - val_loss: 0.6829 - val_accuracy: 0.0667\n",
      "Epoch 7/20\n",
      "12/12 [==============================] - 12s 1s/step - loss: 0.5695 - accuracy: 0.0222 - val_loss: 0.6457 - val_accuracy: 0.0722\n",
      "Epoch 8/20\n",
      "12/12 [==============================] - 12s 998ms/step - loss: 0.5365 - accuracy: 0.0250 - val_loss: 0.6121 - val_accuracy: 0.0833\n",
      "Epoch 9/20\n",
      "12/12 [==============================] - 12s 1s/step - loss: 0.5067 - accuracy: 0.0278 - val_loss: 0.5820 - val_accuracy: 0.0833\n",
      "Epoch 10/20\n",
      "12/12 [==============================] - 12s 987ms/step - loss: 0.4803 - accuracy: 0.0306 - val_loss: 0.5547 - val_accuracy: 0.0944\n",
      "Epoch 11/20\n",
      "12/12 [==============================] - 12s 979ms/step - loss: 0.4559 - accuracy: 0.0389 - val_loss: 0.5301 - val_accuracy: 0.1056\n",
      "Epoch 12/20\n",
      "12/12 [==============================] - 12s 986ms/step - loss: 0.4348 - accuracy: 0.0597 - val_loss: 0.5078 - val_accuracy: 0.1278\n",
      "Epoch 13/20\n",
      "12/12 [==============================] - 12s 998ms/step - loss: 0.4157 - accuracy: 0.0639 - val_loss: 0.4876 - val_accuracy: 0.1167\n",
      "Epoch 14/20\n",
      "12/12 [==============================] - 12s 1s/step - loss: 0.3983 - accuracy: 0.0847 - val_loss: 0.4691 - val_accuracy: 0.1222\n",
      "Epoch 15/20\n",
      "12/12 [==============================] - 12s 1s/step - loss: 0.3831 - accuracy: 0.1042 - val_loss: 0.4523 - val_accuracy: 0.1389\n",
      "Epoch 16/20\n",
      "12/12 [==============================] - 12s 1s/step - loss: 0.3694 - accuracy: 0.1083 - val_loss: 0.4369 - val_accuracy: 0.1389\n",
      "Epoch 17/20\n",
      "12/12 [==============================] - 12s 1s/step - loss: 0.3573 - accuracy: 0.1347 - val_loss: 0.4227 - val_accuracy: 0.1333\n",
      "Epoch 18/20\n",
      "12/12 [==============================] - 12s 996ms/step - loss: 0.3457 - accuracy: 0.1514 - val_loss: 0.4095 - val_accuracy: 0.1333\n",
      "Epoch 19/20\n",
      "12/12 [==============================] - 12s 979ms/step - loss: 0.3350 - accuracy: 0.1597 - val_loss: 0.3976 - val_accuracy: 0.1389\n",
      "Epoch 20/20\n",
      "12/12 [==============================] - 12s 985ms/step - loss: 0.3251 - accuracy: 0.1750 - val_loss: 0.3866 - val_accuracy: 0.1444\n"
     ]
    }
   ],
   "source": [
    "\n",
    "fitted_model= model2.fit(X_train, y_train, batch_size=64, \n",
    "                            epochs=20, validation_split=0.2)\n"
   ]
  },
  {
   "cell_type": "markdown",
   "id": "04505824",
   "metadata": {
    "papermill": {
     "duration": 0.457668,
     "end_time": "2022-05-15T18:51:56.026569",
     "exception": false,
     "start_time": "2022-05-15T18:51:55.568901",
     "status": "completed"
    },
    "tags": []
   },
   "source": [
    "# Evaluating the Model\n"
   ]
  },
  {
   "cell_type": "markdown",
   "id": "3ab7d8e1",
   "metadata": {
    "papermill": {
     "duration": 0.465268,
     "end_time": "2022-05-15T18:51:56.960214",
     "exception": false,
     "start_time": "2022-05-15T18:51:56.494946",
     "status": "completed"
    },
    "tags": []
   },
   "source": [
    "The function is very inaccurate. The function does give concrete results, but it has large issues with overfitting. The overfitting of this model quickly becomes quite extreme, so underfitting is the preferred option. The graph below shows the increase in accuracy as the epochs increase and the decrease of loss which is good."
   ]
  },
  {
   "cell_type": "code",
   "execution_count": 19,
   "id": "317ec2df",
   "metadata": {
    "execution": {
     "iopub.execute_input": "2022-05-15T18:51:57.905399Z",
     "iopub.status.busy": "2022-05-15T18:51:57.905111Z",
     "iopub.status.idle": "2022-05-15T18:51:58.331217Z",
     "shell.execute_reply": "2022-05-15T18:51:58.330196Z"
    },
    "papermill": {
     "duration": 0.906657,
     "end_time": "2022-05-15T18:51:58.333962",
     "exception": false,
     "start_time": "2022-05-15T18:51:57.427305",
     "status": "completed"
    },
    "tags": []
   },
   "outputs": [
    {
     "data": {
      "image/png": "[encoded data removed]",
      "text/plain": [
       "<Figure size 1080x1080 with 2 Axes>"
      ]
     },
     "metadata": {
      "needs_background": "light"
     },
     "output_type": "display_data"
    }
   ],
   "source": [
    "acc = fitted_model.history['accuracy']\n",
    "val_acc = fitted_model.history['val_accuracy']\n",
    "loss = fitted_model.history['loss']\n",
    "val_loss = fitted_model.history['val_loss']\n",
    "epochs_range = range(20)\n",
    "\n",
    "plt.figure(figsize=(15, 15))\n",
    "plt.subplot(2, 2, 1)\n",
    "plt.plot(epochs_range, acc, label='Training Accuracy')\n",
    "plt.plot(epochs_range, val_acc, label='Validation Accuracy')\n",
    "plt.legend(loc='lower right')\n",
    "plt.title('Training and Validation Accuracy')\n",
    "\n",
    "plt.subplot(2, 2, 2)\n",
    "plt.plot(epochs_range, loss, label='Training Loss')\n",
    "plt.plot(epochs_range, val_loss, label='Validation Loss')\n",
    "plt.legend(loc='upper right')\n",
    "plt.title('Training and Validation Loss')\n",
    "plt.show()"
   ]
  },
  {
   "cell_type": "markdown",
   "id": "5f3621c3",
   "metadata": {
    "papermill": {
     "duration": 0.466668,
     "end_time": "2022-05-15T18:51:59.274770",
     "exception": false,
     "start_time": "2022-05-15T18:51:58.808102",
     "status": "completed"
    },
    "tags": []
   },
   "source": [
    "The model prediction accuracy is around 20%, which should be improved."
   ]
  },
  {
   "cell_type": "code",
   "execution_count": 20,
   "id": "08208384",
   "metadata": {
    "execution": {
     "iopub.execute_input": "2022-05-15T18:52:00.216451Z",
     "iopub.status.busy": "2022-05-15T18:52:00.216129Z",
     "iopub.status.idle": "2022-05-15T18:52:01.870628Z",
     "shell.execute_reply": "2022-05-15T18:52:01.869600Z"
    },
    "papermill": {
     "duration": 2.130062,
     "end_time": "2022-05-15T18:52:01.873025",
     "exception": false,
     "start_time": "2022-05-15T18:51:59.742963",
     "status": "completed"
    },
    "tags": []
   },
   "outputs": [
    {
     "name": "stdout",
     "output_type": "stream",
     "text": [
      "4/4 [==============================] - 1s 104ms/step - loss: 0.4003 - accuracy: 0.1200\n",
      "[0.4003220498561859, 0.11999999731779099]\n"
     ]
    }
   ],
   "source": [
    "print(model2.evaluate(X_test, y_test))"
   ]
  },
  {
   "cell_type": "markdown",
   "id": "cc170f06",
   "metadata": {
    "papermill": {
     "duration": 0.912078,
     "end_time": "2022-05-15T18:52:03.254264",
     "exception": false,
     "start_time": "2022-05-15T18:52:02.342186",
     "status": "completed"
    },
    "tags": []
   },
   "source": [
    "Here the model is checked that it hasn't picked up patterns in the sparsity, but is rather making predictions based on the image."
   ]
  },
  {
   "cell_type": "code",
   "execution_count": 21,
   "id": "90b0d126",
   "metadata": {
    "execution": {
     "iopub.execute_input": "2022-05-15T18:52:04.350339Z",
     "iopub.status.busy": "2022-05-15T18:52:04.350027Z",
     "iopub.status.idle": "2022-05-15T18:52:05.617244Z",
     "shell.execute_reply": "2022-05-15T18:52:05.616117Z"
    },
    "papermill": {
     "duration": 1.82264,
     "end_time": "2022-05-15T18:52:05.620822",
     "exception": false,
     "start_time": "2022-05-15T18:52:03.798182",
     "status": "completed"
    },
    "tags": []
   },
   "outputs": [],
   "source": [
    "preds2 = model2.predict(X_test[:10])"
   ]
  },
  {
   "cell_type": "markdown",
   "id": "9abca2bc",
   "metadata": {
    "papermill": {
     "duration": 0.476376,
     "end_time": "2022-05-15T18:52:06.582439",
     "exception": false,
     "start_time": "2022-05-15T18:52:06.106063",
     "status": "completed"
    },
    "tags": []
   },
   "source": [
    "In the first 10 predictions, the model's inaccuracy is apparent, as it predicts only 3/10 rows."
   ]
  },
  {
   "cell_type": "code",
   "execution_count": 22,
   "id": "91fff90c",
   "metadata": {
    "execution": {
     "iopub.execute_input": "2022-05-15T18:52:07.529455Z",
     "iopub.status.busy": "2022-05-15T18:52:07.528867Z",
     "iopub.status.idle": "2022-05-15T18:52:07.539388Z",
     "shell.execute_reply": "2022-05-15T18:52:07.538406Z"
    },
    "papermill": {
     "duration": 0.488501,
     "end_time": "2022-05-15T18:52:07.541925",
     "exception": false,
     "start_time": "2022-05-15T18:52:07.053424",
     "status": "completed"
    },
    "tags": []
   },
   "outputs": [
    {
     "data": {
      "text/plain": [
       "array([[1., 0., 0., 0., 0., 0., 0., 0., 0., 0., 0., 0., 0., 0.],\n",
       "       [0., 0., 0., 0., 0., 0., 0., 0., 0., 0., 0., 0., 0., 0.],\n",
       "       [0., 0., 0., 0., 0., 0., 0., 0., 0., 0., 0., 0., 0., 0.],\n",
       "       [0., 0., 0., 0., 0., 0., 0., 0., 0., 0., 0., 0., 0., 0.],\n",
       "       [0., 0., 1., 0., 0., 0., 0., 0., 0., 0., 0., 0., 0., 0.],\n",
       "       [0., 0., 0., 0., 0., 0., 0., 0., 0., 0., 0., 0., 0., 0.],\n",
       "       [0., 0., 0., 0., 0., 0., 0., 0., 0., 0., 0., 0., 0., 0.],\n",
       "       [0., 0., 0., 0., 0., 0., 0., 0., 0., 0., 0., 0., 0., 0.],\n",
       "       [0., 0., 0., 0., 0., 0., 0., 0., 0., 0., 0., 0., 0., 0.],\n",
       "       [0., 0., 0., 0., 0., 0., 0., 0., 0., 0., 0., 0., 0., 0.]],\n",
       "      dtype=float32)"
      ]
     },
     "execution_count": 22,
     "metadata": {},
     "output_type": "execute_result"
    }
   ],
   "source": [
    "np.round(preds2)"
   ]
  },
  {
   "cell_type": "code",
   "execution_count": 23,
   "id": "7473ca17",
   "metadata": {
    "execution": {
     "iopub.execute_input": "2022-05-15T18:52:08.512072Z",
     "iopub.status.busy": "2022-05-15T18:52:08.511488Z",
     "iopub.status.idle": "2022-05-15T18:52:08.519602Z",
     "shell.execute_reply": "2022-05-15T18:52:08.518610Z"
    },
    "papermill": {
     "duration": 0.497284,
     "end_time": "2022-05-15T18:52:08.522180",
     "exception": false,
     "start_time": "2022-05-15T18:52:08.024896",
     "status": "completed"
    },
    "tags": []
   },
   "outputs": [
    {
     "data": {
      "text/plain": [
       "array([[0., 0., 0., 0., 0., 0., 0., 0., 0., 0., 0., 0., 0., 0.],\n",
       "       [0., 1., 0., 0., 0., 0., 0., 0., 0., 0., 0., 0., 0., 0.],\n",
       "       [0., 0., 1., 0., 0., 0., 0., 0., 0., 0., 0., 0., 0., 0.],\n",
       "       [0., 0., 1., 0., 0., 0., 0., 1., 0., 0., 0., 0., 0., 0.],\n",
       "       [0., 0., 0., 1., 0., 0., 0., 0., 0., 0., 0., 0., 0., 0.],\n",
       "       [0., 0., 0., 0., 0., 0., 0., 0., 1., 0., 0., 0., 0., 0.],\n",
       "       [0., 0., 1., 0., 0., 0., 0., 0., 0., 0., 0., 0., 0., 0.],\n",
       "       [0., 0., 1., 0., 0., 0., 0., 0., 0., 0., 0., 0., 0., 0.],\n",
       "       [0., 0., 0., 0., 0., 0., 0., 0., 0., 0., 0., 0., 0., 0.],\n",
       "       [0., 0., 0., 0., 0., 0., 0., 0., 0., 0., 0., 0., 0., 0.]])"
      ]
     },
     "execution_count": 23,
     "metadata": {},
     "output_type": "execute_result"
    }
   ],
   "source": [
    "y_test[:10]"
   ]
  },
  {
   "cell_type": "markdown",
   "id": "101ef501",
   "metadata": {
    "papermill": {
     "duration": 0.472911,
     "end_time": "2022-05-15T18:52:09.472481",
     "exception": false,
     "start_time": "2022-05-15T18:52:08.999570",
     "status": "completed"
    },
    "tags": []
   },
   "source": [
    "In order to see how the model fares in reality against the different categories, a multilabel confusion matrix is created. The multilabel confusion matrix compares the predicted values against the tested value and finds that the model is highly inaccurate in the categories that are present (which are few due to the sparsity)."
   ]
  },
  {
   "cell_type": "code",
   "execution_count": 24,
   "id": "010467b9",
   "metadata": {
    "execution": {
     "iopub.execute_input": "2022-05-15T18:52:10.427286Z",
     "iopub.status.busy": "2022-05-15T18:52:10.426798Z",
     "iopub.status.idle": "2022-05-15T18:52:11.106568Z",
     "shell.execute_reply": "2022-05-15T18:52:11.105619Z"
    },
    "papermill": {
     "duration": 1.158082,
     "end_time": "2022-05-15T18:52:11.108790",
     "exception": false,
     "start_time": "2022-05-15T18:52:09.950708",
     "status": "completed"
    },
    "tags": []
   },
   "outputs": [
    {
     "data": {
      "text/plain": [
       "array([[[ 93,   2],\n",
       "        [  5,   0]],\n",
       "\n",
       "       [[ 76,   3],\n",
       "        [ 21,   0]],\n",
       "\n",
       "       [[ 69,   2],\n",
       "        [ 28,   1]],\n",
       "\n",
       "       [[ 94,   0],\n",
       "        [  6,   0]],\n",
       "\n",
       "       [[ 92,   0],\n",
       "        [  8,   0]],\n",
       "\n",
       "       [[ 95,   0],\n",
       "        [  5,   0]],\n",
       "\n",
       "       [[ 96,   0],\n",
       "        [  4,   0]],\n",
       "\n",
       "       [[ 90,   1],\n",
       "        [  9,   0]],\n",
       "\n",
       "       [[ 95,   1],\n",
       "        [  4,   0]],\n",
       "\n",
       "       [[100,   0],\n",
       "        [  0,   0]],\n",
       "\n",
       "       [[100,   0],\n",
       "        [  0,   0]],\n",
       "\n",
       "       [[100,   0],\n",
       "        [  0,   0]],\n",
       "\n",
       "       [[ 96,   2],\n",
       "        [  2,   0]],\n",
       "\n",
       "       [[100,   0],\n",
       "        [  0,   0]]])"
      ]
     },
     "execution_count": 24,
     "metadata": {},
     "output_type": "execute_result"
    }
   ],
   "source": [
    "from sklearn.metrics import multilabel_confusion_matrix\n",
    "preds = model2.predict(X_test) \n",
    "y_pred = np.round(preds)\n",
    "multilabel_confusion_matrix(y_test, y_pred)"
   ]
  },
  {
   "cell_type": "code",
   "execution_count": 25,
   "id": "6661bb50",
   "metadata": {
    "execution": {
     "iopub.execute_input": "2022-05-15T18:52:12.056061Z",
     "iopub.status.busy": "2022-05-15T18:52:12.055762Z",
     "iopub.status.idle": "2022-05-15T18:52:12.256417Z",
     "shell.execute_reply": "2022-05-15T18:52:12.255398Z"
    },
    "papermill": {
     "duration": 0.67921,
     "end_time": "2022-05-15T18:52:12.259109",
     "exception": false,
     "start_time": "2022-05-15T18:52:11.579899",
     "status": "completed"
    },
    "tags": []
   },
   "outputs": [],
   "source": [
    "import pandas as pd\n",
    "import matplotlib.pyplot as plt\n",
    "import seaborn as sns\n",
    "\n",
    "\n",
    "def print_confusion_matrix(confusion_matrix, axes, class_label, class_names, fontsize=14):\n",
    "\n",
    "    df_cm = pd.DataFrame(\n",
    "        confusion_matrix, index=class_names, columns=class_names,\n",
    "    )\n",
    "\n",
    "    try:\n",
    "        heatmap = sns.heatmap(df_cm, annot=True, fmt=\"d\", cbar=False, ax=axes)\n",
    "    except ValueError:\n",
    "        raise ValueError(\"Confusion matrix values must be integers.\")\n",
    "    heatmap.yaxis.set_ticklabels(heatmap.yaxis.get_ticklabels(), rotation=0, ha='right', fontsize=fontsize)\n",
    "    heatmap.xaxis.set_ticklabels(heatmap.xaxis.get_ticklabels(), rotation=45, ha='right', fontsize=fontsize)\n",
    "    axes.set_ylabel('True label')\n",
    "    axes.set_xlabel('Predicted label')\n",
    "    axes.set_title(\"Class:\" + class_label)"
   ]
  },
  {
   "cell_type": "code",
   "execution_count": 26,
   "id": "86053a17",
   "metadata": {
    "execution": {
     "iopub.execute_input": "2022-05-15T18:52:13.212503Z",
     "iopub.status.busy": "2022-05-15T18:52:13.212195Z",
     "iopub.status.idle": "2022-05-15T18:52:17.990483Z",
     "shell.execute_reply": "2022-05-15T18:52:17.989435Z"
    },
    "papermill": {
     "duration": 5.254802,
     "end_time": "2022-05-15T18:52:17.993610",
     "exception": false,
     "start_time": "2022-05-15T18:52:12.738808",
     "status": "completed"
    },
    "tags": []
   },
   "outputs": [
    {
     "data": {
      "image/png": "[encoded data removed]",
      "text/plain": [
       "<Figure size 864x504 with 15 Axes>"
      ]
     },
     "metadata": {
      "needs_background": "light"
     },
     "output_type": "display_data"
    }
   ],
   "source": [
    "vis_arr = np.asarray(multilabel_confusion_matrix(y_test, y_pred))\n",
    "labels = ['NoF', 'YFT', 'ALB', 'OTH', 'BILL', 'DOL', 'BET', 'SKJ', 'LAG', 'SHARK', 'OIL', 'PLS', 'TUNA', 'WATER']\n",
    "fig, ax = plt.subplots(5, 3, figsize=(12, 7))\n",
    "for axes, cfs_matrix, label in zip(ax.flatten(), vis_arr, labels):\n",
    "        print_confusion_matrix(cfs_matrix, axes, label, [\"N\", \"Y\"])\n",
    "fig.tight_layout()\n",
    "plt.show()"
   ]
  },
  {
   "cell_type": "markdown",
   "id": "5de19d53",
   "metadata": {
    "papermill": {
     "duration": 0.490209,
     "end_time": "2022-05-15T18:52:18.969366",
     "exception": false,
     "start_time": "2022-05-15T18:52:18.479157",
     "status": "completed"
    },
    "tags": []
   },
   "source": [
    "In order to create see the true distribution of the test, a frequancy plot is created to display the occurences."
   ]
  },
  {
   "cell_type": "code",
   "execution_count": 27,
   "id": "c8dc26a1",
   "metadata": {
    "execution": {
     "iopub.execute_input": "2022-05-15T18:52:19.927193Z",
     "iopub.status.busy": "2022-05-15T18:52:19.926336Z",
     "iopub.status.idle": "2022-05-15T18:52:20.618199Z",
     "shell.execute_reply": "2022-05-15T18:52:20.615924Z"
    },
    "papermill": {
     "duration": 1.171054,
     "end_time": "2022-05-15T18:52:20.620673",
     "exception": false,
     "start_time": "2022-05-15T18:52:19.449619",
     "status": "completed"
    },
    "tags": []
   },
   "outputs": [
    {
     "data": {
      "text/plain": [
       "0\n",
       "0.0    882\n",
       "1.0     18\n",
       "dtype: int64"
      ]
     },
     "execution_count": 27,
     "metadata": {},
     "output_type": "execute_result"
    }
   ],
   "source": [
    "Y_train= pd.DataFrame(y_train)\n",
    "Y_test= pd.DataFrame(y_test)\n",
    "preds2 = np.round(model2.predict(X_test))\n",
    "Y_preds= pd.DataFrame(preds2)\n",
    "Y_train.columns\n",
    "(Y_train.groupby(0).size())\n",
    "\n"
   ]
  },
  {
   "cell_type": "code",
   "execution_count": 28,
   "id": "8183a488",
   "metadata": {
    "execution": {
     "iopub.execute_input": "2022-05-15T18:52:22.215200Z",
     "iopub.status.busy": "2022-05-15T18:52:22.214358Z",
     "iopub.status.idle": "2022-05-15T18:52:22.236843Z",
     "shell.execute_reply": "2022-05-15T18:52:22.235638Z"
    },
    "papermill": {
     "duration": 0.779975,
     "end_time": "2022-05-15T18:52:22.239416",
     "exception": false,
     "start_time": "2022-05-15T18:52:21.459441",
     "status": "completed"
    },
    "tags": []
   },
   "outputs": [
    {
     "name": "stdout",
     "output_type": "stream",
     "text": [
      "14\n",
      "[0.882, 0.689, 0.614, 0.839, 0.866, 0.863, 0.837, 0.832, 0.884, 0.891, 0.9, 0.899, 0.898, 0.897]\n",
      "14\n",
      "[0.118, 0.311, 0.386, 0.161, 0.134, 0.137, 0.163, 0.168, 0.116, 0.109, 0.1, 0.101, 0.102, 0.103]\n",
      "14\n"
     ]
    }
   ],
   "source": [
    "y_labels = ['NoF', 'YFT', 'ALB', 'OTH', 'BILL', 'DOL', 'BET', 'SKJ', 'LAG', 'SHARK', 'OIL', 'PLS', 'TUNA', 'WATER']\n",
    "print(len(y_labels))\n",
    "counts = []\n",
    "for i in range(0,14):\n",
    "    x = list(Y_train.groupby(i).size())\n",
    "    counts.append(x[0]/1000)\n",
    "print(counts)\n",
    "print(len(counts))\n",
    "frequency= [round(1-i, 3) for i in counts]\n",
    "print(frequency)\n",
    "print(len(frequency))"
   ]
  },
  {
   "cell_type": "code",
   "execution_count": 29,
   "id": "dadf6624",
   "metadata": {
    "execution": {
     "iopub.execute_input": "2022-05-15T18:52:23.220291Z",
     "iopub.status.busy": "2022-05-15T18:52:23.219962Z",
     "iopub.status.idle": "2022-05-15T18:52:23.616109Z",
     "shell.execute_reply": "2022-05-15T18:52:23.615053Z"
    },
    "papermill": {
     "duration": 0.886996,
     "end_time": "2022-05-15T18:52:23.618549",
     "exception": false,
     "start_time": "2022-05-15T18:52:22.731553",
     "status": "completed"
    },
    "tags": []
   },
   "outputs": [
    {
     "data": {
      "image/png": "[encoded data removed]",
      "text/plain": [
       "<Figure size 864x576 with 1 Axes>"
      ]
     },
     "metadata": {
      "needs_background": "light"
     },
     "output_type": "display_data"
    }
   ],
   "source": [
    "df_counts = pd.DataFrame({'Frequency': frequency}, index=y_labels)\n",
    "ax = df_counts.plot(kind='bar', figsize=(12, 8), title='Label Occurence in images in Train',\n",
    "             xlabel='Label', ylabel='Frequency', legend=False)\n",
    "\n",
    "# annotate\n",
    "ax.bar_label(ax.containers[0], label_type='edge')\n",
    "\n",
    "# pad the spacing between the number and the edge of the figure\n",
    "ax.margins(y=0.1)"
   ]
  },
  {
   "cell_type": "markdown",
   "id": "1dcf4af9",
   "metadata": {
    "papermill": {
     "duration": 0.641692,
     "end_time": "2022-05-15T18:52:24.737343",
     "exception": false,
     "start_time": "2022-05-15T18:52:24.095651",
     "status": "completed"
    },
    "tags": []
   },
   "source": [
    "The data is very sparse with most categories appearing less that 18% of the time. The two most common occurences are YFT and ALB, which occur less than 40% of the time."
   ]
  },
  {
   "cell_type": "code",
   "execution_count": 30,
   "id": "0ad7c0e1",
   "metadata": {
    "execution": {
     "iopub.execute_input": "2022-05-15T18:52:25.918518Z",
     "iopub.status.busy": "2022-05-15T18:52:25.918169Z",
     "iopub.status.idle": "2022-05-15T18:52:25.927433Z",
     "shell.execute_reply": "2022-05-15T18:52:25.926458Z"
    },
    "papermill": {
     "duration": 0.558069,
     "end_time": "2022-05-15T18:52:25.929905",
     "exception": false,
     "start_time": "2022-05-15T18:52:25.371836",
     "status": "completed"
    },
    "tags": []
   },
   "outputs": [
    {
     "data": {
      "text/plain": [
       "3\n",
       "0.0    94\n",
       "1.0     6\n",
       "dtype: int64"
      ]
     },
     "execution_count": 30,
     "metadata": {},
     "output_type": "execute_result"
    }
   ],
   "source": [
    "Y_test.groupby(3).size()"
   ]
  },
  {
   "cell_type": "code",
   "execution_count": 31,
   "id": "68a42f97",
   "metadata": {
    "execution": {
     "iopub.execute_input": "2022-05-15T18:52:26.911465Z",
     "iopub.status.busy": "2022-05-15T18:52:26.911175Z",
     "iopub.status.idle": "2022-05-15T18:52:26.933380Z",
     "shell.execute_reply": "2022-05-15T18:52:26.932402Z"
    },
    "papermill": {
     "duration": 0.515567,
     "end_time": "2022-05-15T18:52:26.935534",
     "exception": false,
     "start_time": "2022-05-15T18:52:26.419967",
     "status": "completed"
    },
    "tags": []
   },
   "outputs": [
    {
     "name": "stdout",
     "output_type": "stream",
     "text": [
      "14\n",
      "[0.95, 0.79, 0.71, 0.94, 0.92, 0.95, 0.96, 0.91, 0.96, 1.0, 1.0, 1.0, 0.98, 1.0]\n",
      "14\n",
      "[0.05, 0.21, 0.29, 0.06, 0.08, 0.05, 0.04, 0.09, 0.04, 0.0, 0.0, 0.0, 0.02, 0.0]\n",
      "14\n"
     ]
    }
   ],
   "source": [
    "print(len(y_labels))\n",
    "counts = []\n",
    "for i in range(0,14):\n",
    "    x = list(Y_test.groupby(i).size())\n",
    "    counts.append(x[0]/100)\n",
    "print(counts)\n",
    "print(len(counts))\n",
    "frequency= [round(1-i, 3) for i in counts]\n",
    "print(frequency)\n",
    "print(len(frequency))"
   ]
  },
  {
   "cell_type": "code",
   "execution_count": 32,
   "id": "e280b589",
   "metadata": {
    "execution": {
     "iopub.execute_input": "2022-05-15T18:52:27.896816Z",
     "iopub.status.busy": "2022-05-15T18:52:27.895948Z",
     "iopub.status.idle": "2022-05-15T18:52:28.256265Z",
     "shell.execute_reply": "2022-05-15T18:52:28.255292Z"
    },
    "papermill": {
     "duration": 0.84388,
     "end_time": "2022-05-15T18:52:28.258598",
     "exception": false,
     "start_time": "2022-05-15T18:52:27.414718",
     "status": "completed"
    },
    "tags": []
   },
   "outputs": [
    {
     "data": {
      "image/png": "[encoded data removed]",
      "text/plain": [
       "<Figure size 864x576 with 1 Axes>"
      ]
     },
     "metadata": {
      "needs_background": "light"
     },
     "output_type": "display_data"
    }
   ],
   "source": [
    "df_counts = pd.DataFrame({'Frequency': frequency}, index=y_labels)\n",
    "ax = df_counts.plot(kind='bar', figsize=(12, 8), title='Label Occurence in Images in Test',\n",
    "             xlabel='Label', ylabel='Frequency', legend=False)\n",
    "\n",
    "# annotate\n",
    "ax.bar_label(ax.containers[0], label_type='edge')\n",
    "\n",
    "# pad the spacing between the number and the edge of the figure\n",
    "ax.margins(y=0.1)"
   ]
  },
  {
   "cell_type": "markdown",
   "id": "20a25e2a",
   "metadata": {
    "papermill": {
     "duration": 0.477572,
     "end_time": "2022-05-15T18:52:29.219876",
     "exception": false,
     "start_time": "2022-05-15T18:52:28.742304",
     "status": "completed"
    },
    "tags": []
   },
   "source": [
    "In the test data the occurences become even sparser. Most categories occur less than 10% of the time, and many categories appear less than 5% of the time."
   ]
  },
  {
   "cell_type": "code",
   "execution_count": 33,
   "id": "28fb7f9e",
   "metadata": {
    "execution": {
     "iopub.execute_input": "2022-05-15T18:52:30.186896Z",
     "iopub.status.busy": "2022-05-15T18:52:30.186564Z",
     "iopub.status.idle": "2022-05-15T18:52:30.208793Z",
     "shell.execute_reply": "2022-05-15T18:52:30.207756Z"
    },
    "papermill": {
     "duration": 0.511234,
     "end_time": "2022-05-15T18:52:30.211303",
     "exception": false,
     "start_time": "2022-05-15T18:52:29.700069",
     "status": "completed"
    },
    "tags": []
   },
   "outputs": [
    {
     "name": "stdout",
     "output_type": "stream",
     "text": [
      "14\n",
      "[0.98, 0.97, 0.97, 1.0, 1.0, 1.0, 1.0, 0.99, 0.99, 1.0, 1.0, 1.0, 0.98, 1.0]\n",
      "14\n",
      "[0.02, 0.03, 0.03, 0.0, 0.0, 0.0, 0.0, 0.01, 0.01, 0.0, 0.0, 0.0, 0.02, 0.0]\n",
      "14\n"
     ]
    }
   ],
   "source": [
    "print(len(y_labels))\n",
    "counts = []\n",
    "for i in range(0,14):\n",
    "    x = list(Y_preds.groupby(i).size())\n",
    "    counts.append(x[0]/100)\n",
    "print(counts)\n",
    "print(len(counts))\n",
    "frequency= [round(1-i, 3) for i in counts]\n",
    "print(frequency)\n",
    "print(len(frequency))"
   ]
  },
  {
   "cell_type": "code",
   "execution_count": 34,
   "id": "dd45e702",
   "metadata": {
    "execution": {
     "iopub.execute_input": "2022-05-15T18:52:31.190314Z",
     "iopub.status.busy": "2022-05-15T18:52:31.190029Z",
     "iopub.status.idle": "2022-05-15T18:52:31.547994Z",
     "shell.execute_reply": "2022-05-15T18:52:31.547005Z"
    },
    "papermill": {
     "duration": 0.851011,
     "end_time": "2022-05-15T18:52:31.550393",
     "exception": false,
     "start_time": "2022-05-15T18:52:30.699382",
     "status": "completed"
    },
    "tags": []
   },
   "outputs": [
    {
     "data": {
      "image/png": "[encoded data removed]",
      "text/plain": [
       "<Figure size 864x576 with 1 Axes>"
      ]
     },
     "metadata": {
      "needs_background": "light"
     },
     "output_type": "display_data"
    }
   ],
   "source": [
    "df_counts = pd.DataFrame({'Frequency': frequency}, index=y_labels)\n",
    "ax = df_counts.plot(kind='bar', figsize=(12, 8), title='Label Occurence in Images in Prediction',\n",
    "             xlabel='Label', ylabel='Frequency', legend=False)\n",
    "\n",
    "# annotate\n",
    "ax.bar_label(ax.containers[0], label_type='edge')\n",
    "\n",
    "# pad the spacing between the number and the edge of the figure\n",
    "ax.margins(y=0.1)"
   ]
  },
  {
   "cell_type": "markdown",
   "id": "0efcf332",
   "metadata": {
    "papermill": {
     "duration": 0.480765,
     "end_time": "2022-05-15T18:52:32.512322",
     "exception": false,
     "start_time": "2022-05-15T18:52:32.031557",
     "status": "completed"
    },
    "tags": []
   },
   "source": [
    "The predictions lack of accuracy is highly apparent in the frequency plot, which ideally would be identically to the test plot."
   ]
  },
  {
   "cell_type": "code",
   "execution_count": 35,
   "id": "e3e09e3a",
   "metadata": {
    "execution": {
     "iopub.execute_input": "2022-05-15T18:52:33.476039Z",
     "iopub.status.busy": "2022-05-15T18:52:33.475723Z",
     "iopub.status.idle": "2022-05-15T18:52:33.480516Z",
     "shell.execute_reply": "2022-05-15T18:52:33.479389Z"
    },
    "papermill": {
     "duration": 0.48737,
     "end_time": "2022-05-15T18:52:33.483235",
     "exception": false,
     "start_time": "2022-05-15T18:52:32.995865",
     "status": "completed"
    },
    "tags": []
   },
   "outputs": [],
   "source": [
    "from sklearn.metrics import coverage_error"
   ]
  },
  {
   "cell_type": "code",
   "execution_count": 36,
   "id": "d57406bf",
   "metadata": {
    "execution": {
     "iopub.execute_input": "2022-05-15T18:52:34.444112Z",
     "iopub.status.busy": "2022-05-15T18:52:34.443532Z",
     "iopub.status.idle": "2022-05-15T18:52:34.452014Z",
     "shell.execute_reply": "2022-05-15T18:52:34.450762Z"
    },
    "papermill": {
     "duration": 0.495643,
     "end_time": "2022-05-15T18:52:34.455674",
     "exception": false,
     "start_time": "2022-05-15T18:52:33.960031",
     "status": "completed"
    },
    "tags": []
   },
   "outputs": [
    {
     "name": "stdout",
     "output_type": "stream",
     "text": [
      "10.79\n"
     ]
    }
   ],
   "source": [
    "print(coverage_error(y_test, y_pred))"
   ]
  },
  {
   "cell_type": "markdown",
   "id": "aa4f3877",
   "metadata": {
    "papermill": {
     "duration": 0.485501,
     "end_time": "2022-05-15T18:52:35.418236",
     "exception": false,
     "start_time": "2022-05-15T18:52:34.932735",
     "status": "completed"
    },
    "tags": []
   },
   "source": [
    "Here we look at further metrics to determine how in accurate the model is. A 'good' coverage error would be closer to the number of categories. "
   ]
  },
  {
   "cell_type": "code",
   "execution_count": 37,
   "id": "bb43d22c",
   "metadata": {
    "execution": {
     "iopub.execute_input": "2022-05-15T18:52:36.710132Z",
     "iopub.status.busy": "2022-05-15T18:52:36.709839Z",
     "iopub.status.idle": "2022-05-15T18:52:36.715112Z",
     "shell.execute_reply": "2022-05-15T18:52:36.714106Z"
    },
    "papermill": {
     "duration": 0.499704,
     "end_time": "2022-05-15T18:52:36.717242",
     "exception": false,
     "start_time": "2022-05-15T18:52:36.217538",
     "status": "completed"
    },
    "tags": []
   },
   "outputs": [],
   "source": [
    "exact_acc = (y_test == y_pred).all(axis=1).mean()"
   ]
  },
  {
   "cell_type": "code",
   "execution_count": 38,
   "id": "e8198059",
   "metadata": {
    "execution": {
     "iopub.execute_input": "2022-05-15T18:52:37.688268Z",
     "iopub.status.busy": "2022-05-15T18:52:37.687995Z",
     "iopub.status.idle": "2022-05-15T18:52:37.693559Z",
     "shell.execute_reply": "2022-05-15T18:52:37.692560Z"
    },
    "papermill": {
     "duration": 0.492498,
     "end_time": "2022-05-15T18:52:37.696180",
     "exception": false,
     "start_time": "2022-05-15T18:52:37.203682",
     "status": "completed"
    },
    "tags": []
   },
   "outputs": [
    {
     "name": "stdout",
     "output_type": "stream",
     "text": [
      "Exact Match Ratio: 0.2\n"
     ]
    }
   ],
   "source": [
    "print(\"Exact Match Ratio:\", exact_acc)"
   ]
  },
  {
   "cell_type": "markdown",
   "id": "a9df8506",
   "metadata": {
    "papermill": {
     "duration": 0.481736,
     "end_time": "2022-05-15T18:52:38.659033",
     "exception": false,
     "start_time": "2022-05-15T18:52:38.177297",
     "status": "completed"
    },
    "tags": []
   },
   "source": [
    "The exact match ratio is the number of rows that much perfectly. The ratio is 22%, which is not great but shows that one fifth of all the images were classified 100% correctly."
   ]
  },
  {
   "cell_type": "markdown",
   "id": "f30ddc2d",
   "metadata": {
    "papermill": {
     "duration": 0.492857,
     "end_time": "2022-05-15T18:52:39.634386",
     "exception": false,
     "start_time": "2022-05-15T18:52:39.141529",
     "status": "completed"
    },
    "tags": []
   },
   "source": [
    "## Previous Solutions"
   ]
  },
  {
   "cell_type": "markdown",
   "id": "fa45afe9",
   "metadata": {
    "papermill": {
     "duration": 0.48932,
     "end_time": "2022-05-15T18:52:40.615113",
     "exception": false,
     "start_time": "2022-05-15T18:52:40.125793",
     "status": "completed"
    },
    "tags": []
   },
   "source": [
    "In order to raise the accuracy without overfitting there were a variety of different solutions proposed. The first attempt was to create my own model without transfer modeling. The model predicted that every image had a YFT and a Human (a serious issue of overfitting returning a 98% accuracy). The next step was to use freezing layers, which also caused overfitting returning that each image had nothing in it. In addition to freezing layers, different learning rates were also tried, which once again brought the no categories present over fitting issue. The large issue with other solutions were overfitting, which predicted patterns based on the sparesenss of the dataset rather than what actually was in the image."
   ]
  },
  {
   "cell_type": "markdown",
   "id": "091094f1",
   "metadata": {
    "papermill": {
     "duration": 0.491102,
     "end_time": "2022-05-15T18:52:41.595979",
     "exception": false,
     "start_time": "2022-05-15T18:52:41.104877",
     "status": "completed"
    },
    "tags": []
   },
   "source": [
    "### Samples of Old Code"
   ]
  },
  {
   "cell_type": "markdown",
   "id": "a324a3a7",
   "metadata": {
    "papermill": {
     "duration": 0.483276,
     "end_time": "2022-05-15T18:52:42.565783",
     "exception": false,
     "start_time": "2022-05-15T18:52:42.082507",
     "status": "completed"
    },
    "tags": []
   },
   "source": [
    "#### Old Model\n",
    "*      model = Sequential()\n",
    "*      model.add(Conv2D(filters=16, kernel_size=(5, 5), activation=\"relu\", input_shape=(400,400,3)))\n",
    "*      model.add(MaxPooling2D(pool_size=(2, 2)))\n",
    "*      model.add(Dropout(0.25))\n",
    "*      model.add(Conv2D(filters=32, kernel_size=(5, 5), activation='relu'))   \n",
    "*      model.add(MaxPooling2D(pool_size=(2, 2)))\n",
    "*      model.add(Dropout(0.25))\n",
    "*      model.add(Conv2D(filters=64, kernel_size=(5, 5), activation=\"relu\"))\n",
    "*      model.add(MaxPooling2D(pool_size=(2, 2)))\n",
    "*      model.add(Dropout(0.25))\n",
    "*      model.add(Conv2D(filters=64, kernel_size=(5, 5), activation='relu'))\n",
    "*      model.add(MaxPooling2D(pool_size=(2, 2)))\n",
    "*      model.add(Dropout(0.25))\n",
    "*      model.add(Flatten())\n",
    "*      model.add(Dense(128, activation='relu'))\n",
    "*      model.add(Dropout(0.5))\n",
    "*      model.add(Dense(64, activation='relu'))\n",
    "*      model.add(Dropout(0.5))\n",
    "*      model.add(Dense(15, activation='sigmoid'))\n",
    "*      from keras.utils.vis_utils import plot_model"
   ]
  },
  {
   "cell_type": "markdown",
   "id": "5adf68ff",
   "metadata": {
    "papermill": {
     "duration": 0.476933,
     "end_time": "2022-05-15T18:52:43.521760",
     "exception": false,
     "start_time": "2022-05-15T18:52:43.044827",
     "status": "completed"
    },
    "tags": []
   },
   "source": [
    "\n",
    "* for layer in model2.layers[:172]:\n",
    "*        > layer.trainable = False\n",
    "* for layer in model2.layers[172:]:\n",
    "*       > layer.trainable = True\n",
    "* model.summary()\n",
    "* plot_model(model, to_file='model_plot.png', show_shapes=True, show_layer_names=True)\n",
    "* es = EarlyStopping(patience=3, restore_best_weights=True, monitor='val_accuracy') # Early stopping\n",
    "* initial_learning_rate = 0.01\n",
    "* epochs = 50\n",
    "* decay = initial_learning_rate / epochs\n",
    "* def lr_time_based_decay(epoch, lr):\n",
    "*     > return lr # 1 / (1 + decay # epoch)"
   ]
  },
  {
   "cell_type": "markdown",
   "id": "f742436c",
   "metadata": {
    "papermill": {
     "duration": 0.477485,
     "end_time": "2022-05-15T18:52:44.486038",
     "exception": false,
     "start_time": "2022-05-15T18:52:44.008553",
     "status": "completed"
    },
    "tags": []
   },
   "source": [
    "## Discussion and Results"
   ]
  },
  {
   "cell_type": "markdown",
   "id": "670b4387",
   "metadata": {
    "papermill": {
     "duration": 0.499228,
     "end_time": "2022-05-15T18:52:45.465362",
     "exception": false,
     "start_time": "2022-05-15T18:52:44.966134",
     "status": "completed"
    },
    "tags": []
   },
   "source": [
    "Fish identification is a difficult task. Fish depending on their age can have different fin structures, coloring, and can have radically different sizes. On top of this even trained marine biologists can not differentiate fish tuna species from each other without examining the fish's liver (i.e. yellowfin tuna and bigeye tuna). Using image labelling technology is not a silver bullet solution due to the variability in fish species. The proposed model's accuracy is a strong indicator about some of the challenges of image recognition and deep learning. One of the first questions the model raises is: Is image recognition right for this project? Arguably no, but image recognition can be used as a broad indicator to see catch number for maybe not fish species but maybe genus. A possible new project would be to differentiate between billfish (sowrdfish, marlin, spearfish) and tunas (bluefin Tuna, albacore, skipjack tuna). Another issue is the distribution of how often the classes appear. Most of the classes appear rarely in an image, which makes it difficult to train the model because an accurate model can predict an image saying that it has none of the classes in it and still be fairly accurate a significant portion of the time. By having broader categories (i.e. by selecting by genus), the occurence issue would be partially alleviated. In addition, we could weight the images so that there is more diversity in the training set, so the model can train more effectively. Using image recognition and multilabelling does have merit to further protect the environment and our fisheries and would be best served with more research. Due to the limitations of resources (RAM limitations for one) and data this project faced major challeneges. With more research and a rexamining of what the goal of our project is, a more accurate and helpful model is possible. However, this model serves as an indicator about the hardships of multilabelling, and serves as useful reminder that deep learning is not necessarily a silver bullet solution."
   ]
  }
 ],
 "metadata": {
  "kernelspec": {
   "display_name": "Python 3",
   "language": "python",
   "name": "python3"
  },
  "language_info": {
   "codemirror_mode": {
    "name": "ipython",
    "version": 3
   },
   "file_extension": ".py",
   "mimetype": "text/x-python",
   "name": "python",
   "nbconvert_exporter": "python",
   "pygments_lexer": "ipython3",
   "version": "3.7.12"
  },
  "papermill": {
   "default_parameters": {},
   "duration": 441.738728,
   "end_time": "2022-05-15T18:52:49.020311",
   "environment_variables": {},
   "exception": null,
   "input_path": "__notebook__.ipynb",
   "output_path": "__notebook__.ipynb",
   "parameters": {},
   "start_time": "2022-05-15T18:45:27.281583",
   "version": "2.3.4"
  }
 },
 "nbformat": 4,
 "nbformat_minor": 5
}
