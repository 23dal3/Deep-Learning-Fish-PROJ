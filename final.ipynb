{
 "cells": [
  {
   "cell_type": "markdown",
   "id": "4704f036",
   "metadata": {
    "papermill": {
     "duration": 0.055093,
     "end_time": "2022-05-15T16:57:19.630537",
     "exception": false,
     "start_time": "2022-05-15T16:57:19.575444",
     "status": "completed"
    },
    "tags": []
   },
   "source": [
    "# A Deep Learning Program Run on Commercial Pelagic Vessels in the Pacific"
   ]
  },
  {
   "cell_type": "markdown",
   "id": "53a7f552",
   "metadata": {
    "papermill": {
     "duration": 0.053121,
     "end_time": "2022-05-15T16:57:19.737058",
     "exception": false,
     "start_time": "2022-05-15T16:57:19.683937",
     "status": "completed"
    },
    "tags": []
   },
   "source": [
    "## Introduction"
   ]
  },
  {
   "cell_type": "markdown",
   "id": "c09fe8ab",
   "metadata": {
    "papermill": {
     "duration": 0.053014,
     "end_time": "2022-05-15T16:57:19.843061",
     "exception": false,
     "start_time": "2022-05-15T16:57:19.790047",
     "status": "completed"
    },
    "tags": []
   },
   "source": [
    "With the advent of modern technologies, we have seen unprecedented growth, yet this growth is proving to be problematic. An area that hs been heavily impacted by these modern technologies is our oceans. This project seeks to create a solution to an issue facing commercial pelagic longliners in the Pacific Ocean. An industrial longliner can set over 500 miles (800 km) worth of line with over ten thouasands hooks. With so many hooks, longliners have trouble keeping track of catches, and this is where this deep learning project seeks to help. By using deep learning image labelling, this project aims to be able to identify fish species in an image. The data set was retrieved from https://www.fishnet.ai/download from the v0.2.0 Dataset (September 2020) and has 12 GB of images containing different fish and animal species from commerical longliners operating in the Pacific.  The goal of this project is to able to accurately return the species present in an image and be able to predict the species in an image. "
   ]
  },
  {
   "cell_type": "markdown",
   "id": "7161f3bf",
   "metadata": {
    "papermill": {
     "duration": 0.05377,
     "end_time": "2022-05-15T16:57:19.950080",
     "exception": false,
     "start_time": "2022-05-15T16:57:19.896310",
     "status": "completed"
    },
    "tags": []
   },
   "source": [
    "**Packages Used**"
   ]
  },
  {
   "cell_type": "code",
   "execution_count": 1,
   "id": "500d7791",
   "metadata": {
    "execution": {
     "iopub.execute_input": "2022-05-15T16:57:20.060388Z",
     "iopub.status.busy": "2022-05-15T16:57:20.059997Z",
     "iopub.status.idle": "2022-05-15T16:57:25.906716Z",
     "shell.execute_reply": "2022-05-15T16:57:25.906018Z"
    },
    "papermill": {
     "duration": 5.903977,
     "end_time": "2022-05-15T16:57:25.909233",
     "exception": false,
     "start_time": "2022-05-15T16:57:20.005256",
     "status": "completed"
    },
    "tags": []
   },
   "outputs": [],
   "source": [
    "import shutil \n",
    "import keras\n",
    "from tensorflow.keras.applications.vgg16 import VGG16\n",
    "from keras.models import Sequential\n",
    "from keras.layers import Dense, Dropout, Flatten\n",
    "from keras.layers import Conv2D, MaxPooling2D\n",
    "from keras.utils import *\n",
    "from keras.preprocessing import image\n",
    "import os\n",
    "import numpy as np # linear algebra\n",
    "import pandas as pd # data processing, CSV file I/O (e.g. pd.read_csv)\n",
    "import matplotlib.pyplot as plt\n",
    "from sklearn.model_selection import train_test_split\n",
    "from tqdm import tqdm\n",
    "from tensorflow.keras.callbacks import EarlyStopping # early stopping\n",
    "import matplotlib.pyplot as plt\n",
    "from tensorflow.keras.applications.resnet50 import ResNet50, preprocess_input, decode_predictions\n",
    "from keras.applications.mobilenet_v2 import MobileNetV2\n",
    "from keras.applications.mobilenet import preprocess_input\n",
    "from tensorflow.keras.preprocessing.image import ImageDataGenerator\n",
    "np.random.seed(34)"
   ]
  },
  {
   "cell_type": "markdown",
   "id": "eca8af08",
   "metadata": {
    "papermill": {
     "duration": 0.05405,
     "end_time": "2022-05-15T16:57:26.018201",
     "exception": false,
     "start_time": "2022-05-15T16:57:25.964151",
     "status": "completed"
    },
    "tags": []
   },
   "source": [
    "## Data Preprocessing"
   ]
  },
  {
   "cell_type": "markdown",
   "id": "7e277fa9",
   "metadata": {
    "papermill": {
     "duration": 0.053687,
     "end_time": "2022-05-15T16:57:26.126226",
     "exception": false,
     "start_time": "2022-05-15T16:57:26.072539",
     "status": "completed"
    },
    "tags": []
   },
   "source": [
    "The original CSV (\"*foid_labels_bbox_v020.csv*\") contains 9 categories the image name, the bounding box, its corresponding dimensions, and the corresponding labels with the bounding boxes. For the purpose of multilabeling images, in this project only *label_l2* and image name is utilized.  The categoris in *label_l2* are \n",
    "> ['HUMAN', 'NoF', 'YFT', 'ALB', 'OTH', 'BILL', 'DOL', 'BET', 'SKJ', 'LAG', 'SHARK', 'OIL', 'PLS', 'TUNA', 'WATER']\n",
    "\n",
    "each label represents either kind of fish or an obstruction on the camera. \n"
   ]
  },
  {
   "cell_type": "markdown",
   "id": "1de5efce",
   "metadata": {
    "papermill": {
     "duration": 0.053604,
     "end_time": "2022-05-15T16:57:26.233049",
     "exception": false,
     "start_time": "2022-05-15T16:57:26.179445",
     "status": "completed"
    },
    "tags": []
   },
   "source": [
    "Due to RAM complications, this project takes a randomly selected group of 10,000 images, which were saved into a CSV file (\"*Subsetted_Fish.csv*\"). The fish data frame takes the image id and 15 categories based on *label_l2*. Each column in the fish data frame is a *label_l2* category, and if the image contains one of those categories it has a 0 in the respective column else it has a zero (binary encoding of contains? Y/N)."
   ]
  },
  {
   "cell_type": "markdown",
   "id": "dc8c3a96",
   "metadata": {
    "_kg_hide-input": true,
    "papermill": {
     "duration": 0.053137,
     "end_time": "2022-05-15T16:57:26.339145",
     "exception": false,
     "start_time": "2022-05-15T16:57:26.286008",
     "status": "completed"
    },
    "tags": []
   },
   "source": [
    "## Solution"
   ]
  },
  {
   "cell_type": "markdown",
   "id": "0e293b42",
   "metadata": {
    "papermill": {
     "duration": 0.053048,
     "end_time": "2022-05-15T16:57:26.445300",
     "exception": false,
     "start_time": "2022-05-15T16:57:26.392252",
     "status": "completed"
    },
    "tags": []
   },
   "source": [
    "First *Subsetted_Fish.csv* is read in (in this case called *file_name.csv*). And assign it to the pandas dataframe named subsetted. "
   ]
  },
  {
   "cell_type": "code",
   "execution_count": 2,
   "id": "0ea1597c",
   "metadata": {
    "execution": {
     "iopub.execute_input": "2022-05-15T16:57:26.554020Z",
     "iopub.status.busy": "2022-05-15T16:57:26.553756Z",
     "iopub.status.idle": "2022-05-15T16:57:26.587843Z",
     "shell.execute_reply": "2022-05-15T16:57:26.587160Z"
    },
    "papermill": {
     "duration": 0.091367,
     "end_time": "2022-05-15T16:57:26.589616",
     "exception": false,
     "start_time": "2022-05-15T16:57:26.498249",
     "status": "completed"
    },
    "tags": []
   },
   "outputs": [],
   "source": [
    "subsetted= pd.read_csv(\"../input/subsetted/file_name.csv\")\n"
   ]
  },
  {
   "cell_type": "markdown",
   "id": "57f92e76",
   "metadata": {
    "papermill": {
     "duration": 0.053908,
     "end_time": "2022-05-15T16:57:26.697498",
     "exception": false,
     "start_time": "2022-05-15T16:57:26.643590",
     "status": "completed"
    },
    "tags": []
   },
   "source": [
    "Next in order to assign the corresponding images found in the \"subsetted\" dataframe a new folder called 'image' is created using the \n",
    "**os** package. "
   ]
  },
  {
   "cell_type": "code",
   "execution_count": 3,
   "id": "12837733",
   "metadata": {
    "execution": {
     "iopub.execute_input": "2022-05-15T16:57:26.807329Z",
     "iopub.status.busy": "2022-05-15T16:57:26.806607Z",
     "iopub.status.idle": "2022-05-15T16:57:26.810727Z",
     "shell.execute_reply": "2022-05-15T16:57:26.810041Z"
    },
    "papermill": {
     "duration": 0.061499,
     "end_time": "2022-05-15T16:57:26.812440",
     "exception": false,
     "start_time": "2022-05-15T16:57:26.750941",
     "status": "completed"
    },
    "tags": []
   },
   "outputs": [],
   "source": [
    "os.makedirs('image')"
   ]
  },
  {
   "cell_type": "markdown",
   "id": "e073cd0a",
   "metadata": {
    "papermill": {
     "duration": 0.054501,
     "end_time": "2022-05-15T16:57:26.921273",
     "exception": false,
     "start_time": "2022-05-15T16:57:26.866772",
     "status": "completed"
    },
    "tags": []
   },
   "source": [
    "In order for \"subsetted\" to be used properly it needs to be cleaned. First, the null values must be filled with 0 for the absence of that category in the image. Next, the redundant row \"Unnamed\" is dropped. The new \"subsetted\" data frame is called proper as it is properly formatted."
   ]
  },
  {
   "cell_type": "code",
   "execution_count": 4,
   "id": "d29d27e0",
   "metadata": {
    "execution": {
     "iopub.execute_input": "2022-05-15T16:57:27.031209Z",
     "iopub.status.busy": "2022-05-15T16:57:27.030932Z",
     "iopub.status.idle": "2022-05-15T16:57:27.073465Z",
     "shell.execute_reply": "2022-05-15T16:57:27.072688Z"
    },
    "papermill": {
     "duration": 0.101428,
     "end_time": "2022-05-15T16:57:27.076717",
     "exception": false,
     "start_time": "2022-05-15T16:57:26.975289",
     "status": "completed"
    },
    "tags": []
   },
   "outputs": [
    {
     "data": {
      "text/html": [
       "<div>\n",
       "<style scoped>\n",
       "    .dataframe tbody tr th:only-of-type {\n",
       "        vertical-align: middle;\n",
       "    }\n",
       "\n",
       "    .dataframe tbody tr th {\n",
       "        vertical-align: top;\n",
       "    }\n",
       "\n",
       "    .dataframe thead th {\n",
       "        text-align: right;\n",
       "    }\n",
       "</style>\n",
       "<table border=\"1\" class=\"dataframe\">\n",
       "  <thead>\n",
       "    <tr style=\"text-align: right;\">\n",
       "      <th></th>\n",
       "      <th>img_id</th>\n",
       "      <th>HUMAN</th>\n",
       "      <th>NoF</th>\n",
       "      <th>YFT</th>\n",
       "      <th>ALB</th>\n",
       "      <th>OTH</th>\n",
       "      <th>BILL</th>\n",
       "      <th>DOL</th>\n",
       "      <th>BET</th>\n",
       "      <th>SKJ</th>\n",
       "      <th>LAG</th>\n",
       "      <th>SHARK</th>\n",
       "      <th>OIL</th>\n",
       "      <th>PLS</th>\n",
       "      <th>TUNA</th>\n",
       "      <th>WATER</th>\n",
       "    </tr>\n",
       "  </thead>\n",
       "  <tbody>\n",
       "    <tr>\n",
       "      <th>0</th>\n",
       "      <td>dabf988c-db28-11ea-b646-f751770c2667</td>\n",
       "      <td>1.0</td>\n",
       "      <td>0.0</td>\n",
       "      <td>0.0</td>\n",
       "      <td>1.0</td>\n",
       "      <td>0.0</td>\n",
       "      <td>0.0</td>\n",
       "      <td>0.0</td>\n",
       "      <td>0.0</td>\n",
       "      <td>0.0</td>\n",
       "      <td>0.0</td>\n",
       "      <td>0.0</td>\n",
       "      <td>0.0</td>\n",
       "      <td>0.0</td>\n",
       "      <td>0.0</td>\n",
       "      <td>0.0</td>\n",
       "    </tr>\n",
       "    <tr>\n",
       "      <th>1</th>\n",
       "      <td>da4cbfa6-db28-11ea-b466-bb5f9e1c58d1</td>\n",
       "      <td>1.0</td>\n",
       "      <td>0.0</td>\n",
       "      <td>0.0</td>\n",
       "      <td>1.0</td>\n",
       "      <td>0.0</td>\n",
       "      <td>0.0</td>\n",
       "      <td>0.0</td>\n",
       "      <td>0.0</td>\n",
       "      <td>0.0</td>\n",
       "      <td>0.0</td>\n",
       "      <td>0.0</td>\n",
       "      <td>0.0</td>\n",
       "      <td>0.0</td>\n",
       "      <td>0.0</td>\n",
       "      <td>0.0</td>\n",
       "    </tr>\n",
       "    <tr>\n",
       "      <th>2</th>\n",
       "      <td>94d2518e-23f0-11e9-a8ae-97372c179db9</td>\n",
       "      <td>1.0</td>\n",
       "      <td>0.0</td>\n",
       "      <td>0.0</td>\n",
       "      <td>0.0</td>\n",
       "      <td>0.0</td>\n",
       "      <td>0.0</td>\n",
       "      <td>0.0</td>\n",
       "      <td>1.0</td>\n",
       "      <td>0.0</td>\n",
       "      <td>0.0</td>\n",
       "      <td>0.0</td>\n",
       "      <td>0.0</td>\n",
       "      <td>0.0</td>\n",
       "      <td>0.0</td>\n",
       "      <td>0.0</td>\n",
       "    </tr>\n",
       "    <tr>\n",
       "      <th>3</th>\n",
       "      <td>da97f94e-db28-11ea-a4e2-6bc6f4fb7b0e</td>\n",
       "      <td>1.0</td>\n",
       "      <td>0.0</td>\n",
       "      <td>0.0</td>\n",
       "      <td>1.0</td>\n",
       "      <td>0.0</td>\n",
       "      <td>0.0</td>\n",
       "      <td>0.0</td>\n",
       "      <td>0.0</td>\n",
       "      <td>1.0</td>\n",
       "      <td>0.0</td>\n",
       "      <td>0.0</td>\n",
       "      <td>0.0</td>\n",
       "      <td>0.0</td>\n",
       "      <td>0.0</td>\n",
       "      <td>0.0</td>\n",
       "    </tr>\n",
       "    <tr>\n",
       "      <th>4</th>\n",
       "      <td>dad1c426-db28-11ea-bb6b-3f63cdd14d9d</td>\n",
       "      <td>1.0</td>\n",
       "      <td>0.0</td>\n",
       "      <td>1.0</td>\n",
       "      <td>0.0</td>\n",
       "      <td>0.0</td>\n",
       "      <td>0.0</td>\n",
       "      <td>0.0</td>\n",
       "      <td>0.0</td>\n",
       "      <td>0.0</td>\n",
       "      <td>0.0</td>\n",
       "      <td>0.0</td>\n",
       "      <td>0.0</td>\n",
       "      <td>0.0</td>\n",
       "      <td>0.0</td>\n",
       "      <td>0.0</td>\n",
       "    </tr>\n",
       "  </tbody>\n",
       "</table>\n",
       "</div>"
      ],
      "text/plain": [
       "                                 img_id  HUMAN  NoF  YFT  ALB  OTH  BILL  DOL  \\\n",
       "0  dabf988c-db28-11ea-b646-f751770c2667    1.0  0.0  0.0  1.0  0.0   0.0  0.0   \n",
       "1  da4cbfa6-db28-11ea-b466-bb5f9e1c58d1    1.0  0.0  0.0  1.0  0.0   0.0  0.0   \n",
       "2  94d2518e-23f0-11e9-a8ae-97372c179db9    1.0  0.0  0.0  0.0  0.0   0.0  0.0   \n",
       "3  da97f94e-db28-11ea-a4e2-6bc6f4fb7b0e    1.0  0.0  0.0  1.0  0.0   0.0  0.0   \n",
       "4  dad1c426-db28-11ea-bb6b-3f63cdd14d9d    1.0  0.0  1.0  0.0  0.0   0.0  0.0   \n",
       "\n",
       "   BET  SKJ  LAG  SHARK  OIL  PLS  TUNA  WATER  \n",
       "0  0.0  0.0  0.0    0.0  0.0  0.0   0.0    0.0  \n",
       "1  0.0  0.0  0.0    0.0  0.0  0.0   0.0    0.0  \n",
       "2  1.0  0.0  0.0    0.0  0.0  0.0   0.0    0.0  \n",
       "3  0.0  1.0  0.0    0.0  0.0  0.0   0.0    0.0  \n",
       "4  0.0  0.0  0.0    0.0  0.0  0.0   0.0    0.0  "
      ]
     },
     "execution_count": 4,
     "metadata": {},
     "output_type": "execute_result"
    }
   ],
   "source": [
    "proper = subsetted.fillna(0)\n",
    "proper = proper.drop(columns=\"Unnamed: 0\")\n",
    "proper.head()"
   ]
  },
  {
   "cell_type": "markdown",
   "id": "e603fa6f",
   "metadata": {
    "papermill": {
     "duration": 0.056016,
     "end_time": "2022-05-15T16:57:27.195882",
     "exception": false,
     "start_time": "2022-05-15T16:57:27.139866",
     "status": "completed"
    },
    "tags": []
   },
   "source": [
    "Since humans are present in every single image it does not make sense to include this category because the 'accuracy' while the other labels in the images are not present."
   ]
  },
  {
   "cell_type": "code",
   "execution_count": 5,
   "id": "7cd6bab5",
   "metadata": {
    "execution": {
     "iopub.execute_input": "2022-05-15T16:57:27.308357Z",
     "iopub.status.busy": "2022-05-15T16:57:27.308106Z",
     "iopub.status.idle": "2022-05-15T16:57:27.332350Z",
     "shell.execute_reply": "2022-05-15T16:57:27.331606Z"
    },
    "papermill": {
     "duration": 0.082147,
     "end_time": "2022-05-15T16:57:27.334189",
     "exception": false,
     "start_time": "2022-05-15T16:57:27.252042",
     "status": "completed"
    },
    "tags": []
   },
   "outputs": [
    {
     "data": {
      "text/html": [
       "<div>\n",
       "<style scoped>\n",
       "    .dataframe tbody tr th:only-of-type {\n",
       "        vertical-align: middle;\n",
       "    }\n",
       "\n",
       "    .dataframe tbody tr th {\n",
       "        vertical-align: top;\n",
       "    }\n",
       "\n",
       "    .dataframe thead th {\n",
       "        text-align: right;\n",
       "    }\n",
       "</style>\n",
       "<table border=\"1\" class=\"dataframe\">\n",
       "  <thead>\n",
       "    <tr style=\"text-align: right;\">\n",
       "      <th></th>\n",
       "      <th>img_id</th>\n",
       "      <th>NoF</th>\n",
       "      <th>YFT</th>\n",
       "      <th>ALB</th>\n",
       "      <th>OTH</th>\n",
       "      <th>BILL</th>\n",
       "      <th>DOL</th>\n",
       "      <th>BET</th>\n",
       "      <th>SKJ</th>\n",
       "      <th>LAG</th>\n",
       "      <th>SHARK</th>\n",
       "      <th>OIL</th>\n",
       "      <th>PLS</th>\n",
       "      <th>TUNA</th>\n",
       "      <th>WATER</th>\n",
       "    </tr>\n",
       "  </thead>\n",
       "  <tbody>\n",
       "    <tr>\n",
       "      <th>0</th>\n",
       "      <td>dabf988c-db28-11ea-b646-f751770c2667</td>\n",
       "      <td>0.0</td>\n",
       "      <td>0.0</td>\n",
       "      <td>1.0</td>\n",
       "      <td>0.0</td>\n",
       "      <td>0.0</td>\n",
       "      <td>0.0</td>\n",
       "      <td>0.0</td>\n",
       "      <td>0.0</td>\n",
       "      <td>0.0</td>\n",
       "      <td>0.0</td>\n",
       "      <td>0.0</td>\n",
       "      <td>0.0</td>\n",
       "      <td>0.0</td>\n",
       "      <td>0.0</td>\n",
       "    </tr>\n",
       "    <tr>\n",
       "      <th>1</th>\n",
       "      <td>da4cbfa6-db28-11ea-b466-bb5f9e1c58d1</td>\n",
       "      <td>0.0</td>\n",
       "      <td>0.0</td>\n",
       "      <td>1.0</td>\n",
       "      <td>0.0</td>\n",
       "      <td>0.0</td>\n",
       "      <td>0.0</td>\n",
       "      <td>0.0</td>\n",
       "      <td>0.0</td>\n",
       "      <td>0.0</td>\n",
       "      <td>0.0</td>\n",
       "      <td>0.0</td>\n",
       "      <td>0.0</td>\n",
       "      <td>0.0</td>\n",
       "      <td>0.0</td>\n",
       "    </tr>\n",
       "    <tr>\n",
       "      <th>2</th>\n",
       "      <td>94d2518e-23f0-11e9-a8ae-97372c179db9</td>\n",
       "      <td>0.0</td>\n",
       "      <td>0.0</td>\n",
       "      <td>0.0</td>\n",
       "      <td>0.0</td>\n",
       "      <td>0.0</td>\n",
       "      <td>0.0</td>\n",
       "      <td>1.0</td>\n",
       "      <td>0.0</td>\n",
       "      <td>0.0</td>\n",
       "      <td>0.0</td>\n",
       "      <td>0.0</td>\n",
       "      <td>0.0</td>\n",
       "      <td>0.0</td>\n",
       "      <td>0.0</td>\n",
       "    </tr>\n",
       "    <tr>\n",
       "      <th>3</th>\n",
       "      <td>da97f94e-db28-11ea-a4e2-6bc6f4fb7b0e</td>\n",
       "      <td>0.0</td>\n",
       "      <td>0.0</td>\n",
       "      <td>1.0</td>\n",
       "      <td>0.0</td>\n",
       "      <td>0.0</td>\n",
       "      <td>0.0</td>\n",
       "      <td>0.0</td>\n",
       "      <td>1.0</td>\n",
       "      <td>0.0</td>\n",
       "      <td>0.0</td>\n",
       "      <td>0.0</td>\n",
       "      <td>0.0</td>\n",
       "      <td>0.0</td>\n",
       "      <td>0.0</td>\n",
       "    </tr>\n",
       "    <tr>\n",
       "      <th>4</th>\n",
       "      <td>dad1c426-db28-11ea-bb6b-3f63cdd14d9d</td>\n",
       "      <td>0.0</td>\n",
       "      <td>1.0</td>\n",
       "      <td>0.0</td>\n",
       "      <td>0.0</td>\n",
       "      <td>0.0</td>\n",
       "      <td>0.0</td>\n",
       "      <td>0.0</td>\n",
       "      <td>0.0</td>\n",
       "      <td>0.0</td>\n",
       "      <td>0.0</td>\n",
       "      <td>0.0</td>\n",
       "      <td>0.0</td>\n",
       "      <td>0.0</td>\n",
       "      <td>0.0</td>\n",
       "    </tr>\n",
       "  </tbody>\n",
       "</table>\n",
       "</div>"
      ],
      "text/plain": [
       "                                 img_id  NoF  YFT  ALB  OTH  BILL  DOL  BET  \\\n",
       "0  dabf988c-db28-11ea-b646-f751770c2667  0.0  0.0  1.0  0.0   0.0  0.0  0.0   \n",
       "1  da4cbfa6-db28-11ea-b466-bb5f9e1c58d1  0.0  0.0  1.0  0.0   0.0  0.0  0.0   \n",
       "2  94d2518e-23f0-11e9-a8ae-97372c179db9  0.0  0.0  0.0  0.0   0.0  0.0  1.0   \n",
       "3  da97f94e-db28-11ea-a4e2-6bc6f4fb7b0e  0.0  0.0  1.0  0.0   0.0  0.0  0.0   \n",
       "4  dad1c426-db28-11ea-bb6b-3f63cdd14d9d  0.0  1.0  0.0  0.0   0.0  0.0  0.0   \n",
       "\n",
       "   SKJ  LAG  SHARK  OIL  PLS  TUNA  WATER  \n",
       "0  0.0  0.0    0.0  0.0  0.0   0.0    0.0  \n",
       "1  0.0  0.0    0.0  0.0  0.0   0.0    0.0  \n",
       "2  0.0  0.0    0.0  0.0  0.0   0.0    0.0  \n",
       "3  1.0  0.0    0.0  0.0  0.0   0.0    0.0  \n",
       "4  0.0  0.0    0.0  0.0  0.0   0.0    0.0  "
      ]
     },
     "execution_count": 5,
     "metadata": {},
     "output_type": "execute_result"
    }
   ],
   "source": [
    "# Testing w/o Humans\n",
    "proper = proper.drop(columns=\"HUMAN\")\n",
    "proper.head()"
   ]
  },
  {
   "cell_type": "markdown",
   "id": "a6e60ba3",
   "metadata": {
    "papermill": {
     "duration": 0.054124,
     "end_time": "2022-05-15T16:57:27.448516",
     "exception": false,
     "start_time": "2022-05-15T16:57:27.394392",
     "status": "completed"
    },
    "tags": []
   },
   "source": [
    "The image names then are put into a list called *list_ids*, so we can move the images in \"proper\" to the image folder."
   ]
  },
  {
   "cell_type": "code",
   "execution_count": 6,
   "id": "8e0e4eb8",
   "metadata": {
    "execution": {
     "iopub.execute_input": "2022-05-15T16:57:27.559177Z",
     "iopub.status.busy": "2022-05-15T16:57:27.558792Z",
     "iopub.status.idle": "2022-05-15T16:57:27.566710Z",
     "shell.execute_reply": "2022-05-15T16:57:27.566050Z"
    },
    "papermill": {
     "duration": 0.065517,
     "end_time": "2022-05-15T16:57:27.568609",
     "exception": false,
     "start_time": "2022-05-15T16:57:27.503092",
     "status": "completed"
    },
    "tags": []
   },
   "outputs": [
    {
     "data": {
      "text/plain": [
       "'da97f94e-db28-11ea-a4e2-6bc6f4fb7b0e'"
      ]
     },
     "execution_count": 6,
     "metadata": {},
     "output_type": "execute_result"
    }
   ],
   "source": [
    "list_ids= list(proper['img_id'])\n",
    "list_ids[3]"
   ]
  },
  {
   "cell_type": "markdown",
   "id": "3cf3ba58",
   "metadata": {
    "papermill": {
     "duration": 0.054631,
     "end_time": "2022-05-15T16:57:27.678317",
     "exception": false,
     "start_time": "2022-05-15T16:57:27.623686",
     "status": "completed"
    },
    "tags": []
   },
   "source": [
    "Using the image ids from *list_ids*, the image id is then concatenated with where the file is stored ( a Kaggle data set). Then if the image does not exist then there is a failure and the function exits. If the file path does exists the image is copied then moved into the image folder using the **shutil** package."
   ]
  },
  {
   "cell_type": "code",
   "execution_count": 7,
   "id": "62fed103",
   "metadata": {
    "execution": {
     "iopub.execute_input": "2022-05-15T16:57:27.789587Z",
     "iopub.status.busy": "2022-05-15T16:57:27.788910Z",
     "iopub.status.idle": "2022-05-15T16:58:17.486011Z",
     "shell.execute_reply": "2022-05-15T16:58:17.485296Z"
    },
    "papermill": {
     "duration": 49.754641,
     "end_time": "2022-05-15T16:58:17.487742",
     "exception": false,
     "start_time": "2022-05-15T16:57:27.733101",
     "status": "completed"
    },
    "tags": []
   },
   "outputs": [
    {
     "name": "stderr",
     "output_type": "stream",
     "text": [
      "100%|██████████| 10000/10000 [00:49<00:00, 201.26it/s]\n"
     ]
    }
   ],
   "source": [
    "for i in tqdm(list_ids):\n",
    "    c = i+'.jpg'\n",
    "    get_image = '/kaggle/input/attempt-13/foid_images_v020/images/' + c\n",
    "    if not os.path.exists('/kaggle/input/attempt-13/foid_images_v020/images/'+c):\n",
    "            print(\"FAILED\")\n",
    "            break\n",
    "    else:\n",
    "        move_image = shutil.copy(get_image,'/kaggle/working/image/')"
   ]
  },
  {
   "cell_type": "markdown",
   "id": "9df2621f",
   "metadata": {
    "execution": {
     "iopub.execute_input": "2022-05-14T14:45:57.911355Z",
     "iopub.status.busy": "2022-05-14T14:45:57.910616Z",
     "iopub.status.idle": "2022-05-14T14:45:57.919834Z",
     "shell.execute_reply": "2022-05-14T14:45:57.918429Z",
     "shell.execute_reply.started": "2022-05-14T14:45:57.911314Z"
    },
    "papermill": {
     "duration": 0.275666,
     "end_time": "2022-05-15T16:58:17.954215",
     "exception": false,
     "start_time": "2022-05-15T16:58:17.678549",
     "status": "completed"
    },
    "tags": []
   },
   "source": [
    "Due to RAM limits, \"proper\" is further subsetted to 1000 images. The new data frame is called \"proper_sub\"."
   ]
  },
  {
   "cell_type": "code",
   "execution_count": 8,
   "id": "0a689c2c",
   "metadata": {
    "execution": {
     "iopub.execute_input": "2022-05-15T16:58:18.530951Z",
     "iopub.status.busy": "2022-05-15T16:58:18.530712Z",
     "iopub.status.idle": "2022-05-15T16:58:18.534365Z",
     "shell.execute_reply": "2022-05-15T16:58:18.533708Z"
    },
    "papermill": {
     "duration": 0.244671,
     "end_time": "2022-05-15T16:58:18.536034",
     "exception": false,
     "start_time": "2022-05-15T16:58:18.291363",
     "status": "completed"
    },
    "tags": []
   },
   "outputs": [],
   "source": [
    "proper_sub= proper.head(1000)\n"
   ]
  },
  {
   "cell_type": "markdown",
   "id": "6f142296",
   "metadata": {
    "papermill": {
     "duration": 0.200695,
     "end_time": "2022-05-15T16:58:18.938659",
     "exception": false,
     "start_time": "2022-05-15T16:58:18.737964",
     "status": "completed"
    },
    "tags": []
   },
   "source": [
    "Printing out the first 5 elements of the data frame \"proper_sub\"."
   ]
  },
  {
   "cell_type": "code",
   "execution_count": 9,
   "id": "957b3738",
   "metadata": {
    "execution": {
     "iopub.execute_input": "2022-05-15T16:58:19.341723Z",
     "iopub.status.busy": "2022-05-15T16:58:19.341459Z",
     "iopub.status.idle": "2022-05-15T16:58:19.366413Z",
     "shell.execute_reply": "2022-05-15T16:58:19.365536Z"
    },
    "papermill": {
     "duration": 0.229676,
     "end_time": "2022-05-15T16:58:19.368685",
     "exception": false,
     "start_time": "2022-05-15T16:58:19.139009",
     "status": "completed"
    },
    "tags": []
   },
   "outputs": [
    {
     "data": {
      "text/html": [
       "<div>\n",
       "<style scoped>\n",
       "    .dataframe tbody tr th:only-of-type {\n",
       "        vertical-align: middle;\n",
       "    }\n",
       "\n",
       "    .dataframe tbody tr th {\n",
       "        vertical-align: top;\n",
       "    }\n",
       "\n",
       "    .dataframe thead th {\n",
       "        text-align: right;\n",
       "    }\n",
       "</style>\n",
       "<table border=\"1\" class=\"dataframe\">\n",
       "  <thead>\n",
       "    <tr style=\"text-align: right;\">\n",
       "      <th></th>\n",
       "      <th>img_id</th>\n",
       "      <th>NoF</th>\n",
       "      <th>YFT</th>\n",
       "      <th>ALB</th>\n",
       "      <th>OTH</th>\n",
       "      <th>BILL</th>\n",
       "      <th>DOL</th>\n",
       "      <th>BET</th>\n",
       "      <th>SKJ</th>\n",
       "      <th>LAG</th>\n",
       "      <th>SHARK</th>\n",
       "      <th>OIL</th>\n",
       "      <th>PLS</th>\n",
       "      <th>TUNA</th>\n",
       "      <th>WATER</th>\n",
       "    </tr>\n",
       "  </thead>\n",
       "  <tbody>\n",
       "    <tr>\n",
       "      <th>0</th>\n",
       "      <td>dabf988c-db28-11ea-b646-f751770c2667</td>\n",
       "      <td>0.0</td>\n",
       "      <td>0.0</td>\n",
       "      <td>1.0</td>\n",
       "      <td>0.0</td>\n",
       "      <td>0.0</td>\n",
       "      <td>0.0</td>\n",
       "      <td>0.0</td>\n",
       "      <td>0.0</td>\n",
       "      <td>0.0</td>\n",
       "      <td>0.0</td>\n",
       "      <td>0.0</td>\n",
       "      <td>0.0</td>\n",
       "      <td>0.0</td>\n",
       "      <td>0.0</td>\n",
       "    </tr>\n",
       "    <tr>\n",
       "      <th>1</th>\n",
       "      <td>da4cbfa6-db28-11ea-b466-bb5f9e1c58d1</td>\n",
       "      <td>0.0</td>\n",
       "      <td>0.0</td>\n",
       "      <td>1.0</td>\n",
       "      <td>0.0</td>\n",
       "      <td>0.0</td>\n",
       "      <td>0.0</td>\n",
       "      <td>0.0</td>\n",
       "      <td>0.0</td>\n",
       "      <td>0.0</td>\n",
       "      <td>0.0</td>\n",
       "      <td>0.0</td>\n",
       "      <td>0.0</td>\n",
       "      <td>0.0</td>\n",
       "      <td>0.0</td>\n",
       "    </tr>\n",
       "    <tr>\n",
       "      <th>2</th>\n",
       "      <td>94d2518e-23f0-11e9-a8ae-97372c179db9</td>\n",
       "      <td>0.0</td>\n",
       "      <td>0.0</td>\n",
       "      <td>0.0</td>\n",
       "      <td>0.0</td>\n",
       "      <td>0.0</td>\n",
       "      <td>0.0</td>\n",
       "      <td>1.0</td>\n",
       "      <td>0.0</td>\n",
       "      <td>0.0</td>\n",
       "      <td>0.0</td>\n",
       "      <td>0.0</td>\n",
       "      <td>0.0</td>\n",
       "      <td>0.0</td>\n",
       "      <td>0.0</td>\n",
       "    </tr>\n",
       "    <tr>\n",
       "      <th>3</th>\n",
       "      <td>da97f94e-db28-11ea-a4e2-6bc6f4fb7b0e</td>\n",
       "      <td>0.0</td>\n",
       "      <td>0.0</td>\n",
       "      <td>1.0</td>\n",
       "      <td>0.0</td>\n",
       "      <td>0.0</td>\n",
       "      <td>0.0</td>\n",
       "      <td>0.0</td>\n",
       "      <td>1.0</td>\n",
       "      <td>0.0</td>\n",
       "      <td>0.0</td>\n",
       "      <td>0.0</td>\n",
       "      <td>0.0</td>\n",
       "      <td>0.0</td>\n",
       "      <td>0.0</td>\n",
       "    </tr>\n",
       "    <tr>\n",
       "      <th>4</th>\n",
       "      <td>dad1c426-db28-11ea-bb6b-3f63cdd14d9d</td>\n",
       "      <td>0.0</td>\n",
       "      <td>1.0</td>\n",
       "      <td>0.0</td>\n",
       "      <td>0.0</td>\n",
       "      <td>0.0</td>\n",
       "      <td>0.0</td>\n",
       "      <td>0.0</td>\n",
       "      <td>0.0</td>\n",
       "      <td>0.0</td>\n",
       "      <td>0.0</td>\n",
       "      <td>0.0</td>\n",
       "      <td>0.0</td>\n",
       "      <td>0.0</td>\n",
       "      <td>0.0</td>\n",
       "    </tr>\n",
       "  </tbody>\n",
       "</table>\n",
       "</div>"
      ],
      "text/plain": [
       "                                 img_id  NoF  YFT  ALB  OTH  BILL  DOL  BET  \\\n",
       "0  dabf988c-db28-11ea-b646-f751770c2667  0.0  0.0  1.0  0.0   0.0  0.0  0.0   \n",
       "1  da4cbfa6-db28-11ea-b466-bb5f9e1c58d1  0.0  0.0  1.0  0.0   0.0  0.0  0.0   \n",
       "2  94d2518e-23f0-11e9-a8ae-97372c179db9  0.0  0.0  0.0  0.0   0.0  0.0  1.0   \n",
       "3  da97f94e-db28-11ea-a4e2-6bc6f4fb7b0e  0.0  0.0  1.0  0.0   0.0  0.0  0.0   \n",
       "4  dad1c426-db28-11ea-bb6b-3f63cdd14d9d  0.0  1.0  0.0  0.0   0.0  0.0  0.0   \n",
       "\n",
       "   SKJ  LAG  SHARK  OIL  PLS  TUNA  WATER  \n",
       "0  0.0  0.0    0.0  0.0  0.0   0.0    0.0  \n",
       "1  0.0  0.0    0.0  0.0  0.0   0.0    0.0  \n",
       "2  0.0  0.0    0.0  0.0  0.0   0.0    0.0  \n",
       "3  1.0  0.0    0.0  0.0  0.0   0.0    0.0  \n",
       "4  0.0  0.0    0.0  0.0  0.0   0.0    0.0  "
      ]
     },
     "execution_count": 9,
     "metadata": {},
     "output_type": "execute_result"
    }
   ],
   "source": [
    "proper_sub.head()"
   ]
  },
  {
   "cell_type": "markdown",
   "id": "ec12b36b",
   "metadata": {
    "papermill": {
     "duration": 0.19116,
     "end_time": "2022-05-15T16:58:19.755904",
     "exception": false,
     "start_time": "2022-05-15T16:58:19.564744",
     "status": "completed"
    },
    "tags": []
   },
   "source": [
    "We are creating the image array called **X**. First all the rows are taken in to account, row by row the for loop resizes the images in to a (400, 400, 3) shape. The images are then converted to an array and rescaled by 255. The rescaled images are saved to **numpy** array called **X**."
   ]
  },
  {
   "cell_type": "code",
   "execution_count": 10,
   "id": "62f1ad4b",
   "metadata": {
    "execution": {
     "iopub.execute_input": "2022-05-15T16:58:20.140325Z",
     "iopub.status.busy": "2022-05-15T16:58:20.140068Z",
     "iopub.status.idle": "2022-05-15T16:58:36.243391Z",
     "shell.execute_reply": "2022-05-15T16:58:36.242643Z"
    },
    "papermill": {
     "duration": 16.298564,
     "end_time": "2022-05-15T16:58:36.245805",
     "exception": false,
     "start_time": "2022-05-15T16:58:19.947241",
     "status": "completed"
    },
    "tags": []
   },
   "outputs": [
    {
     "name": "stderr",
     "output_type": "stream",
     "text": [
      "100%|██████████| 1000/1000 [00:15<00:00, 64.31it/s]\n"
     ]
    }
   ],
   "source": [
    "train_image = []\n",
    "for i in tqdm(range(proper_sub.shape[0])):\n",
    "    img = image.load_img('./image/'+proper['img_id'][i]+'.jpg',target_size=(400,400,3))\n",
    "    img = image.img_to_array(img)\n",
    "    img = img/255\n",
    "    train_image.append(img)\n",
    "X = np.array(train_image)"
   ]
  },
  {
   "cell_type": "markdown",
   "id": "c52264c1",
   "metadata": {
    "papermill": {
     "duration": 0.243868,
     "end_time": "2022-05-15T16:58:36.722071",
     "exception": false,
     "start_time": "2022-05-15T16:58:36.478203",
     "status": "completed"
    },
    "tags": []
   },
   "source": [
    "The dimensions of **X** are *1000x400x400x3*."
   ]
  },
  {
   "cell_type": "code",
   "execution_count": 11,
   "id": "12b6c60d",
   "metadata": {
    "execution": {
     "iopub.execute_input": "2022-05-15T16:58:37.231389Z",
     "iopub.status.busy": "2022-05-15T16:58:37.231146Z",
     "iopub.status.idle": "2022-05-15T16:58:37.236338Z",
     "shell.execute_reply": "2022-05-15T16:58:37.235522Z"
    },
    "papermill": {
     "duration": 0.253483,
     "end_time": "2022-05-15T16:58:37.239132",
     "exception": false,
     "start_time": "2022-05-15T16:58:36.985649",
     "status": "completed"
    },
    "tags": []
   },
   "outputs": [
    {
     "data": {
      "text/plain": [
       "(1000, 400, 400, 3)"
      ]
     },
     "execution_count": 11,
     "metadata": {},
     "output_type": "execute_result"
    }
   ],
   "source": [
    "X.shape"
   ]
  },
  {
   "cell_type": "markdown",
   "id": "93021558",
   "metadata": {
    "papermill": {
     "duration": 0.23178,
     "end_time": "2022-05-15T16:58:37.704700",
     "exception": false,
     "start_time": "2022-05-15T16:58:37.472920",
     "status": "completed"
    },
    "tags": []
   },
   "source": [
    "To check if **X** worked properly, using matplotlib, the second array value is converted back into an image."
   ]
  },
  {
   "cell_type": "code",
   "execution_count": 12,
   "id": "e9e1e456",
   "metadata": {
    "execution": {
     "iopub.execute_input": "2022-05-15T16:58:38.261398Z",
     "iopub.status.busy": "2022-05-15T16:58:38.261141Z",
     "iopub.status.idle": "2022-05-15T16:58:38.495873Z",
     "shell.execute_reply": "2022-05-15T16:58:38.495183Z"
    },
    "papermill": {
     "duration": 0.475233,
     "end_time": "2022-05-15T16:58:38.498839",
     "exception": false,
     "start_time": "2022-05-15T16:58:38.023606",
     "status": "completed"
    },
    "tags": []
   },
   "outputs": [
    {
     "data": {
      "text/plain": [
       "<matplotlib.image.AxesImage at 0x7fdafe8ab650>"
      ]
     },
     "execution_count": 12,
     "metadata": {},
     "output_type": "execute_result"
    },
    {
     "data": {
      "image/png": "[encoded data removed]",
      "text/plain": [
       "<Figure size 432x288 with 1 Axes>"
      ]
     },
     "metadata": {
      "needs_background": "light"
     },
     "output_type": "display_data"
    }
   ],
   "source": [
    "plt.imshow(X[2])"
   ]
  },
  {
   "cell_type": "markdown",
   "id": "a8bda971",
   "metadata": {
    "papermill": {
     "duration": 0.2392,
     "end_time": "2022-05-15T16:58:38.973358",
     "exception": false,
     "start_time": "2022-05-15T16:58:38.734158",
     "status": "completed"
    },
    "tags": []
   },
   "source": [
    "Next the **Y** array is created from the #proper_sub#, for proper cleaning the 'img_id' column must be dropped."
   ]
  },
  {
   "cell_type": "code",
   "execution_count": 13,
   "id": "043889bf",
   "metadata": {
    "execution": {
     "iopub.execute_input": "2022-05-15T16:58:39.447431Z",
     "iopub.status.busy": "2022-05-15T16:58:39.447184Z",
     "iopub.status.idle": "2022-05-15T16:58:39.454162Z",
     "shell.execute_reply": "2022-05-15T16:58:39.453439Z"
    },
    "papermill": {
     "duration": 0.245475,
     "end_time": "2022-05-15T16:58:39.455949",
     "exception": false,
     "start_time": "2022-05-15T16:58:39.210474",
     "status": "completed"
    },
    "tags": []
   },
   "outputs": [
    {
     "data": {
      "text/plain": [
       "(1000, 14)"
      ]
     },
     "execution_count": 13,
     "metadata": {},
     "output_type": "execute_result"
    }
   ],
   "source": [
    "y = np.array(proper_sub.drop(['img_id'],axis=1))\n",
    "y.shape"
   ]
  },
  {
   "cell_type": "markdown",
   "id": "042771a8",
   "metadata": {
    "papermill": {
     "duration": 0.363997,
     "end_time": "2022-05-15T16:58:40.056819",
     "exception": false,
     "start_time": "2022-05-15T16:58:39.692822",
     "status": "completed"
    },
    "tags": []
   },
   "source": [
    "Using the **sklearn** package we take the train_test_split function inputting the **X** and **y** **numpy** arrays. The arrays are then split into X_train, X_test, y_train, and y_test."
   ]
  },
  {
   "cell_type": "code",
   "execution_count": 14,
   "id": "424fc8d3",
   "metadata": {
    "execution": {
     "iopub.execute_input": "2022-05-15T16:58:40.679788Z",
     "iopub.status.busy": "2022-05-15T16:58:40.679511Z",
     "iopub.status.idle": "2022-05-15T16:58:41.257854Z",
     "shell.execute_reply": "2022-05-15T16:58:41.257144Z"
    },
    "papermill": {
     "duration": 0.841685,
     "end_time": "2022-05-15T16:58:41.260487",
     "exception": false,
     "start_time": "2022-05-15T16:58:40.418802",
     "status": "completed"
    },
    "tags": []
   },
   "outputs": [],
   "source": [
    "X_train, X_test, y_train, y_test = train_test_split(X, y, random_state=42, test_size=0.1)"
   ]
  },
  {
   "cell_type": "markdown",
   "id": "d7df3fcd",
   "metadata": {
    "papermill": {
     "duration": 0.249172,
     "end_time": "2022-05-15T16:58:41.752581",
     "exception": false,
     "start_time": "2022-05-15T16:58:41.503409",
     "status": "completed"
    },
    "tags": []
   },
   "source": [
    "# "
   ]
  },
  {
   "cell_type": "markdown",
   "id": "1ff0a4b6",
   "metadata": {
    "papermill": {
     "duration": 0.23881,
     "end_time": "2022-05-15T16:58:42.255109",
     "exception": false,
     "start_time": "2022-05-15T16:58:42.016299",
     "status": "completed"
    },
    "tags": []
   },
   "source": [
    "### Actually Creating the Model"
   ]
  },
  {
   "cell_type": "markdown",
   "id": "e4be1683",
   "metadata": {
    "papermill": {
     "duration": 0.235951,
     "end_time": "2022-05-15T16:58:42.728075",
     "exception": false,
     "start_time": "2022-05-15T16:58:42.492124",
     "status": "completed"
    },
    "tags": []
   },
   "source": [
    "After much trial and tribulation, the decision was made to use transfer learning rather than a model from scratch.\n",
    "\n",
    "Utilizing the **MobileNetV2**, the model takes in the image of size (400, 400, 3) then uses the weights associated with the imagenet database. We also utilize a 2D pooling. The model ouput kayer has 14 neurons (one for each category), and uses *sigmoid* to normalize the values."
   ]
  },
  {
   "cell_type": "code",
   "execution_count": 15,
   "id": "59f7cffd",
   "metadata": {
    "execution": {
     "iopub.execute_input": "2022-05-15T16:58:43.236406Z",
     "iopub.status.busy": "2022-05-15T16:58:43.236133Z",
     "iopub.status.idle": "2022-05-15T16:58:47.293436Z",
     "shell.execute_reply": "2022-05-15T16:58:47.292763Z"
    },
    "papermill": {
     "duration": 4.305773,
     "end_time": "2022-05-15T16:58:47.295480",
     "exception": false,
     "start_time": "2022-05-15T16:58:42.989707",
     "status": "completed"
    },
    "tags": []
   },
   "outputs": [
    {
     "name": "stderr",
     "output_type": "stream",
     "text": [
      "2022-05-15 16:58:43.339375: I tensorflow/stream_executor/cuda/cuda_gpu_executor.cc:937] successful NUMA node read from SysFS had negative value (-1), but there must be at least one NUMA node, so returning NUMA node zero\n",
      "2022-05-15 16:58:43.558711: I tensorflow/stream_executor/cuda/cuda_gpu_executor.cc:937] successful NUMA node read from SysFS had negative value (-1), but there must be at least one NUMA node, so returning NUMA node zero\n",
      "2022-05-15 16:58:43.559543: I tensorflow/stream_executor/cuda/cuda_gpu_executor.cc:937] successful NUMA node read from SysFS had negative value (-1), but there must be at least one NUMA node, so returning NUMA node zero\n",
      "2022-05-15 16:58:43.561175: I tensorflow/core/platform/cpu_feature_guard.cc:142] This TensorFlow binary is optimized with oneAPI Deep Neural Network Library (oneDNN) to use the following CPU instructions in performance-critical operations:  AVX2 AVX512F FMA\n",
      "To enable them in other operations, rebuild TensorFlow with the appropriate compiler flags.\n",
      "2022-05-15 16:58:43.561469: I tensorflow/stream_executor/cuda/cuda_gpu_executor.cc:937] successful NUMA node read from SysFS had negative value (-1), but there must be at least one NUMA node, so returning NUMA node zero\n",
      "2022-05-15 16:58:43.562187: I tensorflow/stream_executor/cuda/cuda_gpu_executor.cc:937] successful NUMA node read from SysFS had negative value (-1), but there must be at least one NUMA node, so returning NUMA node zero\n",
      "2022-05-15 16:58:43.562823: I tensorflow/stream_executor/cuda/cuda_gpu_executor.cc:937] successful NUMA node read from SysFS had negative value (-1), but there must be at least one NUMA node, so returning NUMA node zero\n",
      "2022-05-15 16:58:45.660350: I tensorflow/stream_executor/cuda/cuda_gpu_executor.cc:937] successful NUMA node read from SysFS had negative value (-1), but there must be at least one NUMA node, so returning NUMA node zero\n",
      "2022-05-15 16:58:45.661226: I tensorflow/stream_executor/cuda/cuda_gpu_executor.cc:937] successful NUMA node read from SysFS had negative value (-1), but there must be at least one NUMA node, so returning NUMA node zero\n",
      "2022-05-15 16:58:45.661881: I tensorflow/stream_executor/cuda/cuda_gpu_executor.cc:937] successful NUMA node read from SysFS had negative value (-1), but there must be at least one NUMA node, so returning NUMA node zero\n",
      "2022-05-15 16:58:45.663614: I tensorflow/core/common_runtime/gpu/gpu_device.cc:1510] Created device /job:localhost/replica:0/task:0/device:GPU:0 with 15403 MB memory:  -> device: 0, name: Tesla P100-PCIE-16GB, pci bus id: 0000:00:04.0, compute capability: 6.0\n"
     ]
    },
    {
     "name": "stdout",
     "output_type": "stream",
     "text": [
      "Downloading data from https://storage.googleapis.com/tensorflow/keras-applications/mobilenet_v2/mobilenet_v2_weights_tf_dim_ordering_tf_kernels_1.0_224_no_top.h5\n",
      "9412608/9406464 [==============================] - 0s 0us/step\n",
      "9420800/9406464 [==============================] - 0s 0us/step\n"
     ]
    }
   ],
   "source": [
    "from tensorflow.keras.initializers import HeNormal\n",
    "from tensorflow.keras.layers import Dense, GlobalAveragePooling2D\n",
    "from tensorflow.keras.models import Model\n",
    "#model2 = Sequential()\n",
    "#model2.add()\n",
    "\n",
    "base_model = MobileNetV2(input_shape = (400, 400, 3), include_top = False, weights = \"imagenet\")\n",
    "x = base_model.output\n",
    "x = GlobalAveragePooling2D()(x)\n",
    "# ADD A DENSE LAYER WITH 1024 neurons\n",
    "x = Dense(1024, activation='relu', kernel_initializer=HeNormal())(x)\n",
    "# ADD AN OUTPUT LAYER FOR BINARY CLASSIFICATION\n",
    "#predictions = Dense(15, activation='sigmoid')(x)\n",
    "## Test w/o Humans\n",
    "predictions = Dense(14, activation='sigmoid')(x)\n",
    "## returns 13% accuracy\n",
    "model2 = Model(inputs=base_model.input, outputs=predictions)\n"
   ]
  },
  {
   "cell_type": "markdown",
   "id": "385e5a92",
   "metadata": {
    "papermill": {
     "duration": 0.478249,
     "end_time": "2022-05-15T16:58:48.208728",
     "exception": false,
     "start_time": "2022-05-15T16:58:47.730479",
     "status": "completed"
    },
    "tags": []
   },
   "source": [
    "We output the model summary of the model, which **MobileNetV2** slightly modified."
   ]
  },
  {
   "cell_type": "code",
   "execution_count": 16,
   "id": "df512c5f",
   "metadata": {
    "execution": {
     "iopub.execute_input": "2022-05-15T16:58:48.927748Z",
     "iopub.status.busy": "2022-05-15T16:58:48.927453Z",
     "iopub.status.idle": "2022-05-15T16:58:49.006557Z",
     "shell.execute_reply": "2022-05-15T16:58:49.005726Z"
    },
    "papermill": {
     "duration": 0.40017,
     "end_time": "2022-05-15T16:58:49.020528",
     "exception": false,
     "start_time": "2022-05-15T16:58:48.620358",
     "status": "completed"
    },
    "tags": []
   },
   "outputs": [
    {
     "name": "stdout",
     "output_type": "stream",
     "text": [
      "Model: \"model\"\n",
      "__________________________________________________________________________________________________\n",
      "Layer (type)                    Output Shape         Param #     Connected to                     \n",
      "==================================================================================================\n",
      "input_1 (InputLayer)            [(None, 400, 400, 3) 0                                            \n",
      "__________________________________________________________________________________________________\n",
      "Conv1 (Conv2D)                  (None, 200, 200, 32) 864         input_1[0][0]                    \n",
      "__________________________________________________________________________________________________\n",
      "bn_Conv1 (BatchNormalization)   (None, 200, 200, 32) 128         Conv1[0][0]                      \n",
      "__________________________________________________________________________________________________\n",
      "Conv1_relu (ReLU)               (None, 200, 200, 32) 0           bn_Conv1[0][0]                   \n",
      "__________________________________________________________________________________________________\n",
      "expanded_conv_depthwise (Depthw (None, 200, 200, 32) 288         Conv1_relu[0][0]                 \n",
      "__________________________________________________________________________________________________\n",
      "expanded_conv_depthwise_BN (Bat (None, 200, 200, 32) 128         expanded_conv_depthwise[0][0]    \n",
      "__________________________________________________________________________________________________\n",
      "expanded_conv_depthwise_relu (R (None, 200, 200, 32) 0           expanded_conv_depthwise_BN[0][0] \n",
      "__________________________________________________________________________________________________\n",
      "expanded_conv_project (Conv2D)  (None, 200, 200, 16) 512         expanded_conv_depthwise_relu[0][0\n",
      "__________________________________________________________________________________________________\n",
      "expanded_conv_project_BN (Batch (None, 200, 200, 16) 64          expanded_conv_project[0][0]      \n",
      "__________________________________________________________________________________________________\n",
      "block_1_expand (Conv2D)         (None, 200, 200, 96) 1536        expanded_conv_project_BN[0][0]   \n",
      "__________________________________________________________________________________________________\n",
      "block_1_expand_BN (BatchNormali (None, 200, 200, 96) 384         block_1_expand[0][0]             \n",
      "__________________________________________________________________________________________________\n",
      "block_1_expand_relu (ReLU)      (None, 200, 200, 96) 0           block_1_expand_BN[0][0]          \n",
      "__________________________________________________________________________________________________\n",
      "block_1_pad (ZeroPadding2D)     (None, 201, 201, 96) 0           block_1_expand_relu[0][0]        \n",
      "__________________________________________________________________________________________________\n",
      "block_1_depthwise (DepthwiseCon (None, 100, 100, 96) 864         block_1_pad[0][0]                \n",
      "__________________________________________________________________________________________________\n",
      "block_1_depthwise_BN (BatchNorm (None, 100, 100, 96) 384         block_1_depthwise[0][0]          \n",
      "__________________________________________________________________________________________________\n",
      "block_1_depthwise_relu (ReLU)   (None, 100, 100, 96) 0           block_1_depthwise_BN[0][0]       \n",
      "__________________________________________________________________________________________________\n",
      "block_1_project (Conv2D)        (None, 100, 100, 24) 2304        block_1_depthwise_relu[0][0]     \n",
      "__________________________________________________________________________________________________\n",
      "block_1_project_BN (BatchNormal (None, 100, 100, 24) 96          block_1_project[0][0]            \n",
      "__________________________________________________________________________________________________\n",
      "block_2_expand (Conv2D)         (None, 100, 100, 144 3456        block_1_project_BN[0][0]         \n",
      "__________________________________________________________________________________________________\n",
      "block_2_expand_BN (BatchNormali (None, 100, 100, 144 576         block_2_expand[0][0]             \n",
      "__________________________________________________________________________________________________\n",
      "block_2_expand_relu (ReLU)      (None, 100, 100, 144 0           block_2_expand_BN[0][0]          \n",
      "__________________________________________________________________________________________________\n",
      "block_2_depthwise (DepthwiseCon (None, 100, 100, 144 1296        block_2_expand_relu[0][0]        \n",
      "__________________________________________________________________________________________________\n",
      "block_2_depthwise_BN (BatchNorm (None, 100, 100, 144 576         block_2_depthwise[0][0]          \n",
      "__________________________________________________________________________________________________\n",
      "block_2_depthwise_relu (ReLU)   (None, 100, 100, 144 0           block_2_depthwise_BN[0][0]       \n",
      "__________________________________________________________________________________________________\n",
      "block_2_project (Conv2D)        (None, 100, 100, 24) 3456        block_2_depthwise_relu[0][0]     \n",
      "__________________________________________________________________________________________________\n",
      "block_2_project_BN (BatchNormal (None, 100, 100, 24) 96          block_2_project[0][0]            \n",
      "__________________________________________________________________________________________________\n",
      "block_2_add (Add)               (None, 100, 100, 24) 0           block_1_project_BN[0][0]         \n",
      "                                                                 block_2_project_BN[0][0]         \n",
      "__________________________________________________________________________________________________\n",
      "block_3_expand (Conv2D)         (None, 100, 100, 144 3456        block_2_add[0][0]                \n",
      "__________________________________________________________________________________________________\n",
      "block_3_expand_BN (BatchNormali (None, 100, 100, 144 576         block_3_expand[0][0]             \n",
      "__________________________________________________________________________________________________\n",
      "block_3_expand_relu (ReLU)      (None, 100, 100, 144 0           block_3_expand_BN[0][0]          \n",
      "__________________________________________________________________________________________________\n",
      "block_3_pad (ZeroPadding2D)     (None, 101, 101, 144 0           block_3_expand_relu[0][0]        \n",
      "__________________________________________________________________________________________________\n",
      "block_3_depthwise (DepthwiseCon (None, 50, 50, 144)  1296        block_3_pad[0][0]                \n",
      "__________________________________________________________________________________________________\n",
      "block_3_depthwise_BN (BatchNorm (None, 50, 50, 144)  576         block_3_depthwise[0][0]          \n",
      "__________________________________________________________________________________________________\n",
      "block_3_depthwise_relu (ReLU)   (None, 50, 50, 144)  0           block_3_depthwise_BN[0][0]       \n",
      "__________________________________________________________________________________________________\n",
      "block_3_project (Conv2D)        (None, 50, 50, 32)   4608        block_3_depthwise_relu[0][0]     \n",
      "__________________________________________________________________________________________________\n",
      "block_3_project_BN (BatchNormal (None, 50, 50, 32)   128         block_3_project[0][0]            \n",
      "__________________________________________________________________________________________________\n",
      "block_4_expand (Conv2D)         (None, 50, 50, 192)  6144        block_3_project_BN[0][0]         \n",
      "__________________________________________________________________________________________________\n",
      "block_4_expand_BN (BatchNormali (None, 50, 50, 192)  768         block_4_expand[0][0]             \n",
      "__________________________________________________________________________________________________\n",
      "block_4_expand_relu (ReLU)      (None, 50, 50, 192)  0           block_4_expand_BN[0][0]          \n",
      "__________________________________________________________________________________________________\n",
      "block_4_depthwise (DepthwiseCon (None, 50, 50, 192)  1728        block_4_expand_relu[0][0]        \n",
      "__________________________________________________________________________________________________\n",
      "block_4_depthwise_BN (BatchNorm (None, 50, 50, 192)  768         block_4_depthwise[0][0]          \n",
      "__________________________________________________________________________________________________\n",
      "block_4_depthwise_relu (ReLU)   (None, 50, 50, 192)  0           block_4_depthwise_BN[0][0]       \n",
      "__________________________________________________________________________________________________\n",
      "block_4_project (Conv2D)        (None, 50, 50, 32)   6144        block_4_depthwise_relu[0][0]     \n",
      "__________________________________________________________________________________________________\n",
      "block_4_project_BN (BatchNormal (None, 50, 50, 32)   128         block_4_project[0][0]            \n",
      "__________________________________________________________________________________________________\n",
      "block_4_add (Add)               (None, 50, 50, 32)   0           block_3_project_BN[0][0]         \n",
      "                                                                 block_4_project_BN[0][0]         \n",
      "__________________________________________________________________________________________________\n",
      "block_5_expand (Conv2D)         (None, 50, 50, 192)  6144        block_4_add[0][0]                \n",
      "__________________________________________________________________________________________________\n",
      "block_5_expand_BN (BatchNormali (None, 50, 50, 192)  768         block_5_expand[0][0]             \n",
      "__________________________________________________________________________________________________\n",
      "block_5_expand_relu (ReLU)      (None, 50, 50, 192)  0           block_5_expand_BN[0][0]          \n",
      "__________________________________________________________________________________________________\n",
      "block_5_depthwise (DepthwiseCon (None, 50, 50, 192)  1728        block_5_expand_relu[0][0]        \n",
      "__________________________________________________________________________________________________\n",
      "block_5_depthwise_BN (BatchNorm (None, 50, 50, 192)  768         block_5_depthwise[0][0]          \n",
      "__________________________________________________________________________________________________\n",
      "block_5_depthwise_relu (ReLU)   (None, 50, 50, 192)  0           block_5_depthwise_BN[0][0]       \n",
      "__________________________________________________________________________________________________\n",
      "block_5_project (Conv2D)        (None, 50, 50, 32)   6144        block_5_depthwise_relu[0][0]     \n",
      "__________________________________________________________________________________________________\n",
      "block_5_project_BN (BatchNormal (None, 50, 50, 32)   128         block_5_project[0][0]            \n",
      "__________________________________________________________________________________________________\n",
      "block_5_add (Add)               (None, 50, 50, 32)   0           block_4_add[0][0]                \n",
      "                                                                 block_5_project_BN[0][0]         \n",
      "__________________________________________________________________________________________________\n",
      "block_6_expand (Conv2D)         (None, 50, 50, 192)  6144        block_5_add[0][0]                \n",
      "__________________________________________________________________________________________________\n",
      "block_6_expand_BN (BatchNormali (None, 50, 50, 192)  768         block_6_expand[0][0]             \n",
      "__________________________________________________________________________________________________\n",
      "block_6_expand_relu (ReLU)      (None, 50, 50, 192)  0           block_6_expand_BN[0][0]          \n",
      "__________________________________________________________________________________________________\n",
      "block_6_pad (ZeroPadding2D)     (None, 51, 51, 192)  0           block_6_expand_relu[0][0]        \n",
      "__________________________________________________________________________________________________\n",
      "block_6_depthwise (DepthwiseCon (None, 25, 25, 192)  1728        block_6_pad[0][0]                \n",
      "__________________________________________________________________________________________________\n",
      "block_6_depthwise_BN (BatchNorm (None, 25, 25, 192)  768         block_6_depthwise[0][0]          \n",
      "__________________________________________________________________________________________________\n",
      "block_6_depthwise_relu (ReLU)   (None, 25, 25, 192)  0           block_6_depthwise_BN[0][0]       \n",
      "__________________________________________________________________________________________________\n",
      "block_6_project (Conv2D)        (None, 25, 25, 64)   12288       block_6_depthwise_relu[0][0]     \n",
      "__________________________________________________________________________________________________\n",
      "block_6_project_BN (BatchNormal (None, 25, 25, 64)   256         block_6_project[0][0]            \n",
      "__________________________________________________________________________________________________\n",
      "block_7_expand (Conv2D)         (None, 25, 25, 384)  24576       block_6_project_BN[0][0]         \n",
      "__________________________________________________________________________________________________\n",
      "block_7_expand_BN (BatchNormali (None, 25, 25, 384)  1536        block_7_expand[0][0]             \n",
      "__________________________________________________________________________________________________\n",
      "block_7_expand_relu (ReLU)      (None, 25, 25, 384)  0           block_7_expand_BN[0][0]          \n",
      "__________________________________________________________________________________________________\n",
      "block_7_depthwise (DepthwiseCon (None, 25, 25, 384)  3456        block_7_expand_relu[0][0]        \n",
      "__________________________________________________________________________________________________\n",
      "block_7_depthwise_BN (BatchNorm (None, 25, 25, 384)  1536        block_7_depthwise[0][0]          \n",
      "__________________________________________________________________________________________________\n",
      "block_7_depthwise_relu (ReLU)   (None, 25, 25, 384)  0           block_7_depthwise_BN[0][0]       \n",
      "__________________________________________________________________________________________________\n",
      "block_7_project (Conv2D)        (None, 25, 25, 64)   24576       block_7_depthwise_relu[0][0]     \n",
      "__________________________________________________________________________________________________\n",
      "block_7_project_BN (BatchNormal (None, 25, 25, 64)   256         block_7_project[0][0]            \n",
      "__________________________________________________________________________________________________\n",
      "block_7_add (Add)               (None, 25, 25, 64)   0           block_6_project_BN[0][0]         \n",
      "                                                                 block_7_project_BN[0][0]         \n",
      "__________________________________________________________________________________________________\n",
      "block_8_expand (Conv2D)         (None, 25, 25, 384)  24576       block_7_add[0][0]                \n",
      "__________________________________________________________________________________________________\n",
      "block_8_expand_BN (BatchNormali (None, 25, 25, 384)  1536        block_8_expand[0][0]             \n",
      "__________________________________________________________________________________________________\n",
      "block_8_expand_relu (ReLU)      (None, 25, 25, 384)  0           block_8_expand_BN[0][0]          \n",
      "__________________________________________________________________________________________________\n",
      "block_8_depthwise (DepthwiseCon (None, 25, 25, 384)  3456        block_8_expand_relu[0][0]        \n",
      "__________________________________________________________________________________________________\n",
      "block_8_depthwise_BN (BatchNorm (None, 25, 25, 384)  1536        block_8_depthwise[0][0]          \n",
      "__________________________________________________________________________________________________\n",
      "block_8_depthwise_relu (ReLU)   (None, 25, 25, 384)  0           block_8_depthwise_BN[0][0]       \n",
      "__________________________________________________________________________________________________\n",
      "block_8_project (Conv2D)        (None, 25, 25, 64)   24576       block_8_depthwise_relu[0][0]     \n",
      "__________________________________________________________________________________________________\n",
      "block_8_project_BN (BatchNormal (None, 25, 25, 64)   256         block_8_project[0][0]            \n",
      "__________________________________________________________________________________________________\n",
      "block_8_add (Add)               (None, 25, 25, 64)   0           block_7_add[0][0]                \n",
      "                                                                 block_8_project_BN[0][0]         \n",
      "__________________________________________________________________________________________________\n",
      "block_9_expand (Conv2D)         (None, 25, 25, 384)  24576       block_8_add[0][0]                \n",
      "__________________________________________________________________________________________________\n",
      "block_9_expand_BN (BatchNormali (None, 25, 25, 384)  1536        block_9_expand[0][0]             \n",
      "__________________________________________________________________________________________________\n",
      "block_9_expand_relu (ReLU)      (None, 25, 25, 384)  0           block_9_expand_BN[0][0]          \n",
      "__________________________________________________________________________________________________\n",
      "block_9_depthwise (DepthwiseCon (None, 25, 25, 384)  3456        block_9_expand_relu[0][0]        \n",
      "__________________________________________________________________________________________________\n",
      "block_9_depthwise_BN (BatchNorm (None, 25, 25, 384)  1536        block_9_depthwise[0][0]          \n",
      "__________________________________________________________________________________________________\n",
      "block_9_depthwise_relu (ReLU)   (None, 25, 25, 384)  0           block_9_depthwise_BN[0][0]       \n",
      "__________________________________________________________________________________________________\n",
      "block_9_project (Conv2D)        (None, 25, 25, 64)   24576       block_9_depthwise_relu[0][0]     \n",
      "__________________________________________________________________________________________________\n",
      "block_9_project_BN (BatchNormal (None, 25, 25, 64)   256         block_9_project[0][0]            \n",
      "__________________________________________________________________________________________________\n",
      "block_9_add (Add)               (None, 25, 25, 64)   0           block_8_add[0][0]                \n",
      "                                                                 block_9_project_BN[0][0]         \n",
      "__________________________________________________________________________________________________\n",
      "block_10_expand (Conv2D)        (None, 25, 25, 384)  24576       block_9_add[0][0]                \n",
      "__________________________________________________________________________________________________\n",
      "block_10_expand_BN (BatchNormal (None, 25, 25, 384)  1536        block_10_expand[0][0]            \n",
      "__________________________________________________________________________________________________\n",
      "block_10_expand_relu (ReLU)     (None, 25, 25, 384)  0           block_10_expand_BN[0][0]         \n",
      "__________________________________________________________________________________________________\n",
      "block_10_depthwise (DepthwiseCo (None, 25, 25, 384)  3456        block_10_expand_relu[0][0]       \n",
      "__________________________________________________________________________________________________\n",
      "block_10_depthwise_BN (BatchNor (None, 25, 25, 384)  1536        block_10_depthwise[0][0]         \n",
      "__________________________________________________________________________________________________\n",
      "block_10_depthwise_relu (ReLU)  (None, 25, 25, 384)  0           block_10_depthwise_BN[0][0]      \n",
      "__________________________________________________________________________________________________\n",
      "block_10_project (Conv2D)       (None, 25, 25, 96)   36864       block_10_depthwise_relu[0][0]    \n",
      "__________________________________________________________________________________________________\n",
      "block_10_project_BN (BatchNorma (None, 25, 25, 96)   384         block_10_project[0][0]           \n",
      "__________________________________________________________________________________________________\n",
      "block_11_expand (Conv2D)        (None, 25, 25, 576)  55296       block_10_project_BN[0][0]        \n",
      "__________________________________________________________________________________________________\n",
      "block_11_expand_BN (BatchNormal (None, 25, 25, 576)  2304        block_11_expand[0][0]            \n",
      "__________________________________________________________________________________________________\n",
      "block_11_expand_relu (ReLU)     (None, 25, 25, 576)  0           block_11_expand_BN[0][0]         \n",
      "__________________________________________________________________________________________________\n",
      "block_11_depthwise (DepthwiseCo (None, 25, 25, 576)  5184        block_11_expand_relu[0][0]       \n",
      "__________________________________________________________________________________________________\n",
      "block_11_depthwise_BN (BatchNor (None, 25, 25, 576)  2304        block_11_depthwise[0][0]         \n",
      "__________________________________________________________________________________________________\n",
      "block_11_depthwise_relu (ReLU)  (None, 25, 25, 576)  0           block_11_depthwise_BN[0][0]      \n",
      "__________________________________________________________________________________________________\n",
      "block_11_project (Conv2D)       (None, 25, 25, 96)   55296       block_11_depthwise_relu[0][0]    \n",
      "__________________________________________________________________________________________________\n",
      "block_11_project_BN (BatchNorma (None, 25, 25, 96)   384         block_11_project[0][0]           \n",
      "__________________________________________________________________________________________________\n",
      "block_11_add (Add)              (None, 25, 25, 96)   0           block_10_project_BN[0][0]        \n",
      "                                                                 block_11_project_BN[0][0]        \n",
      "__________________________________________________________________________________________________\n",
      "block_12_expand (Conv2D)        (None, 25, 25, 576)  55296       block_11_add[0][0]               \n",
      "__________________________________________________________________________________________________\n",
      "block_12_expand_BN (BatchNormal (None, 25, 25, 576)  2304        block_12_expand[0][0]            \n",
      "__________________________________________________________________________________________________\n",
      "block_12_expand_relu (ReLU)     (None, 25, 25, 576)  0           block_12_expand_BN[0][0]         \n",
      "__________________________________________________________________________________________________\n",
      "block_12_depthwise (DepthwiseCo (None, 25, 25, 576)  5184        block_12_expand_relu[0][0]       \n",
      "__________________________________________________________________________________________________\n",
      "block_12_depthwise_BN (BatchNor (None, 25, 25, 576)  2304        block_12_depthwise[0][0]         \n",
      "__________________________________________________________________________________________________\n",
      "block_12_depthwise_relu (ReLU)  (None, 25, 25, 576)  0           block_12_depthwise_BN[0][0]      \n",
      "__________________________________________________________________________________________________\n",
      "block_12_project (Conv2D)       (None, 25, 25, 96)   55296       block_12_depthwise_relu[0][0]    \n",
      "__________________________________________________________________________________________________\n",
      "block_12_project_BN (BatchNorma (None, 25, 25, 96)   384         block_12_project[0][0]           \n",
      "__________________________________________________________________________________________________\n",
      "block_12_add (Add)              (None, 25, 25, 96)   0           block_11_add[0][0]               \n",
      "                                                                 block_12_project_BN[0][0]        \n",
      "__________________________________________________________________________________________________\n",
      "block_13_expand (Conv2D)        (None, 25, 25, 576)  55296       block_12_add[0][0]               \n",
      "__________________________________________________________________________________________________\n",
      "block_13_expand_BN (BatchNormal (None, 25, 25, 576)  2304        block_13_expand[0][0]            \n",
      "__________________________________________________________________________________________________\n",
      "block_13_expand_relu (ReLU)     (None, 25, 25, 576)  0           block_13_expand_BN[0][0]         \n",
      "__________________________________________________________________________________________________\n",
      "block_13_pad (ZeroPadding2D)    (None, 27, 27, 576)  0           block_13_expand_relu[0][0]       \n",
      "__________________________________________________________________________________________________\n",
      "block_13_depthwise (DepthwiseCo (None, 13, 13, 576)  5184        block_13_pad[0][0]               \n",
      "__________________________________________________________________________________________________\n",
      "block_13_depthwise_BN (BatchNor (None, 13, 13, 576)  2304        block_13_depthwise[0][0]         \n",
      "__________________________________________________________________________________________________\n",
      "block_13_depthwise_relu (ReLU)  (None, 13, 13, 576)  0           block_13_depthwise_BN[0][0]      \n",
      "__________________________________________________________________________________________________\n",
      "block_13_project (Conv2D)       (None, 13, 13, 160)  92160       block_13_depthwise_relu[0][0]    \n",
      "__________________________________________________________________________________________________\n",
      "block_13_project_BN (BatchNorma (None, 13, 13, 160)  640         block_13_project[0][0]           \n",
      "__________________________________________________________________________________________________\n",
      "block_14_expand (Conv2D)        (None, 13, 13, 960)  153600      block_13_project_BN[0][0]        \n",
      "__________________________________________________________________________________________________\n",
      "block_14_expand_BN (BatchNormal (None, 13, 13, 960)  3840        block_14_expand[0][0]            \n",
      "__________________________________________________________________________________________________\n",
      "block_14_expand_relu (ReLU)     (None, 13, 13, 960)  0           block_14_expand_BN[0][0]         \n",
      "__________________________________________________________________________________________________\n",
      "block_14_depthwise (DepthwiseCo (None, 13, 13, 960)  8640        block_14_expand_relu[0][0]       \n",
      "__________________________________________________________________________________________________\n",
      "block_14_depthwise_BN (BatchNor (None, 13, 13, 960)  3840        block_14_depthwise[0][0]         \n",
      "__________________________________________________________________________________________________\n",
      "block_14_depthwise_relu (ReLU)  (None, 13, 13, 960)  0           block_14_depthwise_BN[0][0]      \n",
      "__________________________________________________________________________________________________\n",
      "block_14_project (Conv2D)       (None, 13, 13, 160)  153600      block_14_depthwise_relu[0][0]    \n",
      "__________________________________________________________________________________________________\n",
      "block_14_project_BN (BatchNorma (None, 13, 13, 160)  640         block_14_project[0][0]           \n",
      "__________________________________________________________________________________________________\n",
      "block_14_add (Add)              (None, 13, 13, 160)  0           block_13_project_BN[0][0]        \n",
      "                                                                 block_14_project_BN[0][0]        \n",
      "__________________________________________________________________________________________________\n",
      "block_15_expand (Conv2D)        (None, 13, 13, 960)  153600      block_14_add[0][0]               \n",
      "__________________________________________________________________________________________________\n",
      "block_15_expand_BN (BatchNormal (None, 13, 13, 960)  3840        block_15_expand[0][0]            \n",
      "__________________________________________________________________________________________________\n",
      "block_15_expand_relu (ReLU)     (None, 13, 13, 960)  0           block_15_expand_BN[0][0]         \n",
      "__________________________________________________________________________________________________\n",
      "block_15_depthwise (DepthwiseCo (None, 13, 13, 960)  8640        block_15_expand_relu[0][0]       \n",
      "__________________________________________________________________________________________________\n",
      "block_15_depthwise_BN (BatchNor (None, 13, 13, 960)  3840        block_15_depthwise[0][0]         \n",
      "__________________________________________________________________________________________________\n",
      "block_15_depthwise_relu (ReLU)  (None, 13, 13, 960)  0           block_15_depthwise_BN[0][0]      \n",
      "__________________________________________________________________________________________________\n",
      "block_15_project (Conv2D)       (None, 13, 13, 160)  153600      block_15_depthwise_relu[0][0]    \n",
      "__________________________________________________________________________________________________\n",
      "block_15_project_BN (BatchNorma (None, 13, 13, 160)  640         block_15_project[0][0]           \n",
      "__________________________________________________________________________________________________\n",
      "block_15_add (Add)              (None, 13, 13, 160)  0           block_14_add[0][0]               \n",
      "                                                                 block_15_project_BN[0][0]        \n",
      "__________________________________________________________________________________________________\n",
      "block_16_expand (Conv2D)        (None, 13, 13, 960)  153600      block_15_add[0][0]               \n",
      "__________________________________________________________________________________________________\n",
      "block_16_expand_BN (BatchNormal (None, 13, 13, 960)  3840        block_16_expand[0][0]            \n",
      "__________________________________________________________________________________________________\n",
      "block_16_expand_relu (ReLU)     (None, 13, 13, 960)  0           block_16_expand_BN[0][0]         \n",
      "__________________________________________________________________________________________________\n",
      "block_16_depthwise (DepthwiseCo (None, 13, 13, 960)  8640        block_16_expand_relu[0][0]       \n",
      "__________________________________________________________________________________________________\n",
      "block_16_depthwise_BN (BatchNor (None, 13, 13, 960)  3840        block_16_depthwise[0][0]         \n",
      "__________________________________________________________________________________________________\n",
      "block_16_depthwise_relu (ReLU)  (None, 13, 13, 960)  0           block_16_depthwise_BN[0][0]      \n",
      "__________________________________________________________________________________________________\n",
      "block_16_project (Conv2D)       (None, 13, 13, 320)  307200      block_16_depthwise_relu[0][0]    \n",
      "__________________________________________________________________________________________________\n",
      "block_16_project_BN (BatchNorma (None, 13, 13, 320)  1280        block_16_project[0][0]           \n",
      "__________________________________________________________________________________________________\n",
      "Conv_1 (Conv2D)                 (None, 13, 13, 1280) 409600      block_16_project_BN[0][0]        \n",
      "__________________________________________________________________________________________________\n",
      "Conv_1_bn (BatchNormalization)  (None, 13, 13, 1280) 5120        Conv_1[0][0]                     \n",
      "__________________________________________________________________________________________________\n",
      "out_relu (ReLU)                 (None, 13, 13, 1280) 0           Conv_1_bn[0][0]                  \n",
      "__________________________________________________________________________________________________\n",
      "global_average_pooling2d (Globa (None, 1280)         0           out_relu[0][0]                   \n",
      "__________________________________________________________________________________________________\n",
      "dense (Dense)                   (None, 1024)         1311744     global_average_pooling2d[0][0]   \n",
      "__________________________________________________________________________________________________\n",
      "dense_1 (Dense)                 (None, 14)           14350       dense[0][0]                      \n",
      "==================================================================================================\n",
      "Total params: 3,584,078\n",
      "Trainable params: 3,549,966\n",
      "Non-trainable params: 34,112\n",
      "__________________________________________________________________________________________________\n"
     ]
    }
   ],
   "source": [
    "model2.summary()"
   ]
  },
  {
   "cell_type": "markdown",
   "id": "4659ef60",
   "metadata": {
    "papermill": {
     "duration": 0.24,
     "end_time": "2022-05-15T16:58:49.591012",
     "exception": false,
     "start_time": "2022-05-15T16:58:49.351012",
     "status": "completed"
    },
    "tags": []
   },
   "source": [
    "# Compiling and fitting the Model"
   ]
  },
  {
   "cell_type": "markdown",
   "id": "a73aa573",
   "metadata": {
    "papermill": {
     "duration": 0.256581,
     "end_time": "2022-05-15T16:58:50.092921",
     "exception": false,
     "start_time": "2022-05-15T16:58:49.836340",
     "status": "completed"
    },
    "tags": []
   },
   "source": [
    "We use the **SGD** optimizer with a learning rate of 0.0001, and use the loss function for 'binary_crossentropy' because if each category occurs it either a zero or one."
   ]
  },
  {
   "cell_type": "code",
   "execution_count": 17,
   "id": "f015e4b3",
   "metadata": {
    "execution": {
     "iopub.execute_input": "2022-05-15T16:58:50.574104Z",
     "iopub.status.busy": "2022-05-15T16:58:50.573826Z",
     "iopub.status.idle": "2022-05-15T16:58:50.589921Z",
     "shell.execute_reply": "2022-05-15T16:58:50.589269Z"
    },
    "papermill": {
     "duration": 0.258627,
     "end_time": "2022-05-15T16:58:50.591716",
     "exception": false,
     "start_time": "2022-05-15T16:58:50.333089",
     "status": "completed"
    },
    "tags": []
   },
   "outputs": [],
   "source": [
    "from tensorflow.keras.optimizers import SGD\n",
    "model2.compile(optimizer=SGD(learning_rate=0.0001, momentum=0.9), metrics=['accuracy'], \n",
    "              loss='binary_crossentropy')"
   ]
  },
  {
   "cell_type": "markdown",
   "id": "85384adc",
   "metadata": {
    "execution": {
     "iopub.execute_input": "2022-05-04T18:02:13.507916Z",
     "iopub.status.busy": "2022-05-04T18:02:13.507638Z",
     "iopub.status.idle": "2022-05-04T18:03:38.973218Z",
     "shell.execute_reply": "2022-05-04T18:03:38.972337Z",
     "shell.execute_reply.started": "2022-05-04T18:02:13.507885Z"
    },
    "papermill": {
     "duration": 0.461955,
     "end_time": "2022-05-15T16:58:51.339421",
     "exception": false,
     "start_time": "2022-05-15T16:58:50.877466",
     "status": "completed"
    },
    "tags": []
   },
   "source": [
    "We run the model on 20 epochs for fear of over fitting. We do not use the early stopping function because the data set is so sparse that overfitting is extremely likely to occure because the prediction of all zeros has a high accuracy."
   ]
  },
  {
   "cell_type": "code",
   "execution_count": 18,
   "id": "877f88c5",
   "metadata": {
    "execution": {
     "iopub.execute_input": "2022-05-15T16:58:51.845755Z",
     "iopub.status.busy": "2022-05-15T16:58:51.845492Z",
     "iopub.status.idle": "2022-05-15T17:03:19.737947Z",
     "shell.execute_reply": "2022-05-15T17:03:19.737024Z"
    },
    "papermill": {
     "duration": 268.1361,
     "end_time": "2022-05-15T17:03:19.740383",
     "exception": false,
     "start_time": "2022-05-15T16:58:51.604283",
     "status": "completed"
    },
    "tags": []
   },
   "outputs": [
    {
     "name": "stderr",
     "output_type": "stream",
     "text": [
      "2022-05-15 16:58:51.850364: W tensorflow/core/framework/cpu_allocator_impl.cc:80] Allocation of 1382400000 exceeds 10% of free system memory.\n",
      "2022-05-15 16:58:53.335820: W tensorflow/core/framework/cpu_allocator_impl.cc:80] Allocation of 1382400000 exceeds 10% of free system memory.\n",
      "2022-05-15 16:58:54.370213: I tensorflow/compiler/mlir/mlir_graph_optimization_pass.cc:185] None of the MLIR Optimization Passes are enabled (registered 2)\n"
     ]
    },
    {
     "name": "stdout",
     "output_type": "stream",
     "text": [
      "Epoch 1/20\n"
     ]
    },
    {
     "name": "stderr",
     "output_type": "stream",
     "text": [
      "2022-05-15 16:58:57.836151: W tensorflow/core/framework/cpu_allocator_impl.cc:80] Allocation of 122880000 exceeds 10% of free system memory.\n",
      "2022-05-15 16:58:57.836845: W tensorflow/core/framework/cpu_allocator_impl.cc:80] Allocation of 122880000 exceeds 10% of free system memory.\n",
      "2022-05-15 16:58:57.985880: W tensorflow/core/framework/cpu_allocator_impl.cc:80] Allocation of 122880000 exceeds 10% of free system memory.\n",
      "2022-05-15 16:58:58.904873: I tensorflow/stream_executor/cuda/cuda_dnn.cc:369] Loaded cuDNN version 8005\n"
     ]
    },
    {
     "name": "stdout",
     "output_type": "stream",
     "text": [
      "12/12 [==============================] - 25s 1s/step - loss: 0.7230 - accuracy: 0.2014 - val_loss: 0.6700 - val_accuracy: 0.1778\n",
      "Epoch 2/20\n",
      "12/12 [==============================] - 12s 996ms/step - loss: 0.6881 - accuracy: 0.1903 - val_loss: 0.6365 - val_accuracy: 0.1722\n",
      "Epoch 3/20\n",
      "12/12 [==============================] - 12s 998ms/step - loss: 0.6448 - accuracy: 0.1819 - val_loss: 0.6020 - val_accuracy: 0.1722\n",
      "Epoch 4/20\n",
      "12/12 [==============================] - 12s 1s/step - loss: 0.6023 - accuracy: 0.1806 - val_loss: 0.5697 - val_accuracy: 0.1722\n",
      "Epoch 5/20\n",
      "12/12 [==============================] - 12s 1s/step - loss: 0.5643 - accuracy: 0.1694 - val_loss: 0.5405 - val_accuracy: 0.1722\n",
      "Epoch 6/20\n",
      "12/12 [==============================] - 12s 1s/step - loss: 0.5299 - accuracy: 0.1750 - val_loss: 0.5142 - val_accuracy: 0.1611\n",
      "Epoch 7/20\n",
      "12/12 [==============================] - 12s 1s/step - loss: 0.4993 - accuracy: 0.1819 - val_loss: 0.4906 - val_accuracy: 0.1667\n",
      "Epoch 8/20\n",
      "12/12 [==============================] - 12s 990ms/step - loss: 0.4727 - accuracy: 0.1681 - val_loss: 0.4695 - val_accuracy: 0.1556\n",
      "Epoch 9/20\n",
      "12/12 [==============================] - 12s 994ms/step - loss: 0.4485 - accuracy: 0.1583 - val_loss: 0.4504 - val_accuracy: 0.1556\n",
      "Epoch 10/20\n",
      "12/12 [==============================] - 12s 1s/step - loss: 0.4268 - accuracy: 0.1806 - val_loss: 0.4332 - val_accuracy: 0.1667\n",
      "Epoch 11/20\n",
      "12/12 [==============================] - 12s 1s/step - loss: 0.4083 - accuracy: 0.1750 - val_loss: 0.4176 - val_accuracy: 0.1778\n",
      "Epoch 12/20\n",
      "12/12 [==============================] - 12s 1s/step - loss: 0.3916 - accuracy: 0.1833 - val_loss: 0.4035 - val_accuracy: 0.1611\n",
      "Epoch 13/20\n",
      "12/12 [==============================] - 12s 998ms/step - loss: 0.3758 - accuracy: 0.1931 - val_loss: 0.3906 - val_accuracy: 0.1556\n",
      "Epoch 14/20\n",
      "12/12 [==============================] - 12s 994ms/step - loss: 0.3623 - accuracy: 0.1931 - val_loss: 0.3788 - val_accuracy: 0.1500\n",
      "Epoch 15/20\n",
      "12/12 [==============================] - 12s 997ms/step - loss: 0.3495 - accuracy: 0.2042 - val_loss: 0.3681 - val_accuracy: 0.1444\n",
      "Epoch 16/20\n",
      "12/12 [==============================] - 12s 996ms/step - loss: 0.3381 - accuracy: 0.2069 - val_loss: 0.3582 - val_accuracy: 0.1444\n",
      "Epoch 17/20\n",
      "12/12 [==============================] - 12s 999ms/step - loss: 0.3284 - accuracy: 0.2069 - val_loss: 0.3491 - val_accuracy: 0.1556\n",
      "Epoch 18/20\n",
      "12/12 [==============================] - 12s 1s/step - loss: 0.3182 - accuracy: 0.2319 - val_loss: 0.3407 - val_accuracy: 0.1722\n",
      "Epoch 19/20\n",
      "12/12 [==============================] - 12s 1s/step - loss: 0.3097 - accuracy: 0.2278 - val_loss: 0.3329 - val_accuracy: 0.1889\n",
      "Epoch 20/20\n",
      "12/12 [==============================] - 12s 1s/step - loss: 0.3024 - accuracy: 0.2444 - val_loss: 0.3257 - val_accuracy: 0.2000\n"
     ]
    }
   ],
   "source": [
    "\n",
    "fitted_model= model2.fit(X_train, y_train, batch_size=64, \n",
    "                            epochs=20, validation_split=0.2)\n"
   ]
  },
  {
   "cell_type": "markdown",
   "id": "d6c27321",
   "metadata": {
    "papermill": {
     "duration": 0.330912,
     "end_time": "2022-05-15T17:03:20.415255",
     "exception": false,
     "start_time": "2022-05-15T17:03:20.084343",
     "status": "completed"
    },
    "tags": []
   },
   "source": [
    "# Evaluating the Model\n"
   ]
  },
  {
   "cell_type": "markdown",
   "id": "7621c0e0",
   "metadata": {
    "papermill": {
     "duration": 0.361572,
     "end_time": "2022-05-15T17:03:21.149652",
     "exception": false,
     "start_time": "2022-05-15T17:03:20.788080",
     "status": "completed"
    },
    "tags": []
   },
   "source": [
    "The function is very inaccurate. The function does give concrete results, but it has large issues with overfitting. The overfitting of this model quickly becomes quite extreme, so underfitting is the preferred option. The graph below shows the increase in accuracy as the epochs increase and the decrease of loss which is good."
   ]
  },
  {
   "cell_type": "code",
   "execution_count": 19,
   "id": "07d71084",
   "metadata": {
    "execution": {
     "iopub.execute_input": "2022-05-15T17:03:21.818530Z",
     "iopub.status.busy": "2022-05-15T17:03:21.817962Z",
     "iopub.status.idle": "2022-05-15T17:03:22.118560Z",
     "shell.execute_reply": "2022-05-15T17:03:22.117796Z"
    },
    "papermill": {
     "duration": 0.631529,
     "end_time": "2022-05-15T17:03:22.121073",
     "exception": false,
     "start_time": "2022-05-15T17:03:21.489544",
     "status": "completed"
    },
    "tags": []
   },
   "outputs": [
    {
     "data": {
      "image/png": "[encoded data removed]",
      "text/plain": [
       "<Figure size 1080x1080 with 2 Axes>"
      ]
     },
     "metadata": {
      "needs_background": "light"
     },
     "output_type": "display_data"
    }
   ],
   "source": [
    "acc = fitted_model.history['accuracy']\n",
    "val_acc = fitted_model.history['val_accuracy']\n",
    "loss = fitted_model.history['loss']\n",
    "val_loss = fitted_model.history['val_loss']\n",
    "epochs_range = range(20)\n",
    "\n",
    "plt.figure(figsize=(15, 15))\n",
    "plt.subplot(2, 2, 1)\n",
    "plt.plot(epochs_range, acc, label='Training Accuracy')\n",
    "plt.plot(epochs_range, val_acc, label='Validation Accuracy')\n",
    "plt.legend(loc='lower right')\n",
    "plt.title('Training and Validation Accuracy')\n",
    "\n",
    "plt.subplot(2, 2, 2)\n",
    "plt.plot(epochs_range, loss, label='Training Loss')\n",
    "plt.plot(epochs_range, val_loss, label='Validation Loss')\n",
    "plt.legend(loc='upper right')\n",
    "plt.title('Training and Validation Loss')\n",
    "plt.show()"
   ]
  },
  {
   "cell_type": "markdown",
   "id": "13591a50",
   "metadata": {
    "papermill": {
     "duration": 0.326149,
     "end_time": "2022-05-15T17:03:22.774573",
     "exception": false,
     "start_time": "2022-05-15T17:03:22.448424",
     "status": "completed"
    },
    "tags": []
   },
   "source": [
    "The model prediction accuracy is around 20%, which should be improved."
   ]
  },
  {
   "cell_type": "code",
   "execution_count": 20,
   "id": "b43a5ea6",
   "metadata": {
    "execution": {
     "iopub.execute_input": "2022-05-15T17:03:23.463730Z",
     "iopub.status.busy": "2022-05-15T17:03:23.463487Z",
     "iopub.status.idle": "2022-05-15T17:03:24.497836Z",
     "shell.execute_reply": "2022-05-15T17:03:24.497141Z"
    },
    "papermill": {
     "duration": 1.367986,
     "end_time": "2022-05-15T17:03:24.499437",
     "exception": false,
     "start_time": "2022-05-15T17:03:23.131451",
     "status": "completed"
    },
    "tags": []
   },
   "outputs": [
    {
     "name": "stdout",
     "output_type": "stream",
     "text": [
      "4/4 [==============================] - 1s 101ms/step - loss: 0.3315 - accuracy: 0.2000\n",
      "[0.3314928114414215, 0.20000000298023224]\n"
     ]
    }
   ],
   "source": [
    "print(model2.evaluate(X_test, y_test))"
   ]
  },
  {
   "cell_type": "markdown",
   "id": "7c80819e",
   "metadata": {
    "papermill": {
     "duration": 0.550983,
     "end_time": "2022-05-15T17:03:25.560433",
     "exception": false,
     "start_time": "2022-05-15T17:03:25.009450",
     "status": "completed"
    },
    "tags": []
   },
   "source": [
    "Here the model is checked that it hasn't picked up patterns in the sparsity, but is rather making predictions based on the image."
   ]
  },
  {
   "cell_type": "code",
   "execution_count": 21,
   "id": "983580b0",
   "metadata": {
    "execution": {
     "iopub.execute_input": "2022-05-15T17:03:26.625056Z",
     "iopub.status.busy": "2022-05-15T17:03:26.624787Z",
     "iopub.status.idle": "2022-05-15T17:03:27.511089Z",
     "shell.execute_reply": "2022-05-15T17:03:27.510309Z"
    },
    "papermill": {
     "duration": 1.331668,
     "end_time": "2022-05-15T17:03:27.513581",
     "exception": false,
     "start_time": "2022-05-15T17:03:26.181913",
     "status": "completed"
    },
    "tags": []
   },
   "outputs": [],
   "source": [
    "preds2 = model2.predict(X_test[:10])"
   ]
  },
  {
   "cell_type": "markdown",
   "id": "5470ffca",
   "metadata": {
    "papermill": {
     "duration": 0.344036,
     "end_time": "2022-05-15T17:03:28.188716",
     "exception": false,
     "start_time": "2022-05-15T17:03:27.844680",
     "status": "completed"
    },
    "tags": []
   },
   "source": [
    "In the first 10 predictions, the model's inaccuracy is apparent, as it predicts only 3/10 rows."
   ]
  },
  {
   "cell_type": "code",
   "execution_count": 22,
   "id": "012acfaf",
   "metadata": {
    "execution": {
     "iopub.execute_input": "2022-05-15T17:03:28.847916Z",
     "iopub.status.busy": "2022-05-15T17:03:28.847648Z",
     "iopub.status.idle": "2022-05-15T17:03:28.854369Z",
     "shell.execute_reply": "2022-05-15T17:03:28.853616Z"
    },
    "papermill": {
     "duration": 0.338652,
     "end_time": "2022-05-15T17:03:28.857060",
     "exception": false,
     "start_time": "2022-05-15T17:03:28.518408",
     "status": "completed"
    },
    "tags": []
   },
   "outputs": [
    {
     "data": {
      "text/plain": [
       "array([[0., 0., 0., 0., 0., 0., 0., 0., 0., 0., 0., 0., 0., 0.],\n",
       "       [0., 0., 0., 0., 0., 0., 0., 0., 0., 0., 0., 0., 0., 0.],\n",
       "       [0., 0., 0., 0., 0., 0., 0., 0., 0., 0., 0., 0., 0., 0.],\n",
       "       [0., 0., 0., 0., 0., 0., 0., 0., 0., 0., 0., 0., 0., 0.],\n",
       "       [0., 0., 0., 0., 0., 0., 0., 0., 0., 0., 0., 0., 0., 0.],\n",
       "       [0., 0., 0., 0., 0., 0., 0., 0., 0., 0., 0., 0., 0., 0.],\n",
       "       [0., 0., 0., 0., 0., 0., 0., 0., 0., 0., 0., 0., 0., 0.],\n",
       "       [0., 0., 0., 0., 0., 0., 0., 0., 0., 0., 0., 0., 0., 0.],\n",
       "       [0., 0., 0., 0., 0., 0., 0., 0., 0., 0., 0., 0., 0., 0.],\n",
       "       [0., 0., 0., 0., 0., 0., 0., 0., 0., 0., 0., 0., 0., 0.]],\n",
       "      dtype=float32)"
      ]
     },
     "execution_count": 22,
     "metadata": {},
     "output_type": "execute_result"
    }
   ],
   "source": [
    "np.round(preds2)"
   ]
  },
  {
   "cell_type": "code",
   "execution_count": 23,
   "id": "2ed5eb5c",
   "metadata": {
    "execution": {
     "iopub.execute_input": "2022-05-15T17:03:29.537867Z",
     "iopub.status.busy": "2022-05-15T17:03:29.537079Z",
     "iopub.status.idle": "2022-05-15T17:03:29.545030Z",
     "shell.execute_reply": "2022-05-15T17:03:29.544135Z"
    },
    "papermill": {
     "duration": 0.352633,
     "end_time": "2022-05-15T17:03:29.547630",
     "exception": false,
     "start_time": "2022-05-15T17:03:29.194997",
     "status": "completed"
    },
    "tags": []
   },
   "outputs": [
    {
     "data": {
      "text/plain": [
       "array([[0., 0., 0., 0., 0., 0., 0., 0., 0., 0., 0., 0., 0., 0.],\n",
       "       [0., 1., 0., 0., 0., 0., 0., 0., 0., 0., 0., 0., 0., 0.],\n",
       "       [0., 0., 1., 0., 0., 0., 0., 0., 0., 0., 0., 0., 0., 0.],\n",
       "       [0., 0., 1., 0., 0., 0., 0., 1., 0., 0., 0., 0., 0., 0.],\n",
       "       [0., 0., 0., 1., 0., 0., 0., 0., 0., 0., 0., 0., 0., 0.],\n",
       "       [0., 0., 0., 0., 0., 0., 0., 0., 1., 0., 0., 0., 0., 0.],\n",
       "       [0., 0., 1., 0., 0., 0., 0., 0., 0., 0., 0., 0., 0., 0.],\n",
       "       [0., 0., 1., 0., 0., 0., 0., 0., 0., 0., 0., 0., 0., 0.],\n",
       "       [0., 0., 0., 0., 0., 0., 0., 0., 0., 0., 0., 0., 0., 0.],\n",
       "       [0., 0., 0., 0., 0., 0., 0., 0., 0., 0., 0., 0., 0., 0.]])"
      ]
     },
     "execution_count": 23,
     "metadata": {},
     "output_type": "execute_result"
    }
   ],
   "source": [
    "y_test[:10]"
   ]
  },
  {
   "cell_type": "markdown",
   "id": "c24b23c4",
   "metadata": {
    "papermill": {
     "duration": 0.336687,
     "end_time": "2022-05-15T17:03:30.273411",
     "exception": false,
     "start_time": "2022-05-15T17:03:29.936724",
     "status": "completed"
    },
    "tags": []
   },
   "source": [
    "In order to see how the model fares in reality against the different categories, a multilabel confusion matrix is created, The multilabel confusion matrix compares the predicted values against the tested value and finds that the model is highly inaccurate in the categories that are present (which are few due to the sparsity)."
   ]
  },
  {
   "cell_type": "code",
   "execution_count": 24,
   "id": "f41a26ba",
   "metadata": {
    "execution": {
     "iopub.execute_input": "2022-05-15T17:03:30.982667Z",
     "iopub.status.busy": "2022-05-15T17:03:30.982407Z",
     "iopub.status.idle": "2022-05-15T17:03:31.656627Z",
     "shell.execute_reply": "2022-05-15T17:03:31.655908Z"
    },
    "papermill": {
     "duration": 1.045986,
     "end_time": "2022-05-15T17:03:31.658682",
     "exception": false,
     "start_time": "2022-05-15T17:03:30.612696",
     "status": "completed"
    },
    "tags": []
   },
   "outputs": [
    {
     "data": {
      "text/plain": [
       "array([[[ 93,   2],\n",
       "        [  5,   0]],\n",
       "\n",
       "       [[ 79,   0],\n",
       "        [ 21,   0]],\n",
       "\n",
       "       [[ 71,   0],\n",
       "        [ 29,   0]],\n",
       "\n",
       "       [[ 94,   0],\n",
       "        [  6,   0]],\n",
       "\n",
       "       [[ 92,   0],\n",
       "        [  8,   0]],\n",
       "\n",
       "       [[ 95,   0],\n",
       "        [  5,   0]],\n",
       "\n",
       "       [[ 96,   0],\n",
       "        [  4,   0]],\n",
       "\n",
       "       [[ 91,   0],\n",
       "        [  9,   0]],\n",
       "\n",
       "       [[ 96,   0],\n",
       "        [  4,   0]],\n",
       "\n",
       "       [[100,   0],\n",
       "        [  0,   0]],\n",
       "\n",
       "       [[100,   0],\n",
       "        [  0,   0]],\n",
       "\n",
       "       [[100,   0],\n",
       "        [  0,   0]],\n",
       "\n",
       "       [[ 98,   0],\n",
       "        [  2,   0]],\n",
       "\n",
       "       [[100,   0],\n",
       "        [  0,   0]]])"
      ]
     },
     "execution_count": 24,
     "metadata": {},
     "output_type": "execute_result"
    }
   ],
   "source": [
    "from sklearn.metrics import multilabel_confusion_matrix\n",
    "preds = model2.predict(X_test) \n",
    "y_pred = np.round(preds)\n",
    "multilabel_confusion_matrix(y_test, y_pred)"
   ]
  },
  {
   "cell_type": "code",
   "execution_count": 25,
   "id": "bf3b5f2d",
   "metadata": {
    "execution": {
     "iopub.execute_input": "2022-05-15T17:03:32.337628Z",
     "iopub.status.busy": "2022-05-15T17:03:32.337068Z",
     "iopub.status.idle": "2022-05-15T17:03:32.490810Z",
     "shell.execute_reply": "2022-05-15T17:03:32.490167Z"
    },
    "papermill": {
     "duration": 0.504514,
     "end_time": "2022-05-15T17:03:32.492947",
     "exception": false,
     "start_time": "2022-05-15T17:03:31.988433",
     "status": "completed"
    },
    "tags": []
   },
   "outputs": [],
   "source": [
    "import pandas as pd\n",
    "import matplotlib.pyplot as plt\n",
    "import seaborn as sns\n",
    "\n",
    "\n",
    "def print_confusion_matrix(confusion_matrix, axes, class_label, class_names, fontsize=14):\n",
    "\n",
    "    df_cm = pd.DataFrame(\n",
    "        confusion_matrix, index=class_names, columns=class_names,\n",
    "    )\n",
    "\n",
    "    try:\n",
    "        heatmap = sns.heatmap(df_cm, annot=True, fmt=\"d\", cbar=False, ax=axes)\n",
    "    except ValueError:\n",
    "        raise ValueError(\"Confusion matrix values must be integers.\")\n",
    "    heatmap.yaxis.set_ticklabels(heatmap.yaxis.get_ticklabels(), rotation=0, ha='right', fontsize=fontsize)\n",
    "    heatmap.xaxis.set_ticklabels(heatmap.xaxis.get_ticklabels(), rotation=45, ha='right', fontsize=fontsize)\n",
    "    axes.set_ylabel('True label')\n",
    "    axes.set_xlabel('Predicted label')\n",
    "    axes.set_title(\"Class:\" + class_label)"
   ]
  },
  {
   "cell_type": "code",
   "execution_count": 26,
   "id": "2e6fa5aa",
   "metadata": {
    "execution": {
     "iopub.execute_input": "2022-05-15T17:03:33.177679Z",
     "iopub.status.busy": "2022-05-15T17:03:33.177426Z",
     "iopub.status.idle": "2022-05-15T17:03:36.286447Z",
     "shell.execute_reply": "2022-05-15T17:03:36.285819Z"
    },
    "papermill": {
     "duration": 3.447349,
     "end_time": "2022-05-15T17:03:36.288281",
     "exception": false,
     "start_time": "2022-05-15T17:03:32.840932",
     "status": "completed"
    },
    "tags": []
   },
   "outputs": [
    {
     "data": {
      "image/png": "[encoded data removed]",
      "text/plain": [
       "<Figure size 864x504 with 15 Axes>"
      ]
     },
     "metadata": {
      "needs_background": "light"
     },
     "output_type": "display_data"
    }
   ],
   "source": [
    "vis_arr = np.asarray(multilabel_confusion_matrix(y_test, y_pred))\n",
    "labels = ['NoF', 'YFT', 'ALB', 'OTH', 'BILL', 'DOL', 'BET', 'SKJ', 'LAG', 'SHARK', 'OIL', 'PLS', 'TUNA', 'WATER']\n",
    "fig, ax = plt.subplots(5, 3, figsize=(12, 7))\n",
    "for axes, cfs_matrix, label in zip(ax.flatten(), vis_arr, labels):\n",
    "        print_confusion_matrix(cfs_matrix, axes, label, [\"N\", \"Y\"])\n",
    "fig.tight_layout()\n",
    "plt.show()"
   ]
  },
  {
   "cell_type": "markdown",
   "id": "fd3d88be",
   "metadata": {
    "papermill": {
     "duration": 0.489432,
     "end_time": "2022-05-15T17:03:37.110472",
     "exception": false,
     "start_time": "2022-05-15T17:03:36.621040",
     "status": "completed"
    },
    "tags": []
   },
   "source": [
    "In order to create see the true distribution of the test, a frequancy plot is created to display the occurences."
   ]
  },
  {
   "cell_type": "code",
   "execution_count": 27,
   "id": "2179d33a",
   "metadata": {
    "execution": {
     "iopub.execute_input": "2022-05-15T17:03:37.877440Z",
     "iopub.status.busy": "2022-05-15T17:03:37.877177Z",
     "iopub.status.idle": "2022-05-15T17:03:38.548503Z",
     "shell.execute_reply": "2022-05-15T17:03:38.547822Z"
    },
    "papermill": {
     "duration": 1.006427,
     "end_time": "2022-05-15T17:03:38.550266",
     "exception": false,
     "start_time": "2022-05-15T17:03:37.543839",
     "status": "completed"
    },
    "tags": []
   },
   "outputs": [
    {
     "data": {
      "text/plain": [
       "0\n",
       "0.0    882\n",
       "1.0     18\n",
       "dtype: int64"
      ]
     },
     "execution_count": 27,
     "metadata": {},
     "output_type": "execute_result"
    }
   ],
   "source": [
    "Y_train= pd.DataFrame(y_train)\n",
    "Y_test= pd.DataFrame(y_test)\n",
    "preds2 = np.round(model2.predict(X_test))\n",
    "Y_preds= pd.DataFrame(preds2)\n",
    "Y_train.columns\n",
    "(Y_train.groupby(0).size())\n",
    "\n"
   ]
  },
  {
   "cell_type": "code",
   "execution_count": 28,
   "id": "f43da097",
   "metadata": {
    "execution": {
     "iopub.execute_input": "2022-05-15T17:03:39.281448Z",
     "iopub.status.busy": "2022-05-15T17:03:39.281170Z",
     "iopub.status.idle": "2022-05-15T17:03:39.298432Z",
     "shell.execute_reply": "2022-05-15T17:03:39.297659Z"
    },
    "papermill": {
     "duration": 0.362076,
     "end_time": "2022-05-15T17:03:39.300363",
     "exception": false,
     "start_time": "2022-05-15T17:03:38.938287",
     "status": "completed"
    },
    "tags": []
   },
   "outputs": [
    {
     "name": "stdout",
     "output_type": "stream",
     "text": [
      "14\n",
      "[0.882, 0.689, 0.614, 0.839, 0.866, 0.863, 0.837, 0.832, 0.884, 0.891, 0.9, 0.899, 0.898, 0.897]\n",
      "14\n",
      "[0.118, 0.311, 0.386, 0.161, 0.134, 0.137, 0.163, 0.168, 0.116, 0.109, 0.1, 0.101, 0.102, 0.103]\n",
      "14\n"
     ]
    }
   ],
   "source": [
    "y_labels = ['NoF', 'YFT', 'ALB', 'OTH', 'BILL', 'DOL', 'BET', 'SKJ', 'LAG', 'SHARK', 'OIL', 'PLS', 'TUNA', 'WATER']\n",
    "print(len(y_labels))\n",
    "counts = []\n",
    "for i in range(0,14):\n",
    "    x = list(Y_train.groupby(i).size())\n",
    "    counts.append(x[0]/1000)\n",
    "print(counts)\n",
    "print(len(counts))\n",
    "frequency= [round(1-i, 3) for i in counts]\n",
    "print(frequency)\n",
    "print(len(frequency))"
   ]
  },
  {
   "cell_type": "code",
   "execution_count": 29,
   "id": "831b9f84",
   "metadata": {
    "execution": {
     "iopub.execute_input": "2022-05-15T17:03:39.968885Z",
     "iopub.status.busy": "2022-05-15T17:03:39.968633Z",
     "iopub.status.idle": "2022-05-15T17:03:40.265577Z",
     "shell.execute_reply": "2022-05-15T17:03:40.264840Z"
    },
    "papermill": {
     "duration": 0.630996,
     "end_time": "2022-05-15T17:03:40.267521",
     "exception": false,
     "start_time": "2022-05-15T17:03:39.636525",
     "status": "completed"
    },
    "tags": []
   },
   "outputs": [
    {
     "data": {
      "image/png": "[encoded data removed]",
      "text/plain": [
       "<Figure size 864x576 with 1 Axes>"
      ]
     },
     "metadata": {
      "needs_background": "light"
     },
     "output_type": "display_data"
    }
   ],
   "source": [
    "df_counts = pd.DataFrame({'Frequency': frequency}, index=y_labels)\n",
    "ax = df_counts.plot(kind='bar', figsize=(12, 8), title='Label Occurence in images in Train',\n",
    "             xlabel='Label', ylabel='Frequency', legend=False)\n",
    "\n",
    "# annotate\n",
    "ax.bar_label(ax.containers[0], label_type='edge')\n",
    "\n",
    "# pad the spacing between the number and the edge of the figure\n",
    "ax.margins(y=0.1)"
   ]
  },
  {
   "cell_type": "markdown",
   "id": "428b6410",
   "metadata": {
    "papermill": {
     "duration": 0.373493,
     "end_time": "2022-05-15T17:03:40.974332",
     "exception": false,
     "start_time": "2022-05-15T17:03:40.600839",
     "status": "completed"
    },
    "tags": []
   },
   "source": [
    "The data is very sparse with most categories appearing less that 18% of the time. The two most common occurences are YFT and ALB, which occur less than 40% of the time."
   ]
  },
  {
   "cell_type": "code",
   "execution_count": 30,
   "id": "2fad6bf5",
   "metadata": {
    "execution": {
     "iopub.execute_input": "2022-05-15T17:03:41.677780Z",
     "iopub.status.busy": "2022-05-15T17:03:41.677529Z",
     "iopub.status.idle": "2022-05-15T17:03:41.686156Z",
     "shell.execute_reply": "2022-05-15T17:03:41.685321Z"
    },
    "papermill": {
     "duration": 0.350193,
     "end_time": "2022-05-15T17:03:41.688903",
     "exception": false,
     "start_time": "2022-05-15T17:03:41.338710",
     "status": "completed"
    },
    "tags": []
   },
   "outputs": [
    {
     "data": {
      "text/plain": [
       "3\n",
       "0.0    94\n",
       "1.0     6\n",
       "dtype: int64"
      ]
     },
     "execution_count": 30,
     "metadata": {},
     "output_type": "execute_result"
    }
   ],
   "source": [
    "Y_test.groupby(3).size()"
   ]
  },
  {
   "cell_type": "code",
   "execution_count": 31,
   "id": "83436656",
   "metadata": {
    "execution": {
     "iopub.execute_input": "2022-05-15T17:03:42.361699Z",
     "iopub.status.busy": "2022-05-15T17:03:42.361449Z",
     "iopub.status.idle": "2022-05-15T17:03:42.376426Z",
     "shell.execute_reply": "2022-05-15T17:03:42.375710Z"
    },
    "papermill": {
     "duration": 0.351269,
     "end_time": "2022-05-15T17:03:42.378182",
     "exception": false,
     "start_time": "2022-05-15T17:03:42.026913",
     "status": "completed"
    },
    "tags": []
   },
   "outputs": [
    {
     "name": "stdout",
     "output_type": "stream",
     "text": [
      "14\n",
      "[0.95, 0.79, 0.71, 0.94, 0.92, 0.95, 0.96, 0.91, 0.96, 1.0, 1.0, 1.0, 0.98, 1.0]\n",
      "14\n",
      "[0.05, 0.21, 0.29, 0.06, 0.08, 0.05, 0.04, 0.09, 0.04, 0.0, 0.0, 0.0, 0.02, 0.0]\n",
      "14\n"
     ]
    }
   ],
   "source": [
    "print(len(y_labels))\n",
    "counts = []\n",
    "for i in range(0,14):\n",
    "    x = list(Y_test.groupby(i).size())\n",
    "    counts.append(x[0]/100)\n",
    "print(counts)\n",
    "print(len(counts))\n",
    "frequency= [round(1-i, 3) for i in counts]\n",
    "print(frequency)\n",
    "print(len(frequency))"
   ]
  },
  {
   "cell_type": "code",
   "execution_count": 32,
   "id": "aab19d38",
   "metadata": {
    "execution": {
     "iopub.execute_input": "2022-05-15T17:03:43.080485Z",
     "iopub.status.busy": "2022-05-15T17:03:43.079816Z",
     "iopub.status.idle": "2022-05-15T17:03:43.371654Z",
     "shell.execute_reply": "2022-05-15T17:03:43.370960Z"
    },
    "papermill": {
     "duration": 0.654596,
     "end_time": "2022-05-15T17:03:43.373602",
     "exception": false,
     "start_time": "2022-05-15T17:03:42.719006",
     "status": "completed"
    },
    "tags": []
   },
   "outputs": [
    {
     "data": {
      "image/png": "[encoded data removed]",
      "text/plain": [
       "<Figure size 864x576 with 1 Axes>"
      ]
     },
     "metadata": {
      "needs_background": "light"
     },
     "output_type": "display_data"
    }
   ],
   "source": [
    "df_counts = pd.DataFrame({'Frequency': frequency}, index=y_labels)\n",
    "ax = df_counts.plot(kind='bar', figsize=(12, 8), title='Label Occurence in Images in Test',\n",
    "             xlabel='Label', ylabel='Frequency', legend=False)\n",
    "\n",
    "# annotate\n",
    "ax.bar_label(ax.containers[0], label_type='edge')\n",
    "\n",
    "# pad the spacing between the number and the edge of the figure\n",
    "ax.margins(y=0.1)"
   ]
  },
  {
   "cell_type": "markdown",
   "id": "752b2770",
   "metadata": {
    "papermill": {
     "duration": 0.335977,
     "end_time": "2022-05-15T17:03:44.044927",
     "exception": false,
     "start_time": "2022-05-15T17:03:43.708950",
     "status": "completed"
    },
    "tags": []
   },
   "source": [
    "In the test data the occurences become even sparser. Most categories occur less than 10% of the time, and many categories appearing less than 5% of the time."
   ]
  },
  {
   "cell_type": "code",
   "execution_count": 33,
   "id": "9b7f4d32",
   "metadata": {
    "execution": {
     "iopub.execute_input": "2022-05-15T17:03:44.745057Z",
     "iopub.status.busy": "2022-05-15T17:03:44.744270Z",
     "iopub.status.idle": "2022-05-15T17:03:44.763775Z",
     "shell.execute_reply": "2022-05-15T17:03:44.763035Z"
    },
    "papermill": {
     "duration": 0.380403,
     "end_time": "2022-05-15T17:03:44.765609",
     "exception": false,
     "start_time": "2022-05-15T17:03:44.385206",
     "status": "completed"
    },
    "tags": []
   },
   "outputs": [
    {
     "name": "stdout",
     "output_type": "stream",
     "text": [
      "14\n",
      "[0.98, 1.0, 1.0, 1.0, 1.0, 1.0, 1.0, 1.0, 1.0, 1.0, 1.0, 1.0, 1.0, 1.0]\n",
      "14\n",
      "[0.02, 0.0, 0.0, 0.0, 0.0, 0.0, 0.0, 0.0, 0.0, 0.0, 0.0, 0.0, 0.0, 0.0]\n",
      "14\n"
     ]
    }
   ],
   "source": [
    "print(len(y_labels))\n",
    "counts = []\n",
    "for i in range(0,14):\n",
    "    x = list(Y_preds.groupby(i).size())\n",
    "    counts.append(x[0]/100)\n",
    "print(counts)\n",
    "print(len(counts))\n",
    "frequency= [round(1-i, 3) for i in counts]\n",
    "print(frequency)\n",
    "print(len(frequency))"
   ]
  },
  {
   "cell_type": "code",
   "execution_count": 34,
   "id": "42bb15b9",
   "metadata": {
    "execution": {
     "iopub.execute_input": "2022-05-15T17:03:45.467886Z",
     "iopub.status.busy": "2022-05-15T17:03:45.467177Z",
     "iopub.status.idle": "2022-05-15T17:03:45.732561Z",
     "shell.execute_reply": "2022-05-15T17:03:45.731834Z"
    },
    "papermill": {
     "duration": 0.602566,
     "end_time": "2022-05-15T17:03:45.734409",
     "exception": false,
     "start_time": "2022-05-15T17:03:45.131843",
     "status": "completed"
    },
    "tags": []
   },
   "outputs": [
    {
     "data": {
      "image/png": "[encoded data removed]",
      "text/plain": [
       "<Figure size 864x576 with 1 Axes>"
      ]
     },
     "metadata": {
      "needs_background": "light"
     },
     "output_type": "display_data"
    }
   ],
   "source": [
    "df_counts = pd.DataFrame({'Frequency': frequency}, index=y_labels)\n",
    "ax = df_counts.plot(kind='bar', figsize=(12, 8), title='Label Occurence in Images in Prediction',\n",
    "             xlabel='Label', ylabel='Frequency', legend=False)\n",
    "\n",
    "# annotate\n",
    "ax.bar_label(ax.containers[0], label_type='edge')\n",
    "\n",
    "# pad the spacing between the number and the edge of the figure\n",
    "ax.margins(y=0.1)"
   ]
  },
  {
   "cell_type": "markdown",
   "id": "74260143",
   "metadata": {
    "papermill": {
     "duration": 0.335496,
     "end_time": "2022-05-15T17:03:46.406041",
     "exception": false,
     "start_time": "2022-05-15T17:03:46.070545",
     "status": "completed"
    },
    "tags": []
   },
   "source": [
    "The predictions lack of accuracy is highly apperent in the frequency plot, which ideally would be identically to the test plot."
   ]
  },
  {
   "cell_type": "code",
   "execution_count": 35,
   "id": "eb47251d",
   "metadata": {
    "execution": {
     "iopub.execute_input": "2022-05-15T17:03:47.123560Z",
     "iopub.status.busy": "2022-05-15T17:03:47.123301Z",
     "iopub.status.idle": "2022-05-15T17:03:47.126863Z",
     "shell.execute_reply": "2022-05-15T17:03:47.126170Z"
    },
    "papermill": {
     "duration": 0.375683,
     "end_time": "2022-05-15T17:03:47.128504",
     "exception": false,
     "start_time": "2022-05-15T17:03:46.752821",
     "status": "completed"
    },
    "tags": []
   },
   "outputs": [],
   "source": [
    "from sklearn.metrics import coverage_error"
   ]
  },
  {
   "cell_type": "code",
   "execution_count": 36,
   "id": "1d01f5a3",
   "metadata": {
    "execution": {
     "iopub.execute_input": "2022-05-15T17:03:47.821597Z",
     "iopub.status.busy": "2022-05-15T17:03:47.820935Z",
     "iopub.status.idle": "2022-05-15T17:03:47.827946Z",
     "shell.execute_reply": "2022-05-15T17:03:47.827258Z"
    },
    "papermill": {
     "duration": 0.368473,
     "end_time": "2022-05-15T17:03:47.832824",
     "exception": false,
     "start_time": "2022-05-15T17:03:47.464351",
     "status": "completed"
    },
    "tags": []
   },
   "outputs": [
    {
     "name": "stdout",
     "output_type": "stream",
     "text": [
      "10.92\n"
     ]
    }
   ],
   "source": [
    "print(coverage_error(y_test, y_pred))"
   ]
  },
  {
   "cell_type": "markdown",
   "id": "d7faf4e3",
   "metadata": {
    "papermill": {
     "duration": 0.350341,
     "end_time": "2022-05-15T17:03:48.788528",
     "exception": false,
     "start_time": "2022-05-15T17:03:48.438187",
     "status": "completed"
    },
    "tags": []
   },
   "source": [
    "Here we look at further metrics to determine how in accurate the model is. A 'good' coverage error would be closer to the number of categories. "
   ]
  },
  {
   "cell_type": "code",
   "execution_count": 37,
   "id": "15940de2",
   "metadata": {
    "execution": {
     "iopub.execute_input": "2022-05-15T17:03:49.465818Z",
     "iopub.status.busy": "2022-05-15T17:03:49.465558Z",
     "iopub.status.idle": "2022-05-15T17:03:49.469620Z",
     "shell.execute_reply": "2022-05-15T17:03:49.468926Z"
    },
    "papermill": {
     "duration": 0.344058,
     "end_time": "2022-05-15T17:03:49.471237",
     "exception": false,
     "start_time": "2022-05-15T17:03:49.127179",
     "status": "completed"
    },
    "tags": []
   },
   "outputs": [],
   "source": [
    "exact_acc = (y_test == y_pred).all(axis=1).mean()"
   ]
  },
  {
   "cell_type": "code",
   "execution_count": 38,
   "id": "187c63c8",
   "metadata": {
    "execution": {
     "iopub.execute_input": "2022-05-15T17:03:50.146931Z",
     "iopub.status.busy": "2022-05-15T17:03:50.146678Z",
     "iopub.status.idle": "2022-05-15T17:03:50.151284Z",
     "shell.execute_reply": "2022-05-15T17:03:50.150473Z"
    },
    "papermill": {
     "duration": 0.346709,
     "end_time": "2022-05-15T17:03:50.154371",
     "exception": false,
     "start_time": "2022-05-15T17:03:49.807662",
     "status": "completed"
    },
    "tags": []
   },
   "outputs": [
    {
     "name": "stdout",
     "output_type": "stream",
     "text": [
      "Exact Match Ratio: 0.2\n"
     ]
    }
   ],
   "source": [
    "print(\"Exact Match Ratio:\", exact_acc)"
   ]
  },
  {
   "cell_type": "markdown",
   "id": "99c9ab3d",
   "metadata": {
    "papermill": {
     "duration": 0.388259,
     "end_time": "2022-05-15T17:03:50.881339",
     "exception": false,
     "start_time": "2022-05-15T17:03:50.493080",
     "status": "completed"
    },
    "tags": []
   },
   "source": [
    "The exact match ratio is the number of rows that much perfectly. The ratio is 22%, which is not great but shows that one fifth of all the images were classified 100% correctly."
   ]
  },
  {
   "cell_type": "markdown",
   "id": "517a8b53",
   "metadata": {
    "papermill": {
     "duration": 0.335501,
     "end_time": "2022-05-15T17:03:51.562565",
     "exception": false,
     "start_time": "2022-05-15T17:03:51.227064",
     "status": "completed"
    },
    "tags": []
   },
   "source": [
    "## Previous Solutions"
   ]
  },
  {
   "cell_type": "markdown",
   "id": "60b9ae3c",
   "metadata": {
    "papermill": {
     "duration": 0.354583,
     "end_time": "2022-05-15T17:03:52.265507",
     "exception": false,
     "start_time": "2022-05-15T17:03:51.910924",
     "status": "completed"
    },
    "tags": []
   },
   "source": [
    "In order to raise the accuracy without overfitting there were a variety of different solutions proposed. The first attempt was to create my own model without transfer modeling. The model predicted that every image had a YFT and a Human (a serious issue of overfitting returning a 98% accuracy). The next step was to use freezing layers, which also caused overfitting returning that each image had nothing in it. In addition to freezing layers, different learning rates were also tried, which once again brought the no categories present over fitting issue. The large issue with other solutions were overfitting, which predicted patterns based ont he sparesenss of the dataset rather than what actually was in the image."
   ]
  },
  {
   "cell_type": "markdown",
   "id": "5e455969",
   "metadata": {
    "papermill": {
     "duration": 0.35633,
     "end_time": "2022-05-15T17:03:52.958498",
     "exception": false,
     "start_time": "2022-05-15T17:03:52.602168",
     "status": "completed"
    },
    "tags": []
   },
   "source": [
    "### Samples of Old Code"
   ]
  },
  {
   "cell_type": "markdown",
   "id": "dfd63699",
   "metadata": {
    "papermill": {
     "duration": 0.338789,
     "end_time": "2022-05-15T17:03:53.653541",
     "exception": false,
     "start_time": "2022-05-15T17:03:53.314752",
     "status": "completed"
    },
    "tags": []
   },
   "source": [
    "#### Old Model\n",
    "*      model = Sequential()\n",
    "*      model.add(Conv2D(filters=16, kernel_size=(5, 5), activation=\"relu\", input_shape=(400,400,3)))\n",
    "*      model.add(MaxPooling2D(pool_size=(2, 2)))\n",
    "*      model.add(Dropout(0.25))\n",
    "*      model.add(Conv2D(filters=32, kernel_size=(5, 5), activation='relu'))   \n",
    "*      model.add(MaxPooling2D(pool_size=(2, 2)))\n",
    "*      model.add(Dropout(0.25))\n",
    "*      model.add(Conv2D(filters=64, kernel_size=(5, 5), activation=\"relu\"))\n",
    "*      model.add(MaxPooling2D(pool_size=(2, 2)))\n",
    "*      model.add(Dropout(0.25))\n",
    "*      model.add(Conv2D(filters=64, kernel_size=(5, 5), activation='relu'))\n",
    "*      model.add(MaxPooling2D(pool_size=(2, 2)))\n",
    "*      model.add(Dropout(0.25))\n",
    "*      model.add(Flatten())\n",
    "*      model.add(Dense(128, activation='relu'))\n",
    "*      model.add(Dropout(0.5))\n",
    "*      model.add(Dense(64, activation='relu'))\n",
    "*      model.add(Dropout(0.5))\n",
    "*      model.add(Dense(15, activation='sigmoid'))\n",
    "*      from keras.utils.vis_utils import plot_model"
   ]
  },
  {
   "cell_type": "markdown",
   "id": "551f90a7",
   "metadata": {
    "papermill": {
     "duration": 0.343855,
     "end_time": "2022-05-15T17:03:54.334847",
     "exception": false,
     "start_time": "2022-05-15T17:03:53.990992",
     "status": "completed"
    },
    "tags": []
   },
   "source": [
    "\n",
    "* for layer in model2.layers[:172]:\n",
    "*        > layer.trainable = False\n",
    "* for layer in model2.layers[172:]:\n",
    "*       > layer.trainable = True\n",
    "* model.summary()\n",
    "* plot_model(model, to_file='model_plot.png', show_shapes=True, show_layer_names=True)\n",
    "* es = EarlyStopping(patience=3, restore_best_weights=True, monitor='val_accuracy') # Early stopping\n",
    "* initial_learning_rate = 0.01\n",
    "* epochs = 50\n",
    "* decay = initial_learning_rate / epochs\n",
    "* def lr_time_based_decay(epoch, lr):\n",
    "*     > return lr # 1 / (1 + decay # epoch)"
   ]
  },
  {
   "cell_type": "markdown",
   "id": "34893365",
   "metadata": {
    "papermill": {
     "duration": 0.360848,
     "end_time": "2022-05-15T17:03:55.041539",
     "exception": false,
     "start_time": "2022-05-15T17:03:54.680691",
     "status": "completed"
    },
    "tags": []
   },
   "source": [
    "## Discussion and Results"
   ]
  },
  {
   "cell_type": "markdown",
   "id": "fbb66ead",
   "metadata": {
    "papermill": {
     "duration": 0.335011,
     "end_time": "2022-05-15T17:03:55.715386",
     "exception": false,
     "start_time": "2022-05-15T17:03:55.380375",
     "status": "completed"
    },
    "tags": []
   },
   "source": [
    "Fish identification is a difficult task. Fish depending on their age can have different fin structures, coloring, and can have radically different sizes. On top of this even trained marine biologists can not differentiate fish tuna species from each other without examining the fish's liver (i.e. yellowfin tuna and bigeye tuna). Using image labelling technology is not a silver bullet solution due to the variability in fish species. The proposed model's accuracy is a strong indicator about some of the challenges of image recognition and deep learning. One of the first questions the model raises is: Is image recognition right for this project? Arguably no, but image recognition can be used as a broad indicator to see catch number for maybe not fish species but maybe genus. A possible new project would be to differentiate between billfish (sowrdfish, marlin, spearfish) and tunas (bluefin Tuna, albacore, skipjack tuna). Another issue is the distribution of how often the classes appear. Most of the classes appear rarely in an image, which makes it difficult to train the model because an accurate model can predict an image saying that it has none of the classes in it and still be fairly accurate a significant portion of the time. By having broader categories (i.e. by selecting by genus), the occurence issue would be partially alleviated. In addition, we could weight the images so that there is more diversity in the training set, so the model can train more effectively. Using image recognition and multilabelling does have merit to further protect the environment and our fisheries and would be best served with more research. Due to the limitations of resources (RAM limitations for one) and data this project faced major challeneges. With more research and a rexamining of what the goal of our project is, a more accurate and helpful model is possible. However, this model serves as an indicator about the hardships of multilabelling, and serves as useful reminder that deep learning is not necessarily a silver bullet solution."
   ]
  },
  {
   "cell_type": "code",
   "execution_count": null,
   "id": "0c24ddcc",
   "metadata": {
    "papermill": {
     "duration": 0.338244,
     "end_time": "2022-05-15T17:03:56.402835",
     "exception": false,
     "start_time": "2022-05-15T17:03:56.064591",
     "status": "completed"
    },
    "tags": []
   },
   "outputs": [],
   "source": []
  }
 ],
 "metadata": {
  "kernelspec": {
   "display_name": "Python 3",
   "language": "python",
   "name": "python3"
  },
  "language_info": {
   "codemirror_mode": {
    "name": "ipython",
    "version": 3
   },
   "file_extension": ".py",
   "mimetype": "text/x-python",
   "name": "python",
   "nbconvert_exporter": "python",
   "pygments_lexer": "ipython3",
   "version": "3.7.12"
  },
  "papermill": {
   "default_parameters": {},
   "duration": 408.17869,
   "end_time": "2022-05-15T17:03:59.845847",
   "environment_variables": {},
   "exception": null,
   "input_path": "__notebook__.ipynb",
   "output_path": "__notebook__.ipynb",
   "parameters": {},
   "start_time": "2022-05-15T16:57:11.667157",
   "version": "2.3.4"
  }
 },
 "nbformat": 4,
 "nbformat_minor": 5
}
