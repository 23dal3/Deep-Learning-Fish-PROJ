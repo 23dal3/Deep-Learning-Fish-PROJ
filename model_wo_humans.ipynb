{
 "cells": [
  {
   "cell_type": "markdown",
   "id": "0746b661",
   "metadata": {
    "papermill": {
     "duration": 0.047129,
     "end_time": "2022-05-11T15:59:09.822264",
     "exception": false,
     "start_time": "2022-05-11T15:59:09.775135",
     "status": "completed"
    },
    "tags": []
   },
   "source": [
    "# A Deep Learning Program Run on Commercial Pelagic Vessels in the Pacific"
   ]
  },
  {
   "cell_type": "markdown",
   "id": "410e7d3d",
   "metadata": {
    "papermill": {
     "duration": 0.043443,
     "end_time": "2022-05-11T15:59:09.909535",
     "exception": false,
     "start_time": "2022-05-11T15:59:09.866092",
     "status": "completed"
    },
    "tags": []
   },
   "source": [
    "**Packages Used**"
   ]
  },
  {
   "cell_type": "code",
   "execution_count": 1,
   "id": "40db20a4",
   "metadata": {
    "execution": {
     "iopub.execute_input": "2022-05-11T15:59:09.999062Z",
     "iopub.status.busy": "2022-05-11T15:59:09.998495Z",
     "iopub.status.idle": "2022-05-11T15:59:15.734200Z",
     "shell.execute_reply": "2022-05-11T15:59:15.733385Z"
    },
    "papermill": {
     "duration": 5.783132,
     "end_time": "2022-05-11T15:59:15.736479",
     "exception": false,
     "start_time": "2022-05-11T15:59:09.953347",
     "status": "completed"
    },
    "tags": []
   },
   "outputs": [],
   "source": [
    "import shutil \n",
    "import keras\n",
    "from tensorflow.keras.applications.vgg16 import VGG16\n",
    "from keras.models import Sequential\n",
    "from keras.layers import Dense, Dropout, Flatten\n",
    "from keras.layers import Conv2D, MaxPooling2D\n",
    "from keras.utils import *\n",
    "from keras.preprocessing import image\n",
    "import numpy as np\n",
    "import os\n",
    "import numpy as np # linear algebra\n",
    "import pandas as pd # data processing, CSV file I/O (e.g. pd.read_csv)\n",
    "import matplotlib.pyplot as plt\n",
    "from sklearn.model_selection import train_test_split\n",
    "from tqdm import tqdm\n",
    "from tensorflow.keras.callbacks import EarlyStopping # early stopping\n",
    "import matplotlib.pyplot as plt\n",
    "from tensorflow.keras.applications.resnet50 import ResNet50, preprocess_input, decode_predictions\n",
    "from keras.applications.mobilenet_v2 import MobileNetV2\n",
    "from keras.applications.mobilenet import preprocess_input\n",
    "from tensorflow.keras.preprocessing.image import ImageDataGenerator\n",
    "np.random.seed(34)"
   ]
  },
  {
   "cell_type": "markdown",
   "id": "9cd80770",
   "metadata": {
    "_kg_hide-input": true,
    "execution": {
     "iopub.execute_input": "2022-05-06T10:15:57.0558Z",
     "iopub.status.busy": "2022-05-06T10:15:57.055248Z",
     "iopub.status.idle": "2022-05-06T10:15:57.059606Z",
     "shell.execute_reply": "2022-05-06T10:15:57.058672Z",
     "shell.execute_reply.started": "2022-05-06T10:15:57.055748Z"
    },
    "papermill": {
     "duration": 0.043194,
     "end_time": "2022-05-11T15:59:15.826967",
     "exception": false,
     "start_time": "2022-05-11T15:59:15.783773",
     "status": "completed"
    },
    "tags": []
   },
   "source": [
    "Here We load in our initial data set which is a CSV of image identification labels and labels of what is present aboard the vessel. I will look solely at the label category in this data frame, which has the categories ['HUMAN', 'NoF', 'YFT', 'ALB', 'OTH', 'BILL', 'DOL', 'BET', 'SKJ', 'LAG', 'SHARK', 'OIL', 'PLS', 'TUNA', 'WATER'],\n",
    "\n",
    "\n",
    "df = pd.read_csv(\"../input/image-codes-data-set/fish.csv\")\n",
    "print(df.size)\n",
    "df = df.drop_duplicates()\n",
    "print(df.size)\n",
    "print(df.head())\n",
    "\n",
    "There are over 86,000 unqiue images in this dataframe.\n",
    "\n",
    "imgs = df.img_id.unique()\n",
    "imgs.size\n",
    "\n",
    "# ** FROM HERE THIS IS HOW I TRANSFERRED MY LARGER CSV TO A SMALLER CSV WITH UNIQUE IMAGES **\n",
    "\n",
    "df2= pd.DataFrame()\n",
    "df2[\"img_id\"] = imgs\n",
    "\n",
    "class_names = list(df.label.unique())\n",
    "print(class_names)\n",
    "\n",
    "for i in class_names:\n",
    "    df2[i]= \"\"\n",
    "\n",
    "img_ids= df[\"img_id\"]\n",
    "img_ids[2]\n",
    "\n",
    "df2.head()\n",
    "\n",
    "df3 = df.loc[df['img_id'] == 'dae032c2-db28-11ea-a22a-3bb828e9f7d1']\n",
    "x= df3[\"label\"]\n",
    "x\n",
    "\n",
    "['HUMAN', 'NoF', 'YFT', 'ALB', 'OTH', 'BILL', 'DOL', 'BET', 'SKJ', 'LAG', 'SHARK', 'OIL', 'PLS', 'TUNA', 'WATER']\n",
    "\n",
    "#df_subset= imgs.sample(n=10000, random_state = 1)\n",
    "subset_imgs=np.random.choice(imgs, size= 10000)\n",
    "subset_imgs.size\n",
    "\n",
    "\n",
    "df_sub= pd.DataFrame()\n",
    "df_sub[\"img_id\"] = subset_imgs\n",
    "for i in class_names:\n",
    "    df_sub[i]= \"\"\n",
    "df_sub.head()\n",
    "\n",
    "label = df[df['img_id']=='94a6a584-23f0-11e9-a794-0fe64977c9b7']\n",
    "print(label)\n",
    "df_sub\n",
    "\n",
    "#for j, row in df.iterrows():\n",
    " #   for i in df_sub[\"img_id\"]:\n",
    "  #      if i == row['img_id']:\n",
    "   #         label = row['label']\n",
    "    #        df_sub.loc[df_sub['img_id'] == i, [label]] = 1\n",
    "            "
   ]
  },
  {
   "cell_type": "markdown",
   "id": "9df37ca4",
   "metadata": {
    "_kg_hide-input": true,
    "papermill": {
     "duration": 0.044138,
     "end_time": "2022-05-11T15:59:15.914911",
     "exception": false,
     "start_time": "2022-05-11T15:59:15.870773",
     "status": "completed"
    },
    "tags": []
   },
   "source": [
    "# I have now created a smaller dataframe that represents a subset of images that have the labels as columns and a binary 1 or 0 depicting if the column label is present or not."
   ]
  },
  {
   "cell_type": "code",
   "execution_count": 2,
   "id": "83d001a5",
   "metadata": {
    "execution": {
     "iopub.execute_input": "2022-05-11T15:59:16.004329Z",
     "iopub.status.busy": "2022-05-11T15:59:16.004074Z",
     "iopub.status.idle": "2022-05-11T15:59:16.036217Z",
     "shell.execute_reply": "2022-05-11T15:59:16.035554Z"
    },
    "papermill": {
     "duration": 0.078601,
     "end_time": "2022-05-11T15:59:16.037991",
     "exception": false,
     "start_time": "2022-05-11T15:59:15.959390",
     "status": "completed"
    },
    "tags": []
   },
   "outputs": [],
   "source": [
    "subsetted= pd.read_csv(\"../input/subsetted/file_name.csv\")\n"
   ]
  },
  {
   "cell_type": "code",
   "execution_count": 3,
   "id": "fd2055dc",
   "metadata": {
    "execution": {
     "iopub.execute_input": "2022-05-11T15:59:16.126477Z",
     "iopub.status.busy": "2022-05-11T15:59:16.126106Z",
     "iopub.status.idle": "2022-05-11T15:59:16.129873Z",
     "shell.execute_reply": "2022-05-11T15:59:16.129212Z"
    },
    "papermill": {
     "duration": 0.049862,
     "end_time": "2022-05-11T15:59:16.131511",
     "exception": false,
     "start_time": "2022-05-11T15:59:16.081649",
     "status": "completed"
    },
    "tags": []
   },
   "outputs": [],
   "source": [
    "os.makedirs('image')"
   ]
  },
  {
   "cell_type": "code",
   "execution_count": 4,
   "id": "13780a1d",
   "metadata": {
    "execution": {
     "iopub.execute_input": "2022-05-11T15:59:16.219635Z",
     "iopub.status.busy": "2022-05-11T15:59:16.219446Z",
     "iopub.status.idle": "2022-05-11T15:59:16.256056Z",
     "shell.execute_reply": "2022-05-11T15:59:16.255414Z"
    },
    "papermill": {
     "duration": 0.082771,
     "end_time": "2022-05-11T15:59:16.257976",
     "exception": false,
     "start_time": "2022-05-11T15:59:16.175205",
     "status": "completed"
    },
    "tags": []
   },
   "outputs": [
    {
     "data": {
      "text/html": [
       "<div>\n",
       "<style scoped>\n",
       "    .dataframe tbody tr th:only-of-type {\n",
       "        vertical-align: middle;\n",
       "    }\n",
       "\n",
       "    .dataframe tbody tr th {\n",
       "        vertical-align: top;\n",
       "    }\n",
       "\n",
       "    .dataframe thead th {\n",
       "        text-align: right;\n",
       "    }\n",
       "</style>\n",
       "<table border=\"1\" class=\"dataframe\">\n",
       "  <thead>\n",
       "    <tr style=\"text-align: right;\">\n",
       "      <th></th>\n",
       "      <th>img_id</th>\n",
       "      <th>HUMAN</th>\n",
       "      <th>NoF</th>\n",
       "      <th>YFT</th>\n",
       "      <th>ALB</th>\n",
       "      <th>OTH</th>\n",
       "      <th>BILL</th>\n",
       "      <th>DOL</th>\n",
       "      <th>BET</th>\n",
       "      <th>SKJ</th>\n",
       "      <th>LAG</th>\n",
       "      <th>SHARK</th>\n",
       "      <th>OIL</th>\n",
       "      <th>PLS</th>\n",
       "      <th>TUNA</th>\n",
       "      <th>WATER</th>\n",
       "    </tr>\n",
       "  </thead>\n",
       "  <tbody>\n",
       "    <tr>\n",
       "      <th>0</th>\n",
       "      <td>dabf988c-db28-11ea-b646-f751770c2667</td>\n",
       "      <td>1.0</td>\n",
       "      <td>0.0</td>\n",
       "      <td>0.0</td>\n",
       "      <td>1.0</td>\n",
       "      <td>0.0</td>\n",
       "      <td>0.0</td>\n",
       "      <td>0.0</td>\n",
       "      <td>0.0</td>\n",
       "      <td>0.0</td>\n",
       "      <td>0.0</td>\n",
       "      <td>0.0</td>\n",
       "      <td>0.0</td>\n",
       "      <td>0.0</td>\n",
       "      <td>0.0</td>\n",
       "      <td>0.0</td>\n",
       "    </tr>\n",
       "    <tr>\n",
       "      <th>1</th>\n",
       "      <td>da4cbfa6-db28-11ea-b466-bb5f9e1c58d1</td>\n",
       "      <td>1.0</td>\n",
       "      <td>0.0</td>\n",
       "      <td>0.0</td>\n",
       "      <td>1.0</td>\n",
       "      <td>0.0</td>\n",
       "      <td>0.0</td>\n",
       "      <td>0.0</td>\n",
       "      <td>0.0</td>\n",
       "      <td>0.0</td>\n",
       "      <td>0.0</td>\n",
       "      <td>0.0</td>\n",
       "      <td>0.0</td>\n",
       "      <td>0.0</td>\n",
       "      <td>0.0</td>\n",
       "      <td>0.0</td>\n",
       "    </tr>\n",
       "    <tr>\n",
       "      <th>2</th>\n",
       "      <td>94d2518e-23f0-11e9-a8ae-97372c179db9</td>\n",
       "      <td>1.0</td>\n",
       "      <td>0.0</td>\n",
       "      <td>0.0</td>\n",
       "      <td>0.0</td>\n",
       "      <td>0.0</td>\n",
       "      <td>0.0</td>\n",
       "      <td>0.0</td>\n",
       "      <td>1.0</td>\n",
       "      <td>0.0</td>\n",
       "      <td>0.0</td>\n",
       "      <td>0.0</td>\n",
       "      <td>0.0</td>\n",
       "      <td>0.0</td>\n",
       "      <td>0.0</td>\n",
       "      <td>0.0</td>\n",
       "    </tr>\n",
       "    <tr>\n",
       "      <th>3</th>\n",
       "      <td>da97f94e-db28-11ea-a4e2-6bc6f4fb7b0e</td>\n",
       "      <td>1.0</td>\n",
       "      <td>0.0</td>\n",
       "      <td>0.0</td>\n",
       "      <td>1.0</td>\n",
       "      <td>0.0</td>\n",
       "      <td>0.0</td>\n",
       "      <td>0.0</td>\n",
       "      <td>0.0</td>\n",
       "      <td>1.0</td>\n",
       "      <td>0.0</td>\n",
       "      <td>0.0</td>\n",
       "      <td>0.0</td>\n",
       "      <td>0.0</td>\n",
       "      <td>0.0</td>\n",
       "      <td>0.0</td>\n",
       "    </tr>\n",
       "    <tr>\n",
       "      <th>4</th>\n",
       "      <td>dad1c426-db28-11ea-bb6b-3f63cdd14d9d</td>\n",
       "      <td>1.0</td>\n",
       "      <td>0.0</td>\n",
       "      <td>1.0</td>\n",
       "      <td>0.0</td>\n",
       "      <td>0.0</td>\n",
       "      <td>0.0</td>\n",
       "      <td>0.0</td>\n",
       "      <td>0.0</td>\n",
       "      <td>0.0</td>\n",
       "      <td>0.0</td>\n",
       "      <td>0.0</td>\n",
       "      <td>0.0</td>\n",
       "      <td>0.0</td>\n",
       "      <td>0.0</td>\n",
       "      <td>0.0</td>\n",
       "    </tr>\n",
       "  </tbody>\n",
       "</table>\n",
       "</div>"
      ],
      "text/plain": [
       "                                 img_id  HUMAN  NoF  YFT  ALB  OTH  BILL  DOL  \\\n",
       "0  dabf988c-db28-11ea-b646-f751770c2667    1.0  0.0  0.0  1.0  0.0   0.0  0.0   \n",
       "1  da4cbfa6-db28-11ea-b466-bb5f9e1c58d1    1.0  0.0  0.0  1.0  0.0   0.0  0.0   \n",
       "2  94d2518e-23f0-11e9-a8ae-97372c179db9    1.0  0.0  0.0  0.0  0.0   0.0  0.0   \n",
       "3  da97f94e-db28-11ea-a4e2-6bc6f4fb7b0e    1.0  0.0  0.0  1.0  0.0   0.0  0.0   \n",
       "4  dad1c426-db28-11ea-bb6b-3f63cdd14d9d    1.0  0.0  1.0  0.0  0.0   0.0  0.0   \n",
       "\n",
       "   BET  SKJ  LAG  SHARK  OIL  PLS  TUNA  WATER  \n",
       "0  0.0  0.0  0.0    0.0  0.0  0.0   0.0    0.0  \n",
       "1  0.0  0.0  0.0    0.0  0.0  0.0   0.0    0.0  \n",
       "2  1.0  0.0  0.0    0.0  0.0  0.0   0.0    0.0  \n",
       "3  0.0  1.0  0.0    0.0  0.0  0.0   0.0    0.0  \n",
       "4  0.0  0.0  0.0    0.0  0.0  0.0   0.0    0.0  "
      ]
     },
     "execution_count": 4,
     "metadata": {},
     "output_type": "execute_result"
    }
   ],
   "source": [
    "proper = subsetted.fillna(0)\n",
    "\n",
    "proper = proper.drop(columns=\"Unnamed: 0\")\n",
    "proper.head()"
   ]
  },
  {
   "cell_type": "code",
   "execution_count": 5,
   "id": "e5f4ad83",
   "metadata": {
    "execution": {
     "iopub.execute_input": "2022-05-11T15:59:16.350243Z",
     "iopub.status.busy": "2022-05-11T15:59:16.350007Z",
     "iopub.status.idle": "2022-05-11T15:59:16.371937Z",
     "shell.execute_reply": "2022-05-11T15:59:16.371144Z"
    },
    "papermill": {
     "duration": 0.069058,
     "end_time": "2022-05-11T15:59:16.373574",
     "exception": false,
     "start_time": "2022-05-11T15:59:16.304516",
     "status": "completed"
    },
    "tags": []
   },
   "outputs": [
    {
     "data": {
      "text/html": [
       "<div>\n",
       "<style scoped>\n",
       "    .dataframe tbody tr th:only-of-type {\n",
       "        vertical-align: middle;\n",
       "    }\n",
       "\n",
       "    .dataframe tbody tr th {\n",
       "        vertical-align: top;\n",
       "    }\n",
       "\n",
       "    .dataframe thead th {\n",
       "        text-align: right;\n",
       "    }\n",
       "</style>\n",
       "<table border=\"1\" class=\"dataframe\">\n",
       "  <thead>\n",
       "    <tr style=\"text-align: right;\">\n",
       "      <th></th>\n",
       "      <th>img_id</th>\n",
       "      <th>NoF</th>\n",
       "      <th>YFT</th>\n",
       "      <th>ALB</th>\n",
       "      <th>OTH</th>\n",
       "      <th>BILL</th>\n",
       "      <th>DOL</th>\n",
       "      <th>BET</th>\n",
       "      <th>SKJ</th>\n",
       "      <th>LAG</th>\n",
       "      <th>SHARK</th>\n",
       "      <th>OIL</th>\n",
       "      <th>PLS</th>\n",
       "      <th>TUNA</th>\n",
       "      <th>WATER</th>\n",
       "    </tr>\n",
       "  </thead>\n",
       "  <tbody>\n",
       "    <tr>\n",
       "      <th>0</th>\n",
       "      <td>dabf988c-db28-11ea-b646-f751770c2667</td>\n",
       "      <td>0.0</td>\n",
       "      <td>0.0</td>\n",
       "      <td>1.0</td>\n",
       "      <td>0.0</td>\n",
       "      <td>0.0</td>\n",
       "      <td>0.0</td>\n",
       "      <td>0.0</td>\n",
       "      <td>0.0</td>\n",
       "      <td>0.0</td>\n",
       "      <td>0.0</td>\n",
       "      <td>0.0</td>\n",
       "      <td>0.0</td>\n",
       "      <td>0.0</td>\n",
       "      <td>0.0</td>\n",
       "    </tr>\n",
       "    <tr>\n",
       "      <th>1</th>\n",
       "      <td>da4cbfa6-db28-11ea-b466-bb5f9e1c58d1</td>\n",
       "      <td>0.0</td>\n",
       "      <td>0.0</td>\n",
       "      <td>1.0</td>\n",
       "      <td>0.0</td>\n",
       "      <td>0.0</td>\n",
       "      <td>0.0</td>\n",
       "      <td>0.0</td>\n",
       "      <td>0.0</td>\n",
       "      <td>0.0</td>\n",
       "      <td>0.0</td>\n",
       "      <td>0.0</td>\n",
       "      <td>0.0</td>\n",
       "      <td>0.0</td>\n",
       "      <td>0.0</td>\n",
       "    </tr>\n",
       "    <tr>\n",
       "      <th>2</th>\n",
       "      <td>94d2518e-23f0-11e9-a8ae-97372c179db9</td>\n",
       "      <td>0.0</td>\n",
       "      <td>0.0</td>\n",
       "      <td>0.0</td>\n",
       "      <td>0.0</td>\n",
       "      <td>0.0</td>\n",
       "      <td>0.0</td>\n",
       "      <td>1.0</td>\n",
       "      <td>0.0</td>\n",
       "      <td>0.0</td>\n",
       "      <td>0.0</td>\n",
       "      <td>0.0</td>\n",
       "      <td>0.0</td>\n",
       "      <td>0.0</td>\n",
       "      <td>0.0</td>\n",
       "    </tr>\n",
       "    <tr>\n",
       "      <th>3</th>\n",
       "      <td>da97f94e-db28-11ea-a4e2-6bc6f4fb7b0e</td>\n",
       "      <td>0.0</td>\n",
       "      <td>0.0</td>\n",
       "      <td>1.0</td>\n",
       "      <td>0.0</td>\n",
       "      <td>0.0</td>\n",
       "      <td>0.0</td>\n",
       "      <td>0.0</td>\n",
       "      <td>1.0</td>\n",
       "      <td>0.0</td>\n",
       "      <td>0.0</td>\n",
       "      <td>0.0</td>\n",
       "      <td>0.0</td>\n",
       "      <td>0.0</td>\n",
       "      <td>0.0</td>\n",
       "    </tr>\n",
       "    <tr>\n",
       "      <th>4</th>\n",
       "      <td>dad1c426-db28-11ea-bb6b-3f63cdd14d9d</td>\n",
       "      <td>0.0</td>\n",
       "      <td>1.0</td>\n",
       "      <td>0.0</td>\n",
       "      <td>0.0</td>\n",
       "      <td>0.0</td>\n",
       "      <td>0.0</td>\n",
       "      <td>0.0</td>\n",
       "      <td>0.0</td>\n",
       "      <td>0.0</td>\n",
       "      <td>0.0</td>\n",
       "      <td>0.0</td>\n",
       "      <td>0.0</td>\n",
       "      <td>0.0</td>\n",
       "      <td>0.0</td>\n",
       "    </tr>\n",
       "  </tbody>\n",
       "</table>\n",
       "</div>"
      ],
      "text/plain": [
       "                                 img_id  NoF  YFT  ALB  OTH  BILL  DOL  BET  \\\n",
       "0  dabf988c-db28-11ea-b646-f751770c2667  0.0  0.0  1.0  0.0   0.0  0.0  0.0   \n",
       "1  da4cbfa6-db28-11ea-b466-bb5f9e1c58d1  0.0  0.0  1.0  0.0   0.0  0.0  0.0   \n",
       "2  94d2518e-23f0-11e9-a8ae-97372c179db9  0.0  0.0  0.0  0.0   0.0  0.0  1.0   \n",
       "3  da97f94e-db28-11ea-a4e2-6bc6f4fb7b0e  0.0  0.0  1.0  0.0   0.0  0.0  0.0   \n",
       "4  dad1c426-db28-11ea-bb6b-3f63cdd14d9d  0.0  1.0  0.0  0.0   0.0  0.0  0.0   \n",
       "\n",
       "   SKJ  LAG  SHARK  OIL  PLS  TUNA  WATER  \n",
       "0  0.0  0.0    0.0  0.0  0.0   0.0    0.0  \n",
       "1  0.0  0.0    0.0  0.0  0.0   0.0    0.0  \n",
       "2  0.0  0.0    0.0  0.0  0.0   0.0    0.0  \n",
       "3  1.0  0.0    0.0  0.0  0.0   0.0    0.0  \n",
       "4  0.0  0.0    0.0  0.0  0.0   0.0    0.0  "
      ]
     },
     "execution_count": 5,
     "metadata": {},
     "output_type": "execute_result"
    }
   ],
   "source": [
    "# Testing w/o Humans\n",
    "proper = proper.drop(columns=\"HUMAN\")\n",
    "proper.head()"
   ]
  },
  {
   "cell_type": "code",
   "execution_count": 6,
   "id": "11d552f6",
   "metadata": {
    "execution": {
     "iopub.execute_input": "2022-05-11T15:59:16.467029Z",
     "iopub.status.busy": "2022-05-11T15:59:16.466537Z",
     "iopub.status.idle": "2022-05-11T15:59:16.473573Z",
     "shell.execute_reply": "2022-05-11T15:59:16.472910Z"
    },
    "papermill": {
     "duration": 0.055395,
     "end_time": "2022-05-11T15:59:16.475202",
     "exception": false,
     "start_time": "2022-05-11T15:59:16.419807",
     "status": "completed"
    },
    "tags": []
   },
   "outputs": [
    {
     "data": {
      "text/plain": [
       "'da97f94e-db28-11ea-a4e2-6bc6f4fb7b0e'"
      ]
     },
     "execution_count": 6,
     "metadata": {},
     "output_type": "execute_result"
    }
   ],
   "source": [
    "list_ids= list(proper['img_id'])\n",
    "list_ids[3]"
   ]
  },
  {
   "cell_type": "markdown",
   "id": "60a49f47",
   "metadata": {
    "papermill": {
     "duration": 0.046229,
     "end_time": "2022-05-11T15:59:16.567429",
     "exception": false,
     "start_time": "2022-05-11T15:59:16.521200",
     "status": "completed"
    },
    "tags": []
   },
   "source": [
    "Moving the subset of images into a unique file"
   ]
  },
  {
   "cell_type": "code",
   "execution_count": null,
   "id": "1598161e",
   "metadata": {
    "papermill": {
     "duration": 0.045519,
     "end_time": "2022-05-11T15:59:16.659430",
     "exception": false,
     "start_time": "2022-05-11T15:59:16.613911",
     "status": "completed"
    },
    "tags": []
   },
   "outputs": [],
   "source": [
    "\n"
   ]
  },
  {
   "cell_type": "code",
   "execution_count": 7,
   "id": "9955b0ac",
   "metadata": {
    "execution": {
     "iopub.execute_input": "2022-05-11T15:59:16.752676Z",
     "iopub.status.busy": "2022-05-11T15:59:16.752065Z",
     "iopub.status.idle": "2022-05-11T16:00:04.077578Z",
     "shell.execute_reply": "2022-05-11T16:00:04.076595Z"
    },
    "papermill": {
     "duration": 47.374969,
     "end_time": "2022-05-11T16:00:04.080254",
     "exception": false,
     "start_time": "2022-05-11T15:59:16.705285",
     "status": "completed"
    },
    "tags": []
   },
   "outputs": [
    {
     "name": "stderr",
     "output_type": "stream",
     "text": [
      "100%|██████████| 10000/10000 [00:47<00:00, 211.35it/s]\n"
     ]
    }
   ],
   "source": [
    "for i in tqdm(list_ids):\n",
    "    c = i+'.jpg'\n",
    "    get_image = '/kaggle/input/attempt-13/foid_images_v020/images/' + c\n",
    "        #if os.path.exists(get_image):\n",
    "            #print('i')\n",
    "            #move_image = shutil.move(get_image,'/kaggle/working/image_/'+i)\n",
    "    if not os.path.exists('/kaggle/input/attempt-13/foid_images_v020/images/'+c):\n",
    "            print(\"FAILED\")\n",
    "            break\n",
    "    #if os.path.exists('/kaggle/working/image/'+c):\n",
    "           #print(\"CREATED\")\n",
    "           #break\n",
    "    else:\n",
    "        move_image = shutil.copy(get_image,'/kaggle/working/image/')"
   ]
  },
  {
   "cell_type": "code",
   "execution_count": 8,
   "id": "7d111656",
   "metadata": {
    "execution": {
     "iopub.execute_input": "2022-05-11T16:00:04.435524Z",
     "iopub.status.busy": "2022-05-11T16:00:04.435285Z",
     "iopub.status.idle": "2022-05-11T16:00:04.439006Z",
     "shell.execute_reply": "2022-05-11T16:00:04.438228Z"
    },
    "papermill": {
     "duration": 0.183114,
     "end_time": "2022-05-11T16:00:04.441011",
     "exception": false,
     "start_time": "2022-05-11T16:00:04.257897",
     "status": "completed"
    },
    "tags": []
   },
   "outputs": [],
   "source": [
    "proper_sub= proper.head(1000)\n"
   ]
  },
  {
   "cell_type": "markdown",
   "id": "18e5c6e8",
   "metadata": {
    "papermill": {
     "duration": 0.180584,
     "end_time": "2022-05-11T16:00:04.799006",
     "exception": false,
     "start_time": "2022-05-11T16:00:04.618422",
     "status": "completed"
    },
    "tags": []
   },
   "source": [
    "# Here I have created the training numpy array for the , ram issues have me to downsize to 1000 images"
   ]
  },
  {
   "cell_type": "code",
   "execution_count": 9,
   "id": "3f7947e9",
   "metadata": {
    "execution": {
     "iopub.execute_input": "2022-05-11T16:00:05.168067Z",
     "iopub.status.busy": "2022-05-11T16:00:05.167814Z",
     "iopub.status.idle": "2022-05-11T16:00:05.188722Z",
     "shell.execute_reply": "2022-05-11T16:00:05.188043Z"
    },
    "papermill": {
     "duration": 0.203093,
     "end_time": "2022-05-11T16:00:05.190630",
     "exception": false,
     "start_time": "2022-05-11T16:00:04.987537",
     "status": "completed"
    },
    "tags": []
   },
   "outputs": [
    {
     "data": {
      "text/html": [
       "<div>\n",
       "<style scoped>\n",
       "    .dataframe tbody tr th:only-of-type {\n",
       "        vertical-align: middle;\n",
       "    }\n",
       "\n",
       "    .dataframe tbody tr th {\n",
       "        vertical-align: top;\n",
       "    }\n",
       "\n",
       "    .dataframe thead th {\n",
       "        text-align: right;\n",
       "    }\n",
       "</style>\n",
       "<table border=\"1\" class=\"dataframe\">\n",
       "  <thead>\n",
       "    <tr style=\"text-align: right;\">\n",
       "      <th></th>\n",
       "      <th>img_id</th>\n",
       "      <th>NoF</th>\n",
       "      <th>YFT</th>\n",
       "      <th>ALB</th>\n",
       "      <th>OTH</th>\n",
       "      <th>BILL</th>\n",
       "      <th>DOL</th>\n",
       "      <th>BET</th>\n",
       "      <th>SKJ</th>\n",
       "      <th>LAG</th>\n",
       "      <th>SHARK</th>\n",
       "      <th>OIL</th>\n",
       "      <th>PLS</th>\n",
       "      <th>TUNA</th>\n",
       "      <th>WATER</th>\n",
       "    </tr>\n",
       "  </thead>\n",
       "  <tbody>\n",
       "    <tr>\n",
       "      <th>0</th>\n",
       "      <td>dabf988c-db28-11ea-b646-f751770c2667</td>\n",
       "      <td>0.0</td>\n",
       "      <td>0.0</td>\n",
       "      <td>1.0</td>\n",
       "      <td>0.0</td>\n",
       "      <td>0.0</td>\n",
       "      <td>0.0</td>\n",
       "      <td>0.0</td>\n",
       "      <td>0.0</td>\n",
       "      <td>0.0</td>\n",
       "      <td>0.0</td>\n",
       "      <td>0.0</td>\n",
       "      <td>0.0</td>\n",
       "      <td>0.0</td>\n",
       "      <td>0.0</td>\n",
       "    </tr>\n",
       "    <tr>\n",
       "      <th>1</th>\n",
       "      <td>da4cbfa6-db28-11ea-b466-bb5f9e1c58d1</td>\n",
       "      <td>0.0</td>\n",
       "      <td>0.0</td>\n",
       "      <td>1.0</td>\n",
       "      <td>0.0</td>\n",
       "      <td>0.0</td>\n",
       "      <td>0.0</td>\n",
       "      <td>0.0</td>\n",
       "      <td>0.0</td>\n",
       "      <td>0.0</td>\n",
       "      <td>0.0</td>\n",
       "      <td>0.0</td>\n",
       "      <td>0.0</td>\n",
       "      <td>0.0</td>\n",
       "      <td>0.0</td>\n",
       "    </tr>\n",
       "    <tr>\n",
       "      <th>2</th>\n",
       "      <td>94d2518e-23f0-11e9-a8ae-97372c179db9</td>\n",
       "      <td>0.0</td>\n",
       "      <td>0.0</td>\n",
       "      <td>0.0</td>\n",
       "      <td>0.0</td>\n",
       "      <td>0.0</td>\n",
       "      <td>0.0</td>\n",
       "      <td>1.0</td>\n",
       "      <td>0.0</td>\n",
       "      <td>0.0</td>\n",
       "      <td>0.0</td>\n",
       "      <td>0.0</td>\n",
       "      <td>0.0</td>\n",
       "      <td>0.0</td>\n",
       "      <td>0.0</td>\n",
       "    </tr>\n",
       "    <tr>\n",
       "      <th>3</th>\n",
       "      <td>da97f94e-db28-11ea-a4e2-6bc6f4fb7b0e</td>\n",
       "      <td>0.0</td>\n",
       "      <td>0.0</td>\n",
       "      <td>1.0</td>\n",
       "      <td>0.0</td>\n",
       "      <td>0.0</td>\n",
       "      <td>0.0</td>\n",
       "      <td>0.0</td>\n",
       "      <td>1.0</td>\n",
       "      <td>0.0</td>\n",
       "      <td>0.0</td>\n",
       "      <td>0.0</td>\n",
       "      <td>0.0</td>\n",
       "      <td>0.0</td>\n",
       "      <td>0.0</td>\n",
       "    </tr>\n",
       "    <tr>\n",
       "      <th>4</th>\n",
       "      <td>dad1c426-db28-11ea-bb6b-3f63cdd14d9d</td>\n",
       "      <td>0.0</td>\n",
       "      <td>1.0</td>\n",
       "      <td>0.0</td>\n",
       "      <td>0.0</td>\n",
       "      <td>0.0</td>\n",
       "      <td>0.0</td>\n",
       "      <td>0.0</td>\n",
       "      <td>0.0</td>\n",
       "      <td>0.0</td>\n",
       "      <td>0.0</td>\n",
       "      <td>0.0</td>\n",
       "      <td>0.0</td>\n",
       "      <td>0.0</td>\n",
       "      <td>0.0</td>\n",
       "    </tr>\n",
       "  </tbody>\n",
       "</table>\n",
       "</div>"
      ],
      "text/plain": [
       "                                 img_id  NoF  YFT  ALB  OTH  BILL  DOL  BET  \\\n",
       "0  dabf988c-db28-11ea-b646-f751770c2667  0.0  0.0  1.0  0.0   0.0  0.0  0.0   \n",
       "1  da4cbfa6-db28-11ea-b466-bb5f9e1c58d1  0.0  0.0  1.0  0.0   0.0  0.0  0.0   \n",
       "2  94d2518e-23f0-11e9-a8ae-97372c179db9  0.0  0.0  0.0  0.0   0.0  0.0  1.0   \n",
       "3  da97f94e-db28-11ea-a4e2-6bc6f4fb7b0e  0.0  0.0  1.0  0.0   0.0  0.0  0.0   \n",
       "4  dad1c426-db28-11ea-bb6b-3f63cdd14d9d  0.0  1.0  0.0  0.0   0.0  0.0  0.0   \n",
       "\n",
       "   SKJ  LAG  SHARK  OIL  PLS  TUNA  WATER  \n",
       "0  0.0  0.0    0.0  0.0  0.0   0.0    0.0  \n",
       "1  0.0  0.0    0.0  0.0  0.0   0.0    0.0  \n",
       "2  0.0  0.0    0.0  0.0  0.0   0.0    0.0  \n",
       "3  1.0  0.0    0.0  0.0  0.0   0.0    0.0  \n",
       "4  0.0  0.0    0.0  0.0  0.0   0.0    0.0  "
      ]
     },
     "execution_count": 9,
     "metadata": {},
     "output_type": "execute_result"
    }
   ],
   "source": [
    "proper_sub.head()"
   ]
  },
  {
   "cell_type": "code",
   "execution_count": 10,
   "id": "1cb660b6",
   "metadata": {
    "execution": {
     "iopub.execute_input": "2022-05-11T16:00:05.552563Z",
     "iopub.status.busy": "2022-05-11T16:00:05.552331Z",
     "iopub.status.idle": "2022-05-11T16:00:21.948878Z",
     "shell.execute_reply": "2022-05-11T16:00:21.947920Z"
    },
    "papermill": {
     "duration": 16.578872,
     "end_time": "2022-05-11T16:00:21.951084",
     "exception": false,
     "start_time": "2022-05-11T16:00:05.372212",
     "status": "completed"
    },
    "tags": []
   },
   "outputs": [
    {
     "name": "stderr",
     "output_type": "stream",
     "text": [
      "100%|██████████| 1000/1000 [00:15<00:00, 63.20it/s]\n"
     ]
    }
   ],
   "source": [
    "train_image = []\n",
    "for i in tqdm(range(proper_sub.shape[0])):\n",
    "    img = image.load_img('./image/'+proper['img_id'][i]+'.jpg',target_size=(400,400,3))\n",
    "    img = image.img_to_array(img)\n",
    "    img = img/255\n",
    "    train_image.append(img)\n",
    "X = np.array(train_image)"
   ]
  },
  {
   "cell_type": "code",
   "execution_count": 11,
   "id": "5263dc5f",
   "metadata": {
    "execution": {
     "iopub.execute_input": "2022-05-11T16:00:22.388808Z",
     "iopub.status.busy": "2022-05-11T16:00:22.388569Z",
     "iopub.status.idle": "2022-05-11T16:00:22.393423Z",
     "shell.execute_reply": "2022-05-11T16:00:22.392754Z"
    },
    "papermill": {
     "duration": 0.226285,
     "end_time": "2022-05-11T16:00:22.395290",
     "exception": false,
     "start_time": "2022-05-11T16:00:22.169005",
     "status": "completed"
    },
    "tags": []
   },
   "outputs": [
    {
     "data": {
      "text/plain": [
       "(1000, 400, 400, 3)"
      ]
     },
     "execution_count": 11,
     "metadata": {},
     "output_type": "execute_result"
    }
   ],
   "source": [
    "X.shape"
   ]
  },
  {
   "cell_type": "markdown",
   "id": "0711a7a4",
   "metadata": {
    "papermill": {
     "duration": 0.217961,
     "end_time": "2022-05-11T16:00:22.832545",
     "exception": false,
     "start_time": "2022-05-11T16:00:22.614584",
     "status": "completed"
    },
    "tags": []
   },
   "source": [
    " for j in class_names:\n",
    "        if j in tags:\n",
    "            df_sub.at[i, j] =1\n",
    "        else:\n",
    "            df_sub.at[i, j] =0"
   ]
  },
  {
   "cell_type": "code",
   "execution_count": 12,
   "id": "735f691a",
   "metadata": {
    "execution": {
     "iopub.execute_input": "2022-05-11T16:00:23.271005Z",
     "iopub.status.busy": "2022-05-11T16:00:23.270752Z",
     "iopub.status.idle": "2022-05-11T16:00:23.535003Z",
     "shell.execute_reply": "2022-05-11T16:00:23.534344Z"
    },
    "papermill": {
     "duration": 0.487883,
     "end_time": "2022-05-11T16:00:23.537951",
     "exception": false,
     "start_time": "2022-05-11T16:00:23.050068",
     "status": "completed"
    },
    "tags": []
   },
   "outputs": [
    {
     "data": {
      "text/plain": [
       "<matplotlib.image.AxesImage at 0x7fcc911b7090>"
      ]
     },
     "execution_count": 12,
     "metadata": {},
     "output_type": "execute_result"
    },
    {
     "data": {
      "image/png": "[encoded data removed]",
      "text/plain": [
       "<Figure size 432x288 with 1 Axes>"
      ]
     },
     "metadata": {
      "needs_background": "light"
     },
     "output_type": "display_data"
    }
   ],
   "source": [
    "plt.imshow(X[2])"
   ]
  },
  {
   "cell_type": "code",
   "execution_count": 13,
   "id": "06fc73a4",
   "metadata": {
    "execution": {
     "iopub.execute_input": "2022-05-11T16:00:23.984079Z",
     "iopub.status.busy": "2022-05-11T16:00:23.983822Z",
     "iopub.status.idle": "2022-05-11T16:00:23.987149Z",
     "shell.execute_reply": "2022-05-11T16:00:23.986451Z"
    },
    "papermill": {
     "duration": 0.228036,
     "end_time": "2022-05-11T16:00:23.988855",
     "exception": false,
     "start_time": "2022-05-11T16:00:23.760819",
     "status": "completed"
    },
    "tags": []
   },
   "outputs": [],
   "source": [
    "#proper['HUMAN'][2]"
   ]
  },
  {
   "cell_type": "markdown",
   "id": "344dc65e",
   "metadata": {
    "papermill": {
     "duration": 0.222664,
     "end_time": "2022-05-11T16:00:24.433864",
     "exception": false,
     "start_time": "2022-05-11T16:00:24.211200",
     "status": "completed"
    },
    "tags": []
   },
   "source": [
    "# Creating the Y numpy array"
   ]
  },
  {
   "cell_type": "code",
   "execution_count": 14,
   "id": "02ef4854",
   "metadata": {
    "execution": {
     "iopub.execute_input": "2022-05-11T16:00:24.880622Z",
     "iopub.status.busy": "2022-05-11T16:00:24.880074Z",
     "iopub.status.idle": "2022-05-11T16:00:24.886814Z",
     "shell.execute_reply": "2022-05-11T16:00:24.886183Z"
    },
    "papermill": {
     "duration": 0.23277,
     "end_time": "2022-05-11T16:00:24.888647",
     "exception": false,
     "start_time": "2022-05-11T16:00:24.655877",
     "status": "completed"
    },
    "tags": []
   },
   "outputs": [
    {
     "data": {
      "text/plain": [
       "(1000, 14)"
      ]
     },
     "execution_count": 14,
     "metadata": {},
     "output_type": "execute_result"
    }
   ],
   "source": [
    "proper_sub= proper.head(1000)\n",
    "\n",
    "y = np.array(proper_sub.drop(['img_id'],axis=1))\n",
    "y.shape"
   ]
  },
  {
   "cell_type": "markdown",
   "id": "c4a871d1",
   "metadata": {
    "papermill": {
     "duration": 0.222683,
     "end_time": "2022-05-11T16:00:25.334001",
     "exception": false,
     "start_time": "2022-05-11T16:00:25.111318",
     "status": "completed"
    },
    "tags": []
   },
   "source": [
    "# Here I split the data into each of its part"
   ]
  },
  {
   "cell_type": "code",
   "execution_count": 15,
   "id": "7ab7e946",
   "metadata": {
    "execution": {
     "iopub.execute_input": "2022-05-11T16:00:25.781926Z",
     "iopub.status.busy": "2022-05-11T16:00:25.781676Z",
     "iopub.status.idle": "2022-05-11T16:00:26.446140Z",
     "shell.execute_reply": "2022-05-11T16:00:26.445363Z"
    },
    "papermill": {
     "duration": 0.890608,
     "end_time": "2022-05-11T16:00:26.448235",
     "exception": false,
     "start_time": "2022-05-11T16:00:25.557627",
     "status": "completed"
    },
    "tags": []
   },
   "outputs": [],
   "source": [
    "X_train, X_test, y_train, y_test = train_test_split(X, y, random_state=42, test_size=0.1)"
   ]
  },
  {
   "cell_type": "markdown",
   "id": "164c069d",
   "metadata": {
    "papermill": {
     "duration": 0.225566,
     "end_time": "2022-05-11T16:00:26.896884",
     "exception": false,
     "start_time": "2022-05-11T16:00:26.671318",
     "status": "completed"
    },
    "tags": []
   },
   "source": [
    "# "
   ]
  },
  {
   "cell_type": "markdown",
   "id": "2974e2ea",
   "metadata": {
    "papermill": {
     "duration": 0.222496,
     "end_time": "2022-05-11T16:00:27.341275",
     "exception": false,
     "start_time": "2022-05-11T16:00:27.118779",
     "status": "completed"
    },
    "tags": []
   },
   "source": [
    "# Creating the Model and Summary"
   ]
  },
  {
   "cell_type": "markdown",
   "id": "a3741971",
   "metadata": {
    "execution": {
     "iopub.execute_input": "2022-05-04T18:01:17.383768Z",
     "iopub.status.busy": "2022-05-04T18:01:17.382886Z",
     "iopub.status.idle": "2022-05-04T18:01:19.75422Z",
     "shell.execute_reply": "2022-05-04T18:01:19.753404Z",
     "shell.execute_reply.started": "2022-05-04T18:01:17.383728Z"
    },
    "papermill": {
     "duration": 0.222809,
     "end_time": "2022-05-11T16:00:27.790969",
     "exception": false,
     "start_time": "2022-05-11T16:00:27.568160",
     "status": "completed"
    },
    "tags": []
   },
   "source": [
    "model = Sequential()\n",
    "model.add(Conv2D(filters=16, kernel_size=(5, 5), activation=\"relu\", input_shape=(400,400,3)))\n",
    "model.add(MaxPooling2D(pool_size=(2, 2)))\n",
    "model.add(Dropout(0.25))\n",
    "model.add(Conv2D(filters=32, kernel_size=(5, 5), activation='relu'))\n",
    "model.add(MaxPooling2D(pool_size=(2, 2)))\n",
    "model.add(Dropout(0.25))\n",
    "model.add(Conv2D(filters=64, kernel_size=(5, 5), activation=\"relu\"))\n",
    "model.add(MaxPooling2D(pool_size=(2, 2)))\n",
    "model.add(Dropout(0.25))\n",
    "model.add(Conv2D(filters=64, kernel_size=(5, 5), activation='relu'))\n",
    "model.add(MaxPooling2D(pool_size=(2, 2)))\n",
    "model.add(Dropout(0.25))\n",
    "model.add(Flatten())\n",
    "model.add(Dense(128, activation='relu'))\n",
    "model.add(Dropout(0.5))\n",
    "model.add(Dense(64, activation='relu'))\n",
    "model.add(Dropout(0.5))\n",
    "model.add(Dense(15, activation='sigmoid'))"
   ]
  },
  {
   "cell_type": "code",
   "execution_count": null,
   "id": "ce18eb8a",
   "metadata": {
    "papermill": {
     "duration": 0.222692,
     "end_time": "2022-05-11T16:00:28.240464",
     "exception": false,
     "start_time": "2022-05-11T16:00:28.017772",
     "status": "completed"
    },
    "tags": []
   },
   "outputs": [],
   "source": []
  },
  {
   "cell_type": "code",
   "execution_count": 16,
   "id": "7664c41c",
   "metadata": {
    "execution": {
     "iopub.execute_input": "2022-05-11T16:00:28.692502Z",
     "iopub.status.busy": "2022-05-11T16:00:28.692246Z",
     "iopub.status.idle": "2022-05-11T16:00:32.556419Z",
     "shell.execute_reply": "2022-05-11T16:00:32.555718Z"
    },
    "papermill": {
     "duration": 4.093312,
     "end_time": "2022-05-11T16:00:32.558334",
     "exception": false,
     "start_time": "2022-05-11T16:00:28.465022",
     "status": "completed"
    },
    "tags": []
   },
   "outputs": [
    {
     "name": "stderr",
     "output_type": "stream",
     "text": [
      "2022-05-11 16:00:28.793148: I tensorflow/stream_executor/cuda/cuda_gpu_executor.cc:937] successful NUMA node read from SysFS had negative value (-1), but there must be at least one NUMA node, so returning NUMA node zero\n",
      "2022-05-11 16:00:28.899045: I tensorflow/stream_executor/cuda/cuda_gpu_executor.cc:937] successful NUMA node read from SysFS had negative value (-1), but there must be at least one NUMA node, so returning NUMA node zero\n",
      "2022-05-11 16:00:28.899810: I tensorflow/stream_executor/cuda/cuda_gpu_executor.cc:937] successful NUMA node read from SysFS had negative value (-1), but there must be at least one NUMA node, so returning NUMA node zero\n",
      "2022-05-11 16:00:28.900973: I tensorflow/core/platform/cpu_feature_guard.cc:142] This TensorFlow binary is optimized with oneAPI Deep Neural Network Library (oneDNN) to use the following CPU instructions in performance-critical operations:  AVX2 AVX512F FMA\n",
      "To enable them in other operations, rebuild TensorFlow with the appropriate compiler flags.\n",
      "2022-05-11 16:00:28.901270: I tensorflow/stream_executor/cuda/cuda_gpu_executor.cc:937] successful NUMA node read from SysFS had negative value (-1), but there must be at least one NUMA node, so returning NUMA node zero\n",
      "2022-05-11 16:00:28.901947: I tensorflow/stream_executor/cuda/cuda_gpu_executor.cc:937] successful NUMA node read from SysFS had negative value (-1), but there must be at least one NUMA node, so returning NUMA node zero\n",
      "2022-05-11 16:00:28.902619: I tensorflow/stream_executor/cuda/cuda_gpu_executor.cc:937] successful NUMA node read from SysFS had negative value (-1), but there must be at least one NUMA node, so returning NUMA node zero\n",
      "2022-05-11 16:00:31.058258: I tensorflow/stream_executor/cuda/cuda_gpu_executor.cc:937] successful NUMA node read from SysFS had negative value (-1), but there must be at least one NUMA node, so returning NUMA node zero\n",
      "2022-05-11 16:00:31.059121: I tensorflow/stream_executor/cuda/cuda_gpu_executor.cc:937] successful NUMA node read from SysFS had negative value (-1), but there must be at least one NUMA node, so returning NUMA node zero\n",
      "2022-05-11 16:00:31.059823: I tensorflow/stream_executor/cuda/cuda_gpu_executor.cc:937] successful NUMA node read from SysFS had negative value (-1), but there must be at least one NUMA node, so returning NUMA node zero\n",
      "2022-05-11 16:00:31.061633: I tensorflow/core/common_runtime/gpu/gpu_device.cc:1510] Created device /job:localhost/replica:0/task:0/device:GPU:0 with 15403 MB memory:  -> device: 0, name: Tesla P100-PCIE-16GB, pci bus id: 0000:00:04.0, compute capability: 6.0\n"
     ]
    },
    {
     "name": "stdout",
     "output_type": "stream",
     "text": [
      "Downloading data from https://storage.googleapis.com/tensorflow/keras-applications/mobilenet_v2/mobilenet_v2_weights_tf_dim_ordering_tf_kernels_1.0_224_no_top.h5\n",
      "9412608/9406464 [==============================] - 0s 0us/step\n",
      "9420800/9406464 [==============================] - 0s 0us/step\n"
     ]
    }
   ],
   "source": [
    "from tensorflow.keras.initializers import HeNormal\n",
    "from tensorflow.keras.layers import Dense, GlobalAveragePooling2D\n",
    "from tensorflow.keras.models import Model\n",
    "#model2 = Sequential()\n",
    "#model2.add()\n",
    "\n",
    "base_model = MobileNetV2(input_shape = (400, 400, 3), include_top = False, weights = \"imagenet\")\n",
    "x = base_model.output\n",
    "x = GlobalAveragePooling2D()(x)\n",
    "# ADD A DENSE LAYER WITH 1024 neurons\n",
    "x = Dense(1024, activation='relu', kernel_initializer=HeNormal())(x)\n",
    "# ADD AN OUTPUT LAYER FOR BINARY CLASSIFICATION\n",
    "#predictions = Dense(15, activation='sigmoid')(x)\n",
    "## Test w/o Humans\n",
    "predictions = Dense(14, activation='sigmoid')(x)\n",
    "## returns 13% accuracy\n",
    "model2 = Model(inputs=base_model.input, outputs=predictions)\n"
   ]
  },
  {
   "cell_type": "code",
   "execution_count": 17,
   "id": "8f132fe5",
   "metadata": {
    "execution": {
     "iopub.execute_input": "2022-05-11T16:00:33.011557Z",
     "iopub.status.busy": "2022-05-11T16:00:33.011313Z",
     "iopub.status.idle": "2022-05-11T16:00:33.016084Z",
     "shell.execute_reply": "2022-05-11T16:00:33.015422Z"
    },
    "papermill": {
     "duration": 0.233428,
     "end_time": "2022-05-11T16:00:33.017925",
     "exception": false,
     "start_time": "2022-05-11T16:00:32.784497",
     "status": "completed"
    },
    "tags": []
   },
   "outputs": [
    {
     "data": {
      "text/plain": [
       "<bound method Model.summary of <keras.engine.functional.Functional object at 0x7fcc1469c290>>"
      ]
     },
     "execution_count": 17,
     "metadata": {},
     "output_type": "execute_result"
    }
   ],
   "source": [
    "model2.summary"
   ]
  },
  {
   "cell_type": "markdown",
   "id": "e03c88a5",
   "metadata": {
    "execution": {
     "iopub.execute_input": "2022-05-04T18:01:22.020254Z",
     "iopub.status.busy": "2022-05-04T18:01:22.019501Z",
     "iopub.status.idle": "2022-05-04T18:01:22.972873Z",
     "shell.execute_reply": "2022-05-04T18:01:22.972027Z",
     "shell.execute_reply.started": "2022-05-04T18:01:22.020215Z"
    },
    "papermill": {
     "duration": 0.227044,
     "end_time": "2022-05-11T16:00:33.494281",
     "exception": false,
     "start_time": "2022-05-11T16:00:33.267237",
     "status": "completed"
    },
    "tags": []
   },
   "source": [
    "from keras.utils.vis_utils import plot_model\n",
    "model.summary()\n",
    "plot_model(model, to_file='model_plot.png', show_shapes=True, show_layer_names=True)"
   ]
  },
  {
   "cell_type": "markdown",
   "id": "157fa002",
   "metadata": {
    "papermill": {
     "duration": 0.230778,
     "end_time": "2022-05-11T16:00:33.970348",
     "exception": false,
     "start_time": "2022-05-11T16:00:33.739570",
     "status": "completed"
    },
    "tags": []
   },
   "source": [
    "# Compiling and fitting the Model"
   ]
  },
  {
   "cell_type": "code",
   "execution_count": 18,
   "id": "4ed49ee9",
   "metadata": {
    "execution": {
     "iopub.execute_input": "2022-05-11T16:00:34.421271Z",
     "iopub.status.busy": "2022-05-11T16:00:34.420992Z",
     "iopub.status.idle": "2022-05-11T16:00:34.424901Z",
     "shell.execute_reply": "2022-05-11T16:00:34.423767Z"
    },
    "papermill": {
     "duration": 0.232427,
     "end_time": "2022-05-11T16:00:34.426696",
     "exception": false,
     "start_time": "2022-05-11T16:00:34.194269",
     "status": "completed"
    },
    "tags": []
   },
   "outputs": [],
   "source": [
    "#freezing layers attempt 1.0\n",
    "#accuracy -> 0\n",
    "#decision not to freeze layers\n",
    "\n",
    "#for layer in model2.layers[:172]:\n",
    "       #layer.trainable = False\n",
    "#for layer in model2.layers[172:]:\n",
    "       #layer.trainable = True"
   ]
  },
  {
   "cell_type": "code",
   "execution_count": 19,
   "id": "6e878d45",
   "metadata": {
    "execution": {
     "iopub.execute_input": "2022-05-11T16:00:34.879010Z",
     "iopub.status.busy": "2022-05-11T16:00:34.878769Z",
     "iopub.status.idle": "2022-05-11T16:00:34.895710Z",
     "shell.execute_reply": "2022-05-11T16:00:34.895068Z"
    },
    "papermill": {
     "duration": 0.244601,
     "end_time": "2022-05-11T16:00:34.897351",
     "exception": false,
     "start_time": "2022-05-11T16:00:34.652750",
     "status": "completed"
    },
    "tags": []
   },
   "outputs": [],
   "source": [
    "from tensorflow.keras.optimizers import SGD\n",
    "#model.compile(optimizer='adam', loss='binary_crossentropy', metrics=['accuracy'])\n",
    "#model.compile(optimizer='adam', loss='binary_crossentropy', metrics=['accuracy'])\n",
    "#model2.compile(optimizer=SGD(learning_rate=0.0001, momentum=0.9), metrics=['accuracy'], \n",
    "              #loss='binary_crossentropy')\n",
    "#restore if failure\n",
    "#model2.compile(optimizer='adam', loss='binary_crossentropy', metrics=['accuracy'])\n",
    "# with decay\n",
    "model2.compile(optimizer=SGD(learning_rate=0.0001, momentum=0.9), metrics=['accuracy'], \n",
    "              loss='binary_crossentropy')"
   ]
  },
  {
   "cell_type": "code",
   "execution_count": 20,
   "id": "122b5009",
   "metadata": {
    "execution": {
     "iopub.execute_input": "2022-05-11T16:00:35.356102Z",
     "iopub.status.busy": "2022-05-11T16:00:35.355436Z",
     "iopub.status.idle": "2022-05-11T16:00:35.359588Z",
     "shell.execute_reply": "2022-05-11T16:00:35.358854Z"
    },
    "papermill": {
     "duration": 0.231538,
     "end_time": "2022-05-11T16:00:35.361277",
     "exception": false,
     "start_time": "2022-05-11T16:00:35.129739",
     "status": "completed"
    },
    "tags": []
   },
   "outputs": [],
   "source": [
    "#es = EarlyStopping(patience=3, restore_best_weights=True, monitor='val_accuracy') # Early stopping\n",
    "#from tensorflow.keras.callbacks import LearningRateScheduler\n",
    "#initial_learning_rate = 0.01\n",
    "#epochs = 50\n",
    "#decay = initial_learning_rate / epochs\n",
    "#def lr_time_based_decay(epoch, lr):\n",
    "  #  return lr * 1 / (1 + decay * epoch)\n"
   ]
  },
  {
   "cell_type": "markdown",
   "id": "ff36560e",
   "metadata": {
    "execution": {
     "iopub.execute_input": "2022-05-04T18:02:13.507916Z",
     "iopub.status.busy": "2022-05-04T18:02:13.507638Z",
     "iopub.status.idle": "2022-05-04T18:03:38.973218Z",
     "shell.execute_reply": "2022-05-04T18:03:38.972337Z",
     "shell.execute_reply.started": "2022-05-04T18:02:13.507885Z"
    },
    "papermill": {
     "duration": 0.224567,
     "end_time": "2022-05-11T16:00:35.812333",
     "exception": false,
     "start_time": "2022-05-11T16:00:35.587766",
     "status": "completed"
    },
    "tags": []
   },
   "source": [
    "fitted_model_0 = model.fit(X_train, y_train, batch_size=64, \n",
    "                            epochs=20, validation_split=0.2, \n",
    "                            callbacks=[es])"
   ]
  },
  {
   "cell_type": "code",
   "execution_count": 21,
   "id": "99a1c433",
   "metadata": {
    "execution": {
     "iopub.execute_input": "2022-05-11T16:00:36.266562Z",
     "iopub.status.busy": "2022-05-11T16:00:36.266092Z",
     "iopub.status.idle": "2022-05-11T16:05:04.366644Z",
     "shell.execute_reply": "2022-05-11T16:05:04.365824Z"
    },
    "papermill": {
     "duration": 268.329158,
     "end_time": "2022-05-11T16:05:04.368980",
     "exception": false,
     "start_time": "2022-05-11T16:00:36.039822",
     "status": "completed"
    },
    "tags": []
   },
   "outputs": [
    {
     "name": "stderr",
     "output_type": "stream",
     "text": [
      "2022-05-11 16:00:36.271153: W tensorflow/core/framework/cpu_allocator_impl.cc:80] Allocation of 1382400000 exceeds 10% of free system memory.\n",
      "2022-05-11 16:00:37.749450: W tensorflow/core/framework/cpu_allocator_impl.cc:80] Allocation of 1382400000 exceeds 10% of free system memory.\n",
      "2022-05-11 16:00:38.781785: I tensorflow/compiler/mlir/mlir_graph_optimization_pass.cc:185] None of the MLIR Optimization Passes are enabled (registered 2)\n"
     ]
    },
    {
     "name": "stdout",
     "output_type": "stream",
     "text": [
      "Epoch 1/20\n"
     ]
    },
    {
     "name": "stderr",
     "output_type": "stream",
     "text": [
      "2022-05-11 16:00:42.465518: W tensorflow/core/framework/cpu_allocator_impl.cc:80] Allocation of 122880000 exceeds 10% of free system memory.\n",
      "2022-05-11 16:00:42.465653: W tensorflow/core/framework/cpu_allocator_impl.cc:80] Allocation of 122880000 exceeds 10% of free system memory.\n",
      "2022-05-11 16:00:42.594995: W tensorflow/core/framework/cpu_allocator_impl.cc:80] Allocation of 122880000 exceeds 10% of free system memory.\n",
      "2022-05-11 16:00:43.417429: I tensorflow/stream_executor/cuda/cuda_dnn.cc:369] Loaded cuDNN version 8005\n"
     ]
    },
    {
     "name": "stdout",
     "output_type": "stream",
     "text": [
      "12/12 [==============================] - 25s 1s/step - loss: 0.7879 - accuracy: 0.2097 - val_loss: 0.8157 - val_accuracy: 0.2444\n",
      "Epoch 2/20\n",
      "12/12 [==============================] - 12s 1000ms/step - loss: 0.7502 - accuracy: 0.2111 - val_loss: 0.7757 - val_accuracy: 0.2444\n",
      "Epoch 3/20\n",
      "12/12 [==============================] - 12s 1s/step - loss: 0.7020 - accuracy: 0.2125 - val_loss: 0.7337 - val_accuracy: 0.2444\n",
      "Epoch 4/20\n",
      "12/12 [==============================] - 12s 1s/step - loss: 0.6556 - accuracy: 0.1986 - val_loss: 0.6940 - val_accuracy: 0.2389\n",
      "Epoch 5/20\n",
      "12/12 [==============================] - 12s 1s/step - loss: 0.6141 - accuracy: 0.1847 - val_loss: 0.6575 - val_accuracy: 0.2389\n",
      "Epoch 6/20\n",
      "12/12 [==============================] - 12s 1s/step - loss: 0.5757 - accuracy: 0.1972 - val_loss: 0.6245 - val_accuracy: 0.2389\n",
      "Epoch 7/20\n",
      "12/12 [==============================] - 12s 990ms/step - loss: 0.5423 - accuracy: 0.1806 - val_loss: 0.5943 - val_accuracy: 0.2389\n",
      "Epoch 8/20\n",
      "12/12 [==============================] - 12s 1s/step - loss: 0.5123 - accuracy: 0.1819 - val_loss: 0.5668 - val_accuracy: 0.2444\n",
      "Epoch 9/20\n",
      "12/12 [==============================] - 12s 1s/step - loss: 0.4851 - accuracy: 0.1653 - val_loss: 0.5421 - val_accuracy: 0.2444\n",
      "Epoch 10/20\n",
      "12/12 [==============================] - 12s 1s/step - loss: 0.4609 - accuracy: 0.1694 - val_loss: 0.5197 - val_accuracy: 0.2444\n",
      "Epoch 11/20\n",
      "12/12 [==============================] - 12s 1s/step - loss: 0.4396 - accuracy: 0.1694 - val_loss: 0.4993 - val_accuracy: 0.2444\n",
      "Epoch 12/20\n",
      "12/12 [==============================] - 12s 982ms/step - loss: 0.4211 - accuracy: 0.1764 - val_loss: 0.4805 - val_accuracy: 0.2444\n",
      "Epoch 13/20\n",
      "12/12 [==============================] - 12s 992ms/step - loss: 0.4032 - accuracy: 0.1806 - val_loss: 0.4633 - val_accuracy: 0.2389\n",
      "Epoch 14/20\n",
      "12/12 [==============================] - 12s 1s/step - loss: 0.3876 - accuracy: 0.1875 - val_loss: 0.4477 - val_accuracy: 0.2222\n",
      "Epoch 15/20\n",
      "12/12 [==============================] - 12s 1s/step - loss: 0.3734 - accuracy: 0.1944 - val_loss: 0.4331 - val_accuracy: 0.2167\n",
      "Epoch 16/20\n",
      "12/12 [==============================] - 12s 990ms/step - loss: 0.3607 - accuracy: 0.1903 - val_loss: 0.4198 - val_accuracy: 0.2278\n",
      "Epoch 17/20\n",
      "12/12 [==============================] - 12s 1s/step - loss: 0.3491 - accuracy: 0.1944 - val_loss: 0.4074 - val_accuracy: 0.2222\n",
      "Epoch 18/20\n",
      "12/12 [==============================] - 12s 996ms/step - loss: 0.3384 - accuracy: 0.2014 - val_loss: 0.3960 - val_accuracy: 0.2389\n",
      "Epoch 19/20\n",
      "12/12 [==============================] - 12s 1s/step - loss: 0.3285 - accuracy: 0.2250 - val_loss: 0.3855 - val_accuracy: 0.2278\n",
      "Epoch 20/20\n",
      "12/12 [==============================] - 12s 999ms/step - loss: 0.3202 - accuracy: 0.2222 - val_loss: 0.3756 - val_accuracy: 0.2333\n"
     ]
    }
   ],
   "source": [
    "\n",
    "fitted_model= model2.fit(X_train, y_train, batch_size=64, \n",
    "                            epochs=20, validation_split=0.2)\n"
   ]
  },
  {
   "cell_type": "markdown",
   "id": "a7198d28",
   "metadata": {
    "execution": {
     "iopub.execute_input": "2022-05-06T09:11:51.324919Z",
     "iopub.status.busy": "2022-05-06T09:11:51.324655Z",
     "iopub.status.idle": "2022-05-06T09:11:51.329623Z",
     "shell.execute_reply": "2022-05-06T09:11:51.328108Z",
     "shell.execute_reply.started": "2022-05-06T09:11:51.324892Z"
    },
    "papermill": {
     "duration": 0.765371,
     "end_time": "2022-05-11T16:05:05.816949",
     "exception": false,
     "start_time": "2022-05-11T16:05:05.051578",
     "status": "completed"
    },
    "tags": []
   },
   "source": [
    "from keras.callbacks import History, EarlyStopping\n"
   ]
  },
  {
   "cell_type": "markdown",
   "id": "3e0a306f",
   "metadata": {
    "papermill": {
     "duration": 0.310348,
     "end_time": "2022-05-11T16:05:06.472290",
     "exception": false,
     "start_time": "2022-05-11T16:05:06.161942",
     "status": "completed"
    },
    "tags": []
   },
   "source": [
    "# Evaluating the Model\n"
   ]
  },
  {
   "cell_type": "markdown",
   "id": "ea2ccb99",
   "metadata": {
    "execution": {
     "iopub.execute_input": "2022-05-04T14:05:53.392808Z",
     "iopub.status.busy": "2022-05-04T14:05:53.392539Z",
     "iopub.status.idle": "2022-05-04T14:06:08.346639Z",
     "shell.execute_reply": "2022-05-04T14:06:08.345943Z",
     "shell.execute_reply.started": "2022-05-04T14:05:53.392779Z"
    },
    "papermill": {
     "duration": 0.308842,
     "end_time": "2022-05-11T16:05:07.092130",
     "exception": false,
     "start_time": "2022-05-11T16:05:06.783288",
     "status": "completed"
    },
    "tags": []
   },
   "source": [
    "acc = fitted_model_0.history['accuracy']\n",
    "val_acc = fitted_model_0.history['val_accuracy']\n",
    "loss = fitted_model_0.history['loss']\n",
    "val_loss = fitted_model_0.history['val_loss']\n",
    "epochs_range = range(8)\n",
    "\n",
    "plt.figure(figsize=(15, 15))\n",
    "plt.subplot(2, 2, 1)\n",
    "plt.plot(epochs_range, acc, label='Training Accuracy')\n",
    "plt.plot(epochs_range, val_acc, label='Validation Accuracy')\n",
    "plt.legend(loc='lower right')\n",
    "plt.title('Training and Validation Accuracy')\n",
    "\n",
    "plt.subplot(2, 2, 2)\n",
    "plt.plot(epochs_range, loss, label='Training Loss')\n",
    "plt.plot(epochs_range, val_loss, label='Validation Loss')\n",
    "plt.legend(loc='upper right')\n",
    "plt.title('Training and Validation Loss')\n",
    "plt.show()"
   ]
  },
  {
   "cell_type": "code",
   "execution_count": 22,
   "id": "dc825ee5",
   "metadata": {
    "execution": {
     "iopub.execute_input": "2022-05-11T16:05:07.714772Z",
     "iopub.status.busy": "2022-05-11T16:05:07.714508Z",
     "iopub.status.idle": "2022-05-11T16:05:08.025257Z",
     "shell.execute_reply": "2022-05-11T16:05:08.024556Z"
    },
    "papermill": {
     "duration": 0.624915,
     "end_time": "2022-05-11T16:05:08.027373",
     "exception": false,
     "start_time": "2022-05-11T16:05:07.402458",
     "status": "completed"
    },
    "tags": []
   },
   "outputs": [
    {
     "data": {
      "image/png": "[encoded data removed]",
      "text/plain": [
       "<Figure size 1080x1080 with 2 Axes>"
      ]
     },
     "metadata": {
      "needs_background": "light"
     },
     "output_type": "display_data"
    }
   ],
   "source": [
    "acc = fitted_model.history['accuracy']\n",
    "val_acc = fitted_model.history['val_accuracy']\n",
    "loss = fitted_model.history['loss']\n",
    "val_loss = fitted_model.history['val_loss']\n",
    "epochs_range = range(20)\n",
    "\n",
    "plt.figure(figsize=(15, 15))\n",
    "plt.subplot(2, 2, 1)\n",
    "plt.plot(epochs_range, acc, label='Training Accuracy')\n",
    "plt.plot(epochs_range, val_acc, label='Validation Accuracy')\n",
    "plt.legend(loc='lower right')\n",
    "plt.title('Training and Validation Accuracy')\n",
    "\n",
    "plt.subplot(2, 2, 2)\n",
    "plt.plot(epochs_range, loss, label='Training Loss')\n",
    "plt.plot(epochs_range, val_loss, label='Validation Loss')\n",
    "plt.legend(loc='upper right')\n",
    "plt.title('Training and Validation Loss')\n",
    "plt.show()"
   ]
  },
  {
   "cell_type": "markdown",
   "id": "a3ffcd97",
   "metadata": {
    "papermill": {
     "duration": 0.320635,
     "end_time": "2022-05-11T16:05:08.715925",
     "exception": false,
     "start_time": "2022-05-11T16:05:08.395290",
     "status": "completed"
    },
    "tags": []
   },
   "source": [
    "The model seems has accuracy of 95%, which is very impressive. "
   ]
  },
  {
   "cell_type": "code",
   "execution_count": 23,
   "id": "72f15652",
   "metadata": {
    "execution": {
     "iopub.execute_input": "2022-05-11T16:05:09.344879Z",
     "iopub.status.busy": "2022-05-11T16:05:09.344630Z",
     "iopub.status.idle": "2022-05-11T16:05:09.348408Z",
     "shell.execute_reply": "2022-05-11T16:05:09.347714Z"
    },
    "papermill": {
     "duration": 0.318041,
     "end_time": "2022-05-11T16:05:09.350242",
     "exception": false,
     "start_time": "2022-05-11T16:05:09.032201",
     "status": "completed"
    },
    "tags": []
   },
   "outputs": [],
   "source": [
    "from sklearn.metrics import classification_report,confusion_matrix"
   ]
  },
  {
   "cell_type": "markdown",
   "id": "7b1e3ffd",
   "metadata": {
    "execution": {
     "iopub.execute_input": "2022-05-04T12:18:15.730579Z",
     "iopub.status.busy": "2022-05-04T12:18:15.730081Z",
     "iopub.status.idle": "2022-05-04T12:18:16.071807Z",
     "shell.execute_reply": "2022-05-04T12:18:16.070875Z",
     "shell.execute_reply.started": "2022-05-04T12:18:15.730531Z"
    },
    "jupyter": {
     "outputs_hidden": true
    },
    "papermill": {
     "duration": 0.311692,
     "end_time": "2022-05-11T16:05:09.976222",
     "exception": false,
     "start_time": "2022-05-11T16:05:09.664530",
     "status": "completed"
    },
    "tags": []
   },
   "source": [
    "predict_x=model.predict(X_test) \n",
    "classes_x=np.argmax(predict_x,axis=1)\n",
    "\n",
    "\n",
    "\n",
    "classes_x\n",
    "\n",
    "predictions = classes_x\n",
    "predictions = predictions.reshape(1,-1)[0]\n",
    "\n",
    "\n",
    "print(model.evaluate(X_test, y_test))\n",
    "\n"
   ]
  },
  {
   "cell_type": "code",
   "execution_count": 24,
   "id": "d945e3c8",
   "metadata": {
    "execution": {
     "iopub.execute_input": "2022-05-11T16:05:10.613479Z",
     "iopub.status.busy": "2022-05-11T16:05:10.613222Z",
     "iopub.status.idle": "2022-05-11T16:05:12.252090Z",
     "shell.execute_reply": "2022-05-11T16:05:12.251367Z"
    },
    "papermill": {
     "duration": 1.964803,
     "end_time": "2022-05-11T16:05:12.253995",
     "exception": false,
     "start_time": "2022-05-11T16:05:10.289192",
     "status": "completed"
    },
    "tags": []
   },
   "outputs": [
    {
     "name": "stdout",
     "output_type": "stream",
     "text": [
      "4/4 [==============================] - 1s 100ms/step - loss: 0.3879 - accuracy: 0.2100\n",
      "[0.38787341117858887, 0.20999999344348907]\n"
     ]
    }
   ],
   "source": [
    "print(model2.evaluate(X_test, y_test))"
   ]
  },
  {
   "cell_type": "code",
   "execution_count": 25,
   "id": "22bc5d3c",
   "metadata": {
    "execution": {
     "iopub.execute_input": "2022-05-11T16:05:12.890083Z",
     "iopub.status.busy": "2022-05-11T16:05:12.889839Z",
     "iopub.status.idle": "2022-05-11T16:05:13.754794Z",
     "shell.execute_reply": "2022-05-11T16:05:13.754030Z"
    },
    "papermill": {
     "duration": 1.18387,
     "end_time": "2022-05-11T16:05:13.756825",
     "exception": false,
     "start_time": "2022-05-11T16:05:12.572955",
     "status": "completed"
    },
    "tags": []
   },
   "outputs": [],
   "source": [
    "preds2 = model2.predict(X_test[:10])"
   ]
  },
  {
   "cell_type": "markdown",
   "id": "c8d90663",
   "metadata": {
    "execution": {
     "iopub.execute_input": "2022-04-29T17:21:34.529883Z",
     "iopub.status.busy": "2022-04-29T17:21:34.529607Z",
     "iopub.status.idle": "2022-04-29T17:21:34.822446Z",
     "shell.execute_reply": "2022-04-29T17:21:34.82165Z",
     "shell.execute_reply.started": "2022-04-29T17:21:34.529852Z"
    },
    "papermill": {
     "duration": 0.336285,
     "end_time": "2022-05-11T16:05:14.408808",
     "exception": false,
     "start_time": "2022-05-11T16:05:14.072523",
     "status": "completed"
    },
    "tags": []
   },
   "source": [
    "preds = model.predict(X_test[:10])"
   ]
  },
  {
   "cell_type": "markdown",
   "id": "642cec59",
   "metadata": {
    "papermill": {
     "duration": 0.314004,
     "end_time": "2022-05-11T16:05:15.064514",
     "exception": false,
     "start_time": "2022-05-11T16:05:14.750510",
     "status": "completed"
    },
    "tags": []
   },
   "source": [
    "# Model Diagnostics"
   ]
  },
  {
   "cell_type": "code",
   "execution_count": 26,
   "id": "ce1422e8",
   "metadata": {
    "execution": {
     "iopub.execute_input": "2022-05-11T16:05:15.840139Z",
     "iopub.status.busy": "2022-05-11T16:05:15.839728Z",
     "iopub.status.idle": "2022-05-11T16:05:15.853907Z",
     "shell.execute_reply": "2022-05-11T16:05:15.853117Z"
    },
    "papermill": {
     "duration": 0.462315,
     "end_time": "2022-05-11T16:05:15.856450",
     "exception": false,
     "start_time": "2022-05-11T16:05:15.394135",
     "status": "completed"
    },
    "tags": []
   },
   "outputs": [
    {
     "data": {
      "text/plain": [
       "array([[0., 0., 0., 0., 0., 0., 0., 0., 0., 0., 0., 0., 0., 0.],\n",
       "       [0., 0., 0., 0., 0., 0., 0., 0., 0., 0., 0., 0., 0., 0.],\n",
       "       [0., 0., 0., 0., 0., 0., 0., 0., 0., 0., 0., 0., 0., 0.],\n",
       "       [0., 0., 0., 0., 0., 0., 0., 0., 0., 0., 0., 0., 0., 0.],\n",
       "       [1., 0., 0., 0., 0., 0., 0., 0., 0., 0., 0., 0., 0., 0.],\n",
       "       [0., 0., 0., 0., 0., 0., 0., 0., 0., 0., 0., 0., 0., 0.],\n",
       "       [0., 0., 0., 0., 0., 0., 0., 0., 0., 0., 0., 0., 0., 0.],\n",
       "       [0., 0., 0., 0., 0., 0., 0., 0., 0., 0., 0., 0., 0., 0.],\n",
       "       [0., 0., 0., 0., 0., 0., 0., 0., 0., 0., 0., 0., 0., 0.],\n",
       "       [0., 0., 0., 0., 0., 0., 0., 0., 0., 0., 0., 0., 0., 0.]],\n",
       "      dtype=float32)"
      ]
     },
     "execution_count": 26,
     "metadata": {},
     "output_type": "execute_result"
    }
   ],
   "source": [
    "np.round(preds2)"
   ]
  },
  {
   "cell_type": "code",
   "execution_count": 27,
   "id": "67d8b58f",
   "metadata": {
    "execution": {
     "iopub.execute_input": "2022-05-11T16:05:16.614619Z",
     "iopub.status.busy": "2022-05-11T16:05:16.614153Z",
     "iopub.status.idle": "2022-05-11T16:05:16.620642Z",
     "shell.execute_reply": "2022-05-11T16:05:16.619989Z"
    },
    "papermill": {
     "duration": 0.325675,
     "end_time": "2022-05-11T16:05:16.622592",
     "exception": false,
     "start_time": "2022-05-11T16:05:16.296917",
     "status": "completed"
    },
    "tags": []
   },
   "outputs": [
    {
     "data": {
      "text/plain": [
       "array([[0., 0., 0., 0., 0., 0., 0., 0., 0., 0., 0., 0., 0., 0.],\n",
       "       [0., 1., 0., 0., 0., 0., 0., 0., 0., 0., 0., 0., 0., 0.],\n",
       "       [0., 0., 1., 0., 0., 0., 0., 0., 0., 0., 0., 0., 0., 0.],\n",
       "       [0., 0., 1., 0., 0., 0., 0., 1., 0., 0., 0., 0., 0., 0.],\n",
       "       [0., 0., 0., 1., 0., 0., 0., 0., 0., 0., 0., 0., 0., 0.],\n",
       "       [0., 0., 0., 0., 0., 0., 0., 0., 1., 0., 0., 0., 0., 0.],\n",
       "       [0., 0., 1., 0., 0., 0., 0., 0., 0., 0., 0., 0., 0., 0.],\n",
       "       [0., 0., 1., 0., 0., 0., 0., 0., 0., 0., 0., 0., 0., 0.],\n",
       "       [0., 0., 0., 0., 0., 0., 0., 0., 0., 0., 0., 0., 0., 0.],\n",
       "       [0., 0., 0., 0., 0., 0., 0., 0., 0., 0., 0., 0., 0., 0.]])"
      ]
     },
     "execution_count": 27,
     "metadata": {},
     "output_type": "execute_result"
    }
   ],
   "source": [
    "y_test[:10]"
   ]
  },
  {
   "cell_type": "markdown",
   "id": "b63a397f",
   "metadata": {
    "execution": {
     "iopub.execute_input": "2022-05-04T13:46:30.03171Z",
     "iopub.status.busy": "2022-05-04T13:46:30.031449Z",
     "iopub.status.idle": "2022-05-04T13:46:30.11756Z",
     "shell.execute_reply": "2022-05-04T13:46:30.116587Z",
     "shell.execute_reply.started": "2022-05-04T13:46:30.031681Z"
    },
    "papermill": {
     "duration": 0.316661,
     "end_time": "2022-05-11T16:05:17.260990",
     "exception": false,
     "start_time": "2022-05-11T16:05:16.944329",
     "status": "completed"
    },
    "tags": []
   },
   "source": [
    "plt.imshow(X[2])\n",
    "print(np.round(preds))\n",
    "print(y_test[:10])\n",
    "\n",
    "x= X[2]\n",
    "plt.imshow(X[2])\n",
    "x = np.expand_dims(x, 0)\n",
    "print(x.shape)\n",
    "x = preprocess_input(x)\n",
    "\n",
    "preds_singular = model2.predict(x)\n",
    "print('Predicted class:')\n",
    "preds_singular.shape\n"
   ]
  },
  {
   "cell_type": "code",
   "execution_count": 28,
   "id": "7595e9b6",
   "metadata": {
    "execution": {
     "iopub.execute_input": "2022-05-11T16:05:17.894732Z",
     "iopub.status.busy": "2022-05-11T16:05:17.894472Z",
     "iopub.status.idle": "2022-05-11T16:05:18.568420Z",
     "shell.execute_reply": "2022-05-11T16:05:18.567684Z"
    },
    "papermill": {
     "duration": 0.992946,
     "end_time": "2022-05-11T16:05:18.570102",
     "exception": false,
     "start_time": "2022-05-11T16:05:17.577156",
     "status": "completed"
    },
    "tags": []
   },
   "outputs": [
    {
     "data": {
      "text/plain": [
       "array([[[ 58,  37],\n",
       "        [  2,   3]],\n",
       "\n",
       "       [[ 72,   7],\n",
       "        [ 20,   1]],\n",
       "\n",
       "       [[ 69,   2],\n",
       "        [ 27,   2]],\n",
       "\n",
       "       [[ 94,   0],\n",
       "        [  6,   0]],\n",
       "\n",
       "       [[ 92,   0],\n",
       "        [  8,   0]],\n",
       "\n",
       "       [[ 95,   0],\n",
       "        [  5,   0]],\n",
       "\n",
       "       [[ 96,   0],\n",
       "        [  4,   0]],\n",
       "\n",
       "       [[ 91,   0],\n",
       "        [  9,   0]],\n",
       "\n",
       "       [[ 96,   0],\n",
       "        [  4,   0]],\n",
       "\n",
       "       [[100,   0],\n",
       "        [  0,   0]],\n",
       "\n",
       "       [[100,   0],\n",
       "        [  0,   0]],\n",
       "\n",
       "       [[ 97,   3],\n",
       "        [  0,   0]],\n",
       "\n",
       "       [[ 98,   0],\n",
       "        [  2,   0]],\n",
       "\n",
       "       [[100,   0],\n",
       "        [  0,   0]]])"
      ]
     },
     "execution_count": 28,
     "metadata": {},
     "output_type": "execute_result"
    }
   ],
   "source": [
    "from sklearn.metrics import multilabel_confusion_matrix\n",
    "preds = model2.predict(X_test) \n",
    "y_pred = np.round(preds)\n",
    "multilabel_confusion_matrix(y_test, y_pred)"
   ]
  },
  {
   "cell_type": "code",
   "execution_count": 29,
   "id": "3ca7db96",
   "metadata": {
    "execution": {
     "iopub.execute_input": "2022-05-11T16:05:19.203374Z",
     "iopub.status.busy": "2022-05-11T16:05:19.202701Z",
     "iopub.status.idle": "2022-05-11T16:05:19.360295Z",
     "shell.execute_reply": "2022-05-11T16:05:19.359581Z"
    },
    "papermill": {
     "duration": 0.475656,
     "end_time": "2022-05-11T16:05:19.362108",
     "exception": false,
     "start_time": "2022-05-11T16:05:18.886452",
     "status": "completed"
    },
    "tags": []
   },
   "outputs": [],
   "source": [
    "import pandas as pd\n",
    "import matplotlib.pyplot as plt\n",
    "import seaborn as sns\n",
    "\n",
    "\n",
    "def print_confusion_matrix(confusion_matrix, axes, class_label, class_names, fontsize=14):\n",
    "\n",
    "    df_cm = pd.DataFrame(\n",
    "        confusion_matrix, index=class_names, columns=class_names,\n",
    "    )\n",
    "\n",
    "    try:\n",
    "        heatmap = sns.heatmap(df_cm, annot=True, fmt=\"d\", cbar=False, ax=axes)\n",
    "    except ValueError:\n",
    "        raise ValueError(\"Confusion matrix values must be integers.\")\n",
    "    heatmap.yaxis.set_ticklabels(heatmap.yaxis.get_ticklabels(), rotation=0, ha='right', fontsize=fontsize)\n",
    "    heatmap.xaxis.set_ticklabels(heatmap.xaxis.get_ticklabels(), rotation=45, ha='right', fontsize=fontsize)\n",
    "    axes.set_ylabel('True label')\n",
    "    axes.set_xlabel('Predicted label')\n",
    "    axes.set_title(\"Class:\" + class_label)"
   ]
  },
  {
   "cell_type": "code",
   "execution_count": 30,
   "id": "a87278e6",
   "metadata": {
    "execution": {
     "iopub.execute_input": "2022-05-11T16:05:19.997392Z",
     "iopub.status.busy": "2022-05-11T16:05:19.996706Z",
     "iopub.status.idle": "2022-05-11T16:05:23.224675Z",
     "shell.execute_reply": "2022-05-11T16:05:23.223992Z"
    },
    "papermill": {
     "duration": 3.548311,
     "end_time": "2022-05-11T16:05:23.226699",
     "exception": false,
     "start_time": "2022-05-11T16:05:19.678388",
     "status": "completed"
    },
    "tags": []
   },
   "outputs": [
    {
     "data": {
      "image/png": "[encoded data removed]",
      "text/plain": [
       "<Figure size 864x504 with 15 Axes>"
      ]
     },
     "metadata": {
      "needs_background": "light"
     },
     "output_type": "display_data"
    }
   ],
   "source": [
    "vis_arr = np.asarray(multilabel_confusion_matrix(y_test, y_pred))\n",
    "labels = ['NoF', 'YFT', 'ALB', 'OTH', 'BILL', 'DOL', 'BET', 'SKJ', 'LAG', 'SHARK', 'OIL', 'PLS', 'TUNA', 'WATER']\n",
    "fig, ax = plt.subplots(5, 3, figsize=(12, 7))\n",
    "for axes, cfs_matrix, label in zip(ax.flatten(), vis_arr, labels):\n",
    "        print_confusion_matrix(cfs_matrix, axes, label, [\"N\", \"Y\"])\n",
    "fig.tight_layout()\n",
    "plt.show()"
   ]
  },
  {
   "cell_type": "markdown",
   "id": "b1126ec2",
   "metadata": {
    "execution": {
     "iopub.execute_input": "2022-04-29T18:17:26.871799Z",
     "iopub.status.busy": "2022-04-29T18:17:26.871516Z",
     "iopub.status.idle": "2022-04-29T18:17:27.099327Z",
     "shell.execute_reply": "2022-04-29T18:17:27.098585Z",
     "shell.execute_reply.started": "2022-04-29T18:17:26.871768Z"
    },
    "papermill": {
     "duration": 0.318567,
     "end_time": "2022-05-11T16:05:23.867156",
     "exception": false,
     "start_time": "2022-05-11T16:05:23.548589",
     "status": "completed"
    },
    "tags": []
   },
   "source": [
    "#['HUMAN', 'NoF', 'YFT', 'ALB', 'OTH', 'BILL', 'DOL', 'BET', 'SKJ', 'LAG', 'SHARK', 'OIL', 'PLS', 'TUNA', 'WATER']\n",
    "import numpy as np\n",
    "from sklearn.metrics import confusion_matrix\n",
    "\n",
    "preds = model2.predict(X_test)\n",
    "y_pred = np.round(preds) #<TODO: convert the probabilities to classes with numpy>\n",
    "\n",
    "conf_human=confusion_matrix(y_test[:,0], y_pred[:,0])\n",
    "conf_nof=confusion_matrix(y_test[:,1], y_pred[:,1])\n",
    "conf_yft=confusion_matrix(y_test[:,2], y_pred[:,2])\n",
    "#'ALB', 'OTH', 'BILL',\n",
    "conf_alb=confusion_matrix(y_test[:,3], y_pred[:,3])\n",
    "conf_oth=confusion_matrix(y_test[:,4], y_pred[:,4])\n",
    "conf_bill=confusion_matrix(y_test[:,5], y_pred[:,5])\n",
    "#'DOL', 'BET', 'SKJ'\n",
    "conf_dol=confusion_matrix(y_test[:,6], y_pred[:,6])\n",
    "conf_bet=confusion_matrix(y_test[:,7], y_pred[:,7])\n",
    "conf_sky=confusion_matrix(y_test[:,8], y_pred[:,8])\n",
    "#'LAG', 'SHARK', 'OIL'\n",
    "conf_lag=confusion_matrix(y_test[:,9], y_pred[:,9])\n",
    "conf_shark=confusion_matrix(y_test[:,10], y_pred[:,10])\n",
    "conf_oil=confusion_matrix(y_test[:,11], y_pred[:,11])\n",
    "#'PLS', 'TUNA', 'WATER'\n",
    "conf_pls=confusion_matrix(y_test[:,12], y_pred[:,12])\n",
    "conf_tuna=confusion_matrix(y_test[:,13], y_pred[:,13])\n",
    "conf_water=confusion_matrix(y_test[:,14], y_pred[:,14])\n",
    "\n",
    "\n",
    "print(conf_human)\n",
    "\n",
    "conf_human\n",
    "conf_nof\n",
    "conf_yft\n",
    "\n",
    "conf_alb\n",
    "conf_oth\n",
    "conf_bill\n",
    "\n",
    "conf_dol\n",
    "conf_bet\n",
    "conf_sky\n",
    "\n",
    "conf_lag\n",
    "conf_shark\n",
    "conf_oil\n",
    "\n",
    "conf_pls\n",
    "conf_tuna\n",
    "conf_water\n",
    "\n",
    "import seaborn as sns\n",
    "ax_human = sns.heatmap(conf_human, annot=True, fmt='d', cmap='Blues') \n",
    "ax_human.set(xlabel='Predicted Label',\n",
    "       ylabel='True label', title= 'Human');\n",
    "\n",
    "\n",
    "ax_nof = sns.heatmap(conf_nof, annot=True, fmt='d', cmap='Blues') \n",
    "ax_nof.set(xlabel='Predicted Label',\n",
    "       ylabel='True label', title= 'NoF');\n",
    "\n",
    "ax_yft = sns.heatmap(conf_yft, annot=True, fmt='d', cmap='Blues') \n",
    "ax_yft.set(xlabel='Predicted Label',\n",
    "       ylabel='True label', title= 'YFT');\n",
    "\n",
    "ax_alb = sns.heatmap(conf_alb, annot=True, fmt='d', cmap='Blues') \n",
    "ax_alb.set(xlabel='Predicted Label',\n",
    "       ylabel='True label', title= 'ALB');\n",
    "\n",
    "ax_oth = sns.heatmap(conf_oth, annot=True, fmt='d', cmap='Blues') \n",
    "ax_oth.set(xlabel='Predicted Label',\n",
    "       ylabel='True label', title= 'OTH');\n",
    "\n",
    "ax_bill = sns.heatmap(conf_bill, annot=True, fmt='d', cmap='Blues') \n",
    "ax_bill.set(xlabel='Predicted Label',\n",
    "       ylabel='True label', title= 'BILL');\n",
    "\n",
    "ax_dol = sns.heatmap(conf_dol, annot=True, fmt='d', cmap='Blues') \n",
    "ax_dol.set(xlabel='Predicted Label',\n",
    "       ylabel='True label', title= 'DOL');\n",
    "\n",
    "ax_bet = sns.heatmap(conf_bet, annot=True, fmt='d', cmap='Blues') \n",
    "ax_bet.set(xlabel='Predicted Label',\n",
    "       ylabel='True label', title= 'BET');\n",
    "\n",
    "ax_sky = sns.heatmap(conf_sky, annot=True, fmt='d', cmap='Blues') \n",
    "ax_sky.set(xlabel='Predicted Label',\n",
    "       ylabel='True label', title= 'SKY');\n",
    "\n",
    "ax_lag = sns.heatmap(conf_lag, annot=True, fmt='d', cmap='Blues') \n",
    "ax_lag.set(xlabel='Predicted Label',\n",
    "       ylabel='True label', title= 'LAG');\n",
    "\n",
    "ax_shark = sns.heatmap(conf_shark, annot=True, fmt='d', cmap='Blues') \n",
    "ax_shark.set(xlabel='Predicted Label',\n",
    "       ylabel='True label', title= 'SHARK');\n",
    "\n",
    "ax_oil = sns.heatmap(conf_oil, annot=True, fmt='d', cmap='Blues') \n",
    "ax_oil.set(xlabel='Predicted Label',\n",
    "       ylabel='True label', title= 'OIL');\n",
    "\n",
    "ax_pls = sns.heatmap(conf_pls, annot=True, fmt='d', cmap='Blues') \n",
    "ax_pls.set(xlabel='Predicted Label',\n",
    "       ylabel='True label', title= 'PLS');\n",
    "\n",
    "ax_tuna = sns.heatmap(conf_tuna, annot=True, fmt='d', cmap='Blues') \n",
    "ax_tuna.set(xlabel='Predicted Label',\n",
    "       ylabel='True label', title= 'TUNA');\n",
    "\n",
    "ax_water = sns.heatmap(conf_water, annot=True, fmt='d', cmap='Blues') \n",
    "ax_water.set(xlabel='Predicted Label',\n",
    "       ylabel='True label', title= 'WATER');"
   ]
  },
  {
   "cell_type": "code",
   "execution_count": 31,
   "id": "47840a6a",
   "metadata": {
    "execution": {
     "iopub.execute_input": "2022-05-11T16:05:24.507126Z",
     "iopub.status.busy": "2022-05-11T16:05:24.506875Z",
     "iopub.status.idle": "2022-05-11T16:05:25.168754Z",
     "shell.execute_reply": "2022-05-11T16:05:25.168015Z"
    },
    "papermill": {
     "duration": 0.983974,
     "end_time": "2022-05-11T16:05:25.170757",
     "exception": false,
     "start_time": "2022-05-11T16:05:24.186783",
     "status": "completed"
    },
    "tags": []
   },
   "outputs": [
    {
     "data": {
      "text/plain": [
       "0\n",
       "0.0    882\n",
       "1.0     18\n",
       "dtype: int64"
      ]
     },
     "execution_count": 31,
     "metadata": {},
     "output_type": "execute_result"
    }
   ],
   "source": [
    "Y_train= pd.DataFrame(y_train)\n",
    "Y_test= pd.DataFrame(y_test)\n",
    "preds2 = np.round(model2.predict(X_test))\n",
    "Y_preds= pd.DataFrame(preds2)\n",
    "Y_train.columns\n",
    "(Y_train.groupby(0).size())\n",
    "\n"
   ]
  },
  {
   "cell_type": "code",
   "execution_count": 32,
   "id": "d912edc9",
   "metadata": {
    "execution": {
     "iopub.execute_input": "2022-05-11T16:05:25.820622Z",
     "iopub.status.busy": "2022-05-11T16:05:25.820349Z",
     "iopub.status.idle": "2022-05-11T16:05:25.837754Z",
     "shell.execute_reply": "2022-05-11T16:05:25.836232Z"
    },
    "papermill": {
     "duration": 0.3441,
     "end_time": "2022-05-11T16:05:25.840181",
     "exception": false,
     "start_time": "2022-05-11T16:05:25.496081",
     "status": "completed"
    },
    "tags": []
   },
   "outputs": [
    {
     "name": "stdout",
     "output_type": "stream",
     "text": [
      "14\n",
      "[0.882, 0.689, 0.614, 0.839, 0.866, 0.863, 0.837, 0.832, 0.884, 0.891, 0.9, 0.899, 0.898, 0.897]\n",
      "14\n",
      "[0.118, 0.311, 0.386, 0.161, 0.134, 0.137, 0.163, 0.168, 0.116, 0.109, 0.1, 0.101, 0.102, 0.103]\n",
      "14\n"
     ]
    }
   ],
   "source": [
    "y_labels = ['NoF', 'YFT', 'ALB', 'OTH', 'BILL', 'DOL', 'BET', 'SKJ', 'LAG', 'SHARK', 'OIL', 'PLS', 'TUNA', 'WATER']\n",
    "print(len(y_labels))\n",
    "counts = []\n",
    "for i in range(0,14):\n",
    "    x = list(Y_train.groupby(i).size())\n",
    "    counts.append(x[0]/1000)\n",
    "print(counts)\n",
    "print(len(counts))\n",
    "frequency= [round(1-i, 3) for i in counts]\n",
    "print(frequency)\n",
    "print(len(frequency))"
   ]
  },
  {
   "cell_type": "code",
   "execution_count": 33,
   "id": "18724620",
   "metadata": {
    "execution": {
     "iopub.execute_input": "2022-05-11T16:05:26.512251Z",
     "iopub.status.busy": "2022-05-11T16:05:26.511643Z",
     "iopub.status.idle": "2022-05-11T16:05:27.029711Z",
     "shell.execute_reply": "2022-05-11T16:05:27.029032Z"
    },
    "papermill": {
     "duration": 0.849245,
     "end_time": "2022-05-11T16:05:27.031672",
     "exception": false,
     "start_time": "2022-05-11T16:05:26.182427",
     "status": "completed"
    },
    "tags": []
   },
   "outputs": [
    {
     "data": {
      "image/png": "[encoded data removed]",
      "text/plain": [
       "<Figure size 864x576 with 1 Axes>"
      ]
     },
     "metadata": {
      "needs_background": "light"
     },
     "output_type": "display_data"
    }
   ],
   "source": [
    "df_counts = pd.DataFrame({'Frequency': frequency}, index=y_labels)\n",
    "ax = df_counts.plot(kind='bar', figsize=(12, 8), title='Label Occurence in images in Train',\n",
    "             xlabel='Label', ylabel='Frequency', legend=False)\n",
    "\n",
    "# annotate\n",
    "ax.bar_label(ax.containers[0], label_type='edge')\n",
    "\n",
    "# pad the spacing between the number and the edge of the figure\n",
    "ax.margins(y=0.1)"
   ]
  },
  {
   "cell_type": "code",
   "execution_count": 34,
   "id": "dfa80f4d",
   "metadata": {
    "execution": {
     "iopub.execute_input": "2022-05-11T16:05:27.762563Z",
     "iopub.status.busy": "2022-05-11T16:05:27.762313Z",
     "iopub.status.idle": "2022-05-11T16:05:27.770450Z",
     "shell.execute_reply": "2022-05-11T16:05:27.769619Z"
    },
    "papermill": {
     "duration": 0.33531,
     "end_time": "2022-05-11T16:05:27.772590",
     "exception": false,
     "start_time": "2022-05-11T16:05:27.437280",
     "status": "completed"
    },
    "tags": []
   },
   "outputs": [
    {
     "data": {
      "text/plain": [
       "3\n",
       "0.0    94\n",
       "1.0     6\n",
       "dtype: int64"
      ]
     },
     "execution_count": 34,
     "metadata": {},
     "output_type": "execute_result"
    }
   ],
   "source": [
    "Y_test.groupby(3).size()"
   ]
  },
  {
   "cell_type": "code",
   "execution_count": 35,
   "id": "7b926017",
   "metadata": {
    "execution": {
     "iopub.execute_input": "2022-05-11T16:05:28.431931Z",
     "iopub.status.busy": "2022-05-11T16:05:28.431233Z",
     "iopub.status.idle": "2022-05-11T16:05:28.447859Z",
     "shell.execute_reply": "2022-05-11T16:05:28.446094Z"
    },
    "papermill": {
     "duration": 0.348007,
     "end_time": "2022-05-11T16:05:28.450218",
     "exception": false,
     "start_time": "2022-05-11T16:05:28.102211",
     "status": "completed"
    },
    "tags": []
   },
   "outputs": [
    {
     "name": "stdout",
     "output_type": "stream",
     "text": [
      "14\n",
      "[0.95, 0.79, 0.71, 0.94, 0.92, 0.95, 0.96, 0.91, 0.96, 1.0, 1.0, 1.0, 0.98, 1.0]\n",
      "14\n",
      "[0.05, 0.21, 0.29, 0.06, 0.08, 0.05, 0.04, 0.09, 0.04, 0.0, 0.0, 0.0, 0.02, 0.0]\n",
      "14\n"
     ]
    }
   ],
   "source": [
    "print(len(y_labels))\n",
    "counts = []\n",
    "for i in range(0,14):\n",
    "    x = list(Y_test.groupby(i).size())\n",
    "    counts.append(x[0]/100)\n",
    "print(counts)\n",
    "print(len(counts))\n",
    "frequency= [round(1-i, 3) for i in counts]\n",
    "print(frequency)\n",
    "print(len(frequency))"
   ]
  },
  {
   "cell_type": "code",
   "execution_count": 36,
   "id": "96ebd5d4",
   "metadata": {
    "execution": {
     "iopub.execute_input": "2022-05-11T16:05:29.107436Z",
     "iopub.status.busy": "2022-05-11T16:05:29.107142Z",
     "iopub.status.idle": "2022-05-11T16:05:29.669990Z",
     "shell.execute_reply": "2022-05-11T16:05:29.669309Z"
    },
    "papermill": {
     "duration": 0.890741,
     "end_time": "2022-05-11T16:05:29.671832",
     "exception": false,
     "start_time": "2022-05-11T16:05:28.781091",
     "status": "completed"
    },
    "tags": []
   },
   "outputs": [
    {
     "data": {
      "image/png": "[encoded data removed]",
      "text/plain": [
       "<Figure size 864x576 with 1 Axes>"
      ]
     },
     "metadata": {
      "needs_background": "light"
     },
     "output_type": "display_data"
    }
   ],
   "source": [
    "df_counts = pd.DataFrame({'Frequency': frequency}, index=y_labels)\n",
    "ax = df_counts.plot(kind='bar', figsize=(12, 8), title='Label Occurence in Images in Test',\n",
    "             xlabel='Label', ylabel='Frequency', legend=False)\n",
    "\n",
    "# annotate\n",
    "ax.bar_label(ax.containers[0], label_type='edge')\n",
    "\n",
    "# pad the spacing between the number and the edge of the figure\n",
    "ax.margins(y=0.1)"
   ]
  },
  {
   "cell_type": "code",
   "execution_count": 37,
   "id": "d2b9430a",
   "metadata": {
    "execution": {
     "iopub.execute_input": "2022-05-11T16:05:30.327810Z",
     "iopub.status.busy": "2022-05-11T16:05:30.327128Z",
     "iopub.status.idle": "2022-05-11T16:05:30.336675Z",
     "shell.execute_reply": "2022-05-11T16:05:30.335926Z"
    },
    "papermill": {
     "duration": 0.337034,
     "end_time": "2022-05-11T16:05:30.338369",
     "exception": false,
     "start_time": "2022-05-11T16:05:30.001335",
     "status": "completed"
    },
    "tags": []
   },
   "outputs": [
    {
     "data": {
      "text/plain": [
       "False"
      ]
     },
     "execution_count": 37,
     "metadata": {},
     "output_type": "execute_result"
    }
   ],
   "source": [
    "Y_preds.groupby(0).size()[1]==100\n",
    "#list(Y_preds.groupby(0).size())"
   ]
  },
  {
   "cell_type": "code",
   "execution_count": 38,
   "id": "8dc90892",
   "metadata": {
    "execution": {
     "iopub.execute_input": "2022-05-11T16:05:31.044718Z",
     "iopub.status.busy": "2022-05-11T16:05:31.044151Z",
     "iopub.status.idle": "2022-05-11T16:05:31.059838Z",
     "shell.execute_reply": "2022-05-11T16:05:31.059153Z"
    },
    "papermill": {
     "duration": 0.34459,
     "end_time": "2022-05-11T16:05:31.062485",
     "exception": false,
     "start_time": "2022-05-11T16:05:30.717895",
     "status": "completed"
    },
    "tags": []
   },
   "outputs": [
    {
     "name": "stdout",
     "output_type": "stream",
     "text": [
      "14\n",
      "[0, 0.92, 0.96, 1.0, 1.0, 1.0, 1.0, 1.0, 1.0, 1.0, 1.0, 0.97, 1.0, 1.0]\n",
      "14\n",
      "[1, 0.08, 0.04, 0.0, 0.0, 0.0, 0.0, 0.0, 0.0, 0.0, 0.0, 0.03, 0.0, 0.0]\n",
      "14\n"
     ]
    }
   ],
   "source": [
    "print(len(y_labels))\n",
    "counts = []\n",
    "for i in range(0,14):\n",
    "    x = list(Y_preds.groupby(i).size())\n",
    "    if i == 0:\n",
    "        counts.append(0)\n",
    "    else:\n",
    "        counts.append(x[0]/100)\n",
    "print(counts)\n",
    "print(len(counts))\n",
    "frequency= [round(1-i, 3) for i in counts]\n",
    "print(frequency)\n",
    "print(len(frequency))"
   ]
  },
  {
   "cell_type": "code",
   "execution_count": 39,
   "id": "13420ffc",
   "metadata": {
    "execution": {
     "iopub.execute_input": "2022-05-11T16:05:31.709437Z",
     "iopub.status.busy": "2022-05-11T16:05:31.709186Z",
     "iopub.status.idle": "2022-05-11T16:05:32.018701Z",
     "shell.execute_reply": "2022-05-11T16:05:32.018003Z"
    },
    "papermill": {
     "duration": 0.634278,
     "end_time": "2022-05-11T16:05:32.020693",
     "exception": false,
     "start_time": "2022-05-11T16:05:31.386415",
     "status": "completed"
    },
    "tags": []
   },
   "outputs": [
    {
     "data": {
      "image/png": "[encoded data removed]",
      "text/plain": [
       "<Figure size 864x576 with 1 Axes>"
      ]
     },
     "metadata": {
      "needs_background": "light"
     },
     "output_type": "display_data"
    }
   ],
   "source": [
    "df_counts = pd.DataFrame({'Frequency': frequency}, index=y_labels)\n",
    "ax = df_counts.plot(kind='bar', figsize=(12, 8), title='Label Occurence in Images in Test',\n",
    "             xlabel='Label', ylabel='Frequency', legend=False)\n",
    "\n",
    "# annotate\n",
    "ax.bar_label(ax.containers[0], label_type='edge')\n",
    "\n",
    "# pad the spacing between the number and the edge of the figure\n",
    "ax.margins(y=0.1)"
   ]
  },
  {
   "cell_type": "code",
   "execution_count": 40,
   "id": "bdc7bbb5",
   "metadata": {
    "execution": {
     "iopub.execute_input": "2022-05-11T16:05:32.688804Z",
     "iopub.status.busy": "2022-05-11T16:05:32.688559Z",
     "iopub.status.idle": "2022-05-11T16:05:32.692337Z",
     "shell.execute_reply": "2022-05-11T16:05:32.691599Z"
    },
    "papermill": {
     "duration": 0.331722,
     "end_time": "2022-05-11T16:05:32.694019",
     "exception": false,
     "start_time": "2022-05-11T16:05:32.362297",
     "status": "completed"
    },
    "tags": []
   },
   "outputs": [],
   "source": [
    "from sklearn.metrics import coverage_error"
   ]
  },
  {
   "cell_type": "code",
   "execution_count": 41,
   "id": "f80ce20b",
   "metadata": {
    "execution": {
     "iopub.execute_input": "2022-05-11T16:05:33.348655Z",
     "iopub.status.busy": "2022-05-11T16:05:33.348411Z",
     "iopub.status.idle": "2022-05-11T16:05:33.354258Z",
     "shell.execute_reply": "2022-05-11T16:05:33.353438Z"
    },
    "papermill": {
     "duration": 0.338658,
     "end_time": "2022-05-11T16:05:33.357089",
     "exception": false,
     "start_time": "2022-05-11T16:05:33.018431",
     "status": "completed"
    },
    "tags": []
   },
   "outputs": [
    {
     "name": "stdout",
     "output_type": "stream",
     "text": [
      "10.15\n"
     ]
    }
   ],
   "source": [
    "print(coverage_error(y_test, y_pred))"
   ]
  },
  {
   "cell_type": "code",
   "execution_count": 42,
   "id": "5c5b3052",
   "metadata": {
    "execution": {
     "iopub.execute_input": "2022-05-11T16:05:34.022191Z",
     "iopub.status.busy": "2022-05-11T16:05:34.021737Z",
     "iopub.status.idle": "2022-05-11T16:05:34.025937Z",
     "shell.execute_reply": "2022-05-11T16:05:34.025210Z"
    },
    "papermill": {
     "duration": 0.337954,
     "end_time": "2022-05-11T16:05:34.028036",
     "exception": false,
     "start_time": "2022-05-11T16:05:33.690082",
     "status": "completed"
    },
    "tags": []
   },
   "outputs": [],
   "source": [
    "def hamming_loss(test, pred):\n",
    "    return (test != pred).sum().sum()/test.size"
   ]
  },
  {
   "cell_type": "code",
   "execution_count": 43,
   "id": "419e8cdb",
   "metadata": {
    "execution": {
     "iopub.execute_input": "2022-05-11T16:05:34.690699Z",
     "iopub.status.busy": "2022-05-11T16:05:34.690460Z",
     "iopub.status.idle": "2022-05-11T16:05:34.695225Z",
     "shell.execute_reply": "2022-05-11T16:05:34.694405Z"
    },
    "papermill": {
     "duration": 0.340888,
     "end_time": "2022-05-11T16:05:34.698232",
     "exception": false,
     "start_time": "2022-05-11T16:05:34.357344",
     "status": "completed"
    },
    "tags": []
   },
   "outputs": [
    {
     "name": "stdout",
     "output_type": "stream",
     "text": [
      "Hamming loss: 0.09714285714285714\n"
     ]
    }
   ],
   "source": [
    "print(\"Hamming loss:\", hamming_loss(y_test, y_pred))"
   ]
  },
  {
   "cell_type": "code",
   "execution_count": 44,
   "id": "d6ea85a5",
   "metadata": {
    "execution": {
     "iopub.execute_input": "2022-05-11T16:05:35.352977Z",
     "iopub.status.busy": "2022-05-11T16:05:35.352463Z",
     "iopub.status.idle": "2022-05-11T16:05:35.357511Z",
     "shell.execute_reply": "2022-05-11T16:05:35.356826Z"
    },
    "papermill": {
     "duration": 0.333037,
     "end_time": "2022-05-11T16:05:35.359187",
     "exception": false,
     "start_time": "2022-05-11T16:05:35.026150",
     "status": "completed"
    },
    "tags": []
   },
   "outputs": [],
   "source": [
    "exact_acc = (y_test == y_pred).all(axis=1).mean()"
   ]
  },
  {
   "cell_type": "code",
   "execution_count": 45,
   "id": "1307f207",
   "metadata": {
    "execution": {
     "iopub.execute_input": "2022-05-11T16:05:36.015449Z",
     "iopub.status.busy": "2022-05-11T16:05:36.015200Z",
     "iopub.status.idle": "2022-05-11T16:05:36.019666Z",
     "shell.execute_reply": "2022-05-11T16:05:36.018846Z"
    },
    "papermill": {
     "duration": 0.337125,
     "end_time": "2022-05-11T16:05:36.022701",
     "exception": false,
     "start_time": "2022-05-11T16:05:35.685576",
     "status": "completed"
    },
    "tags": []
   },
   "outputs": [
    {
     "name": "stdout",
     "output_type": "stream",
     "text": [
      "Exact Match Ratio: 0.14\n"
     ]
    }
   ],
   "source": [
    "print(\"Exact Match Ratio:\", exact_acc)"
   ]
  },
  {
   "cell_type": "code",
   "execution_count": null,
   "id": "74c74b74",
   "metadata": {
    "papermill": {
     "duration": 0.331638,
     "end_time": "2022-05-11T16:05:36.680537",
     "exception": false,
     "start_time": "2022-05-11T16:05:36.348899",
     "status": "completed"
    },
    "tags": []
   },
   "outputs": [],
   "source": []
  }
 ],
 "metadata": {
  "kernelspec": {
   "display_name": "Python 3",
   "language": "python",
   "name": "python3"
  },
  "language_info": {
   "codemirror_mode": {
    "name": "ipython",
    "version": 3
   },
   "file_extension": ".py",
   "mimetype": "text/x-python",
   "name": "python",
   "nbconvert_exporter": "python",
   "pygments_lexer": "ipython3",
   "version": "3.7.12"
  },
  "papermill": {
   "default_parameters": {},
   "duration": 397.951364,
   "end_time": "2022-05-11T16:05:39.954149",
   "environment_variables": {},
   "exception": null,
   "input_path": "__notebook__.ipynb",
   "output_path": "__notebook__.ipynb",
   "parameters": {},
   "start_time": "2022-05-11T15:59:02.002785",
   "version": "2.3.4"
  }
 },
 "nbformat": 4,
 "nbformat_minor": 5
}
