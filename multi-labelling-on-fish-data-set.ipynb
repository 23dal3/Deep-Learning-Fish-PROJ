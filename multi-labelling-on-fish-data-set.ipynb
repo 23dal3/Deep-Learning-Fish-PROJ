{
 "cells": [
  {
   "cell_type": "markdown",
   "id": "768f01ef",
   "metadata": {
    "papermill": {
     "duration": 0.05961,
     "end_time": "2022-04-29T19:17:10.417306",
     "exception": false,
     "start_time": "2022-04-29T19:17:10.357696",
     "status": "completed"
    },
    "tags": []
   },
   "source": [
    "# A Deep Learning Program Run on Commercial Pelagic Vessels in the Pacific"
   ]
  },
  {
   "cell_type": "markdown",
   "id": "e5a5f4de",
   "metadata": {
    "papermill": {
     "duration": 0.089691,
     "end_time": "2022-04-29T19:17:10.565865",
     "exception": false,
     "start_time": "2022-04-29T19:17:10.476174",
     "status": "completed"
    },
    "tags": []
   },
   "source": [
    "**Packages Used**"
   ]
  },
  {
   "cell_type": "code",
   "execution_count": 1,
   "id": "bae45d0e",
   "metadata": {
    "execution": {
     "iopub.execute_input": "2022-04-29T19:17:10.697585Z",
     "iopub.status.busy": "2022-04-29T19:17:10.697122Z",
     "iopub.status.idle": "2022-04-29T19:17:16.259914Z",
     "shell.execute_reply": "2022-04-29T19:17:16.259169Z"
    },
    "papermill": {
     "duration": 5.631313,
     "end_time": "2022-04-29T19:17:16.262144",
     "exception": false,
     "start_time": "2022-04-29T19:17:10.630831",
     "status": "completed"
    },
    "tags": []
   },
   "outputs": [],
   "source": [
    "import shutil \n",
    "import keras\n",
    "from keras.models import Sequential\n",
    "from keras.layers import Dense, Dropout, Flatten\n",
    "from keras.layers import Conv2D, MaxPooling2D\n",
    "from keras.utils import *\n",
    "from keras.preprocessing import image\n",
    "import numpy as np\n",
    "import os\n",
    "import numpy as np # linear algebra\n",
    "import pandas as pd # data processing, CSV file I/O (e.g. pd.read_csv)\n",
    "import matplotlib.pyplot as plt\n",
    "from sklearn.model_selection import train_test_split\n",
    "from tqdm import tqdm\n",
    "from tensorflow.keras.callbacks import EarlyStopping # early stopping\n",
    "import matplotlib.pyplot as plt\n",
    "np.random.seed(34)"
   ]
  },
  {
   "cell_type": "markdown",
   "id": "cce7d7ad",
   "metadata": {
    "papermill": {
     "duration": 0.058251,
     "end_time": "2022-04-29T19:17:16.379195",
     "exception": false,
     "start_time": "2022-04-29T19:17:16.320944",
     "status": "completed"
    },
    "tags": []
   },
   "source": [
    "Here We load in our initial data set which is a CSV of image identification labels and labels of what is present aboard the vessel. I will look solely at the label category in this data frame, which has the categories ['HUMAN', 'NoF', 'YFT', 'ALB', 'OTH', 'BILL', 'DOL', 'BET', 'SKJ', 'LAG', 'SHARK', 'OIL', 'PLS', 'TUNA', 'WATER'],"
   ]
  },
  {
   "cell_type": "code",
   "execution_count": 2,
   "id": "583bef5a",
   "metadata": {
    "execution": {
     "iopub.execute_input": "2022-04-29T19:17:16.496602Z",
     "iopub.status.busy": "2022-04-29T19:17:16.496368Z",
     "iopub.status.idle": "2022-04-29T19:17:16.947785Z",
     "shell.execute_reply": "2022-04-29T19:17:16.947054Z"
    },
    "papermill": {
     "duration": 0.512734,
     "end_time": "2022-04-29T19:17:16.950203",
     "exception": false,
     "start_time": "2022-04-29T19:17:16.437469",
     "status": "completed"
    },
    "tags": []
   },
   "outputs": [
    {
     "name": "stdout",
     "output_type": "stream",
     "text": [
      "812926\n",
      "317820\n",
      "                                 img_id  label\n",
      "0  94a69b66-23f0-11e9-a78e-2f2b7983ac0d  HUMAN\n",
      "1  94a6a3a4-23f0-11e9-a78f-ebd9c88ef3e8  HUMAN\n",
      "2  94a6a430-23f0-11e9-a790-2b5f72f1667a  HUMAN\n",
      "3  94a6a48a-23f0-11e9-a791-fb958b6ab6b3  HUMAN\n",
      "4  94a6a4da-23f0-11e9-a792-f320b734bd9b  HUMAN\n"
     ]
    }
   ],
   "source": [
    "\n",
    "df = pd.read_csv(\"../input/image-codes-data-set/fish.csv\")\n",
    "print(df.size)\n",
    "df = df.drop_duplicates()\n",
    "print(df.size)\n",
    "print(df.head())"
   ]
  },
  {
   "cell_type": "markdown",
   "id": "2988a4be",
   "metadata": {
    "papermill": {
     "duration": 0.059871,
     "end_time": "2022-04-29T19:17:17.071101",
     "exception": false,
     "start_time": "2022-04-29T19:17:17.011230",
     "status": "completed"
    },
    "tags": []
   },
   "source": [
    "There are over 86,000 unqiue images in this dataframe."
   ]
  },
  {
   "cell_type": "code",
   "execution_count": 3,
   "id": "2611c2e5",
   "metadata": {
    "execution": {
     "iopub.execute_input": "2022-04-29T19:17:17.206036Z",
     "iopub.status.busy": "2022-04-29T19:17:17.204821Z",
     "iopub.status.idle": "2022-04-29T19:17:17.254499Z",
     "shell.execute_reply": "2022-04-29T19:17:17.253799Z"
    },
    "papermill": {
     "duration": 0.127502,
     "end_time": "2022-04-29T19:17:17.257194",
     "exception": false,
     "start_time": "2022-04-29T19:17:17.129692",
     "status": "completed"
    },
    "tags": []
   },
   "outputs": [
    {
     "data": {
      "text/plain": [
       "86029"
      ]
     },
     "execution_count": 3,
     "metadata": {},
     "output_type": "execute_result"
    }
   ],
   "source": [
    "imgs = df.img_id.unique()\n",
    "imgs.size"
   ]
  },
  {
   "cell_type": "markdown",
   "id": "1ac0ba53",
   "metadata": {
    "papermill": {
     "duration": 0.092763,
     "end_time": "2022-04-29T19:17:17.443487",
     "exception": false,
     "start_time": "2022-04-29T19:17:17.350724",
     "status": "completed"
    },
    "tags": []
   },
   "source": [
    "# ** FROM HERE THIS IS HOW I TRANSFERRED MY LARGER CSV TO A SMALLER CSV WITH UNIQUE IMAGES **"
   ]
  },
  {
   "cell_type": "code",
   "execution_count": 4,
   "id": "81d8d18c",
   "metadata": {
    "execution": {
     "iopub.execute_input": "2022-04-29T19:17:17.630547Z",
     "iopub.status.busy": "2022-04-29T19:17:17.630216Z",
     "iopub.status.idle": "2022-04-29T19:17:17.652324Z",
     "shell.execute_reply": "2022-04-29T19:17:17.651690Z"
    },
    "papermill": {
     "duration": 0.117632,
     "end_time": "2022-04-29T19:17:17.654547",
     "exception": false,
     "start_time": "2022-04-29T19:17:17.536915",
     "status": "completed"
    },
    "tags": []
   },
   "outputs": [],
   "source": [
    "df2= pd.DataFrame()\n",
    "df2[\"img_id\"] = imgs"
   ]
  },
  {
   "cell_type": "code",
   "execution_count": 5,
   "id": "c6b8ce4c",
   "metadata": {
    "execution": {
     "iopub.execute_input": "2022-04-29T19:17:17.851707Z",
     "iopub.status.busy": "2022-04-29T19:17:17.851432Z",
     "iopub.status.idle": "2022-04-29T19:17:17.875825Z",
     "shell.execute_reply": "2022-04-29T19:17:17.874791Z"
    },
    "papermill": {
     "duration": 0.125314,
     "end_time": "2022-04-29T19:17:17.878974",
     "exception": false,
     "start_time": "2022-04-29T19:17:17.753660",
     "status": "completed"
    },
    "tags": []
   },
   "outputs": [
    {
     "name": "stdout",
     "output_type": "stream",
     "text": [
      "['HUMAN', 'NoF', 'YFT', 'ALB', 'OTH', 'BILL', 'DOL', 'BET', 'SKJ', 'LAG', 'SHARK', 'OIL', 'PLS', 'TUNA', 'WATER']\n"
     ]
    }
   ],
   "source": [
    "class_names = list(df.label.unique())\n",
    "print(class_names)"
   ]
  },
  {
   "cell_type": "code",
   "execution_count": 6,
   "id": "aba97800",
   "metadata": {
    "execution": {
     "iopub.execute_input": "2022-04-29T19:17:18.074451Z",
     "iopub.status.busy": "2022-04-29T19:17:18.074194Z",
     "iopub.status.idle": "2022-04-29T19:17:18.094571Z",
     "shell.execute_reply": "2022-04-29T19:17:18.093969Z"
    },
    "papermill": {
     "duration": 0.120666,
     "end_time": "2022-04-29T19:17:18.096747",
     "exception": false,
     "start_time": "2022-04-29T19:17:17.976081",
     "status": "completed"
    },
    "tags": []
   },
   "outputs": [],
   "source": [
    "for i in class_names:\n",
    "    df2[i]= \"\""
   ]
  },
  {
   "cell_type": "code",
   "execution_count": 7,
   "id": "5c923768",
   "metadata": {
    "execution": {
     "iopub.execute_input": "2022-04-29T19:17:18.292078Z",
     "iopub.status.busy": "2022-04-29T19:17:18.291843Z",
     "iopub.status.idle": "2022-04-29T19:17:18.307128Z",
     "shell.execute_reply": "2022-04-29T19:17:18.306558Z"
    },
    "papermill": {
     "duration": 0.115029,
     "end_time": "2022-04-29T19:17:18.309253",
     "exception": false,
     "start_time": "2022-04-29T19:17:18.194224",
     "status": "completed"
    },
    "tags": []
   },
   "outputs": [
    {
     "data": {
      "text/plain": [
       "'94a6a430-23f0-11e9-a790-2b5f72f1667a'"
      ]
     },
     "execution_count": 7,
     "metadata": {},
     "output_type": "execute_result"
    }
   ],
   "source": [
    "img_ids= df[\"img_id\"]\n",
    "img_ids[2]"
   ]
  },
  {
   "cell_type": "code",
   "execution_count": 8,
   "id": "0aecfa46",
   "metadata": {
    "execution": {
     "iopub.execute_input": "2022-04-29T19:17:18.473717Z",
     "iopub.status.busy": "2022-04-29T19:17:18.473528Z",
     "iopub.status.idle": "2022-04-29T19:17:18.490976Z",
     "shell.execute_reply": "2022-04-29T19:17:18.490222Z"
    },
    "papermill": {
     "duration": 0.086352,
     "end_time": "2022-04-29T19:17:18.492671",
     "exception": false,
     "start_time": "2022-04-29T19:17:18.406319",
     "status": "completed"
    },
    "tags": []
   },
   "outputs": [
    {
     "data": {
      "text/html": [
       "<div>\n",
       "<style scoped>\n",
       "    .dataframe tbody tr th:only-of-type {\n",
       "        vertical-align: middle;\n",
       "    }\n",
       "\n",
       "    .dataframe tbody tr th {\n",
       "        vertical-align: top;\n",
       "    }\n",
       "\n",
       "    .dataframe thead th {\n",
       "        text-align: right;\n",
       "    }\n",
       "</style>\n",
       "<table border=\"1\" class=\"dataframe\">\n",
       "  <thead>\n",
       "    <tr style=\"text-align: right;\">\n",
       "      <th></th>\n",
       "      <th>img_id</th>\n",
       "      <th>HUMAN</th>\n",
       "      <th>NoF</th>\n",
       "      <th>YFT</th>\n",
       "      <th>ALB</th>\n",
       "      <th>OTH</th>\n",
       "      <th>BILL</th>\n",
       "      <th>DOL</th>\n",
       "      <th>BET</th>\n",
       "      <th>SKJ</th>\n",
       "      <th>LAG</th>\n",
       "      <th>SHARK</th>\n",
       "      <th>OIL</th>\n",
       "      <th>PLS</th>\n",
       "      <th>TUNA</th>\n",
       "      <th>WATER</th>\n",
       "    </tr>\n",
       "  </thead>\n",
       "  <tbody>\n",
       "    <tr>\n",
       "      <th>0</th>\n",
       "      <td>94a69b66-23f0-11e9-a78e-2f2b7983ac0d</td>\n",
       "      <td></td>\n",
       "      <td></td>\n",
       "      <td></td>\n",
       "      <td></td>\n",
       "      <td></td>\n",
       "      <td></td>\n",
       "      <td></td>\n",
       "      <td></td>\n",
       "      <td></td>\n",
       "      <td></td>\n",
       "      <td></td>\n",
       "      <td></td>\n",
       "      <td></td>\n",
       "      <td></td>\n",
       "      <td></td>\n",
       "    </tr>\n",
       "    <tr>\n",
       "      <th>1</th>\n",
       "      <td>94a6a3a4-23f0-11e9-a78f-ebd9c88ef3e8</td>\n",
       "      <td></td>\n",
       "      <td></td>\n",
       "      <td></td>\n",
       "      <td></td>\n",
       "      <td></td>\n",
       "      <td></td>\n",
       "      <td></td>\n",
       "      <td></td>\n",
       "      <td></td>\n",
       "      <td></td>\n",
       "      <td></td>\n",
       "      <td></td>\n",
       "      <td></td>\n",
       "      <td></td>\n",
       "      <td></td>\n",
       "    </tr>\n",
       "    <tr>\n",
       "      <th>2</th>\n",
       "      <td>94a6a430-23f0-11e9-a790-2b5f72f1667a</td>\n",
       "      <td></td>\n",
       "      <td></td>\n",
       "      <td></td>\n",
       "      <td></td>\n",
       "      <td></td>\n",
       "      <td></td>\n",
       "      <td></td>\n",
       "      <td></td>\n",
       "      <td></td>\n",
       "      <td></td>\n",
       "      <td></td>\n",
       "      <td></td>\n",
       "      <td></td>\n",
       "      <td></td>\n",
       "      <td></td>\n",
       "    </tr>\n",
       "    <tr>\n",
       "      <th>3</th>\n",
       "      <td>94a6a48a-23f0-11e9-a791-fb958b6ab6b3</td>\n",
       "      <td></td>\n",
       "      <td></td>\n",
       "      <td></td>\n",
       "      <td></td>\n",
       "      <td></td>\n",
       "      <td></td>\n",
       "      <td></td>\n",
       "      <td></td>\n",
       "      <td></td>\n",
       "      <td></td>\n",
       "      <td></td>\n",
       "      <td></td>\n",
       "      <td></td>\n",
       "      <td></td>\n",
       "      <td></td>\n",
       "    </tr>\n",
       "    <tr>\n",
       "      <th>4</th>\n",
       "      <td>94a6a4da-23f0-11e9-a792-f320b734bd9b</td>\n",
       "      <td></td>\n",
       "      <td></td>\n",
       "      <td></td>\n",
       "      <td></td>\n",
       "      <td></td>\n",
       "      <td></td>\n",
       "      <td></td>\n",
       "      <td></td>\n",
       "      <td></td>\n",
       "      <td></td>\n",
       "      <td></td>\n",
       "      <td></td>\n",
       "      <td></td>\n",
       "      <td></td>\n",
       "      <td></td>\n",
       "    </tr>\n",
       "  </tbody>\n",
       "</table>\n",
       "</div>"
      ],
      "text/plain": [
       "                                 img_id HUMAN NoF YFT ALB OTH BILL DOL BET  \\\n",
       "0  94a69b66-23f0-11e9-a78e-2f2b7983ac0d                                      \n",
       "1  94a6a3a4-23f0-11e9-a78f-ebd9c88ef3e8                                      \n",
       "2  94a6a430-23f0-11e9-a790-2b5f72f1667a                                      \n",
       "3  94a6a48a-23f0-11e9-a791-fb958b6ab6b3                                      \n",
       "4  94a6a4da-23f0-11e9-a792-f320b734bd9b                                      \n",
       "\n",
       "  SKJ LAG SHARK OIL PLS TUNA WATER  \n",
       "0                                   \n",
       "1                                   \n",
       "2                                   \n",
       "3                                   \n",
       "4                                   "
      ]
     },
     "execution_count": 8,
     "metadata": {},
     "output_type": "execute_result"
    }
   ],
   "source": [
    "df2.head()"
   ]
  },
  {
   "cell_type": "code",
   "execution_count": 9,
   "id": "fc9bdcbc",
   "metadata": {
    "execution": {
     "iopub.execute_input": "2022-04-29T19:17:18.613994Z",
     "iopub.status.busy": "2022-04-29T19:17:18.613775Z",
     "iopub.status.idle": "2022-04-29T19:17:18.641924Z",
     "shell.execute_reply": "2022-04-29T19:17:18.641291Z"
    },
    "papermill": {
     "duration": 0.09079,
     "end_time": "2022-04-29T19:17:18.643548",
     "exception": false,
     "start_time": "2022-04-29T19:17:18.552758",
     "status": "completed"
    },
    "tags": []
   },
   "outputs": [
    {
     "data": {
      "text/plain": [
       "406459      YFT\n",
       "406460    HUMAN\n",
       "Name: label, dtype: object"
      ]
     },
     "execution_count": 9,
     "metadata": {},
     "output_type": "execute_result"
    }
   ],
   "source": [
    "df3 = df.loc[df['img_id'] == 'dae032c2-db28-11ea-a22a-3bb828e9f7d1']\n",
    "x= df3[\"label\"]\n",
    "x"
   ]
  },
  {
   "cell_type": "markdown",
   "id": "9e509a6f",
   "metadata": {
    "papermill": {
     "duration": 0.060615,
     "end_time": "2022-04-29T19:17:18.765476",
     "exception": false,
     "start_time": "2022-04-29T19:17:18.704861",
     "status": "completed"
    },
    "tags": []
   },
   "source": [
    "['HUMAN', 'NoF', 'YFT', 'ALB', 'OTH', 'BILL', 'DOL', 'BET', 'SKJ', 'LAG', 'SHARK', 'OIL', 'PLS', 'TUNA', 'WATER']"
   ]
  },
  {
   "cell_type": "code",
   "execution_count": 10,
   "id": "20a81fd8",
   "metadata": {
    "execution": {
     "iopub.execute_input": "2022-04-29T19:17:18.888000Z",
     "iopub.status.busy": "2022-04-29T19:17:18.887775Z",
     "iopub.status.idle": "2022-04-29T19:17:18.895190Z",
     "shell.execute_reply": "2022-04-29T19:17:18.894437Z"
    },
    "papermill": {
     "duration": 0.070366,
     "end_time": "2022-04-29T19:17:18.896832",
     "exception": false,
     "start_time": "2022-04-29T19:17:18.826466",
     "status": "completed"
    },
    "tags": []
   },
   "outputs": [
    {
     "data": {
      "text/plain": [
       "10000"
      ]
     },
     "execution_count": 10,
     "metadata": {},
     "output_type": "execute_result"
    }
   ],
   "source": [
    "#df_subset= imgs.sample(n=10000, random_state = 1)\n",
    "subset_imgs=np.random.choice(imgs, size= 10000)\n",
    "subset_imgs.size\n"
   ]
  },
  {
   "cell_type": "code",
   "execution_count": 11,
   "id": "0cdb44dc",
   "metadata": {
    "execution": {
     "iopub.execute_input": "2022-04-29T19:17:19.019358Z",
     "iopub.status.busy": "2022-04-29T19:17:19.019174Z",
     "iopub.status.idle": "2022-04-29T19:17:19.043492Z",
     "shell.execute_reply": "2022-04-29T19:17:19.042725Z"
    },
    "papermill": {
     "duration": 0.087461,
     "end_time": "2022-04-29T19:17:19.045289",
     "exception": false,
     "start_time": "2022-04-29T19:17:18.957828",
     "status": "completed"
    },
    "tags": []
   },
   "outputs": [
    {
     "data": {
      "text/html": [
       "<div>\n",
       "<style scoped>\n",
       "    .dataframe tbody tr th:only-of-type {\n",
       "        vertical-align: middle;\n",
       "    }\n",
       "\n",
       "    .dataframe tbody tr th {\n",
       "        vertical-align: top;\n",
       "    }\n",
       "\n",
       "    .dataframe thead th {\n",
       "        text-align: right;\n",
       "    }\n",
       "</style>\n",
       "<table border=\"1\" class=\"dataframe\">\n",
       "  <thead>\n",
       "    <tr style=\"text-align: right;\">\n",
       "      <th></th>\n",
       "      <th>img_id</th>\n",
       "      <th>HUMAN</th>\n",
       "      <th>NoF</th>\n",
       "      <th>YFT</th>\n",
       "      <th>ALB</th>\n",
       "      <th>OTH</th>\n",
       "      <th>BILL</th>\n",
       "      <th>DOL</th>\n",
       "      <th>BET</th>\n",
       "      <th>SKJ</th>\n",
       "      <th>LAG</th>\n",
       "      <th>SHARK</th>\n",
       "      <th>OIL</th>\n",
       "      <th>PLS</th>\n",
       "      <th>TUNA</th>\n",
       "      <th>WATER</th>\n",
       "    </tr>\n",
       "  </thead>\n",
       "  <tbody>\n",
       "    <tr>\n",
       "      <th>0</th>\n",
       "      <td>dabf988c-db28-11ea-b646-f751770c2667</td>\n",
       "      <td></td>\n",
       "      <td></td>\n",
       "      <td></td>\n",
       "      <td></td>\n",
       "      <td></td>\n",
       "      <td></td>\n",
       "      <td></td>\n",
       "      <td></td>\n",
       "      <td></td>\n",
       "      <td></td>\n",
       "      <td></td>\n",
       "      <td></td>\n",
       "      <td></td>\n",
       "      <td></td>\n",
       "      <td></td>\n",
       "    </tr>\n",
       "    <tr>\n",
       "      <th>1</th>\n",
       "      <td>da4cbfa6-db28-11ea-b466-bb5f9e1c58d1</td>\n",
       "      <td></td>\n",
       "      <td></td>\n",
       "      <td></td>\n",
       "      <td></td>\n",
       "      <td></td>\n",
       "      <td></td>\n",
       "      <td></td>\n",
       "      <td></td>\n",
       "      <td></td>\n",
       "      <td></td>\n",
       "      <td></td>\n",
       "      <td></td>\n",
       "      <td></td>\n",
       "      <td></td>\n",
       "      <td></td>\n",
       "    </tr>\n",
       "    <tr>\n",
       "      <th>2</th>\n",
       "      <td>94d2518e-23f0-11e9-a8ae-97372c179db9</td>\n",
       "      <td></td>\n",
       "      <td></td>\n",
       "      <td></td>\n",
       "      <td></td>\n",
       "      <td></td>\n",
       "      <td></td>\n",
       "      <td></td>\n",
       "      <td></td>\n",
       "      <td></td>\n",
       "      <td></td>\n",
       "      <td></td>\n",
       "      <td></td>\n",
       "      <td></td>\n",
       "      <td></td>\n",
       "      <td></td>\n",
       "    </tr>\n",
       "    <tr>\n",
       "      <th>3</th>\n",
       "      <td>da97f94e-db28-11ea-a4e2-6bc6f4fb7b0e</td>\n",
       "      <td></td>\n",
       "      <td></td>\n",
       "      <td></td>\n",
       "      <td></td>\n",
       "      <td></td>\n",
       "      <td></td>\n",
       "      <td></td>\n",
       "      <td></td>\n",
       "      <td></td>\n",
       "      <td></td>\n",
       "      <td></td>\n",
       "      <td></td>\n",
       "      <td></td>\n",
       "      <td></td>\n",
       "      <td></td>\n",
       "    </tr>\n",
       "    <tr>\n",
       "      <th>4</th>\n",
       "      <td>dad1c426-db28-11ea-bb6b-3f63cdd14d9d</td>\n",
       "      <td></td>\n",
       "      <td></td>\n",
       "      <td></td>\n",
       "      <td></td>\n",
       "      <td></td>\n",
       "      <td></td>\n",
       "      <td></td>\n",
       "      <td></td>\n",
       "      <td></td>\n",
       "      <td></td>\n",
       "      <td></td>\n",
       "      <td></td>\n",
       "      <td></td>\n",
       "      <td></td>\n",
       "      <td></td>\n",
       "    </tr>\n",
       "  </tbody>\n",
       "</table>\n",
       "</div>"
      ],
      "text/plain": [
       "                                 img_id HUMAN NoF YFT ALB OTH BILL DOL BET  \\\n",
       "0  dabf988c-db28-11ea-b646-f751770c2667                                      \n",
       "1  da4cbfa6-db28-11ea-b466-bb5f9e1c58d1                                      \n",
       "2  94d2518e-23f0-11e9-a8ae-97372c179db9                                      \n",
       "3  da97f94e-db28-11ea-a4e2-6bc6f4fb7b0e                                      \n",
       "4  dad1c426-db28-11ea-bb6b-3f63cdd14d9d                                      \n",
       "\n",
       "  SKJ LAG SHARK OIL PLS TUNA WATER  \n",
       "0                                   \n",
       "1                                   \n",
       "2                                   \n",
       "3                                   \n",
       "4                                   "
      ]
     },
     "execution_count": 11,
     "metadata": {},
     "output_type": "execute_result"
    }
   ],
   "source": [
    "df_sub= pd.DataFrame()\n",
    "df_sub[\"img_id\"] = subset_imgs\n",
    "for i in class_names:\n",
    "    df_sub[i]= \"\"\n",
    "df_sub.head()"
   ]
  },
  {
   "cell_type": "code",
   "execution_count": 12,
   "id": "351c91e8",
   "metadata": {
    "execution": {
     "iopub.execute_input": "2022-04-29T19:17:19.168587Z",
     "iopub.status.busy": "2022-04-29T19:17:19.168354Z",
     "iopub.status.idle": "2022-04-29T19:17:19.215893Z",
     "shell.execute_reply": "2022-04-29T19:17:19.214453Z"
    },
    "papermill": {
     "duration": 0.11078,
     "end_time": "2022-04-29T19:17:19.217465",
     "exception": false,
     "start_time": "2022-04-29T19:17:19.106685",
     "status": "completed"
    },
    "tags": []
   },
   "outputs": [
    {
     "name": "stdout",
     "output_type": "stream",
     "text": [
      "                                 img_id  label\n",
      "7  94a6a584-23f0-11e9-a794-0fe64977c9b7  HUMAN\n"
     ]
    },
    {
     "data": {
      "text/html": [
       "<div>\n",
       "<style scoped>\n",
       "    .dataframe tbody tr th:only-of-type {\n",
       "        vertical-align: middle;\n",
       "    }\n",
       "\n",
       "    .dataframe tbody tr th {\n",
       "        vertical-align: top;\n",
       "    }\n",
       "\n",
       "    .dataframe thead th {\n",
       "        text-align: right;\n",
       "    }\n",
       "</style>\n",
       "<table border=\"1\" class=\"dataframe\">\n",
       "  <thead>\n",
       "    <tr style=\"text-align: right;\">\n",
       "      <th></th>\n",
       "      <th>img_id</th>\n",
       "      <th>HUMAN</th>\n",
       "      <th>NoF</th>\n",
       "      <th>YFT</th>\n",
       "      <th>ALB</th>\n",
       "      <th>OTH</th>\n",
       "      <th>BILL</th>\n",
       "      <th>DOL</th>\n",
       "      <th>BET</th>\n",
       "      <th>SKJ</th>\n",
       "      <th>LAG</th>\n",
       "      <th>SHARK</th>\n",
       "      <th>OIL</th>\n",
       "      <th>PLS</th>\n",
       "      <th>TUNA</th>\n",
       "      <th>WATER</th>\n",
       "    </tr>\n",
       "  </thead>\n",
       "  <tbody>\n",
       "    <tr>\n",
       "      <th>0</th>\n",
       "      <td>dabf988c-db28-11ea-b646-f751770c2667</td>\n",
       "      <td></td>\n",
       "      <td></td>\n",
       "      <td></td>\n",
       "      <td></td>\n",
       "      <td></td>\n",
       "      <td></td>\n",
       "      <td></td>\n",
       "      <td></td>\n",
       "      <td></td>\n",
       "      <td></td>\n",
       "      <td></td>\n",
       "      <td></td>\n",
       "      <td></td>\n",
       "      <td></td>\n",
       "      <td></td>\n",
       "    </tr>\n",
       "    <tr>\n",
       "      <th>1</th>\n",
       "      <td>da4cbfa6-db28-11ea-b466-bb5f9e1c58d1</td>\n",
       "      <td></td>\n",
       "      <td></td>\n",
       "      <td></td>\n",
       "      <td></td>\n",
       "      <td></td>\n",
       "      <td></td>\n",
       "      <td></td>\n",
       "      <td></td>\n",
       "      <td></td>\n",
       "      <td></td>\n",
       "      <td></td>\n",
       "      <td></td>\n",
       "      <td></td>\n",
       "      <td></td>\n",
       "      <td></td>\n",
       "    </tr>\n",
       "    <tr>\n",
       "      <th>2</th>\n",
       "      <td>94d2518e-23f0-11e9-a8ae-97372c179db9</td>\n",
       "      <td></td>\n",
       "      <td></td>\n",
       "      <td></td>\n",
       "      <td></td>\n",
       "      <td></td>\n",
       "      <td></td>\n",
       "      <td></td>\n",
       "      <td></td>\n",
       "      <td></td>\n",
       "      <td></td>\n",
       "      <td></td>\n",
       "      <td></td>\n",
       "      <td></td>\n",
       "      <td></td>\n",
       "      <td></td>\n",
       "    </tr>\n",
       "    <tr>\n",
       "      <th>3</th>\n",
       "      <td>da97f94e-db28-11ea-a4e2-6bc6f4fb7b0e</td>\n",
       "      <td></td>\n",
       "      <td></td>\n",
       "      <td></td>\n",
       "      <td></td>\n",
       "      <td></td>\n",
       "      <td></td>\n",
       "      <td></td>\n",
       "      <td></td>\n",
       "      <td></td>\n",
       "      <td></td>\n",
       "      <td></td>\n",
       "      <td></td>\n",
       "      <td></td>\n",
       "      <td></td>\n",
       "      <td></td>\n",
       "    </tr>\n",
       "    <tr>\n",
       "      <th>4</th>\n",
       "      <td>dad1c426-db28-11ea-bb6b-3f63cdd14d9d</td>\n",
       "      <td></td>\n",
       "      <td></td>\n",
       "      <td></td>\n",
       "      <td></td>\n",
       "      <td></td>\n",
       "      <td></td>\n",
       "      <td></td>\n",
       "      <td></td>\n",
       "      <td></td>\n",
       "      <td></td>\n",
       "      <td></td>\n",
       "      <td></td>\n",
       "      <td></td>\n",
       "      <td></td>\n",
       "      <td></td>\n",
       "    </tr>\n",
       "    <tr>\n",
       "      <th>...</th>\n",
       "      <td>...</td>\n",
       "      <td>...</td>\n",
       "      <td>...</td>\n",
       "      <td>...</td>\n",
       "      <td>...</td>\n",
       "      <td>...</td>\n",
       "      <td>...</td>\n",
       "      <td>...</td>\n",
       "      <td>...</td>\n",
       "      <td>...</td>\n",
       "      <td>...</td>\n",
       "      <td>...</td>\n",
       "      <td>...</td>\n",
       "      <td>...</td>\n",
       "      <td>...</td>\n",
       "      <td>...</td>\n",
       "    </tr>\n",
       "    <tr>\n",
       "      <th>9995</th>\n",
       "      <td>da4ff568-db28-11ea-bd6a-df8d86f2201b</td>\n",
       "      <td></td>\n",
       "      <td></td>\n",
       "      <td></td>\n",
       "      <td></td>\n",
       "      <td></td>\n",
       "      <td></td>\n",
       "      <td></td>\n",
       "      <td></td>\n",
       "      <td></td>\n",
       "      <td></td>\n",
       "      <td></td>\n",
       "      <td></td>\n",
       "      <td></td>\n",
       "      <td></td>\n",
       "      <td></td>\n",
       "    </tr>\n",
       "    <tr>\n",
       "      <th>9996</th>\n",
       "      <td>da70e764-db28-11ea-a998-032d777e921b</td>\n",
       "      <td></td>\n",
       "      <td></td>\n",
       "      <td></td>\n",
       "      <td></td>\n",
       "      <td></td>\n",
       "      <td></td>\n",
       "      <td></td>\n",
       "      <td></td>\n",
       "      <td></td>\n",
       "      <td></td>\n",
       "      <td></td>\n",
       "      <td></td>\n",
       "      <td></td>\n",
       "      <td></td>\n",
       "      <td></td>\n",
       "    </tr>\n",
       "    <tr>\n",
       "      <th>9997</th>\n",
       "      <td>94e1c5a6-23f0-11e9-ba0a-872605079058</td>\n",
       "      <td></td>\n",
       "      <td></td>\n",
       "      <td></td>\n",
       "      <td></td>\n",
       "      <td></td>\n",
       "      <td></td>\n",
       "      <td></td>\n",
       "      <td></td>\n",
       "      <td></td>\n",
       "      <td></td>\n",
       "      <td></td>\n",
       "      <td></td>\n",
       "      <td></td>\n",
       "      <td></td>\n",
       "      <td></td>\n",
       "    </tr>\n",
       "    <tr>\n",
       "      <th>9998</th>\n",
       "      <td>da5157aa-db28-11ea-ba47-af1043ec9532</td>\n",
       "      <td></td>\n",
       "      <td></td>\n",
       "      <td></td>\n",
       "      <td></td>\n",
       "      <td></td>\n",
       "      <td></td>\n",
       "      <td></td>\n",
       "      <td></td>\n",
       "      <td></td>\n",
       "      <td></td>\n",
       "      <td></td>\n",
       "      <td></td>\n",
       "      <td></td>\n",
       "      <td></td>\n",
       "      <td></td>\n",
       "    </tr>\n",
       "    <tr>\n",
       "      <th>9999</th>\n",
       "      <td>dad0753a-db28-11ea-b9da-1fe21632dce2</td>\n",
       "      <td></td>\n",
       "      <td></td>\n",
       "      <td></td>\n",
       "      <td></td>\n",
       "      <td></td>\n",
       "      <td></td>\n",
       "      <td></td>\n",
       "      <td></td>\n",
       "      <td></td>\n",
       "      <td></td>\n",
       "      <td></td>\n",
       "      <td></td>\n",
       "      <td></td>\n",
       "      <td></td>\n",
       "      <td></td>\n",
       "    </tr>\n",
       "  </tbody>\n",
       "</table>\n",
       "<p>10000 rows × 16 columns</p>\n",
       "</div>"
      ],
      "text/plain": [
       "                                    img_id HUMAN NoF YFT ALB OTH BILL DOL BET  \\\n",
       "0     dabf988c-db28-11ea-b646-f751770c2667                                      \n",
       "1     da4cbfa6-db28-11ea-b466-bb5f9e1c58d1                                      \n",
       "2     94d2518e-23f0-11e9-a8ae-97372c179db9                                      \n",
       "3     da97f94e-db28-11ea-a4e2-6bc6f4fb7b0e                                      \n",
       "4     dad1c426-db28-11ea-bb6b-3f63cdd14d9d                                      \n",
       "...                                    ...   ...  ..  ..  ..  ..  ...  ..  ..   \n",
       "9995  da4ff568-db28-11ea-bd6a-df8d86f2201b                                      \n",
       "9996  da70e764-db28-11ea-a998-032d777e921b                                      \n",
       "9997  94e1c5a6-23f0-11e9-ba0a-872605079058                                      \n",
       "9998  da5157aa-db28-11ea-ba47-af1043ec9532                                      \n",
       "9999  dad0753a-db28-11ea-b9da-1fe21632dce2                                      \n",
       "\n",
       "     SKJ LAG SHARK OIL PLS TUNA WATER  \n",
       "0                                      \n",
       "1                                      \n",
       "2                                      \n",
       "3                                      \n",
       "4                                      \n",
       "...   ..  ..   ...  ..  ..  ...   ...  \n",
       "9995                                   \n",
       "9996                                   \n",
       "9997                                   \n",
       "9998                                   \n",
       "9999                                   \n",
       "\n",
       "[10000 rows x 16 columns]"
      ]
     },
     "execution_count": 12,
     "metadata": {},
     "output_type": "execute_result"
    }
   ],
   "source": [
    "label = df[df['img_id']=='94a6a584-23f0-11e9-a794-0fe64977c9b7']\n",
    "print(label)\n",
    "df_sub"
   ]
  },
  {
   "cell_type": "code",
   "execution_count": 13,
   "id": "3e2e0528",
   "metadata": {
    "execution": {
     "iopub.execute_input": "2022-04-29T19:17:19.342828Z",
     "iopub.status.busy": "2022-04-29T19:17:19.342638Z",
     "iopub.status.idle": "2022-04-29T19:17:19.345811Z",
     "shell.execute_reply": "2022-04-29T19:17:19.345096Z"
    },
    "papermill": {
     "duration": 0.067936,
     "end_time": "2022-04-29T19:17:19.347467",
     "exception": false,
     "start_time": "2022-04-29T19:17:19.279531",
     "status": "completed"
    },
    "tags": []
   },
   "outputs": [],
   "source": [
    "#for j, row in df.iterrows():\n",
    " #   for i in df_sub[\"img_id\"]:\n",
    "  #      if i == row['img_id']:\n",
    "   #         label = row['label']\n",
    "    #        df_sub.loc[df_sub['img_id'] == i, [label]] = 1\n",
    "            "
   ]
  },
  {
   "cell_type": "markdown",
   "id": "533beba4",
   "metadata": {
    "papermill": {
     "duration": 0.062093,
     "end_time": "2022-04-29T19:17:19.471548",
     "exception": false,
     "start_time": "2022-04-29T19:17:19.409455",
     "status": "completed"
    },
    "tags": []
   },
   "source": [
    "# I have now created a smaller dataframe that represents a subset of images that have the labels as columns and a binary 1 or 0 depicting if the column label is present or not."
   ]
  },
  {
   "cell_type": "code",
   "execution_count": 14,
   "id": "9e7b950f",
   "metadata": {
    "execution": {
     "iopub.execute_input": "2022-04-29T19:17:19.596633Z",
     "iopub.status.busy": "2022-04-29T19:17:19.596423Z",
     "iopub.status.idle": "2022-04-29T19:17:19.627533Z",
     "shell.execute_reply": "2022-04-29T19:17:19.626907Z"
    },
    "papermill": {
     "duration": 0.095591,
     "end_time": "2022-04-29T19:17:19.629188",
     "exception": false,
     "start_time": "2022-04-29T19:17:19.533597",
     "status": "completed"
    },
    "tags": []
   },
   "outputs": [],
   "source": [
    "subsetted= pd.read_csv(\"../input/subsetted/file_name.csv\")\n"
   ]
  },
  {
   "cell_type": "code",
   "execution_count": 15,
   "id": "42eb80e8",
   "metadata": {
    "execution": {
     "iopub.execute_input": "2022-04-29T19:17:19.755799Z",
     "iopub.status.busy": "2022-04-29T19:17:19.755257Z",
     "iopub.status.idle": "2022-04-29T19:17:19.759201Z",
     "shell.execute_reply": "2022-04-29T19:17:19.758559Z"
    },
    "papermill": {
     "duration": 0.069142,
     "end_time": "2022-04-29T19:17:19.760843",
     "exception": false,
     "start_time": "2022-04-29T19:17:19.691701",
     "status": "completed"
    },
    "tags": []
   },
   "outputs": [],
   "source": [
    " os.makedirs('image')\n"
   ]
  },
  {
   "cell_type": "code",
   "execution_count": 16,
   "id": "f8521a7a",
   "metadata": {
    "execution": {
     "iopub.execute_input": "2022-04-29T19:17:19.887101Z",
     "iopub.status.busy": "2022-04-29T19:17:19.886914Z",
     "iopub.status.idle": "2022-04-29T19:17:19.909964Z",
     "shell.execute_reply": "2022-04-29T19:17:19.909185Z"
    },
    "papermill": {
     "duration": 0.087678,
     "end_time": "2022-04-29T19:17:19.911759",
     "exception": false,
     "start_time": "2022-04-29T19:17:19.824081",
     "status": "completed"
    },
    "tags": []
   },
   "outputs": [
    {
     "data": {
      "text/html": [
       "<div>\n",
       "<style scoped>\n",
       "    .dataframe tbody tr th:only-of-type {\n",
       "        vertical-align: middle;\n",
       "    }\n",
       "\n",
       "    .dataframe tbody tr th {\n",
       "        vertical-align: top;\n",
       "    }\n",
       "\n",
       "    .dataframe thead th {\n",
       "        text-align: right;\n",
       "    }\n",
       "</style>\n",
       "<table border=\"1\" class=\"dataframe\">\n",
       "  <thead>\n",
       "    <tr style=\"text-align: right;\">\n",
       "      <th></th>\n",
       "      <th>Unnamed: 0</th>\n",
       "      <th>img_id</th>\n",
       "      <th>HUMAN</th>\n",
       "      <th>NoF</th>\n",
       "      <th>YFT</th>\n",
       "      <th>ALB</th>\n",
       "      <th>OTH</th>\n",
       "      <th>BILL</th>\n",
       "      <th>DOL</th>\n",
       "      <th>BET</th>\n",
       "      <th>SKJ</th>\n",
       "      <th>LAG</th>\n",
       "      <th>SHARK</th>\n",
       "      <th>OIL</th>\n",
       "      <th>PLS</th>\n",
       "      <th>TUNA</th>\n",
       "      <th>WATER</th>\n",
       "    </tr>\n",
       "  </thead>\n",
       "  <tbody>\n",
       "    <tr>\n",
       "      <th>0</th>\n",
       "      <td>0</td>\n",
       "      <td>dabf988c-db28-11ea-b646-f751770c2667</td>\n",
       "      <td>1.0</td>\n",
       "      <td>0.0</td>\n",
       "      <td>0.0</td>\n",
       "      <td>1.0</td>\n",
       "      <td>0.0</td>\n",
       "      <td>0.0</td>\n",
       "      <td>0.0</td>\n",
       "      <td>0.0</td>\n",
       "      <td>0.0</td>\n",
       "      <td>0.0</td>\n",
       "      <td>0.0</td>\n",
       "      <td>0.0</td>\n",
       "      <td>0.0</td>\n",
       "      <td>0.0</td>\n",
       "      <td>0.0</td>\n",
       "    </tr>\n",
       "    <tr>\n",
       "      <th>1</th>\n",
       "      <td>1</td>\n",
       "      <td>da4cbfa6-db28-11ea-b466-bb5f9e1c58d1</td>\n",
       "      <td>1.0</td>\n",
       "      <td>0.0</td>\n",
       "      <td>0.0</td>\n",
       "      <td>1.0</td>\n",
       "      <td>0.0</td>\n",
       "      <td>0.0</td>\n",
       "      <td>0.0</td>\n",
       "      <td>0.0</td>\n",
       "      <td>0.0</td>\n",
       "      <td>0.0</td>\n",
       "      <td>0.0</td>\n",
       "      <td>0.0</td>\n",
       "      <td>0.0</td>\n",
       "      <td>0.0</td>\n",
       "      <td>0.0</td>\n",
       "    </tr>\n",
       "    <tr>\n",
       "      <th>2</th>\n",
       "      <td>2</td>\n",
       "      <td>94d2518e-23f0-11e9-a8ae-97372c179db9</td>\n",
       "      <td>1.0</td>\n",
       "      <td>0.0</td>\n",
       "      <td>0.0</td>\n",
       "      <td>0.0</td>\n",
       "      <td>0.0</td>\n",
       "      <td>0.0</td>\n",
       "      <td>0.0</td>\n",
       "      <td>1.0</td>\n",
       "      <td>0.0</td>\n",
       "      <td>0.0</td>\n",
       "      <td>0.0</td>\n",
       "      <td>0.0</td>\n",
       "      <td>0.0</td>\n",
       "      <td>0.0</td>\n",
       "      <td>0.0</td>\n",
       "    </tr>\n",
       "    <tr>\n",
       "      <th>3</th>\n",
       "      <td>3</td>\n",
       "      <td>da97f94e-db28-11ea-a4e2-6bc6f4fb7b0e</td>\n",
       "      <td>1.0</td>\n",
       "      <td>0.0</td>\n",
       "      <td>0.0</td>\n",
       "      <td>1.0</td>\n",
       "      <td>0.0</td>\n",
       "      <td>0.0</td>\n",
       "      <td>0.0</td>\n",
       "      <td>0.0</td>\n",
       "      <td>1.0</td>\n",
       "      <td>0.0</td>\n",
       "      <td>0.0</td>\n",
       "      <td>0.0</td>\n",
       "      <td>0.0</td>\n",
       "      <td>0.0</td>\n",
       "      <td>0.0</td>\n",
       "    </tr>\n",
       "    <tr>\n",
       "      <th>4</th>\n",
       "      <td>4</td>\n",
       "      <td>dad1c426-db28-11ea-bb6b-3f63cdd14d9d</td>\n",
       "      <td>1.0</td>\n",
       "      <td>0.0</td>\n",
       "      <td>1.0</td>\n",
       "      <td>0.0</td>\n",
       "      <td>0.0</td>\n",
       "      <td>0.0</td>\n",
       "      <td>0.0</td>\n",
       "      <td>0.0</td>\n",
       "      <td>0.0</td>\n",
       "      <td>0.0</td>\n",
       "      <td>0.0</td>\n",
       "      <td>0.0</td>\n",
       "      <td>0.0</td>\n",
       "      <td>0.0</td>\n",
       "      <td>0.0</td>\n",
       "    </tr>\n",
       "  </tbody>\n",
       "</table>\n",
       "</div>"
      ],
      "text/plain": [
       "   Unnamed: 0                                img_id  HUMAN  NoF  YFT  ALB  \\\n",
       "0           0  dabf988c-db28-11ea-b646-f751770c2667    1.0  0.0  0.0  1.0   \n",
       "1           1  da4cbfa6-db28-11ea-b466-bb5f9e1c58d1    1.0  0.0  0.0  1.0   \n",
       "2           2  94d2518e-23f0-11e9-a8ae-97372c179db9    1.0  0.0  0.0  0.0   \n",
       "3           3  da97f94e-db28-11ea-a4e2-6bc6f4fb7b0e    1.0  0.0  0.0  1.0   \n",
       "4           4  dad1c426-db28-11ea-bb6b-3f63cdd14d9d    1.0  0.0  1.0  0.0   \n",
       "\n",
       "   OTH  BILL  DOL  BET  SKJ  LAG  SHARK  OIL  PLS  TUNA  WATER  \n",
       "0  0.0   0.0  0.0  0.0  0.0  0.0    0.0  0.0  0.0   0.0    0.0  \n",
       "1  0.0   0.0  0.0  0.0  0.0  0.0    0.0  0.0  0.0   0.0    0.0  \n",
       "2  0.0   0.0  0.0  1.0  0.0  0.0    0.0  0.0  0.0   0.0    0.0  \n",
       "3  0.0   0.0  0.0  0.0  1.0  0.0    0.0  0.0  0.0   0.0    0.0  \n",
       "4  0.0   0.0  0.0  0.0  0.0  0.0    0.0  0.0  0.0   0.0    0.0  "
      ]
     },
     "execution_count": 16,
     "metadata": {},
     "output_type": "execute_result"
    }
   ],
   "source": [
    "proper = subsetted.fillna(0)\n",
    "proper.head()"
   ]
  },
  {
   "cell_type": "code",
   "execution_count": 17,
   "id": "dcdfcde1",
   "metadata": {
    "execution": {
     "iopub.execute_input": "2022-04-29T19:17:20.047827Z",
     "iopub.status.busy": "2022-04-29T19:17:20.047637Z",
     "iopub.status.idle": "2022-04-29T19:17:20.053832Z",
     "shell.execute_reply": "2022-04-29T19:17:20.053093Z"
    },
    "papermill": {
     "duration": 0.081422,
     "end_time": "2022-04-29T19:17:20.056276",
     "exception": false,
     "start_time": "2022-04-29T19:17:19.974854",
     "status": "completed"
    },
    "tags": []
   },
   "outputs": [
    {
     "data": {
      "text/plain": [
       "'da97f94e-db28-11ea-a4e2-6bc6f4fb7b0e'"
      ]
     },
     "execution_count": 17,
     "metadata": {},
     "output_type": "execute_result"
    }
   ],
   "source": [
    "list_ids= list(proper['img_id'])\n",
    "list_ids[3]"
   ]
  },
  {
   "cell_type": "markdown",
   "id": "59270fe1",
   "metadata": {
    "papermill": {
     "duration": 0.066628,
     "end_time": "2022-04-29T19:17:20.185924",
     "exception": false,
     "start_time": "2022-04-29T19:17:20.119296",
     "status": "completed"
    },
    "tags": []
   },
   "source": [
    "Moving the subset of images into a unique file"
   ]
  },
  {
   "cell_type": "code",
   "execution_count": null,
   "id": "ae2eeb8d",
   "metadata": {
    "papermill": {
     "duration": 0.06539,
     "end_time": "2022-04-29T19:17:20.316364",
     "exception": false,
     "start_time": "2022-04-29T19:17:20.250974",
     "status": "completed"
    },
    "tags": []
   },
   "outputs": [],
   "source": [
    "\n"
   ]
  },
  {
   "cell_type": "code",
   "execution_count": 18,
   "id": "6c0c01b0",
   "metadata": {
    "execution": {
     "iopub.execute_input": "2022-04-29T19:17:20.443966Z",
     "iopub.status.busy": "2022-04-29T19:17:20.443728Z",
     "iopub.status.idle": "2022-04-29T19:18:38.842580Z",
     "shell.execute_reply": "2022-04-29T19:18:38.841609Z"
    },
    "papermill": {
     "duration": 78.465034,
     "end_time": "2022-04-29T19:18:38.844781",
     "exception": false,
     "start_time": "2022-04-29T19:17:20.379747",
     "status": "completed"
    },
    "tags": []
   },
   "outputs": [
    {
     "name": "stderr",
     "output_type": "stream",
     "text": [
      "100%|██████████| 10000/10000 [01:18<00:00, 127.57it/s]\n"
     ]
    }
   ],
   "source": [
    "for i in tqdm(list_ids):\n",
    "    c = i+'.jpg'\n",
    "    get_image = '/kaggle/input/attempt-13/foid_images_v020/images/' + c\n",
    "        #if os.path.exists(get_image):\n",
    "            #print('i')\n",
    "            #move_image = shutil.move(get_image,'/kaggle/working/image_/'+i)\n",
    "    if not os.path.exists('/kaggle/input/attempt-13/foid_images_v020/images/'+c):\n",
    "            print(\"FAILED\")\n",
    "            break\n",
    "    #if os.path.exists('/kaggle/working/image/'+c):\n",
    "           #print(\"CREATED\")\n",
    "           #break\n",
    "    else:\n",
    "        move_image = shutil.copy(get_image,'/kaggle/working/image/')"
   ]
  },
  {
   "cell_type": "code",
   "execution_count": 19,
   "id": "8ad76ecf",
   "metadata": {
    "execution": {
     "iopub.execute_input": "2022-04-29T19:18:39.415269Z",
     "iopub.status.busy": "2022-04-29T19:18:39.415017Z",
     "iopub.status.idle": "2022-04-29T19:18:39.442787Z",
     "shell.execute_reply": "2022-04-29T19:18:39.441985Z"
    },
    "papermill": {
     "duration": 0.314489,
     "end_time": "2022-04-29T19:18:39.445138",
     "exception": false,
     "start_time": "2022-04-29T19:18:39.130649",
     "status": "completed"
    },
    "tags": []
   },
   "outputs": [
    {
     "data": {
      "text/html": [
       "<div>\n",
       "<style scoped>\n",
       "    .dataframe tbody tr th:only-of-type {\n",
       "        vertical-align: middle;\n",
       "    }\n",
       "\n",
       "    .dataframe tbody tr th {\n",
       "        vertical-align: top;\n",
       "    }\n",
       "\n",
       "    .dataframe thead th {\n",
       "        text-align: right;\n",
       "    }\n",
       "</style>\n",
       "<table border=\"1\" class=\"dataframe\">\n",
       "  <thead>\n",
       "    <tr style=\"text-align: right;\">\n",
       "      <th></th>\n",
       "      <th>img_id</th>\n",
       "      <th>HUMAN</th>\n",
       "      <th>NoF</th>\n",
       "      <th>YFT</th>\n",
       "      <th>ALB</th>\n",
       "      <th>OTH</th>\n",
       "      <th>BILL</th>\n",
       "      <th>DOL</th>\n",
       "      <th>BET</th>\n",
       "      <th>SKJ</th>\n",
       "      <th>LAG</th>\n",
       "      <th>SHARK</th>\n",
       "      <th>OIL</th>\n",
       "      <th>PLS</th>\n",
       "      <th>TUNA</th>\n",
       "      <th>WATER</th>\n",
       "    </tr>\n",
       "  </thead>\n",
       "  <tbody>\n",
       "    <tr>\n",
       "      <th>0</th>\n",
       "      <td>dabf988c-db28-11ea-b646-f751770c2667</td>\n",
       "      <td>1.0</td>\n",
       "      <td>0.0</td>\n",
       "      <td>0.0</td>\n",
       "      <td>1.0</td>\n",
       "      <td>0.0</td>\n",
       "      <td>0.0</td>\n",
       "      <td>0.0</td>\n",
       "      <td>0.0</td>\n",
       "      <td>0.0</td>\n",
       "      <td>0.0</td>\n",
       "      <td>0.0</td>\n",
       "      <td>0.0</td>\n",
       "      <td>0.0</td>\n",
       "      <td>0.0</td>\n",
       "      <td>0.0</td>\n",
       "    </tr>\n",
       "    <tr>\n",
       "      <th>1</th>\n",
       "      <td>da4cbfa6-db28-11ea-b466-bb5f9e1c58d1</td>\n",
       "      <td>1.0</td>\n",
       "      <td>0.0</td>\n",
       "      <td>0.0</td>\n",
       "      <td>1.0</td>\n",
       "      <td>0.0</td>\n",
       "      <td>0.0</td>\n",
       "      <td>0.0</td>\n",
       "      <td>0.0</td>\n",
       "      <td>0.0</td>\n",
       "      <td>0.0</td>\n",
       "      <td>0.0</td>\n",
       "      <td>0.0</td>\n",
       "      <td>0.0</td>\n",
       "      <td>0.0</td>\n",
       "      <td>0.0</td>\n",
       "    </tr>\n",
       "    <tr>\n",
       "      <th>2</th>\n",
       "      <td>94d2518e-23f0-11e9-a8ae-97372c179db9</td>\n",
       "      <td>1.0</td>\n",
       "      <td>0.0</td>\n",
       "      <td>0.0</td>\n",
       "      <td>0.0</td>\n",
       "      <td>0.0</td>\n",
       "      <td>0.0</td>\n",
       "      <td>0.0</td>\n",
       "      <td>1.0</td>\n",
       "      <td>0.0</td>\n",
       "      <td>0.0</td>\n",
       "      <td>0.0</td>\n",
       "      <td>0.0</td>\n",
       "      <td>0.0</td>\n",
       "      <td>0.0</td>\n",
       "      <td>0.0</td>\n",
       "    </tr>\n",
       "    <tr>\n",
       "      <th>3</th>\n",
       "      <td>da97f94e-db28-11ea-a4e2-6bc6f4fb7b0e</td>\n",
       "      <td>1.0</td>\n",
       "      <td>0.0</td>\n",
       "      <td>0.0</td>\n",
       "      <td>1.0</td>\n",
       "      <td>0.0</td>\n",
       "      <td>0.0</td>\n",
       "      <td>0.0</td>\n",
       "      <td>0.0</td>\n",
       "      <td>1.0</td>\n",
       "      <td>0.0</td>\n",
       "      <td>0.0</td>\n",
       "      <td>0.0</td>\n",
       "      <td>0.0</td>\n",
       "      <td>0.0</td>\n",
       "      <td>0.0</td>\n",
       "    </tr>\n",
       "    <tr>\n",
       "      <th>4</th>\n",
       "      <td>dad1c426-db28-11ea-bb6b-3f63cdd14d9d</td>\n",
       "      <td>1.0</td>\n",
       "      <td>0.0</td>\n",
       "      <td>1.0</td>\n",
       "      <td>0.0</td>\n",
       "      <td>0.0</td>\n",
       "      <td>0.0</td>\n",
       "      <td>0.0</td>\n",
       "      <td>0.0</td>\n",
       "      <td>0.0</td>\n",
       "      <td>0.0</td>\n",
       "      <td>0.0</td>\n",
       "      <td>0.0</td>\n",
       "      <td>0.0</td>\n",
       "      <td>0.0</td>\n",
       "      <td>0.0</td>\n",
       "    </tr>\n",
       "  </tbody>\n",
       "</table>\n",
       "</div>"
      ],
      "text/plain": [
       "                                 img_id  HUMAN  NoF  YFT  ALB  OTH  BILL  DOL  \\\n",
       "0  dabf988c-db28-11ea-b646-f751770c2667    1.0  0.0  0.0  1.0  0.0   0.0  0.0   \n",
       "1  da4cbfa6-db28-11ea-b466-bb5f9e1c58d1    1.0  0.0  0.0  1.0  0.0   0.0  0.0   \n",
       "2  94d2518e-23f0-11e9-a8ae-97372c179db9    1.0  0.0  0.0  0.0  0.0   0.0  0.0   \n",
       "3  da97f94e-db28-11ea-a4e2-6bc6f4fb7b0e    1.0  0.0  0.0  1.0  0.0   0.0  0.0   \n",
       "4  dad1c426-db28-11ea-bb6b-3f63cdd14d9d    1.0  0.0  1.0  0.0  0.0   0.0  0.0   \n",
       "\n",
       "   BET  SKJ  LAG  SHARK  OIL  PLS  TUNA  WATER  \n",
       "0  0.0  0.0  0.0    0.0  0.0  0.0   0.0    0.0  \n",
       "1  0.0  0.0  0.0    0.0  0.0  0.0   0.0    0.0  \n",
       "2  1.0  0.0  0.0    0.0  0.0  0.0   0.0    0.0  \n",
       "3  0.0  1.0  0.0    0.0  0.0  0.0   0.0    0.0  \n",
       "4  0.0  0.0  0.0    0.0  0.0  0.0   0.0    0.0  "
      ]
     },
     "execution_count": 19,
     "metadata": {},
     "output_type": "execute_result"
    }
   ],
   "source": [
    "proper.shape[0]\n",
    "proper.head()\n",
    "proper.columns\n",
    "proper = proper.drop(['Unnamed: 0'],axis=1)\n",
    "proper.head()"
   ]
  },
  {
   "cell_type": "code",
   "execution_count": 20,
   "id": "330e4784",
   "metadata": {
    "execution": {
     "iopub.execute_input": "2022-04-29T19:18:40.018888Z",
     "iopub.status.busy": "2022-04-29T19:18:40.018655Z",
     "iopub.status.idle": "2022-04-29T19:18:40.022206Z",
     "shell.execute_reply": "2022-04-29T19:18:40.021466Z"
    },
    "papermill": {
     "duration": 0.289865,
     "end_time": "2022-04-29T19:18:40.025553",
     "exception": false,
     "start_time": "2022-04-29T19:18:39.735688",
     "status": "completed"
    },
    "tags": []
   },
   "outputs": [],
   "source": [
    "proper_sub= proper.head(1000)\n"
   ]
  },
  {
   "cell_type": "markdown",
   "id": "4dfb7cf8",
   "metadata": {
    "papermill": {
     "duration": 0.323784,
     "end_time": "2022-04-29T19:18:40.833013",
     "exception": false,
     "start_time": "2022-04-29T19:18:40.509229",
     "status": "completed"
    },
    "tags": []
   },
   "source": [
    "# Here I have created the training numpy array for the , ram issues have me to downsize to 1000 images"
   ]
  },
  {
   "cell_type": "code",
   "execution_count": null,
   "id": "064f3615",
   "metadata": {
    "papermill": {
     "duration": 0.281296,
     "end_time": "2022-04-29T19:18:41.398595",
     "exception": false,
     "start_time": "2022-04-29T19:18:41.117299",
     "status": "completed"
    },
    "tags": []
   },
   "outputs": [],
   "source": []
  },
  {
   "cell_type": "code",
   "execution_count": null,
   "id": "9c75cd37",
   "metadata": {
    "papermill": {
     "duration": 0.286674,
     "end_time": "2022-04-29T19:18:41.996935",
     "exception": false,
     "start_time": "2022-04-29T19:18:41.710261",
     "status": "completed"
    },
    "tags": []
   },
   "outputs": [],
   "source": []
  },
  {
   "cell_type": "code",
   "execution_count": null,
   "id": "4a5394d1",
   "metadata": {
    "papermill": {
     "duration": 0.282081,
     "end_time": "2022-04-29T19:18:42.561210",
     "exception": false,
     "start_time": "2022-04-29T19:18:42.279129",
     "status": "completed"
    },
    "tags": []
   },
   "outputs": [],
   "source": []
  },
  {
   "cell_type": "code",
   "execution_count": 21,
   "id": "55bbfdff",
   "metadata": {
    "execution": {
     "iopub.execute_input": "2022-04-29T19:18:43.186904Z",
     "iopub.status.busy": "2022-04-29T19:18:43.186653Z",
     "iopub.status.idle": "2022-04-29T19:18:59.399729Z",
     "shell.execute_reply": "2022-04-29T19:18:59.398946Z"
    },
    "papermill": {
     "duration": 16.502258,
     "end_time": "2022-04-29T19:18:59.401911",
     "exception": false,
     "start_time": "2022-04-29T19:18:42.899653",
     "status": "completed"
    },
    "tags": []
   },
   "outputs": [
    {
     "name": "stderr",
     "output_type": "stream",
     "text": [
      "100%|██████████| 1000/1000 [00:15<00:00, 64.11it/s]\n"
     ]
    }
   ],
   "source": [
    "train_image = []\n",
    "for i in tqdm(range(proper_sub.shape[0])):\n",
    "    img = image.load_img('./image/'+proper['img_id'][i]+'.jpg',target_size=(400,400,3))\n",
    "    img = image.img_to_array(img)\n",
    "    img = img/255\n",
    "    train_image.append(img)\n",
    "X = np.array(train_image)"
   ]
  },
  {
   "cell_type": "code",
   "execution_count": 22,
   "id": "97d7bdd5",
   "metadata": {
    "execution": {
     "iopub.execute_input": "2022-04-29T19:19:00.122600Z",
     "iopub.status.busy": "2022-04-29T19:19:00.122302Z",
     "iopub.status.idle": "2022-04-29T19:19:00.127171Z",
     "shell.execute_reply": "2022-04-29T19:19:00.126535Z"
    },
    "papermill": {
     "duration": 0.374251,
     "end_time": "2022-04-29T19:19:00.129073",
     "exception": false,
     "start_time": "2022-04-29T19:18:59.754822",
     "status": "completed"
    },
    "tags": []
   },
   "outputs": [
    {
     "data": {
      "text/plain": [
       "(1000, 400, 400, 3)"
      ]
     },
     "execution_count": 22,
     "metadata": {},
     "output_type": "execute_result"
    }
   ],
   "source": [
    "X.shape"
   ]
  },
  {
   "cell_type": "markdown",
   "id": "0702d007",
   "metadata": {
    "papermill": {
     "duration": 0.325625,
     "end_time": "2022-04-29T19:19:00.782541",
     "exception": false,
     "start_time": "2022-04-29T19:19:00.456916",
     "status": "completed"
    },
    "tags": []
   },
   "source": [
    " for j in class_names:\n",
    "        if j in tags:\n",
    "            df_sub.at[i, j] =1\n",
    "        else:\n",
    "            df_sub.at[i, j] =0"
   ]
  },
  {
   "cell_type": "code",
   "execution_count": 23,
   "id": "2ea13669",
   "metadata": {
    "execution": {
     "iopub.execute_input": "2022-04-29T19:19:01.445664Z",
     "iopub.status.busy": "2022-04-29T19:19:01.445393Z",
     "iopub.status.idle": "2022-04-29T19:19:01.707225Z",
     "shell.execute_reply": "2022-04-29T19:19:01.706573Z"
    },
    "papermill": {
     "duration": 0.589585,
     "end_time": "2022-04-29T19:19:01.710040",
     "exception": false,
     "start_time": "2022-04-29T19:19:01.120455",
     "status": "completed"
    },
    "tags": []
   },
   "outputs": [
    {
     "data": {
      "text/plain": [
       "<matplotlib.image.AxesImage at 0x7faff4725590>"
      ]
     },
     "execution_count": 23,
     "metadata": {},
     "output_type": "execute_result"
    },
    {
     "data": {
      "image/png": "[encoded data removed]",
      "text/plain": [
       "<Figure size 432x288 with 1 Axes>"
      ]
     },
     "metadata": {
      "needs_background": "light"
     },
     "output_type": "display_data"
    }
   ],
   "source": [
    "plt.imshow(X[2])"
   ]
  },
  {
   "cell_type": "code",
   "execution_count": 24,
   "id": "0f398324",
   "metadata": {
    "execution": {
     "iopub.execute_input": "2022-04-29T19:19:02.674794Z",
     "iopub.status.busy": "2022-04-29T19:19:02.674296Z",
     "iopub.status.idle": "2022-04-29T19:19:02.680921Z",
     "shell.execute_reply": "2022-04-29T19:19:02.680012Z"
    },
    "papermill": {
     "duration": 0.61618,
     "end_time": "2022-04-29T19:19:02.684260",
     "exception": false,
     "start_time": "2022-04-29T19:19:02.068080",
     "status": "completed"
    },
    "tags": []
   },
   "outputs": [
    {
     "data": {
      "text/plain": [
       "1.0"
      ]
     },
     "execution_count": 24,
     "metadata": {},
     "output_type": "execute_result"
    }
   ],
   "source": [
    "proper['HUMAN'][2]"
   ]
  },
  {
   "cell_type": "markdown",
   "id": "c5a8a351",
   "metadata": {
    "papermill": {
     "duration": 0.329073,
     "end_time": "2022-04-29T19:19:03.361804",
     "exception": false,
     "start_time": "2022-04-29T19:19:03.032731",
     "status": "completed"
    },
    "tags": []
   },
   "source": [
    "# Creating the Y numpy array"
   ]
  },
  {
   "cell_type": "code",
   "execution_count": 25,
   "id": "07e0905c",
   "metadata": {
    "execution": {
     "iopub.execute_input": "2022-04-29T19:19:04.025740Z",
     "iopub.status.busy": "2022-04-29T19:19:04.025473Z",
     "iopub.status.idle": "2022-04-29T19:19:04.033010Z",
     "shell.execute_reply": "2022-04-29T19:19:04.032328Z"
    },
    "papermill": {
     "duration": 0.344888,
     "end_time": "2022-04-29T19:19:04.034700",
     "exception": false,
     "start_time": "2022-04-29T19:19:03.689812",
     "status": "completed"
    },
    "tags": []
   },
   "outputs": [
    {
     "data": {
      "text/plain": [
       "(1000, 15)"
      ]
     },
     "execution_count": 25,
     "metadata": {},
     "output_type": "execute_result"
    }
   ],
   "source": [
    "proper_sub= proper.head(1000)\n",
    "\n",
    "y = np.array(proper_sub.drop(['img_id'],axis=1))\n",
    "y.shape"
   ]
  },
  {
   "cell_type": "markdown",
   "id": "3e78f743",
   "metadata": {
    "papermill": {
     "duration": 0.328668,
     "end_time": "2022-04-29T19:19:04.693008",
     "exception": false,
     "start_time": "2022-04-29T19:19:04.364340",
     "status": "completed"
    },
    "tags": []
   },
   "source": [
    "# Here I split the data into each of its part"
   ]
  },
  {
   "cell_type": "code",
   "execution_count": 26,
   "id": "be60648a",
   "metadata": {
    "execution": {
     "iopub.execute_input": "2022-04-29T19:19:05.418997Z",
     "iopub.status.busy": "2022-04-29T19:19:05.418459Z",
     "iopub.status.idle": "2022-04-29T19:19:06.066577Z",
     "shell.execute_reply": "2022-04-29T19:19:06.065800Z"
    },
    "papermill": {
     "duration": 0.982029,
     "end_time": "2022-04-29T19:19:06.068875",
     "exception": false,
     "start_time": "2022-04-29T19:19:05.086846",
     "status": "completed"
    },
    "tags": []
   },
   "outputs": [],
   "source": [
    "X_train, X_test, y_train, y_test = train_test_split(X, y, random_state=42, test_size=0.1)"
   ]
  },
  {
   "cell_type": "markdown",
   "id": "5c002fd3",
   "metadata": {
    "papermill": {
     "duration": 0.335024,
     "end_time": "2022-04-29T19:19:06.736520",
     "exception": false,
     "start_time": "2022-04-29T19:19:06.401496",
     "status": "completed"
    },
    "tags": []
   },
   "source": [
    "# "
   ]
  },
  {
   "cell_type": "markdown",
   "id": "ef9a6fd9",
   "metadata": {
    "papermill": {
     "duration": 0.368516,
     "end_time": "2022-04-29T19:19:07.439043",
     "exception": false,
     "start_time": "2022-04-29T19:19:07.070527",
     "status": "completed"
    },
    "tags": []
   },
   "source": [
    "# Creating the Model and Summary"
   ]
  },
  {
   "cell_type": "code",
   "execution_count": 27,
   "id": "72b647e3",
   "metadata": {
    "execution": {
     "iopub.execute_input": "2022-04-29T19:19:08.107229Z",
     "iopub.status.busy": "2022-04-29T19:19:08.106704Z",
     "iopub.status.idle": "2022-04-29T19:19:10.764066Z",
     "shell.execute_reply": "2022-04-29T19:19:10.763273Z"
    },
    "papermill": {
     "duration": 2.994978,
     "end_time": "2022-04-29T19:19:10.766619",
     "exception": false,
     "start_time": "2022-04-29T19:19:07.771641",
     "status": "completed"
    },
    "tags": []
   },
   "outputs": [
    {
     "name": "stderr",
     "output_type": "stream",
     "text": [
      "2022-04-29 19:19:08.194260: I tensorflow/stream_executor/cuda/cuda_gpu_executor.cc:937] successful NUMA node read from SysFS had negative value (-1), but there must be at least one NUMA node, so returning NUMA node zero\n",
      "2022-04-29 19:19:08.321227: I tensorflow/stream_executor/cuda/cuda_gpu_executor.cc:937] successful NUMA node read from SysFS had negative value (-1), but there must be at least one NUMA node, so returning NUMA node zero\n",
      "2022-04-29 19:19:08.322087: I tensorflow/stream_executor/cuda/cuda_gpu_executor.cc:937] successful NUMA node read from SysFS had negative value (-1), but there must be at least one NUMA node, so returning NUMA node zero\n",
      "2022-04-29 19:19:08.323636: I tensorflow/core/platform/cpu_feature_guard.cc:142] This TensorFlow binary is optimized with oneAPI Deep Neural Network Library (oneDNN) to use the following CPU instructions in performance-critical operations:  AVX2 AVX512F FMA\n",
      "To enable them in other operations, rebuild TensorFlow with the appropriate compiler flags.\n",
      "2022-04-29 19:19:08.323984: I tensorflow/stream_executor/cuda/cuda_gpu_executor.cc:937] successful NUMA node read from SysFS had negative value (-1), but there must be at least one NUMA node, so returning NUMA node zero\n",
      "2022-04-29 19:19:08.324750: I tensorflow/stream_executor/cuda/cuda_gpu_executor.cc:937] successful NUMA node read from SysFS had negative value (-1), but there must be at least one NUMA node, so returning NUMA node zero\n",
      "2022-04-29 19:19:08.325383: I tensorflow/stream_executor/cuda/cuda_gpu_executor.cc:937] successful NUMA node read from SysFS had negative value (-1), but there must be at least one NUMA node, so returning NUMA node zero\n",
      "2022-04-29 19:19:10.244370: I tensorflow/stream_executor/cuda/cuda_gpu_executor.cc:937] successful NUMA node read from SysFS had negative value (-1), but there must be at least one NUMA node, so returning NUMA node zero\n",
      "2022-04-29 19:19:10.245217: I tensorflow/stream_executor/cuda/cuda_gpu_executor.cc:937] successful NUMA node read from SysFS had negative value (-1), but there must be at least one NUMA node, so returning NUMA node zero\n",
      "2022-04-29 19:19:10.245916: I tensorflow/stream_executor/cuda/cuda_gpu_executor.cc:937] successful NUMA node read from SysFS had negative value (-1), but there must be at least one NUMA node, so returning NUMA node zero\n",
      "2022-04-29 19:19:10.247696: I tensorflow/core/common_runtime/gpu/gpu_device.cc:1510] Created device /job:localhost/replica:0/task:0/device:GPU:0 with 15403 MB memory:  -> device: 0, name: Tesla P100-PCIE-16GB, pci bus id: 0000:00:04.0, compute capability: 6.0\n"
     ]
    }
   ],
   "source": [
    "model = Sequential()\n",
    "model.add(Conv2D(filters=16, kernel_size=(5, 5), activation=\"relu\", input_shape=(400,400,3)))\n",
    "model.add(MaxPooling2D(pool_size=(2, 2)))\n",
    "model.add(Dropout(0.25))\n",
    "model.add(Conv2D(filters=32, kernel_size=(5, 5), activation='relu'))\n",
    "model.add(MaxPooling2D(pool_size=(2, 2)))\n",
    "model.add(Dropout(0.25))\n",
    "model.add(Conv2D(filters=64, kernel_size=(5, 5), activation=\"relu\"))\n",
    "model.add(MaxPooling2D(pool_size=(2, 2)))\n",
    "model.add(Dropout(0.25))\n",
    "model.add(Conv2D(filters=64, kernel_size=(5, 5), activation='relu'))\n",
    "model.add(MaxPooling2D(pool_size=(2, 2)))\n",
    "model.add(Dropout(0.25))\n",
    "model.add(Flatten())\n",
    "model.add(Dense(128, activation='relu'))\n",
    "model.add(Dropout(0.5))\n",
    "model.add(Dense(64, activation='relu'))\n",
    "model.add(Dropout(0.5))\n",
    "model.add(Dense(15, activation='sigmoid'))"
   ]
  },
  {
   "cell_type": "code",
   "execution_count": 28,
   "id": "159fce8b",
   "metadata": {
    "execution": {
     "iopub.execute_input": "2022-04-29T19:19:11.445747Z",
     "iopub.status.busy": "2022-04-29T19:19:11.445252Z",
     "iopub.status.idle": "2022-04-29T19:19:12.378434Z",
     "shell.execute_reply": "2022-04-29T19:19:12.377278Z"
    },
    "papermill": {
     "duration": 1.269335,
     "end_time": "2022-04-29T19:19:12.381543",
     "exception": false,
     "start_time": "2022-04-29T19:19:11.112208",
     "status": "completed"
    },
    "tags": []
   },
   "outputs": [
    {
     "name": "stdout",
     "output_type": "stream",
     "text": [
      "Model: \"sequential\"\n",
      "_________________________________________________________________\n",
      "Layer (type)                 Output Shape              Param #   \n",
      "=================================================================\n",
      "conv2d (Conv2D)              (None, 396, 396, 16)      1216      \n",
      "_________________________________________________________________\n",
      "max_pooling2d (MaxPooling2D) (None, 198, 198, 16)      0         \n",
      "_________________________________________________________________\n",
      "dropout (Dropout)            (None, 198, 198, 16)      0         \n",
      "_________________________________________________________________\n",
      "conv2d_1 (Conv2D)            (None, 194, 194, 32)      12832     \n",
      "_________________________________________________________________\n",
      "max_pooling2d_1 (MaxPooling2 (None, 97, 97, 32)        0         \n",
      "_________________________________________________________________\n",
      "dropout_1 (Dropout)          (None, 97, 97, 32)        0         \n",
      "_________________________________________________________________\n",
      "conv2d_2 (Conv2D)            (None, 93, 93, 64)        51264     \n",
      "_________________________________________________________________\n",
      "max_pooling2d_2 (MaxPooling2 (None, 46, 46, 64)        0         \n",
      "_________________________________________________________________\n",
      "dropout_2 (Dropout)          (None, 46, 46, 64)        0         \n",
      "_________________________________________________________________\n",
      "conv2d_3 (Conv2D)            (None, 42, 42, 64)        102464    \n",
      "_________________________________________________________________\n",
      "max_pooling2d_3 (MaxPooling2 (None, 21, 21, 64)        0         \n",
      "_________________________________________________________________\n",
      "dropout_3 (Dropout)          (None, 21, 21, 64)        0         \n",
      "_________________________________________________________________\n",
      "flatten (Flatten)            (None, 28224)             0         \n",
      "_________________________________________________________________\n",
      "dense (Dense)                (None, 128)               3612800   \n",
      "_________________________________________________________________\n",
      "dropout_4 (Dropout)          (None, 128)               0         \n",
      "_________________________________________________________________\n",
      "dense_1 (Dense)              (None, 64)                8256      \n",
      "_________________________________________________________________\n",
      "dropout_5 (Dropout)          (None, 64)                0         \n",
      "_________________________________________________________________\n",
      "dense_2 (Dense)              (None, 15)                975       \n",
      "=================================================================\n",
      "Total params: 3,789,807\n",
      "Trainable params: 3,789,807\n",
      "Non-trainable params: 0\n",
      "_________________________________________________________________\n"
     ]
    },
    {
     "data": {
      "image/png": "[encoded data removed]",
      "text/plain": [
       "<IPython.core.display.Image object>"
      ]
     },
     "execution_count": 28,
     "metadata": {},
     "output_type": "execute_result"
    }
   ],
   "source": [
    "from keras.utils.vis_utils import plot_model\n",
    "model.summary()\n",
    "plot_model(model, to_file='model_plot.png', show_shapes=True, show_layer_names=True)"
   ]
  },
  {
   "cell_type": "markdown",
   "id": "f71b22bd",
   "metadata": {
    "papermill": {
     "duration": 0.362998,
     "end_time": "2022-04-29T19:19:13.101586",
     "exception": false,
     "start_time": "2022-04-29T19:19:12.738588",
     "status": "completed"
    },
    "tags": []
   },
   "source": [
    "# Compiling and fitting the Model"
   ]
  },
  {
   "cell_type": "code",
   "execution_count": 29,
   "id": "17a5cce4",
   "metadata": {
    "execution": {
     "iopub.execute_input": "2022-04-29T19:19:14.009363Z",
     "iopub.status.busy": "2022-04-29T19:19:14.008528Z",
     "iopub.status.idle": "2022-04-29T19:19:14.024494Z",
     "shell.execute_reply": "2022-04-29T19:19:14.023830Z"
    },
    "papermill": {
     "duration": 0.371238,
     "end_time": "2022-04-29T19:19:14.026293",
     "exception": false,
     "start_time": "2022-04-29T19:19:13.655055",
     "status": "completed"
    },
    "tags": []
   },
   "outputs": [],
   "source": [
    "#model.compile(optimizer='adam', loss='binary_crossentropy', metrics=['accuracy'])\n",
    "model.compile(optimizer='adam', loss='binary_crossentropy', metrics=['accuracy'])"
   ]
  },
  {
   "cell_type": "code",
   "execution_count": 30,
   "id": "5d8a18f9",
   "metadata": {
    "execution": {
     "iopub.execute_input": "2022-04-29T19:19:14.753195Z",
     "iopub.status.busy": "2022-04-29T19:19:14.752670Z",
     "iopub.status.idle": "2022-04-29T19:19:14.756955Z",
     "shell.execute_reply": "2022-04-29T19:19:14.756125Z"
    },
    "papermill": {
     "duration": 0.395353,
     "end_time": "2022-04-29T19:19:14.758915",
     "exception": false,
     "start_time": "2022-04-29T19:19:14.363562",
     "status": "completed"
    },
    "tags": []
   },
   "outputs": [],
   "source": [
    "es = EarlyStopping(patience=3, restore_best_weights=True, monitor='val_loss') # Early stopping"
   ]
  },
  {
   "cell_type": "code",
   "execution_count": 31,
   "id": "9b332b3a",
   "metadata": {
    "execution": {
     "iopub.execute_input": "2022-04-29T19:19:15.437821Z",
     "iopub.status.busy": "2022-04-29T19:19:15.437560Z",
     "iopub.status.idle": "2022-04-29T19:19:49.662769Z",
     "shell.execute_reply": "2022-04-29T19:19:49.662026Z"
    },
    "papermill": {
     "duration": 34.564765,
     "end_time": "2022-04-29T19:19:49.664699",
     "exception": false,
     "start_time": "2022-04-29T19:19:15.099934",
     "status": "completed"
    },
    "tags": []
   },
   "outputs": [
    {
     "name": "stderr",
     "output_type": "stream",
     "text": [
      "2022-04-29 19:19:15.443407: W tensorflow/core/framework/cpu_allocator_impl.cc:80] Allocation of 1382400000 exceeds 10% of free system memory.\n",
      "2022-04-29 19:19:16.894840: W tensorflow/core/framework/cpu_allocator_impl.cc:80] Allocation of 1382400000 exceeds 10% of free system memory.\n",
      "2022-04-29 19:19:17.907915: I tensorflow/compiler/mlir/mlir_graph_optimization_pass.cc:185] None of the MLIR Optimization Passes are enabled (registered 2)\n"
     ]
    },
    {
     "name": "stdout",
     "output_type": "stream",
     "text": [
      "Epoch 1/10\n"
     ]
    },
    {
     "name": "stderr",
     "output_type": "stream",
     "text": [
      "2022-04-29 19:19:18.656149: W tensorflow/core/framework/cpu_allocator_impl.cc:80] Allocation of 122880000 exceeds 10% of free system memory.\n",
      "2022-04-29 19:19:18.656582: W tensorflow/core/framework/cpu_allocator_impl.cc:80] Allocation of 122880000 exceeds 10% of free system memory.\n",
      "2022-04-29 19:19:18.770602: W tensorflow/core/framework/cpu_allocator_impl.cc:80] Allocation of 122880000 exceeds 10% of free system memory.\n",
      "2022-04-29 19:19:19.687565: I tensorflow/stream_executor/cuda/cuda_dnn.cc:369] Loaded cuDNN version 8005\n"
     ]
    },
    {
     "name": "stdout",
     "output_type": "stream",
     "text": [
      "12/12 [==============================] - 13s 346ms/step - loss: 0.6267 - accuracy: 0.2361 - val_loss: 0.5966 - val_accuracy: 0.9389\n",
      "Epoch 2/10\n",
      "12/12 [==============================] - 2s 169ms/step - loss: 0.4798 - accuracy: 0.5000 - val_loss: 0.4732 - val_accuracy: 0.9389\n",
      "Epoch 3/10\n",
      "12/12 [==============================] - 2s 172ms/step - loss: 0.3850 - accuracy: 0.7625 - val_loss: 0.3935 - val_accuracy: 0.9389\n",
      "Epoch 4/10\n",
      "12/12 [==============================] - 2s 177ms/step - loss: 0.3277 - accuracy: 0.8750 - val_loss: 0.3102 - val_accuracy: 0.9389\n",
      "Epoch 5/10\n",
      "12/12 [==============================] - 2s 170ms/step - loss: 0.2907 - accuracy: 0.9250 - val_loss: 0.2890 - val_accuracy: 0.9389\n",
      "Epoch 6/10\n",
      "12/12 [==============================] - 2s 169ms/step - loss: 0.2676 - accuracy: 0.9403 - val_loss: 0.3150 - val_accuracy: 0.9389\n",
      "Epoch 7/10\n",
      "12/12 [==============================] - 2s 165ms/step - loss: 0.2578 - accuracy: 0.9486 - val_loss: 0.2471 - val_accuracy: 0.9389\n",
      "Epoch 8/10\n",
      "12/12 [==============================] - 2s 167ms/step - loss: 0.2435 - accuracy: 0.9528 - val_loss: 0.2239 - val_accuracy: 0.9389\n",
      "Epoch 9/10\n",
      "12/12 [==============================] - 2s 194ms/step - loss: 0.2389 - accuracy: 0.9625 - val_loss: 0.2133 - val_accuracy: 0.9389\n",
      "Epoch 10/10\n",
      "12/12 [==============================] - 2s 162ms/step - loss: 0.2314 - accuracy: 0.9611 - val_loss: 0.2152 - val_accuracy: 0.9389\n"
     ]
    },
    {
     "data": {
      "text/plain": [
       "<keras.callbacks.History at 0x7faff4641910>"
      ]
     },
     "execution_count": 31,
     "metadata": {},
     "output_type": "execute_result"
    }
   ],
   "source": [
    "model.fit(X_train, y_train, batch_size=64, \n",
    "                            epochs=10, validation_split=0.2, \n",
    "                            callbacks=[es])"
   ]
  },
  {
   "cell_type": "markdown",
   "id": "43192946",
   "metadata": {
    "papermill": {
     "duration": 0.373051,
     "end_time": "2022-04-29T19:19:50.418641",
     "exception": false,
     "start_time": "2022-04-29T19:19:50.045590",
     "status": "completed"
    },
    "tags": []
   },
   "source": [
    "# Evaluating the Model\n"
   ]
  },
  {
   "cell_type": "markdown",
   "id": "cbe22c6a",
   "metadata": {
    "papermill": {
     "duration": 0.389294,
     "end_time": "2022-04-29T19:19:51.180611",
     "exception": false,
     "start_time": "2022-04-29T19:19:50.791317",
     "status": "completed"
    },
    "tags": []
   },
   "source": [
    "The model seems has accuracy of 95%, which is very impressive. "
   ]
  },
  {
   "cell_type": "code",
   "execution_count": 32,
   "id": "0c48c620",
   "metadata": {
    "execution": {
     "iopub.execute_input": "2022-04-29T19:19:51.936113Z",
     "iopub.status.busy": "2022-04-29T19:19:51.935852Z",
     "iopub.status.idle": "2022-04-29T19:19:52.889976Z",
     "shell.execute_reply": "2022-04-29T19:19:52.888865Z"
    },
    "papermill": {
     "duration": 1.333886,
     "end_time": "2022-04-29T19:19:52.892470",
     "exception": false,
     "start_time": "2022-04-29T19:19:51.558584",
     "status": "completed"
    },
    "tags": []
   },
   "outputs": [
    {
     "name": "stdout",
     "output_type": "stream",
     "text": [
      "4/4 [==============================] - 1s 51ms/step - loss: 0.2203 - accuracy: 0.9500\n",
      "[0.2202599197626114, 0.949999988079071]\n"
     ]
    }
   ],
   "source": [
    "print(model.evaluate(X_test, y_test))\n",
    "\n"
   ]
  },
  {
   "cell_type": "code",
   "execution_count": 33,
   "id": "d042b41b",
   "metadata": {
    "execution": {
     "iopub.execute_input": "2022-04-29T19:19:53.652539Z",
     "iopub.status.busy": "2022-04-29T19:19:53.652267Z",
     "iopub.status.idle": "2022-04-29T19:19:53.933493Z",
     "shell.execute_reply": "2022-04-29T19:19:53.932698Z"
    },
    "papermill": {
     "duration": 0.664395,
     "end_time": "2022-04-29T19:19:53.935616",
     "exception": false,
     "start_time": "2022-04-29T19:19:53.271221",
     "status": "completed"
    },
    "tags": []
   },
   "outputs": [],
   "source": [
    "preds = model.predict(X_test[:10])"
   ]
  },
  {
   "cell_type": "markdown",
   "id": "27dd211b",
   "metadata": {
    "papermill": {
     "duration": 0.376961,
     "end_time": "2022-04-29T19:19:54.689302",
     "exception": false,
     "start_time": "2022-04-29T19:19:54.312341",
     "status": "completed"
    },
    "tags": []
   },
   "source": [
    "# Model Diagnostics"
   ]
  },
  {
   "cell_type": "code",
   "execution_count": 34,
   "id": "61f1c883",
   "metadata": {
    "execution": {
     "iopub.execute_input": "2022-04-29T19:19:55.452332Z",
     "iopub.status.busy": "2022-04-29T19:19:55.452076Z",
     "iopub.status.idle": "2022-04-29T19:19:55.459987Z",
     "shell.execute_reply": "2022-04-29T19:19:55.459338Z"
    },
    "papermill": {
     "duration": 0.387146,
     "end_time": "2022-04-29T19:19:55.461715",
     "exception": false,
     "start_time": "2022-04-29T19:19:55.074569",
     "status": "completed"
    },
    "tags": []
   },
   "outputs": [
    {
     "data": {
      "text/plain": [
       "array([[1., 0., 0., 0., 0., 0., 0., 0., 0., 0., 0., 0., 0., 0., 0.],\n",
       "       [1., 0., 0., 0., 0., 0., 0., 0., 0., 0., 0., 0., 0., 0., 0.],\n",
       "       [1., 0., 0., 0., 0., 0., 0., 0., 0., 0., 0., 0., 0., 0., 0.],\n",
       "       [1., 0., 0., 0., 0., 0., 0., 0., 0., 0., 0., 0., 0., 0., 0.],\n",
       "       [1., 0., 0., 0., 0., 0., 0., 0., 0., 0., 0., 0., 0., 0., 0.],\n",
       "       [1., 0., 0., 0., 0., 0., 0., 0., 0., 0., 0., 0., 0., 0., 0.],\n",
       "       [1., 0., 0., 0., 0., 0., 0., 0., 0., 0., 0., 0., 0., 0., 0.],\n",
       "       [1., 0., 0., 0., 0., 0., 0., 0., 0., 0., 0., 0., 0., 0., 0.],\n",
       "       [1., 0., 0., 0., 0., 0., 0., 0., 0., 0., 0., 0., 0., 0., 0.],\n",
       "       [1., 0., 0., 0., 0., 0., 0., 0., 0., 0., 0., 0., 0., 0., 0.]],\n",
       "      dtype=float32)"
      ]
     },
     "execution_count": 34,
     "metadata": {},
     "output_type": "execute_result"
    }
   ],
   "source": [
    "np.round(preds)"
   ]
  },
  {
   "cell_type": "code",
   "execution_count": 35,
   "id": "3dbaae53",
   "metadata": {
    "execution": {
     "iopub.execute_input": "2022-04-29T19:19:56.229008Z",
     "iopub.status.busy": "2022-04-29T19:19:56.228293Z",
     "iopub.status.idle": "2022-04-29T19:19:56.235264Z",
     "shell.execute_reply": "2022-04-29T19:19:56.234432Z"
    },
    "papermill": {
     "duration": 0.391279,
     "end_time": "2022-04-29T19:19:56.238076",
     "exception": false,
     "start_time": "2022-04-29T19:19:55.846797",
     "status": "completed"
    },
    "tags": []
   },
   "outputs": [
    {
     "data": {
      "text/plain": [
       "array([[1., 0., 0., 0., 0., 0., 0., 0., 0., 0., 0., 0., 0., 0., 0.],\n",
       "       [1., 0., 1., 0., 0., 0., 0., 0., 0., 0., 0., 0., 0., 0., 0.],\n",
       "       [1., 0., 0., 1., 0., 0., 0., 0., 0., 0., 0., 0., 0., 0., 0.],\n",
       "       [1., 0., 0., 1., 0., 0., 0., 0., 1., 0., 0., 0., 0., 0., 0.],\n",
       "       [1., 0., 0., 0., 1., 0., 0., 0., 0., 0., 0., 0., 0., 0., 0.],\n",
       "       [1., 0., 0., 0., 0., 0., 0., 0., 0., 1., 0., 0., 0., 0., 0.],\n",
       "       [1., 0., 0., 1., 0., 0., 0., 0., 0., 0., 0., 0., 0., 0., 0.],\n",
       "       [1., 0., 0., 1., 0., 0., 0., 0., 0., 0., 0., 0., 0., 0., 0.],\n",
       "       [1., 0., 0., 0., 0., 0., 0., 0., 0., 0., 0., 0., 0., 0., 0.],\n",
       "       [1., 0., 0., 0., 0., 0., 0., 0., 0., 0., 0., 0., 0., 0., 0.]])"
      ]
     },
     "execution_count": 35,
     "metadata": {},
     "output_type": "execute_result"
    }
   ],
   "source": [
    "y_test[:10]"
   ]
  },
  {
   "cell_type": "code",
   "execution_count": 36,
   "id": "ccbe4b9e",
   "metadata": {
    "execution": {
     "iopub.execute_input": "2022-04-29T19:19:57.013277Z",
     "iopub.status.busy": "2022-04-29T19:19:57.013021Z",
     "iopub.status.idle": "2022-04-29T19:19:57.680890Z",
     "shell.execute_reply": "2022-04-29T19:19:57.679712Z"
    },
    "papermill": {
     "duration": 1.059667,
     "end_time": "2022-04-29T19:19:57.684240",
     "exception": false,
     "start_time": "2022-04-29T19:19:56.624573",
     "status": "completed"
    },
    "tags": []
   },
   "outputs": [
    {
     "name": "stdout",
     "output_type": "stream",
     "text": [
      "[[ 0  5]\n",
      " [ 0 95]]\n"
     ]
    }
   ],
   "source": [
    "#['HUMAN', 'NoF', 'YFT', 'ALB', 'OTH', 'BILL', \n",
    "#'DOL', 'BET', 'SKJ', 'LAG', 'SHARK', 'OIL', 'PLS', 'TUNA', 'WATER']\n",
    "import numpy as np\n",
    "from sklearn.metrics import confusion_matrix\n",
    "\n",
    "preds = model.predict(X_test)\n",
    "y_pred = np.round(preds) #<TODO: convert the probabilities to classes with numpy>\n",
    "\n",
    "conf_human=confusion_matrix(y_test[:,0], y_pred[:,0])\n",
    "conf_nof=confusion_matrix(y_test[:,1], y_pred[:,1])\n",
    "conf_yft=confusion_matrix(y_test[:,2], y_pred[:,2])\n",
    "#'ALB', 'OTH', 'BILL',\n",
    "conf_alb=confusion_matrix(y_test[:,3], y_pred[:,3])\n",
    "conf_oth=confusion_matrix(y_test[:,4], y_pred[:,4])\n",
    "conf_bill=confusion_matrix(y_test[:,5], y_pred[:,5])\n",
    "#'DOL', 'BET', 'SKJ'\n",
    "conf_dol=confusion_matrix(y_test[:,6], y_pred[:,6])\n",
    "conf_bet=confusion_matrix(y_test[:,7], y_pred[:,7])\n",
    "conf_sky=confusion_matrix(y_test[:,8], y_pred[:,8])\n",
    "#'LAG', 'SHARK', 'OIL'\n",
    "conf_lag=confusion_matrix(y_test[:,9], y_pred[:,9])\n",
    "conf_shark=confusion_matrix(y_test[:,10], y_pred[:,10])\n",
    "conf_oil=confusion_matrix(y_test[:,11], y_pred[:,11])\n",
    "#'PLS', 'TUNA', 'WATER'\n",
    "conf_pls=confusion_matrix(y_test[:,12], y_pred[:,12])\n",
    "conf_tuna=confusion_matrix(y_test[:,13], y_pred[:,13])\n",
    "conf_water=confusion_matrix(y_test[:,14], y_pred[:,14])\n",
    "\n",
    "\n",
    "print(conf_human)"
   ]
  },
  {
   "cell_type": "markdown",
   "id": "7e3bb57c",
   "metadata": {
    "papermill": {
     "duration": 0.380917,
     "end_time": "2022-04-29T19:19:58.473169",
     "exception": false,
     "start_time": "2022-04-29T19:19:58.092252",
     "status": "completed"
    },
    "tags": []
   },
   "source": [
    "conf_human\n",
    "conf_nof\n",
    "conf_yft\n",
    "\n",
    "conf_alb\n",
    "conf_oth\n",
    "conf_bill\n",
    "\n",
    "conf_dol\n",
    "conf_bet\n",
    "conf_sky\n",
    "\n",
    "conf_lag\n",
    "conf_shark\n",
    "conf_oil\n",
    "\n",
    "conf_pls\n",
    "conf_tuna\n",
    "conf_water"
   ]
  },
  {
   "cell_type": "code",
   "execution_count": 37,
   "id": "b675d75f",
   "metadata": {
    "execution": {
     "iopub.execute_input": "2022-04-29T19:19:59.242899Z",
     "iopub.status.busy": "2022-04-29T19:19:59.242439Z",
     "iopub.status.idle": "2022-04-29T19:19:59.595896Z",
     "shell.execute_reply": "2022-04-29T19:19:59.595225Z"
    },
    "papermill": {
     "duration": 0.740946,
     "end_time": "2022-04-29T19:19:59.597689",
     "exception": false,
     "start_time": "2022-04-29T19:19:58.856743",
     "status": "completed"
    },
    "tags": []
   },
   "outputs": [
    {
     "data": {
      "image/png": "[encoded data removed]",
      "text/plain": [
       "<Figure size 432x288 with 2 Axes>"
      ]
     },
     "metadata": {
      "needs_background": "light"
     },
     "output_type": "display_data"
    }
   ],
   "source": [
    "import seaborn as sns\n",
    "ax_human = sns.heatmap(conf_human, annot=True, fmt='d', cmap='Blues') \n",
    "ax_human.set(xlabel='Predicted Label',\n",
    "       ylabel='True label', title= 'Human');\n"
   ]
  },
  {
   "cell_type": "code",
   "execution_count": 38,
   "id": "7d9f57ce",
   "metadata": {
    "execution": {
     "iopub.execute_input": "2022-04-29T19:20:00.381075Z",
     "iopub.status.busy": "2022-04-29T19:20:00.380804Z",
     "iopub.status.idle": "2022-04-29T19:20:00.578474Z",
     "shell.execute_reply": "2022-04-29T19:20:00.577769Z"
    },
    "papermill": {
     "duration": 0.606754,
     "end_time": "2022-04-29T19:20:00.580220",
     "exception": false,
     "start_time": "2022-04-29T19:19:59.973466",
     "status": "completed"
    },
    "tags": []
   },
   "outputs": [
    {
     "data": {
      "image/png": "[encoded data removed]",
      "text/plain": [
       "<Figure size 432x288 with 2 Axes>"
      ]
     },
     "metadata": {
      "needs_background": "light"
     },
     "output_type": "display_data"
    }
   ],
   "source": [
    "ax_nof = sns.heatmap(conf_nof, annot=True, fmt='d', cmap='Blues') \n",
    "ax_nof.set(xlabel='Predicted Label',\n",
    "       ylabel='True label', title= 'NoF');"
   ]
  },
  {
   "cell_type": "code",
   "execution_count": 39,
   "id": "6b1fce2a",
   "metadata": {
    "execution": {
     "iopub.execute_input": "2022-04-29T19:20:01.343609Z",
     "iopub.status.busy": "2022-04-29T19:20:01.343332Z",
     "iopub.status.idle": "2022-04-29T19:20:01.815978Z",
     "shell.execute_reply": "2022-04-29T19:20:01.815273Z"
    },
    "papermill": {
     "duration": 0.855754,
     "end_time": "2022-04-29T19:20:01.817785",
     "exception": false,
     "start_time": "2022-04-29T19:20:00.962031",
     "status": "completed"
    },
    "tags": []
   },
   "outputs": [
    {
     "data": {
      "image/png": "[encoded data removed]",
      "text/plain": [
       "<Figure size 432x288 with 2 Axes>"
      ]
     },
     "metadata": {
      "needs_background": "light"
     },
     "output_type": "display_data"
    }
   ],
   "source": [
    "ax_yft = sns.heatmap(conf_yft, annot=True, fmt='d', cmap='Blues') \n",
    "ax_yft.set(xlabel='Predicted Label',\n",
    "       ylabel='True label', title= 'YFT');"
   ]
  },
  {
   "cell_type": "code",
   "execution_count": 40,
   "id": "fdb228cd",
   "metadata": {
    "execution": {
     "iopub.execute_input": "2022-04-29T19:20:02.998588Z",
     "iopub.status.busy": "2022-04-29T19:20:02.998231Z",
     "iopub.status.idle": "2022-04-29T19:20:03.304145Z",
     "shell.execute_reply": "2022-04-29T19:20:03.303466Z"
    },
    "papermill": {
     "duration": 0.940953,
     "end_time": "2022-04-29T19:20:03.306046",
     "exception": false,
     "start_time": "2022-04-29T19:20:02.365093",
     "status": "completed"
    },
    "tags": []
   },
   "outputs": [
    {
     "data": {
      "image/png": "[encoded data removed]",
      "text/plain": [
       "<Figure size 432x288 with 2 Axes>"
      ]
     },
     "metadata": {
      "needs_background": "light"
     },
     "output_type": "display_data"
    }
   ],
   "source": [
    "ax_alb = sns.heatmap(conf_alb, annot=True, fmt='d', cmap='Blues') \n",
    "ax_alb.set(xlabel='Predicted Label',\n",
    "       ylabel='True label', title= 'ALB');"
   ]
  },
  {
   "cell_type": "code",
   "execution_count": 41,
   "id": "3f5290f5",
   "metadata": {
    "execution": {
     "iopub.execute_input": "2022-04-29T19:20:04.109996Z",
     "iopub.status.busy": "2022-04-29T19:20:04.109413Z",
     "iopub.status.idle": "2022-04-29T19:20:04.312055Z",
     "shell.execute_reply": "2022-04-29T19:20:04.311383Z"
    },
    "papermill": {
     "duration": 0.586626,
     "end_time": "2022-04-29T19:20:04.313968",
     "exception": false,
     "start_time": "2022-04-29T19:20:03.727342",
     "status": "completed"
    },
    "tags": []
   },
   "outputs": [
    {
     "data": {
      "image/png": "[encoded data removed]",
      "text/plain": [
       "<Figure size 432x288 with 2 Axes>"
      ]
     },
     "metadata": {
      "needs_background": "light"
     },
     "output_type": "display_data"
    }
   ],
   "source": [
    "ax_oth = sns.heatmap(conf_oth, annot=True, fmt='d', cmap='Blues') \n",
    "ax_oth.set(xlabel='Predicted Label',\n",
    "       ylabel='True label', title= 'OTH');"
   ]
  },
  {
   "cell_type": "code",
   "execution_count": 42,
   "id": "60967bf9",
   "metadata": {
    "execution": {
     "iopub.execute_input": "2022-04-29T19:20:05.107444Z",
     "iopub.status.busy": "2022-04-29T19:20:05.107157Z",
     "iopub.status.idle": "2022-04-29T19:20:05.304004Z",
     "shell.execute_reply": "2022-04-29T19:20:05.303255Z"
    },
    "papermill": {
     "duration": 0.585574,
     "end_time": "2022-04-29T19:20:05.305790",
     "exception": false,
     "start_time": "2022-04-29T19:20:04.720216",
     "status": "completed"
    },
    "tags": []
   },
   "outputs": [
    {
     "data": {
      "image/png": "[encoded data removed]",
      "text/plain": [
       "<Figure size 432x288 with 2 Axes>"
      ]
     },
     "metadata": {
      "needs_background": "light"
     },
     "output_type": "display_data"
    }
   ],
   "source": [
    "ax_bill = sns.heatmap(conf_bill, annot=True, fmt='d', cmap='Blues') \n",
    "ax_bill.set(xlabel='Predicted Label',\n",
    "       ylabel='True label', title= 'BILL');"
   ]
  },
  {
   "cell_type": "code",
   "execution_count": 43,
   "id": "869cd35d",
   "metadata": {
    "execution": {
     "iopub.execute_input": "2022-04-29T19:20:06.069316Z",
     "iopub.status.busy": "2022-04-29T19:20:06.069037Z",
     "iopub.status.idle": "2022-04-29T19:20:06.270000Z",
     "shell.execute_reply": "2022-04-29T19:20:06.269244Z"
    },
    "papermill": {
     "duration": 0.586871,
     "end_time": "2022-04-29T19:20:06.271944",
     "exception": false,
     "start_time": "2022-04-29T19:20:05.685073",
     "status": "completed"
    },
    "tags": []
   },
   "outputs": [
    {
     "data": {
      "image/png": "[encoded data removed]",
      "text/plain": [
       "<Figure size 432x288 with 2 Axes>"
      ]
     },
     "metadata": {
      "needs_background": "light"
     },
     "output_type": "display_data"
    }
   ],
   "source": [
    "ax_dol = sns.heatmap(conf_dol, annot=True, fmt='d', cmap='Blues') \n",
    "ax_dol.set(xlabel='Predicted Label',\n",
    "       ylabel='True label', title= 'DOL');"
   ]
  },
  {
   "cell_type": "code",
   "execution_count": 44,
   "id": "c8beffff",
   "metadata": {
    "execution": {
     "iopub.execute_input": "2022-04-29T19:20:07.036384Z",
     "iopub.status.busy": "2022-04-29T19:20:07.036128Z",
     "iopub.status.idle": "2022-04-29T19:20:07.231698Z",
     "shell.execute_reply": "2022-04-29T19:20:07.231033Z"
    },
    "papermill": {
     "duration": 0.580121,
     "end_time": "2022-04-29T19:20:07.233458",
     "exception": false,
     "start_time": "2022-04-29T19:20:06.653337",
     "status": "completed"
    },
    "tags": []
   },
   "outputs": [
    {
     "data": {
      "image/png": "[encoded data removed]",
      "text/plain": [
       "<Figure size 432x288 with 2 Axes>"
      ]
     },
     "metadata": {
      "needs_background": "light"
     },
     "output_type": "display_data"
    }
   ],
   "source": [
    "ax_bet = sns.heatmap(conf_bet, annot=True, fmt='d', cmap='Blues') \n",
    "ax_bet.set(xlabel='Predicted Label',\n",
    "       ylabel='True label', title= 'BET');"
   ]
  },
  {
   "cell_type": "code",
   "execution_count": 45,
   "id": "87afe5ec",
   "metadata": {
    "execution": {
     "iopub.execute_input": "2022-04-29T19:20:08.001727Z",
     "iopub.status.busy": "2022-04-29T19:20:08.001458Z",
     "iopub.status.idle": "2022-04-29T19:20:08.290633Z",
     "shell.execute_reply": "2022-04-29T19:20:08.289702Z"
    },
    "papermill": {
     "duration": 0.678713,
     "end_time": "2022-04-29T19:20:08.294478",
     "exception": false,
     "start_time": "2022-04-29T19:20:07.615765",
     "status": "completed"
    },
    "tags": []
   },
   "outputs": [
    {
     "data": {
      "image/png": "[encoded data removed]",
      "text/plain": [
       "<Figure size 432x288 with 2 Axes>"
      ]
     },
     "metadata": {
      "needs_background": "light"
     },
     "output_type": "display_data"
    }
   ],
   "source": [
    "ax_sky = sns.heatmap(conf_sky, annot=True, fmt='d', cmap='Blues') \n",
    "ax_sky.set(xlabel='Predicted Label',\n",
    "       ylabel='True label', title= 'SKY');"
   ]
  },
  {
   "cell_type": "code",
   "execution_count": 46,
   "id": "5f33dabc",
   "metadata": {
    "execution": {
     "iopub.execute_input": "2022-04-29T19:20:09.277213Z",
     "iopub.status.busy": "2022-04-29T19:20:09.276958Z",
     "iopub.status.idle": "2022-04-29T19:20:09.480648Z",
     "shell.execute_reply": "2022-04-29T19:20:09.479901Z"
    },
    "papermill": {
     "duration": 0.59437,
     "end_time": "2022-04-29T19:20:09.482871",
     "exception": false,
     "start_time": "2022-04-29T19:20:08.888501",
     "status": "completed"
    },
    "tags": []
   },
   "outputs": [
    {
     "data": {
      "image/png": "[encoded data removed]",
      "text/plain": [
       "<Figure size 432x288 with 2 Axes>"
      ]
     },
     "metadata": {
      "needs_background": "light"
     },
     "output_type": "display_data"
    }
   ],
   "source": [
    "ax_lag = sns.heatmap(conf_lag, annot=True, fmt='d', cmap='Blues') \n",
    "ax_lag.set(xlabel='Predicted Label',\n",
    "       ylabel='True label', title= 'LAG');"
   ]
  },
  {
   "cell_type": "code",
   "execution_count": 47,
   "id": "ec102de0",
   "metadata": {
    "execution": {
     "iopub.execute_input": "2022-04-29T19:20:10.273223Z",
     "iopub.status.busy": "2022-04-29T19:20:10.272960Z",
     "iopub.status.idle": "2022-04-29T19:20:10.490954Z",
     "shell.execute_reply": "2022-04-29T19:20:10.490253Z"
    },
    "papermill": {
     "duration": 0.623753,
     "end_time": "2022-04-29T19:20:10.492706",
     "exception": false,
     "start_time": "2022-04-29T19:20:09.868953",
     "status": "completed"
    },
    "tags": []
   },
   "outputs": [
    {
     "data": {
      "image/png": "[encoded data removed]",
      "text/plain": [
       "<Figure size 432x288 with 2 Axes>"
      ]
     },
     "metadata": {
      "needs_background": "light"
     },
     "output_type": "display_data"
    }
   ],
   "source": [
    "ax_shark = sns.heatmap(conf_shark, annot=True, fmt='d', cmap='Blues') \n",
    "ax_shark.set(xlabel='Predicted Label',\n",
    "       ylabel='True label', title= 'SHARK');"
   ]
  },
  {
   "cell_type": "code",
   "execution_count": 48,
   "id": "a1584439",
   "metadata": {
    "execution": {
     "iopub.execute_input": "2022-04-29T19:20:11.282305Z",
     "iopub.status.busy": "2022-04-29T19:20:11.282048Z",
     "iopub.status.idle": "2022-04-29T19:20:11.491429Z",
     "shell.execute_reply": "2022-04-29T19:20:11.490747Z"
    },
    "papermill": {
     "duration": 0.602991,
     "end_time": "2022-04-29T19:20:11.493279",
     "exception": false,
     "start_time": "2022-04-29T19:20:10.890288",
     "status": "completed"
    },
    "tags": []
   },
   "outputs": [
    {
     "data": {
      "image/png": "[encoded data removed]",
      "text/plain": [
       "<Figure size 432x288 with 2 Axes>"
      ]
     },
     "metadata": {
      "needs_background": "light"
     },
     "output_type": "display_data"
    }
   ],
   "source": [
    "ax_oil = sns.heatmap(conf_oil, annot=True, fmt='d', cmap='Blues') \n",
    "ax_oil.set(xlabel='Predicted Label',\n",
    "       ylabel='True label', title= 'OIL');"
   ]
  },
  {
   "cell_type": "code",
   "execution_count": 49,
   "id": "9da1b925",
   "metadata": {
    "execution": {
     "iopub.execute_input": "2022-04-29T19:20:12.279895Z",
     "iopub.status.busy": "2022-04-29T19:20:12.279635Z",
     "iopub.status.idle": "2022-04-29T19:20:12.491086Z",
     "shell.execute_reply": "2022-04-29T19:20:12.490441Z"
    },
    "papermill": {
     "duration": 0.602813,
     "end_time": "2022-04-29T19:20:12.492908",
     "exception": false,
     "start_time": "2022-04-29T19:20:11.890095",
     "status": "completed"
    },
    "tags": []
   },
   "outputs": [
    {
     "data": {
      "image/png": "[encoded data removed]",
      "text/plain": [
       "<Figure size 432x288 with 2 Axes>"
      ]
     },
     "metadata": {
      "needs_background": "light"
     },
     "output_type": "display_data"
    }
   ],
   "source": [
    "ax_pls = sns.heatmap(conf_pls, annot=True, fmt='d', cmap='Blues') \n",
    "ax_pls.set(xlabel='Predicted Label',\n",
    "       ylabel='True label', title= 'PLS');"
   ]
  },
  {
   "cell_type": "code",
   "execution_count": 50,
   "id": "43799f21",
   "metadata": {
    "execution": {
     "iopub.execute_input": "2022-04-29T19:20:13.286804Z",
     "iopub.status.busy": "2022-04-29T19:20:13.286307Z",
     "iopub.status.idle": "2022-04-29T19:20:13.486792Z",
     "shell.execute_reply": "2022-04-29T19:20:13.486101Z"
    },
    "papermill": {
     "duration": 0.599294,
     "end_time": "2022-04-29T19:20:13.488546",
     "exception": false,
     "start_time": "2022-04-29T19:20:12.889252",
     "status": "completed"
    },
    "tags": []
   },
   "outputs": [
    {
     "data": {
      "image/png": "[encoded data removed]",
      "text/plain": [
       "<Figure size 432x288 with 2 Axes>"
      ]
     },
     "metadata": {
      "needs_background": "light"
     },
     "output_type": "display_data"
    }
   ],
   "source": [
    "ax_tuna = sns.heatmap(conf_tuna, annot=True, fmt='d', cmap='Blues') \n",
    "ax_tuna.set(xlabel='Predicted Label',\n",
    "       ylabel='True label', title= 'TUNA');"
   ]
  },
  {
   "cell_type": "code",
   "execution_count": 51,
   "id": "3bf86e42",
   "metadata": {
    "execution": {
     "iopub.execute_input": "2022-04-29T19:20:14.266012Z",
     "iopub.status.busy": "2022-04-29T19:20:14.265747Z",
     "iopub.status.idle": "2022-04-29T19:20:14.482946Z",
     "shell.execute_reply": "2022-04-29T19:20:14.482264Z"
    },
    "papermill": {
     "duration": 0.61038,
     "end_time": "2022-04-29T19:20:14.484686",
     "exception": false,
     "start_time": "2022-04-29T19:20:13.874306",
     "status": "completed"
    },
    "tags": []
   },
   "outputs": [
    {
     "data": {
      "image/png": "[encoded data removed]",
      "text/plain": [
       "<Figure size 432x288 with 2 Axes>"
      ]
     },
     "metadata": {
      "needs_background": "light"
     },
     "output_type": "display_data"
    }
   ],
   "source": [
    "ax_water = sns.heatmap(conf_water, annot=True, fmt='d', cmap='Blues') \n",
    "ax_water.set(xlabel='Predicted Label',\n",
    "       ylabel='True label', title= 'WATER');"
   ]
  },
  {
   "cell_type": "code",
   "execution_count": 52,
   "id": "8217f932",
   "metadata": {
    "execution": {
     "iopub.execute_input": "2022-04-29T19:20:15.261221Z",
     "iopub.status.busy": "2022-04-29T19:20:15.260967Z",
     "iopub.status.idle": "2022-04-29T19:20:15.274001Z",
     "shell.execute_reply": "2022-04-29T19:20:15.273317Z"
    },
    "papermill": {
     "duration": 0.402593,
     "end_time": "2022-04-29T19:20:15.275792",
     "exception": false,
     "start_time": "2022-04-29T19:20:14.873199",
     "status": "completed"
    },
    "tags": []
   },
   "outputs": [
    {
     "data": {
      "text/plain": [
       "0\n",
       "0.0     34\n",
       "1.0    866\n",
       "dtype: int64"
      ]
     },
     "execution_count": 52,
     "metadata": {},
     "output_type": "execute_result"
    }
   ],
   "source": [
    "Y_train= pd.DataFrame(y_train)\n",
    "Y_test= pd.DataFrame(y_test)\n",
    "Y_train.columns\n",
    "(Y_train.groupby(0).size())\n",
    "\n"
   ]
  },
  {
   "cell_type": "code",
   "execution_count": 53,
   "id": "3d2dd28d",
   "metadata": {
    "execution": {
     "iopub.execute_input": "2022-04-29T19:20:16.075051Z",
     "iopub.status.busy": "2022-04-29T19:20:16.074784Z",
     "iopub.status.idle": "2022-04-29T19:20:16.091052Z",
     "shell.execute_reply": "2022-04-29T19:20:16.090245Z"
    },
    "papermill": {
     "duration": 0.408821,
     "end_time": "2022-04-29T19:20:16.092993",
     "exception": false,
     "start_time": "2022-04-29T19:20:15.684172",
     "status": "completed"
    },
    "tags": []
   },
   "outputs": [
    {
     "name": "stdout",
     "output_type": "stream",
     "text": [
      "15\n",
      "[0.034, 0.882, 0.689, 0.614, 0.839, 0.866, 0.863, 0.837, 0.832, 0.884, 0.891, 0.9, 0.899, 0.898, 0.897]\n",
      "15\n",
      "[0.966, 0.118, 0.311, 0.386, 0.161, 0.134, 0.137, 0.163, 0.168, 0.116, 0.109, 0.1, 0.101, 0.102, 0.103]\n",
      "15\n"
     ]
    }
   ],
   "source": [
    "y_labels = ['HUMAN', 'NoF', 'YFT', 'ALB', 'OTH', 'BILL', 'DOL', 'BET', 'SKJ', 'LAG', 'SHARK', 'OIL', 'PLS', 'TUNA', 'WATER']\n",
    "print(len(y_labels))\n",
    "counts = []\n",
    "for i in range(0,15):\n",
    "    x = list(Y_train.groupby(i).size())\n",
    "    counts.append(x[0]/1000)\n",
    "print(counts)\n",
    "print(len(counts))\n",
    "frequency= [round(1-i, 3) for i in counts]\n",
    "print(frequency)\n",
    "print(len(frequency))"
   ]
  },
  {
   "cell_type": "code",
   "execution_count": 54,
   "id": "b5dc2907",
   "metadata": {
    "execution": {
     "iopub.execute_input": "2022-04-29T19:20:16.870561Z",
     "iopub.status.busy": "2022-04-29T19:20:16.870013Z",
     "iopub.status.idle": "2022-04-29T19:20:17.196142Z",
     "shell.execute_reply": "2022-04-29T19:20:17.195471Z"
    },
    "papermill": {
     "duration": 0.716091,
     "end_time": "2022-04-29T19:20:17.198048",
     "exception": false,
     "start_time": "2022-04-29T19:20:16.481957",
     "status": "completed"
    },
    "tags": []
   },
   "outputs": [
    {
     "data": {
      "image/png": "[encoded data removed]",
      "text/plain": [
       "<Figure size 864x576 with 1 Axes>"
      ]
     },
     "metadata": {
      "needs_background": "light"
     },
     "output_type": "display_data"
    }
   ],
   "source": [
    "df_counts = pd.DataFrame({'Frequency': frequency}, index=y_labels)\n",
    "ax = df_counts.plot(kind='bar', figsize=(12, 8), title='Label Occurence in images in Train',\n",
    "             xlabel='Label', ylabel='Frequency', legend=False)\n",
    "\n",
    "# annotate\n",
    "ax.bar_label(ax.containers[0], label_type='edge')\n",
    "\n",
    "# pad the spacing between the number and the edge of the figure\n",
    "ax.margins(y=0.1)"
   ]
  },
  {
   "cell_type": "code",
   "execution_count": 55,
   "id": "33e04a79",
   "metadata": {
    "execution": {
     "iopub.execute_input": "2022-04-29T19:20:17.976258Z",
     "iopub.status.busy": "2022-04-29T19:20:17.975523Z",
     "iopub.status.idle": "2022-04-29T19:20:17.984779Z",
     "shell.execute_reply": "2022-04-29T19:20:17.983928Z"
    },
    "papermill": {
     "duration": 0.400348,
     "end_time": "2022-04-29T19:20:17.987812",
     "exception": false,
     "start_time": "2022-04-29T19:20:17.587464",
     "status": "completed"
    },
    "tags": []
   },
   "outputs": [
    {
     "data": {
      "text/plain": [
       "3\n",
       "0.0    71\n",
       "1.0    29\n",
       "dtype: int64"
      ]
     },
     "execution_count": 55,
     "metadata": {},
     "output_type": "execute_result"
    }
   ],
   "source": [
    "Y_test.groupby(3).size()"
   ]
  },
  {
   "cell_type": "code",
   "execution_count": 56,
   "id": "5c5fa01c",
   "metadata": {
    "execution": {
     "iopub.execute_input": "2022-04-29T19:20:18.795816Z",
     "iopub.status.busy": "2022-04-29T19:20:18.795540Z",
     "iopub.status.idle": "2022-04-29T19:20:18.813842Z",
     "shell.execute_reply": "2022-04-29T19:20:18.812906Z"
    },
    "papermill": {
     "duration": 0.423322,
     "end_time": "2022-04-29T19:20:18.816342",
     "exception": false,
     "start_time": "2022-04-29T19:20:18.393020",
     "status": "completed"
    },
    "tags": []
   },
   "outputs": [
    {
     "name": "stdout",
     "output_type": "stream",
     "text": [
      "15\n",
      "[0.05, 0.95, 0.79, 0.71, 0.94, 0.92, 0.95, 0.96, 0.91, 0.96, 1.0, 1.0, 1.0, 0.98, 1.0]\n",
      "15\n",
      "[0.95, 0.05, 0.21, 0.29, 0.06, 0.08, 0.05, 0.04, 0.09, 0.04, 0.0, 0.0, 0.0, 0.02, 0.0]\n",
      "15\n"
     ]
    }
   ],
   "source": [
    "print(len(y_labels))\n",
    "counts = []\n",
    "for i in range(0,15):\n",
    "    x = list(Y_test.groupby(i).size())\n",
    "    counts.append(x[0]/100)\n",
    "print(counts)\n",
    "print(len(counts))\n",
    "frequency= [round(1-i, 3) for i in counts]\n",
    "print(frequency)\n",
    "print(len(frequency))"
   ]
  },
  {
   "cell_type": "code",
   "execution_count": 57,
   "id": "cf50c801",
   "metadata": {
    "execution": {
     "iopub.execute_input": "2022-04-29T19:20:19.919337Z",
     "iopub.status.busy": "2022-04-29T19:20:19.918901Z",
     "iopub.status.idle": "2022-04-29T19:20:20.275728Z",
     "shell.execute_reply": "2022-04-29T19:20:20.274893Z"
    },
    "papermill": {
     "duration": 0.914755,
     "end_time": "2022-04-29T19:20:20.278086",
     "exception": false,
     "start_time": "2022-04-29T19:20:19.363331",
     "status": "completed"
    },
    "tags": []
   },
   "outputs": [
    {
     "data": {
      "image/png": "[encoded data removed]",
      "text/plain": [
       "<Figure size 864x576 with 1 Axes>"
      ]
     },
     "metadata": {
      "needs_background": "light"
     },
     "output_type": "display_data"
    }
   ],
   "source": [
    "df_counts = pd.DataFrame({'Frequency': frequency}, index=y_labels)\n",
    "ax = df_counts.plot(kind='bar', figsize=(12, 8), title='Label Occurence in Images in Test',\n",
    "             xlabel='Label', ylabel='Frequency', legend=False)\n",
    "\n",
    "# annotate\n",
    "ax.bar_label(ax.containers[0], label_type='edge')\n",
    "\n",
    "# pad the spacing between the number and the edge of the figure\n",
    "ax.margins(y=0.1)"
   ]
  },
  {
   "cell_type": "code",
   "execution_count": null,
   "id": "3e6dae15",
   "metadata": {
    "papermill": {
     "duration": 0.442499,
     "end_time": "2022-04-29T19:20:21.196144",
     "exception": false,
     "start_time": "2022-04-29T19:20:20.753645",
     "status": "completed"
    },
    "tags": []
   },
   "outputs": [],
   "source": []
  }
 ],
 "metadata": {
  "kernelspec": {
   "display_name": "Python 3",
   "language": "python",
   "name": "python3"
  },
  "language_info": {
   "codemirror_mode": {
    "name": "ipython",
    "version": 3
   },
   "file_extension": ".py",
   "mimetype": "text/x-python",
   "name": "python",
   "nbconvert_exporter": "python",
   "pygments_lexer": "ipython3",
   "version": "3.7.12"
  },
  "papermill": {
   "default_parameters": {},
   "duration": 202.939967,
   "end_time": "2022-04-29T19:20:25.385474",
   "environment_variables": {},
   "exception": null,
   "input_path": "__notebook__.ipynb",
   "output_path": "__notebook__.ipynb",
   "parameters": {},
   "start_time": "2022-04-29T19:17:02.445507",
   "version": "2.3.4"
  }
 },
 "nbformat": 4,
 "nbformat_minor": 5
}
