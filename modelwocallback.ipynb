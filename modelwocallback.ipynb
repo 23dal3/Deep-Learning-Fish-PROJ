{
 "cells": [
  {
   "cell_type": "markdown",
   "id": "9c24c9f5",
   "metadata": {
    "papermill": {
     "duration": 0.071543,
     "end_time": "2022-05-06T10:43:14.430486",
     "exception": false,
     "start_time": "2022-05-06T10:43:14.358943",
     "status": "completed"
    },
    "tags": []
   },
   "source": [
    "# A Deep Learning Program Run on Commercial Pelagic Vessels in the Pacific"
   ]
  },
  {
   "cell_type": "markdown",
   "id": "cef74b8c",
   "metadata": {
    "papermill": {
     "duration": 0.066196,
     "end_time": "2022-05-06T10:43:14.563894",
     "exception": false,
     "start_time": "2022-05-06T10:43:14.497698",
     "status": "completed"
    },
    "tags": []
   },
   "source": [
    "**Packages Used**"
   ]
  },
  {
   "cell_type": "code",
   "execution_count": 1,
   "id": "a9d05cdf",
   "metadata": {
    "execution": {
     "iopub.execute_input": "2022-05-06T10:43:14.700493Z",
     "iopub.status.busy": "2022-05-06T10:43:14.700114Z",
     "iopub.status.idle": "2022-05-06T10:43:20.321000Z",
     "shell.execute_reply": "2022-05-06T10:43:20.320200Z"
    },
    "papermill": {
     "duration": 5.691624,
     "end_time": "2022-05-06T10:43:20.323691",
     "exception": false,
     "start_time": "2022-05-06T10:43:14.632067",
     "status": "completed"
    },
    "tags": []
   },
   "outputs": [],
   "source": [
    "import shutil \n",
    "import keras\n",
    "from tensorflow.keras.applications.vgg16 import VGG16\n",
    "from keras.models import Sequential\n",
    "from keras.layers import Dense, Dropout, Flatten\n",
    "from keras.layers import Conv2D, MaxPooling2D\n",
    "from keras.utils import *\n",
    "from keras.preprocessing import image\n",
    "import numpy as np\n",
    "import os\n",
    "import numpy as np # linear algebra\n",
    "import pandas as pd # data processing, CSV file I/O (e.g. pd.read_csv)\n",
    "import matplotlib.pyplot as plt\n",
    "from sklearn.model_selection import train_test_split\n",
    "from tqdm import tqdm\n",
    "from tensorflow.keras.callbacks import EarlyStopping # early stopping\n",
    "import matplotlib.pyplot as plt\n",
    "from tensorflow.keras.applications.resnet50 import ResNet50, preprocess_input, decode_predictions\n",
    "from keras.applications.mobilenet_v2 import MobileNetV2\n",
    "from keras.applications.mobilenet import preprocess_input\n",
    "from tensorflow.keras.preprocessing.image import ImageDataGenerator\n",
    "np.random.seed(34)"
   ]
  },
  {
   "cell_type": "markdown",
   "id": "5c292cc8",
   "metadata": {
    "papermill": {
     "duration": 0.066799,
     "end_time": "2022-05-06T10:43:20.462451",
     "exception": false,
     "start_time": "2022-05-06T10:43:20.395652",
     "status": "completed"
    },
    "tags": []
   },
   "source": [
    "Here We load in our initial data set which is a CSV of image identification labels and labels of what is present aboard the vessel. I will look solely at the label category in this data frame, which has the categories ['HUMAN', 'NoF', 'YFT', 'ALB', 'OTH', 'BILL', 'DOL', 'BET', 'SKJ', 'LAG', 'SHARK', 'OIL', 'PLS', 'TUNA', 'WATER'],"
   ]
  },
  {
   "cell_type": "code",
   "execution_count": 2,
   "id": "b954cdd1",
   "metadata": {
    "execution": {
     "iopub.execute_input": "2022-05-06T10:43:20.598650Z",
     "iopub.status.busy": "2022-05-06T10:43:20.598382Z",
     "iopub.status.idle": "2022-05-06T10:43:21.064500Z",
     "shell.execute_reply": "2022-05-06T10:43:21.063513Z"
    },
    "papermill": {
     "duration": 0.537527,
     "end_time": "2022-05-06T10:43:21.067107",
     "exception": false,
     "start_time": "2022-05-06T10:43:20.529580",
     "status": "completed"
    },
    "tags": []
   },
   "outputs": [
    {
     "name": "stdout",
     "output_type": "stream",
     "text": [
      "812926\n",
      "317820\n",
      "                                 img_id  label\n",
      "0  94a69b66-23f0-11e9-a78e-2f2b7983ac0d  HUMAN\n",
      "1  94a6a3a4-23f0-11e9-a78f-ebd9c88ef3e8  HUMAN\n",
      "2  94a6a430-23f0-11e9-a790-2b5f72f1667a  HUMAN\n",
      "3  94a6a48a-23f0-11e9-a791-fb958b6ab6b3  HUMAN\n",
      "4  94a6a4da-23f0-11e9-a792-f320b734bd9b  HUMAN\n"
     ]
    }
   ],
   "source": [
    "\n",
    "df = pd.read_csv(\"../input/image-codes-data-set/fish.csv\")\n",
    "print(df.size)\n",
    "df = df.drop_duplicates()\n",
    "print(df.size)\n",
    "print(df.head())"
   ]
  },
  {
   "cell_type": "markdown",
   "id": "109dbbb0",
   "metadata": {
    "papermill": {
     "duration": 0.068452,
     "end_time": "2022-05-06T10:43:21.207675",
     "exception": false,
     "start_time": "2022-05-06T10:43:21.139223",
     "status": "completed"
    },
    "tags": []
   },
   "source": [
    "There are over 86,000 unqiue images in this dataframe."
   ]
  },
  {
   "cell_type": "code",
   "execution_count": 3,
   "id": "a2b58ab5",
   "metadata": {
    "execution": {
     "iopub.execute_input": "2022-05-06T10:43:21.345645Z",
     "iopub.status.busy": "2022-05-06T10:43:21.345397Z",
     "iopub.status.idle": "2022-05-06T10:43:21.374096Z",
     "shell.execute_reply": "2022-05-06T10:43:21.373322Z"
    },
    "papermill": {
     "duration": 0.101002,
     "end_time": "2022-05-06T10:43:21.376427",
     "exception": false,
     "start_time": "2022-05-06T10:43:21.275425",
     "status": "completed"
    },
    "tags": []
   },
   "outputs": [
    {
     "data": {
      "text/plain": [
       "86029"
      ]
     },
     "execution_count": 3,
     "metadata": {},
     "output_type": "execute_result"
    }
   ],
   "source": [
    "imgs = df.img_id.unique()\n",
    "imgs.size"
   ]
  },
  {
   "cell_type": "markdown",
   "id": "e79d9a17",
   "metadata": {
    "papermill": {
     "duration": 0.068739,
     "end_time": "2022-05-06T10:43:21.514379",
     "exception": false,
     "start_time": "2022-05-06T10:43:21.445640",
     "status": "completed"
    },
    "tags": []
   },
   "source": [
    "# ** FROM HERE THIS IS HOW I TRANSFERRED MY LARGER CSV TO A SMALLER CSV WITH UNIQUE IMAGES **"
   ]
  },
  {
   "cell_type": "code",
   "execution_count": 4,
   "id": "dd98d275",
   "metadata": {
    "execution": {
     "iopub.execute_input": "2022-05-06T10:43:21.651854Z",
     "iopub.status.busy": "2022-05-06T10:43:21.651607Z",
     "iopub.status.idle": "2022-05-06T10:43:21.667813Z",
     "shell.execute_reply": "2022-05-06T10:43:21.667162Z"
    },
    "papermill": {
     "duration": 0.086842,
     "end_time": "2022-05-06T10:43:21.669518",
     "exception": false,
     "start_time": "2022-05-06T10:43:21.582676",
     "status": "completed"
    },
    "tags": []
   },
   "outputs": [],
   "source": [
    "df2= pd.DataFrame()\n",
    "df2[\"img_id\"] = imgs"
   ]
  },
  {
   "cell_type": "code",
   "execution_count": 5,
   "id": "2d960895",
   "metadata": {
    "execution": {
     "iopub.execute_input": "2022-05-06T10:43:21.805742Z",
     "iopub.status.busy": "2022-05-06T10:43:21.805489Z",
     "iopub.status.idle": "2022-05-06T10:43:21.820330Z",
     "shell.execute_reply": "2022-05-06T10:43:21.819520Z"
    },
    "papermill": {
     "duration": 0.085901,
     "end_time": "2022-05-06T10:43:21.822955",
     "exception": false,
     "start_time": "2022-05-06T10:43:21.737054",
     "status": "completed"
    },
    "tags": []
   },
   "outputs": [
    {
     "name": "stdout",
     "output_type": "stream",
     "text": [
      "['HUMAN', 'NoF', 'YFT', 'ALB', 'OTH', 'BILL', 'DOL', 'BET', 'SKJ', 'LAG', 'SHARK', 'OIL', 'PLS', 'TUNA', 'WATER']\n"
     ]
    }
   ],
   "source": [
    "class_names = list(df.label.unique())\n",
    "print(class_names)"
   ]
  },
  {
   "cell_type": "code",
   "execution_count": 6,
   "id": "ce2920ed",
   "metadata": {
    "execution": {
     "iopub.execute_input": "2022-05-06T10:43:21.961274Z",
     "iopub.status.busy": "2022-05-06T10:43:21.960545Z",
     "iopub.status.idle": "2022-05-06T10:43:21.976517Z",
     "shell.execute_reply": "2022-05-06T10:43:21.975846Z"
    },
    "papermill": {
     "duration": 0.086757,
     "end_time": "2022-05-06T10:43:21.978203",
     "exception": false,
     "start_time": "2022-05-06T10:43:21.891446",
     "status": "completed"
    },
    "tags": []
   },
   "outputs": [],
   "source": [
    "for i in class_names:\n",
    "    df2[i]= \"\""
   ]
  },
  {
   "cell_type": "code",
   "execution_count": 7,
   "id": "d1c98389",
   "metadata": {
    "execution": {
     "iopub.execute_input": "2022-05-06T10:43:22.119578Z",
     "iopub.status.busy": "2022-05-06T10:43:22.119324Z",
     "iopub.status.idle": "2022-05-06T10:43:22.130738Z",
     "shell.execute_reply": "2022-05-06T10:43:22.130088Z"
    },
    "papermill": {
     "duration": 0.08519,
     "end_time": "2022-05-06T10:43:22.132427",
     "exception": false,
     "start_time": "2022-05-06T10:43:22.047237",
     "status": "completed"
    },
    "tags": []
   },
   "outputs": [
    {
     "data": {
      "text/plain": [
       "'94a6a430-23f0-11e9-a790-2b5f72f1667a'"
      ]
     },
     "execution_count": 7,
     "metadata": {},
     "output_type": "execute_result"
    }
   ],
   "source": [
    "img_ids= df[\"img_id\"]\n",
    "img_ids[2]"
   ]
  },
  {
   "cell_type": "code",
   "execution_count": 8,
   "id": "6d5a8df0",
   "metadata": {
    "execution": {
     "iopub.execute_input": "2022-05-06T10:43:22.270624Z",
     "iopub.status.busy": "2022-05-06T10:43:22.270049Z",
     "iopub.status.idle": "2022-05-06T10:43:22.287735Z",
     "shell.execute_reply": "2022-05-06T10:43:22.287070Z"
    },
    "papermill": {
     "duration": 0.088091,
     "end_time": "2022-05-06T10:43:22.289411",
     "exception": false,
     "start_time": "2022-05-06T10:43:22.201320",
     "status": "completed"
    },
    "tags": []
   },
   "outputs": [
    {
     "data": {
      "text/html": [
       "<div>\n",
       "<style scoped>\n",
       "    .dataframe tbody tr th:only-of-type {\n",
       "        vertical-align: middle;\n",
       "    }\n",
       "\n",
       "    .dataframe tbody tr th {\n",
       "        vertical-align: top;\n",
       "    }\n",
       "\n",
       "    .dataframe thead th {\n",
       "        text-align: right;\n",
       "    }\n",
       "</style>\n",
       "<table border=\"1\" class=\"dataframe\">\n",
       "  <thead>\n",
       "    <tr style=\"text-align: right;\">\n",
       "      <th></th>\n",
       "      <th>img_id</th>\n",
       "      <th>HUMAN</th>\n",
       "      <th>NoF</th>\n",
       "      <th>YFT</th>\n",
       "      <th>ALB</th>\n",
       "      <th>OTH</th>\n",
       "      <th>BILL</th>\n",
       "      <th>DOL</th>\n",
       "      <th>BET</th>\n",
       "      <th>SKJ</th>\n",
       "      <th>LAG</th>\n",
       "      <th>SHARK</th>\n",
       "      <th>OIL</th>\n",
       "      <th>PLS</th>\n",
       "      <th>TUNA</th>\n",
       "      <th>WATER</th>\n",
       "    </tr>\n",
       "  </thead>\n",
       "  <tbody>\n",
       "    <tr>\n",
       "      <th>0</th>\n",
       "      <td>94a69b66-23f0-11e9-a78e-2f2b7983ac0d</td>\n",
       "      <td></td>\n",
       "      <td></td>\n",
       "      <td></td>\n",
       "      <td></td>\n",
       "      <td></td>\n",
       "      <td></td>\n",
       "      <td></td>\n",
       "      <td></td>\n",
       "      <td></td>\n",
       "      <td></td>\n",
       "      <td></td>\n",
       "      <td></td>\n",
       "      <td></td>\n",
       "      <td></td>\n",
       "      <td></td>\n",
       "    </tr>\n",
       "    <tr>\n",
       "      <th>1</th>\n",
       "      <td>94a6a3a4-23f0-11e9-a78f-ebd9c88ef3e8</td>\n",
       "      <td></td>\n",
       "      <td></td>\n",
       "      <td></td>\n",
       "      <td></td>\n",
       "      <td></td>\n",
       "      <td></td>\n",
       "      <td></td>\n",
       "      <td></td>\n",
       "      <td></td>\n",
       "      <td></td>\n",
       "      <td></td>\n",
       "      <td></td>\n",
       "      <td></td>\n",
       "      <td></td>\n",
       "      <td></td>\n",
       "    </tr>\n",
       "    <tr>\n",
       "      <th>2</th>\n",
       "      <td>94a6a430-23f0-11e9-a790-2b5f72f1667a</td>\n",
       "      <td></td>\n",
       "      <td></td>\n",
       "      <td></td>\n",
       "      <td></td>\n",
       "      <td></td>\n",
       "      <td></td>\n",
       "      <td></td>\n",
       "      <td></td>\n",
       "      <td></td>\n",
       "      <td></td>\n",
       "      <td></td>\n",
       "      <td></td>\n",
       "      <td></td>\n",
       "      <td></td>\n",
       "      <td></td>\n",
       "    </tr>\n",
       "    <tr>\n",
       "      <th>3</th>\n",
       "      <td>94a6a48a-23f0-11e9-a791-fb958b6ab6b3</td>\n",
       "      <td></td>\n",
       "      <td></td>\n",
       "      <td></td>\n",
       "      <td></td>\n",
       "      <td></td>\n",
       "      <td></td>\n",
       "      <td></td>\n",
       "      <td></td>\n",
       "      <td></td>\n",
       "      <td></td>\n",
       "      <td></td>\n",
       "      <td></td>\n",
       "      <td></td>\n",
       "      <td></td>\n",
       "      <td></td>\n",
       "    </tr>\n",
       "    <tr>\n",
       "      <th>4</th>\n",
       "      <td>94a6a4da-23f0-11e9-a792-f320b734bd9b</td>\n",
       "      <td></td>\n",
       "      <td></td>\n",
       "      <td></td>\n",
       "      <td></td>\n",
       "      <td></td>\n",
       "      <td></td>\n",
       "      <td></td>\n",
       "      <td></td>\n",
       "      <td></td>\n",
       "      <td></td>\n",
       "      <td></td>\n",
       "      <td></td>\n",
       "      <td></td>\n",
       "      <td></td>\n",
       "      <td></td>\n",
       "    </tr>\n",
       "  </tbody>\n",
       "</table>\n",
       "</div>"
      ],
      "text/plain": [
       "                                 img_id HUMAN NoF YFT ALB OTH BILL DOL BET  \\\n",
       "0  94a69b66-23f0-11e9-a78e-2f2b7983ac0d                                      \n",
       "1  94a6a3a4-23f0-11e9-a78f-ebd9c88ef3e8                                      \n",
       "2  94a6a430-23f0-11e9-a790-2b5f72f1667a                                      \n",
       "3  94a6a48a-23f0-11e9-a791-fb958b6ab6b3                                      \n",
       "4  94a6a4da-23f0-11e9-a792-f320b734bd9b                                      \n",
       "\n",
       "  SKJ LAG SHARK OIL PLS TUNA WATER  \n",
       "0                                   \n",
       "1                                   \n",
       "2                                   \n",
       "3                                   \n",
       "4                                   "
      ]
     },
     "execution_count": 8,
     "metadata": {},
     "output_type": "execute_result"
    }
   ],
   "source": [
    "df2.head()"
   ]
  },
  {
   "cell_type": "code",
   "execution_count": 9,
   "id": "4bbc4ee7",
   "metadata": {
    "execution": {
     "iopub.execute_input": "2022-05-06T10:43:22.428314Z",
     "iopub.status.busy": "2022-05-06T10:43:22.428072Z",
     "iopub.status.idle": "2022-05-06T10:43:22.456666Z",
     "shell.execute_reply": "2022-05-06T10:43:22.455934Z"
    },
    "papermill": {
     "duration": 0.100324,
     "end_time": "2022-05-06T10:43:22.458303",
     "exception": false,
     "start_time": "2022-05-06T10:43:22.357979",
     "status": "completed"
    },
    "tags": []
   },
   "outputs": [
    {
     "data": {
      "text/plain": [
       "406459      YFT\n",
       "406460    HUMAN\n",
       "Name: label, dtype: object"
      ]
     },
     "execution_count": 9,
     "metadata": {},
     "output_type": "execute_result"
    }
   ],
   "source": [
    "df3 = df.loc[df['img_id'] == 'dae032c2-db28-11ea-a22a-3bb828e9f7d1']\n",
    "x= df3[\"label\"]\n",
    "x"
   ]
  },
  {
   "cell_type": "markdown",
   "id": "b7e61951",
   "metadata": {
    "papermill": {
     "duration": 0.068944,
     "end_time": "2022-05-06T10:43:22.596051",
     "exception": false,
     "start_time": "2022-05-06T10:43:22.527107",
     "status": "completed"
    },
    "tags": []
   },
   "source": [
    "['HUMAN', 'NoF', 'YFT', 'ALB', 'OTH', 'BILL', 'DOL', 'BET', 'SKJ', 'LAG', 'SHARK', 'OIL', 'PLS', 'TUNA', 'WATER']"
   ]
  },
  {
   "cell_type": "code",
   "execution_count": 10,
   "id": "9ecc1331",
   "metadata": {
    "execution": {
     "iopub.execute_input": "2022-05-06T10:43:22.735174Z",
     "iopub.status.busy": "2022-05-06T10:43:22.734540Z",
     "iopub.status.idle": "2022-05-06T10:43:22.742045Z",
     "shell.execute_reply": "2022-05-06T10:43:22.741341Z"
    },
    "papermill": {
     "duration": 0.078803,
     "end_time": "2022-05-06T10:43:22.743719",
     "exception": false,
     "start_time": "2022-05-06T10:43:22.664916",
     "status": "completed"
    },
    "tags": []
   },
   "outputs": [
    {
     "data": {
      "text/plain": [
       "10000"
      ]
     },
     "execution_count": 10,
     "metadata": {},
     "output_type": "execute_result"
    }
   ],
   "source": [
    "#df_subset= imgs.sample(n=10000, random_state = 1)\n",
    "subset_imgs=np.random.choice(imgs, size= 10000)\n",
    "subset_imgs.size\n"
   ]
  },
  {
   "cell_type": "code",
   "execution_count": 11,
   "id": "b1a56a55",
   "metadata": {
    "execution": {
     "iopub.execute_input": "2022-05-06T10:43:22.884149Z",
     "iopub.status.busy": "2022-05-06T10:43:22.883517Z",
     "iopub.status.idle": "2022-05-06T10:43:22.906728Z",
     "shell.execute_reply": "2022-05-06T10:43:22.906076Z"
    },
    "papermill": {
     "duration": 0.095554,
     "end_time": "2022-05-06T10:43:22.908417",
     "exception": false,
     "start_time": "2022-05-06T10:43:22.812863",
     "status": "completed"
    },
    "tags": []
   },
   "outputs": [
    {
     "data": {
      "text/html": [
       "<div>\n",
       "<style scoped>\n",
       "    .dataframe tbody tr th:only-of-type {\n",
       "        vertical-align: middle;\n",
       "    }\n",
       "\n",
       "    .dataframe tbody tr th {\n",
       "        vertical-align: top;\n",
       "    }\n",
       "\n",
       "    .dataframe thead th {\n",
       "        text-align: right;\n",
       "    }\n",
       "</style>\n",
       "<table border=\"1\" class=\"dataframe\">\n",
       "  <thead>\n",
       "    <tr style=\"text-align: right;\">\n",
       "      <th></th>\n",
       "      <th>img_id</th>\n",
       "      <th>HUMAN</th>\n",
       "      <th>NoF</th>\n",
       "      <th>YFT</th>\n",
       "      <th>ALB</th>\n",
       "      <th>OTH</th>\n",
       "      <th>BILL</th>\n",
       "      <th>DOL</th>\n",
       "      <th>BET</th>\n",
       "      <th>SKJ</th>\n",
       "      <th>LAG</th>\n",
       "      <th>SHARK</th>\n",
       "      <th>OIL</th>\n",
       "      <th>PLS</th>\n",
       "      <th>TUNA</th>\n",
       "      <th>WATER</th>\n",
       "    </tr>\n",
       "  </thead>\n",
       "  <tbody>\n",
       "    <tr>\n",
       "      <th>0</th>\n",
       "      <td>dabf988c-db28-11ea-b646-f751770c2667</td>\n",
       "      <td></td>\n",
       "      <td></td>\n",
       "      <td></td>\n",
       "      <td></td>\n",
       "      <td></td>\n",
       "      <td></td>\n",
       "      <td></td>\n",
       "      <td></td>\n",
       "      <td></td>\n",
       "      <td></td>\n",
       "      <td></td>\n",
       "      <td></td>\n",
       "      <td></td>\n",
       "      <td></td>\n",
       "      <td></td>\n",
       "    </tr>\n",
       "    <tr>\n",
       "      <th>1</th>\n",
       "      <td>da4cbfa6-db28-11ea-b466-bb5f9e1c58d1</td>\n",
       "      <td></td>\n",
       "      <td></td>\n",
       "      <td></td>\n",
       "      <td></td>\n",
       "      <td></td>\n",
       "      <td></td>\n",
       "      <td></td>\n",
       "      <td></td>\n",
       "      <td></td>\n",
       "      <td></td>\n",
       "      <td></td>\n",
       "      <td></td>\n",
       "      <td></td>\n",
       "      <td></td>\n",
       "      <td></td>\n",
       "    </tr>\n",
       "    <tr>\n",
       "      <th>2</th>\n",
       "      <td>94d2518e-23f0-11e9-a8ae-97372c179db9</td>\n",
       "      <td></td>\n",
       "      <td></td>\n",
       "      <td></td>\n",
       "      <td></td>\n",
       "      <td></td>\n",
       "      <td></td>\n",
       "      <td></td>\n",
       "      <td></td>\n",
       "      <td></td>\n",
       "      <td></td>\n",
       "      <td></td>\n",
       "      <td></td>\n",
       "      <td></td>\n",
       "      <td></td>\n",
       "      <td></td>\n",
       "    </tr>\n",
       "    <tr>\n",
       "      <th>3</th>\n",
       "      <td>da97f94e-db28-11ea-a4e2-6bc6f4fb7b0e</td>\n",
       "      <td></td>\n",
       "      <td></td>\n",
       "      <td></td>\n",
       "      <td></td>\n",
       "      <td></td>\n",
       "      <td></td>\n",
       "      <td></td>\n",
       "      <td></td>\n",
       "      <td></td>\n",
       "      <td></td>\n",
       "      <td></td>\n",
       "      <td></td>\n",
       "      <td></td>\n",
       "      <td></td>\n",
       "      <td></td>\n",
       "    </tr>\n",
       "    <tr>\n",
       "      <th>4</th>\n",
       "      <td>dad1c426-db28-11ea-bb6b-3f63cdd14d9d</td>\n",
       "      <td></td>\n",
       "      <td></td>\n",
       "      <td></td>\n",
       "      <td></td>\n",
       "      <td></td>\n",
       "      <td></td>\n",
       "      <td></td>\n",
       "      <td></td>\n",
       "      <td></td>\n",
       "      <td></td>\n",
       "      <td></td>\n",
       "      <td></td>\n",
       "      <td></td>\n",
       "      <td></td>\n",
       "      <td></td>\n",
       "    </tr>\n",
       "  </tbody>\n",
       "</table>\n",
       "</div>"
      ],
      "text/plain": [
       "                                 img_id HUMAN NoF YFT ALB OTH BILL DOL BET  \\\n",
       "0  dabf988c-db28-11ea-b646-f751770c2667                                      \n",
       "1  da4cbfa6-db28-11ea-b466-bb5f9e1c58d1                                      \n",
       "2  94d2518e-23f0-11e9-a8ae-97372c179db9                                      \n",
       "3  da97f94e-db28-11ea-a4e2-6bc6f4fb7b0e                                      \n",
       "4  dad1c426-db28-11ea-bb6b-3f63cdd14d9d                                      \n",
       "\n",
       "  SKJ LAG SHARK OIL PLS TUNA WATER  \n",
       "0                                   \n",
       "1                                   \n",
       "2                                   \n",
       "3                                   \n",
       "4                                   "
      ]
     },
     "execution_count": 11,
     "metadata": {},
     "output_type": "execute_result"
    }
   ],
   "source": [
    "df_sub= pd.DataFrame()\n",
    "df_sub[\"img_id\"] = subset_imgs\n",
    "for i in class_names:\n",
    "    df_sub[i]= \"\"\n",
    "df_sub.head()"
   ]
  },
  {
   "cell_type": "code",
   "execution_count": 12,
   "id": "3016783b",
   "metadata": {
    "execution": {
     "iopub.execute_input": "2022-05-06T10:43:23.050085Z",
     "iopub.status.busy": "2022-05-06T10:43:23.049829Z",
     "iopub.status.idle": "2022-05-06T10:43:23.098303Z",
     "shell.execute_reply": "2022-05-06T10:43:23.097159Z"
    },
    "papermill": {
     "duration": 0.122855,
     "end_time": "2022-05-06T10:43:23.101129",
     "exception": false,
     "start_time": "2022-05-06T10:43:22.978274",
     "status": "completed"
    },
    "tags": []
   },
   "outputs": [
    {
     "name": "stdout",
     "output_type": "stream",
     "text": [
      "                                 img_id  label\n",
      "7  94a6a584-23f0-11e9-a794-0fe64977c9b7  HUMAN\n"
     ]
    },
    {
     "data": {
      "text/html": [
       "<div>\n",
       "<style scoped>\n",
       "    .dataframe tbody tr th:only-of-type {\n",
       "        vertical-align: middle;\n",
       "    }\n",
       "\n",
       "    .dataframe tbody tr th {\n",
       "        vertical-align: top;\n",
       "    }\n",
       "\n",
       "    .dataframe thead th {\n",
       "        text-align: right;\n",
       "    }\n",
       "</style>\n",
       "<table border=\"1\" class=\"dataframe\">\n",
       "  <thead>\n",
       "    <tr style=\"text-align: right;\">\n",
       "      <th></th>\n",
       "      <th>img_id</th>\n",
       "      <th>HUMAN</th>\n",
       "      <th>NoF</th>\n",
       "      <th>YFT</th>\n",
       "      <th>ALB</th>\n",
       "      <th>OTH</th>\n",
       "      <th>BILL</th>\n",
       "      <th>DOL</th>\n",
       "      <th>BET</th>\n",
       "      <th>SKJ</th>\n",
       "      <th>LAG</th>\n",
       "      <th>SHARK</th>\n",
       "      <th>OIL</th>\n",
       "      <th>PLS</th>\n",
       "      <th>TUNA</th>\n",
       "      <th>WATER</th>\n",
       "    </tr>\n",
       "  </thead>\n",
       "  <tbody>\n",
       "    <tr>\n",
       "      <th>0</th>\n",
       "      <td>dabf988c-db28-11ea-b646-f751770c2667</td>\n",
       "      <td></td>\n",
       "      <td></td>\n",
       "      <td></td>\n",
       "      <td></td>\n",
       "      <td></td>\n",
       "      <td></td>\n",
       "      <td></td>\n",
       "      <td></td>\n",
       "      <td></td>\n",
       "      <td></td>\n",
       "      <td></td>\n",
       "      <td></td>\n",
       "      <td></td>\n",
       "      <td></td>\n",
       "      <td></td>\n",
       "    </tr>\n",
       "    <tr>\n",
       "      <th>1</th>\n",
       "      <td>da4cbfa6-db28-11ea-b466-bb5f9e1c58d1</td>\n",
       "      <td></td>\n",
       "      <td></td>\n",
       "      <td></td>\n",
       "      <td></td>\n",
       "      <td></td>\n",
       "      <td></td>\n",
       "      <td></td>\n",
       "      <td></td>\n",
       "      <td></td>\n",
       "      <td></td>\n",
       "      <td></td>\n",
       "      <td></td>\n",
       "      <td></td>\n",
       "      <td></td>\n",
       "      <td></td>\n",
       "    </tr>\n",
       "    <tr>\n",
       "      <th>2</th>\n",
       "      <td>94d2518e-23f0-11e9-a8ae-97372c179db9</td>\n",
       "      <td></td>\n",
       "      <td></td>\n",
       "      <td></td>\n",
       "      <td></td>\n",
       "      <td></td>\n",
       "      <td></td>\n",
       "      <td></td>\n",
       "      <td></td>\n",
       "      <td></td>\n",
       "      <td></td>\n",
       "      <td></td>\n",
       "      <td></td>\n",
       "      <td></td>\n",
       "      <td></td>\n",
       "      <td></td>\n",
       "    </tr>\n",
       "    <tr>\n",
       "      <th>3</th>\n",
       "      <td>da97f94e-db28-11ea-a4e2-6bc6f4fb7b0e</td>\n",
       "      <td></td>\n",
       "      <td></td>\n",
       "      <td></td>\n",
       "      <td></td>\n",
       "      <td></td>\n",
       "      <td></td>\n",
       "      <td></td>\n",
       "      <td></td>\n",
       "      <td></td>\n",
       "      <td></td>\n",
       "      <td></td>\n",
       "      <td></td>\n",
       "      <td></td>\n",
       "      <td></td>\n",
       "      <td></td>\n",
       "    </tr>\n",
       "    <tr>\n",
       "      <th>4</th>\n",
       "      <td>dad1c426-db28-11ea-bb6b-3f63cdd14d9d</td>\n",
       "      <td></td>\n",
       "      <td></td>\n",
       "      <td></td>\n",
       "      <td></td>\n",
       "      <td></td>\n",
       "      <td></td>\n",
       "      <td></td>\n",
       "      <td></td>\n",
       "      <td></td>\n",
       "      <td></td>\n",
       "      <td></td>\n",
       "      <td></td>\n",
       "      <td></td>\n",
       "      <td></td>\n",
       "      <td></td>\n",
       "    </tr>\n",
       "    <tr>\n",
       "      <th>...</th>\n",
       "      <td>...</td>\n",
       "      <td>...</td>\n",
       "      <td>...</td>\n",
       "      <td>...</td>\n",
       "      <td>...</td>\n",
       "      <td>...</td>\n",
       "      <td>...</td>\n",
       "      <td>...</td>\n",
       "      <td>...</td>\n",
       "      <td>...</td>\n",
       "      <td>...</td>\n",
       "      <td>...</td>\n",
       "      <td>...</td>\n",
       "      <td>...</td>\n",
       "      <td>...</td>\n",
       "      <td>...</td>\n",
       "    </tr>\n",
       "    <tr>\n",
       "      <th>9995</th>\n",
       "      <td>da4ff568-db28-11ea-bd6a-df8d86f2201b</td>\n",
       "      <td></td>\n",
       "      <td></td>\n",
       "      <td></td>\n",
       "      <td></td>\n",
       "      <td></td>\n",
       "      <td></td>\n",
       "      <td></td>\n",
       "      <td></td>\n",
       "      <td></td>\n",
       "      <td></td>\n",
       "      <td></td>\n",
       "      <td></td>\n",
       "      <td></td>\n",
       "      <td></td>\n",
       "      <td></td>\n",
       "    </tr>\n",
       "    <tr>\n",
       "      <th>9996</th>\n",
       "      <td>da70e764-db28-11ea-a998-032d777e921b</td>\n",
       "      <td></td>\n",
       "      <td></td>\n",
       "      <td></td>\n",
       "      <td></td>\n",
       "      <td></td>\n",
       "      <td></td>\n",
       "      <td></td>\n",
       "      <td></td>\n",
       "      <td></td>\n",
       "      <td></td>\n",
       "      <td></td>\n",
       "      <td></td>\n",
       "      <td></td>\n",
       "      <td></td>\n",
       "      <td></td>\n",
       "    </tr>\n",
       "    <tr>\n",
       "      <th>9997</th>\n",
       "      <td>94e1c5a6-23f0-11e9-ba0a-872605079058</td>\n",
       "      <td></td>\n",
       "      <td></td>\n",
       "      <td></td>\n",
       "      <td></td>\n",
       "      <td></td>\n",
       "      <td></td>\n",
       "      <td></td>\n",
       "      <td></td>\n",
       "      <td></td>\n",
       "      <td></td>\n",
       "      <td></td>\n",
       "      <td></td>\n",
       "      <td></td>\n",
       "      <td></td>\n",
       "      <td></td>\n",
       "    </tr>\n",
       "    <tr>\n",
       "      <th>9998</th>\n",
       "      <td>da5157aa-db28-11ea-ba47-af1043ec9532</td>\n",
       "      <td></td>\n",
       "      <td></td>\n",
       "      <td></td>\n",
       "      <td></td>\n",
       "      <td></td>\n",
       "      <td></td>\n",
       "      <td></td>\n",
       "      <td></td>\n",
       "      <td></td>\n",
       "      <td></td>\n",
       "      <td></td>\n",
       "      <td></td>\n",
       "      <td></td>\n",
       "      <td></td>\n",
       "      <td></td>\n",
       "    </tr>\n",
       "    <tr>\n",
       "      <th>9999</th>\n",
       "      <td>dad0753a-db28-11ea-b9da-1fe21632dce2</td>\n",
       "      <td></td>\n",
       "      <td></td>\n",
       "      <td></td>\n",
       "      <td></td>\n",
       "      <td></td>\n",
       "      <td></td>\n",
       "      <td></td>\n",
       "      <td></td>\n",
       "      <td></td>\n",
       "      <td></td>\n",
       "      <td></td>\n",
       "      <td></td>\n",
       "      <td></td>\n",
       "      <td></td>\n",
       "      <td></td>\n",
       "    </tr>\n",
       "  </tbody>\n",
       "</table>\n",
       "<p>10000 rows × 16 columns</p>\n",
       "</div>"
      ],
      "text/plain": [
       "                                    img_id HUMAN NoF YFT ALB OTH BILL DOL BET  \\\n",
       "0     dabf988c-db28-11ea-b646-f751770c2667                                      \n",
       "1     da4cbfa6-db28-11ea-b466-bb5f9e1c58d1                                      \n",
       "2     94d2518e-23f0-11e9-a8ae-97372c179db9                                      \n",
       "3     da97f94e-db28-11ea-a4e2-6bc6f4fb7b0e                                      \n",
       "4     dad1c426-db28-11ea-bb6b-3f63cdd14d9d                                      \n",
       "...                                    ...   ...  ..  ..  ..  ..  ...  ..  ..   \n",
       "9995  da4ff568-db28-11ea-bd6a-df8d86f2201b                                      \n",
       "9996  da70e764-db28-11ea-a998-032d777e921b                                      \n",
       "9997  94e1c5a6-23f0-11e9-ba0a-872605079058                                      \n",
       "9998  da5157aa-db28-11ea-ba47-af1043ec9532                                      \n",
       "9999  dad0753a-db28-11ea-b9da-1fe21632dce2                                      \n",
       "\n",
       "     SKJ LAG SHARK OIL PLS TUNA WATER  \n",
       "0                                      \n",
       "1                                      \n",
       "2                                      \n",
       "3                                      \n",
       "4                                      \n",
       "...   ..  ..   ...  ..  ..  ...   ...  \n",
       "9995                                   \n",
       "9996                                   \n",
       "9997                                   \n",
       "9998                                   \n",
       "9999                                   \n",
       "\n",
       "[10000 rows x 16 columns]"
      ]
     },
     "execution_count": 12,
     "metadata": {},
     "output_type": "execute_result"
    }
   ],
   "source": [
    "label = df[df['img_id']=='94a6a584-23f0-11e9-a794-0fe64977c9b7']\n",
    "print(label)\n",
    "df_sub"
   ]
  },
  {
   "cell_type": "code",
   "execution_count": 13,
   "id": "2e45b32a",
   "metadata": {
    "execution": {
     "iopub.execute_input": "2022-05-06T10:43:23.248250Z",
     "iopub.status.busy": "2022-05-06T10:43:23.247538Z",
     "iopub.status.idle": "2022-05-06T10:43:23.250961Z",
     "shell.execute_reply": "2022-05-06T10:43:23.250303Z"
    },
    "jupyter": {
     "source_hidden": true
    },
    "papermill": {
     "duration": 0.078145,
     "end_time": "2022-05-06T10:43:23.252564",
     "exception": false,
     "start_time": "2022-05-06T10:43:23.174419",
     "status": "completed"
    },
    "tags": []
   },
   "outputs": [],
   "source": [
    "#for j, row in df.iterrows():\n",
    " #   for i in df_sub[\"img_id\"]:\n",
    "  #      if i == row['img_id']:\n",
    "   #         label = row['label']\n",
    "    #        df_sub.loc[df_sub['img_id'] == i, [label]] = 1\n",
    "            "
   ]
  },
  {
   "cell_type": "markdown",
   "id": "182be012",
   "metadata": {
    "papermill": {
     "duration": 0.081343,
     "end_time": "2022-05-06T10:43:23.405784",
     "exception": false,
     "start_time": "2022-05-06T10:43:23.324441",
     "status": "completed"
    },
    "tags": []
   },
   "source": [
    "# I have now created a smaller dataframe that represents a subset of images that have the labels as columns and a binary 1 or 0 depicting if the column label is present or not."
   ]
  },
  {
   "cell_type": "code",
   "execution_count": 14,
   "id": "d4142bdb",
   "metadata": {
    "execution": {
     "iopub.execute_input": "2022-05-06T10:43:23.549624Z",
     "iopub.status.busy": "2022-05-06T10:43:23.548958Z",
     "iopub.status.idle": "2022-05-06T10:43:23.577066Z",
     "shell.execute_reply": "2022-05-06T10:43:23.576417Z"
    },
    "papermill": {
     "duration": 0.102107,
     "end_time": "2022-05-06T10:43:23.578809",
     "exception": false,
     "start_time": "2022-05-06T10:43:23.476702",
     "status": "completed"
    },
    "tags": []
   },
   "outputs": [],
   "source": [
    "subsetted= pd.read_csv(\"../input/subsetted/file_name.csv\")\n"
   ]
  },
  {
   "cell_type": "code",
   "execution_count": 15,
   "id": "821a4fe0",
   "metadata": {
    "execution": {
     "iopub.execute_input": "2022-05-06T10:43:23.722343Z",
     "iopub.status.busy": "2022-05-06T10:43:23.721678Z",
     "iopub.status.idle": "2022-05-06T10:43:23.725683Z",
     "shell.execute_reply": "2022-05-06T10:43:23.725070Z"
    },
    "papermill": {
     "duration": 0.077343,
     "end_time": "2022-05-06T10:43:23.727488",
     "exception": false,
     "start_time": "2022-05-06T10:43:23.650145",
     "status": "completed"
    },
    "tags": []
   },
   "outputs": [],
   "source": [
    " os.makedirs('image')\n"
   ]
  },
  {
   "cell_type": "code",
   "execution_count": 16,
   "id": "0ad5c41f",
   "metadata": {
    "execution": {
     "iopub.execute_input": "2022-05-06T10:43:23.873562Z",
     "iopub.status.busy": "2022-05-06T10:43:23.873321Z",
     "iopub.status.idle": "2022-05-06T10:43:23.900360Z",
     "shell.execute_reply": "2022-05-06T10:43:23.899698Z"
    },
    "papermill": {
     "duration": 0.103757,
     "end_time": "2022-05-06T10:43:23.901964",
     "exception": false,
     "start_time": "2022-05-06T10:43:23.798207",
     "status": "completed"
    },
    "tags": []
   },
   "outputs": [
    {
     "data": {
      "text/html": [
       "<div>\n",
       "<style scoped>\n",
       "    .dataframe tbody tr th:only-of-type {\n",
       "        vertical-align: middle;\n",
       "    }\n",
       "\n",
       "    .dataframe tbody tr th {\n",
       "        vertical-align: top;\n",
       "    }\n",
       "\n",
       "    .dataframe thead th {\n",
       "        text-align: right;\n",
       "    }\n",
       "</style>\n",
       "<table border=\"1\" class=\"dataframe\">\n",
       "  <thead>\n",
       "    <tr style=\"text-align: right;\">\n",
       "      <th></th>\n",
       "      <th>img_id</th>\n",
       "      <th>HUMAN</th>\n",
       "      <th>NoF</th>\n",
       "      <th>YFT</th>\n",
       "      <th>ALB</th>\n",
       "      <th>OTH</th>\n",
       "      <th>BILL</th>\n",
       "      <th>DOL</th>\n",
       "      <th>BET</th>\n",
       "      <th>SKJ</th>\n",
       "      <th>LAG</th>\n",
       "      <th>SHARK</th>\n",
       "      <th>OIL</th>\n",
       "      <th>PLS</th>\n",
       "      <th>TUNA</th>\n",
       "      <th>WATER</th>\n",
       "    </tr>\n",
       "  </thead>\n",
       "  <tbody>\n",
       "    <tr>\n",
       "      <th>0</th>\n",
       "      <td>dabf988c-db28-11ea-b646-f751770c2667</td>\n",
       "      <td>1.0</td>\n",
       "      <td>0.0</td>\n",
       "      <td>0.0</td>\n",
       "      <td>1.0</td>\n",
       "      <td>0.0</td>\n",
       "      <td>0.0</td>\n",
       "      <td>0.0</td>\n",
       "      <td>0.0</td>\n",
       "      <td>0.0</td>\n",
       "      <td>0.0</td>\n",
       "      <td>0.0</td>\n",
       "      <td>0.0</td>\n",
       "      <td>0.0</td>\n",
       "      <td>0.0</td>\n",
       "      <td>0.0</td>\n",
       "    </tr>\n",
       "    <tr>\n",
       "      <th>1</th>\n",
       "      <td>da4cbfa6-db28-11ea-b466-bb5f9e1c58d1</td>\n",
       "      <td>1.0</td>\n",
       "      <td>0.0</td>\n",
       "      <td>0.0</td>\n",
       "      <td>1.0</td>\n",
       "      <td>0.0</td>\n",
       "      <td>0.0</td>\n",
       "      <td>0.0</td>\n",
       "      <td>0.0</td>\n",
       "      <td>0.0</td>\n",
       "      <td>0.0</td>\n",
       "      <td>0.0</td>\n",
       "      <td>0.0</td>\n",
       "      <td>0.0</td>\n",
       "      <td>0.0</td>\n",
       "      <td>0.0</td>\n",
       "    </tr>\n",
       "    <tr>\n",
       "      <th>2</th>\n",
       "      <td>94d2518e-23f0-11e9-a8ae-97372c179db9</td>\n",
       "      <td>1.0</td>\n",
       "      <td>0.0</td>\n",
       "      <td>0.0</td>\n",
       "      <td>0.0</td>\n",
       "      <td>0.0</td>\n",
       "      <td>0.0</td>\n",
       "      <td>0.0</td>\n",
       "      <td>1.0</td>\n",
       "      <td>0.0</td>\n",
       "      <td>0.0</td>\n",
       "      <td>0.0</td>\n",
       "      <td>0.0</td>\n",
       "      <td>0.0</td>\n",
       "      <td>0.0</td>\n",
       "      <td>0.0</td>\n",
       "    </tr>\n",
       "    <tr>\n",
       "      <th>3</th>\n",
       "      <td>da97f94e-db28-11ea-a4e2-6bc6f4fb7b0e</td>\n",
       "      <td>1.0</td>\n",
       "      <td>0.0</td>\n",
       "      <td>0.0</td>\n",
       "      <td>1.0</td>\n",
       "      <td>0.0</td>\n",
       "      <td>0.0</td>\n",
       "      <td>0.0</td>\n",
       "      <td>0.0</td>\n",
       "      <td>1.0</td>\n",
       "      <td>0.0</td>\n",
       "      <td>0.0</td>\n",
       "      <td>0.0</td>\n",
       "      <td>0.0</td>\n",
       "      <td>0.0</td>\n",
       "      <td>0.0</td>\n",
       "    </tr>\n",
       "    <tr>\n",
       "      <th>4</th>\n",
       "      <td>dad1c426-db28-11ea-bb6b-3f63cdd14d9d</td>\n",
       "      <td>1.0</td>\n",
       "      <td>0.0</td>\n",
       "      <td>1.0</td>\n",
       "      <td>0.0</td>\n",
       "      <td>0.0</td>\n",
       "      <td>0.0</td>\n",
       "      <td>0.0</td>\n",
       "      <td>0.0</td>\n",
       "      <td>0.0</td>\n",
       "      <td>0.0</td>\n",
       "      <td>0.0</td>\n",
       "      <td>0.0</td>\n",
       "      <td>0.0</td>\n",
       "      <td>0.0</td>\n",
       "      <td>0.0</td>\n",
       "    </tr>\n",
       "  </tbody>\n",
       "</table>\n",
       "</div>"
      ],
      "text/plain": [
       "                                 img_id  HUMAN  NoF  YFT  ALB  OTH  BILL  DOL  \\\n",
       "0  dabf988c-db28-11ea-b646-f751770c2667    1.0  0.0  0.0  1.0  0.0   0.0  0.0   \n",
       "1  da4cbfa6-db28-11ea-b466-bb5f9e1c58d1    1.0  0.0  0.0  1.0  0.0   0.0  0.0   \n",
       "2  94d2518e-23f0-11e9-a8ae-97372c179db9    1.0  0.0  0.0  0.0  0.0   0.0  0.0   \n",
       "3  da97f94e-db28-11ea-a4e2-6bc6f4fb7b0e    1.0  0.0  0.0  1.0  0.0   0.0  0.0   \n",
       "4  dad1c426-db28-11ea-bb6b-3f63cdd14d9d    1.0  0.0  1.0  0.0  0.0   0.0  0.0   \n",
       "\n",
       "   BET  SKJ  LAG  SHARK  OIL  PLS  TUNA  WATER  \n",
       "0  0.0  0.0  0.0    0.0  0.0  0.0   0.0    0.0  \n",
       "1  0.0  0.0  0.0    0.0  0.0  0.0   0.0    0.0  \n",
       "2  1.0  0.0  0.0    0.0  0.0  0.0   0.0    0.0  \n",
       "3  0.0  1.0  0.0    0.0  0.0  0.0   0.0    0.0  \n",
       "4  0.0  0.0  0.0    0.0  0.0  0.0   0.0    0.0  "
      ]
     },
     "execution_count": 16,
     "metadata": {},
     "output_type": "execute_result"
    }
   ],
   "source": [
    "proper = subsetted.fillna(0)\n",
    "\n",
    "proper = proper.drop(columns=\"Unnamed: 0\")\n",
    "proper.head()"
   ]
  },
  {
   "cell_type": "code",
   "execution_count": 17,
   "id": "ca8d22e6",
   "metadata": {
    "execution": {
     "iopub.execute_input": "2022-05-06T10:43:24.047772Z",
     "iopub.status.busy": "2022-05-06T10:43:24.047151Z",
     "iopub.status.idle": "2022-05-06T10:43:24.053554Z",
     "shell.execute_reply": "2022-05-06T10:43:24.052917Z"
    },
    "papermill": {
     "duration": 0.080792,
     "end_time": "2022-05-06T10:43:24.055579",
     "exception": false,
     "start_time": "2022-05-06T10:43:23.974787",
     "status": "completed"
    },
    "tags": []
   },
   "outputs": [
    {
     "data": {
      "text/plain": [
       "'da97f94e-db28-11ea-a4e2-6bc6f4fb7b0e'"
      ]
     },
     "execution_count": 17,
     "metadata": {},
     "output_type": "execute_result"
    }
   ],
   "source": [
    "list_ids= list(proper['img_id'])\n",
    "list_ids[3]"
   ]
  },
  {
   "cell_type": "markdown",
   "id": "32b22517",
   "metadata": {
    "papermill": {
     "duration": 0.072165,
     "end_time": "2022-05-06T10:43:24.200321",
     "exception": false,
     "start_time": "2022-05-06T10:43:24.128156",
     "status": "completed"
    },
    "tags": []
   },
   "source": [
    "Moving the subset of images into a unique file"
   ]
  },
  {
   "cell_type": "code",
   "execution_count": null,
   "id": "c5cc6495",
   "metadata": {
    "papermill": {
     "duration": 0.072528,
     "end_time": "2022-05-06T10:43:24.344970",
     "exception": false,
     "start_time": "2022-05-06T10:43:24.272442",
     "status": "completed"
    },
    "tags": []
   },
   "outputs": [],
   "source": [
    "\n"
   ]
  },
  {
   "cell_type": "code",
   "execution_count": 18,
   "id": "601717bd",
   "metadata": {
    "execution": {
     "iopub.execute_input": "2022-05-06T10:43:24.493171Z",
     "iopub.status.busy": "2022-05-06T10:43:24.492464Z",
     "iopub.status.idle": "2022-05-06T10:44:27.826239Z",
     "shell.execute_reply": "2022-05-06T10:44:27.825432Z"
    },
    "papermill": {
     "duration": 63.412682,
     "end_time": "2022-05-06T10:44:27.830093",
     "exception": false,
     "start_time": "2022-05-06T10:43:24.417411",
     "status": "completed"
    },
    "tags": []
   },
   "outputs": [
    {
     "name": "stderr",
     "output_type": "stream",
     "text": [
      "100%|██████████| 10000/10000 [01:03<00:00, 157.92it/s]\n"
     ]
    }
   ],
   "source": [
    "for i in tqdm(list_ids):\n",
    "    c = i+'.jpg'\n",
    "    get_image = '/kaggle/input/attempt-13/foid_images_v020/images/' + c\n",
    "        #if os.path.exists(get_image):\n",
    "            #print('i')\n",
    "            #move_image = shutil.move(get_image,'/kaggle/working/image_/'+i)\n",
    "    if not os.path.exists('/kaggle/input/attempt-13/foid_images_v020/images/'+c):\n",
    "            print(\"FAILED\")\n",
    "            break\n",
    "    #if os.path.exists('/kaggle/working/image/'+c):\n",
    "           #print(\"CREATED\")\n",
    "           #break\n",
    "    else:\n",
    "        move_image = shutil.copy(get_image,'/kaggle/working/image/')"
   ]
  },
  {
   "cell_type": "code",
   "execution_count": 19,
   "id": "e460f066",
   "metadata": {
    "execution": {
     "iopub.execute_input": "2022-05-06T10:44:28.345136Z",
     "iopub.status.busy": "2022-05-06T10:44:28.344868Z",
     "iopub.status.idle": "2022-05-06T10:44:28.348675Z",
     "shell.execute_reply": "2022-05-06T10:44:28.347903Z"
    },
    "papermill": {
     "duration": 0.256916,
     "end_time": "2022-05-06T10:44:28.350663",
     "exception": false,
     "start_time": "2022-05-06T10:44:28.093747",
     "status": "completed"
    },
    "tags": []
   },
   "outputs": [],
   "source": [
    "proper_sub= proper.head(1000)\n"
   ]
  },
  {
   "cell_type": "markdown",
   "id": "e73c516b",
   "metadata": {
    "papermill": {
     "duration": 0.251198,
     "end_time": "2022-05-06T10:44:28.850057",
     "exception": false,
     "start_time": "2022-05-06T10:44:28.598859",
     "status": "completed"
    },
    "tags": []
   },
   "source": [
    "# Here I have created the training numpy array for the , ram issues have me to downsize to 1000 images"
   ]
  },
  {
   "cell_type": "code",
   "execution_count": 20,
   "id": "77c615a5",
   "metadata": {
    "execution": {
     "iopub.execute_input": "2022-05-06T10:44:29.349889Z",
     "iopub.status.busy": "2022-05-06T10:44:29.349637Z",
     "iopub.status.idle": "2022-05-06T10:44:29.373338Z",
     "shell.execute_reply": "2022-05-06T10:44:29.372554Z"
    },
    "papermill": {
     "duration": 0.274285,
     "end_time": "2022-05-06T10:44:29.375173",
     "exception": false,
     "start_time": "2022-05-06T10:44:29.100888",
     "status": "completed"
    },
    "tags": []
   },
   "outputs": [
    {
     "data": {
      "text/html": [
       "<div>\n",
       "<style scoped>\n",
       "    .dataframe tbody tr th:only-of-type {\n",
       "        vertical-align: middle;\n",
       "    }\n",
       "\n",
       "    .dataframe tbody tr th {\n",
       "        vertical-align: top;\n",
       "    }\n",
       "\n",
       "    .dataframe thead th {\n",
       "        text-align: right;\n",
       "    }\n",
       "</style>\n",
       "<table border=\"1\" class=\"dataframe\">\n",
       "  <thead>\n",
       "    <tr style=\"text-align: right;\">\n",
       "      <th></th>\n",
       "      <th>img_id</th>\n",
       "      <th>HUMAN</th>\n",
       "      <th>NoF</th>\n",
       "      <th>YFT</th>\n",
       "      <th>ALB</th>\n",
       "      <th>OTH</th>\n",
       "      <th>BILL</th>\n",
       "      <th>DOL</th>\n",
       "      <th>BET</th>\n",
       "      <th>SKJ</th>\n",
       "      <th>LAG</th>\n",
       "      <th>SHARK</th>\n",
       "      <th>OIL</th>\n",
       "      <th>PLS</th>\n",
       "      <th>TUNA</th>\n",
       "      <th>WATER</th>\n",
       "    </tr>\n",
       "  </thead>\n",
       "  <tbody>\n",
       "    <tr>\n",
       "      <th>0</th>\n",
       "      <td>dabf988c-db28-11ea-b646-f751770c2667</td>\n",
       "      <td>1.0</td>\n",
       "      <td>0.0</td>\n",
       "      <td>0.0</td>\n",
       "      <td>1.0</td>\n",
       "      <td>0.0</td>\n",
       "      <td>0.0</td>\n",
       "      <td>0.0</td>\n",
       "      <td>0.0</td>\n",
       "      <td>0.0</td>\n",
       "      <td>0.0</td>\n",
       "      <td>0.0</td>\n",
       "      <td>0.0</td>\n",
       "      <td>0.0</td>\n",
       "      <td>0.0</td>\n",
       "      <td>0.0</td>\n",
       "    </tr>\n",
       "    <tr>\n",
       "      <th>1</th>\n",
       "      <td>da4cbfa6-db28-11ea-b466-bb5f9e1c58d1</td>\n",
       "      <td>1.0</td>\n",
       "      <td>0.0</td>\n",
       "      <td>0.0</td>\n",
       "      <td>1.0</td>\n",
       "      <td>0.0</td>\n",
       "      <td>0.0</td>\n",
       "      <td>0.0</td>\n",
       "      <td>0.0</td>\n",
       "      <td>0.0</td>\n",
       "      <td>0.0</td>\n",
       "      <td>0.0</td>\n",
       "      <td>0.0</td>\n",
       "      <td>0.0</td>\n",
       "      <td>0.0</td>\n",
       "      <td>0.0</td>\n",
       "    </tr>\n",
       "    <tr>\n",
       "      <th>2</th>\n",
       "      <td>94d2518e-23f0-11e9-a8ae-97372c179db9</td>\n",
       "      <td>1.0</td>\n",
       "      <td>0.0</td>\n",
       "      <td>0.0</td>\n",
       "      <td>0.0</td>\n",
       "      <td>0.0</td>\n",
       "      <td>0.0</td>\n",
       "      <td>0.0</td>\n",
       "      <td>1.0</td>\n",
       "      <td>0.0</td>\n",
       "      <td>0.0</td>\n",
       "      <td>0.0</td>\n",
       "      <td>0.0</td>\n",
       "      <td>0.0</td>\n",
       "      <td>0.0</td>\n",
       "      <td>0.0</td>\n",
       "    </tr>\n",
       "    <tr>\n",
       "      <th>3</th>\n",
       "      <td>da97f94e-db28-11ea-a4e2-6bc6f4fb7b0e</td>\n",
       "      <td>1.0</td>\n",
       "      <td>0.0</td>\n",
       "      <td>0.0</td>\n",
       "      <td>1.0</td>\n",
       "      <td>0.0</td>\n",
       "      <td>0.0</td>\n",
       "      <td>0.0</td>\n",
       "      <td>0.0</td>\n",
       "      <td>1.0</td>\n",
       "      <td>0.0</td>\n",
       "      <td>0.0</td>\n",
       "      <td>0.0</td>\n",
       "      <td>0.0</td>\n",
       "      <td>0.0</td>\n",
       "      <td>0.0</td>\n",
       "    </tr>\n",
       "    <tr>\n",
       "      <th>4</th>\n",
       "      <td>dad1c426-db28-11ea-bb6b-3f63cdd14d9d</td>\n",
       "      <td>1.0</td>\n",
       "      <td>0.0</td>\n",
       "      <td>1.0</td>\n",
       "      <td>0.0</td>\n",
       "      <td>0.0</td>\n",
       "      <td>0.0</td>\n",
       "      <td>0.0</td>\n",
       "      <td>0.0</td>\n",
       "      <td>0.0</td>\n",
       "      <td>0.0</td>\n",
       "      <td>0.0</td>\n",
       "      <td>0.0</td>\n",
       "      <td>0.0</td>\n",
       "      <td>0.0</td>\n",
       "      <td>0.0</td>\n",
       "    </tr>\n",
       "  </tbody>\n",
       "</table>\n",
       "</div>"
      ],
      "text/plain": [
       "                                 img_id  HUMAN  NoF  YFT  ALB  OTH  BILL  DOL  \\\n",
       "0  dabf988c-db28-11ea-b646-f751770c2667    1.0  0.0  0.0  1.0  0.0   0.0  0.0   \n",
       "1  da4cbfa6-db28-11ea-b466-bb5f9e1c58d1    1.0  0.0  0.0  1.0  0.0   0.0  0.0   \n",
       "2  94d2518e-23f0-11e9-a8ae-97372c179db9    1.0  0.0  0.0  0.0  0.0   0.0  0.0   \n",
       "3  da97f94e-db28-11ea-a4e2-6bc6f4fb7b0e    1.0  0.0  0.0  1.0  0.0   0.0  0.0   \n",
       "4  dad1c426-db28-11ea-bb6b-3f63cdd14d9d    1.0  0.0  1.0  0.0  0.0   0.0  0.0   \n",
       "\n",
       "   BET  SKJ  LAG  SHARK  OIL  PLS  TUNA  WATER  \n",
       "0  0.0  0.0  0.0    0.0  0.0  0.0   0.0    0.0  \n",
       "1  0.0  0.0  0.0    0.0  0.0  0.0   0.0    0.0  \n",
       "2  1.0  0.0  0.0    0.0  0.0  0.0   0.0    0.0  \n",
       "3  0.0  1.0  0.0    0.0  0.0  0.0   0.0    0.0  \n",
       "4  0.0  0.0  0.0    0.0  0.0  0.0   0.0    0.0  "
      ]
     },
     "execution_count": 20,
     "metadata": {},
     "output_type": "execute_result"
    }
   ],
   "source": [
    "proper_sub.head()"
   ]
  },
  {
   "cell_type": "code",
   "execution_count": null,
   "id": "62371f52",
   "metadata": {
    "papermill": {
     "duration": 0.248729,
     "end_time": "2022-05-06T10:44:29.890565",
     "exception": false,
     "start_time": "2022-05-06T10:44:29.641836",
     "status": "completed"
    },
    "tags": []
   },
   "outputs": [],
   "source": []
  },
  {
   "cell_type": "code",
   "execution_count": null,
   "id": "55c9e81c",
   "metadata": {
    "papermill": {
     "duration": 0.248778,
     "end_time": "2022-05-06T10:44:30.386840",
     "exception": false,
     "start_time": "2022-05-06T10:44:30.138062",
     "status": "completed"
    },
    "tags": []
   },
   "outputs": [],
   "source": []
  },
  {
   "cell_type": "code",
   "execution_count": 21,
   "id": "59567039",
   "metadata": {
    "execution": {
     "iopub.execute_input": "2022-05-06T10:44:30.908989Z",
     "iopub.status.busy": "2022-05-06T10:44:30.908731Z",
     "iopub.status.idle": "2022-05-06T10:44:46.658630Z",
     "shell.execute_reply": "2022-05-06T10:44:46.657902Z"
    },
    "papermill": {
     "duration": 16.025806,
     "end_time": "2022-05-06T10:44:46.660660",
     "exception": false,
     "start_time": "2022-05-06T10:44:30.634854",
     "status": "completed"
    },
    "tags": []
   },
   "outputs": [
    {
     "name": "stderr",
     "output_type": "stream",
     "text": [
      "100%|██████████| 1000/1000 [00:15<00:00, 65.91it/s]\n"
     ]
    }
   ],
   "source": [
    "train_image = []\n",
    "for i in tqdm(range(proper_sub.shape[0])):\n",
    "    img = image.load_img('./image/'+proper['img_id'][i]+'.jpg',target_size=(400,400,3))\n",
    "    img = image.img_to_array(img)\n",
    "    img = img/255\n",
    "    train_image.append(img)\n",
    "X = np.array(train_image)"
   ]
  },
  {
   "cell_type": "code",
   "execution_count": 22,
   "id": "bf80204b",
   "metadata": {
    "execution": {
     "iopub.execute_input": "2022-05-06T10:44:47.612076Z",
     "iopub.status.busy": "2022-05-06T10:44:47.611768Z",
     "iopub.status.idle": "2022-05-06T10:44:47.617318Z",
     "shell.execute_reply": "2022-05-06T10:44:47.616606Z"
    },
    "papermill": {
     "duration": 0.535865,
     "end_time": "2022-05-06T10:44:47.623841",
     "exception": false,
     "start_time": "2022-05-06T10:44:47.087976",
     "status": "completed"
    },
    "tags": []
   },
   "outputs": [
    {
     "data": {
      "text/plain": [
       "(1000, 400, 400, 3)"
      ]
     },
     "execution_count": 22,
     "metadata": {},
     "output_type": "execute_result"
    }
   ],
   "source": [
    "X.shape"
   ]
  },
  {
   "cell_type": "markdown",
   "id": "193a1073",
   "metadata": {
    "papermill": {
     "duration": 0.322213,
     "end_time": "2022-05-06T10:44:48.462617",
     "exception": false,
     "start_time": "2022-05-06T10:44:48.140404",
     "status": "completed"
    },
    "tags": []
   },
   "source": [
    " for j in class_names:\n",
    "        if j in tags:\n",
    "            df_sub.at[i, j] =1\n",
    "        else:\n",
    "            df_sub.at[i, j] =0"
   ]
  },
  {
   "cell_type": "code",
   "execution_count": 23,
   "id": "6b090ef5",
   "metadata": {
    "execution": {
     "iopub.execute_input": "2022-05-06T10:44:49.110974Z",
     "iopub.status.busy": "2022-05-06T10:44:49.110593Z",
     "iopub.status.idle": "2022-05-06T10:44:49.391969Z",
     "shell.execute_reply": "2022-05-06T10:44:49.391203Z"
    },
    "papermill": {
     "duration": 0.611653,
     "end_time": "2022-05-06T10:44:49.395456",
     "exception": false,
     "start_time": "2022-05-06T10:44:48.783803",
     "status": "completed"
    },
    "tags": []
   },
   "outputs": [
    {
     "data": {
      "text/plain": [
       "<matplotlib.image.AxesImage at 0x7f8a927fd9d0>"
      ]
     },
     "execution_count": 23,
     "metadata": {},
     "output_type": "execute_result"
    },
    {
     "data": {
      "image/png": "[encoded data removed]",
      "text/plain": [
       "<Figure size 432x288 with 1 Axes>"
      ]
     },
     "metadata": {
      "needs_background": "light"
     },
     "output_type": "display_data"
    }
   ],
   "source": [
    "plt.imshow(X[2])"
   ]
  },
  {
   "cell_type": "code",
   "execution_count": 24,
   "id": "9225889f",
   "metadata": {
    "execution": {
     "iopub.execute_input": "2022-05-06T10:44:50.060945Z",
     "iopub.status.busy": "2022-05-06T10:44:50.060225Z",
     "iopub.status.idle": "2022-05-06T10:44:50.068405Z",
     "shell.execute_reply": "2022-05-06T10:44:50.067548Z"
    },
    "papermill": {
     "duration": 0.341287,
     "end_time": "2022-05-06T10:44:50.070339",
     "exception": false,
     "start_time": "2022-05-06T10:44:49.729052",
     "status": "completed"
    },
    "tags": []
   },
   "outputs": [
    {
     "data": {
      "text/plain": [
       "1.0"
      ]
     },
     "execution_count": 24,
     "metadata": {},
     "output_type": "execute_result"
    }
   ],
   "source": [
    "proper['HUMAN'][2]"
   ]
  },
  {
   "cell_type": "markdown",
   "id": "1514a6b0",
   "metadata": {
    "papermill": {
     "duration": 0.299619,
     "end_time": "2022-05-06T10:44:50.667474",
     "exception": false,
     "start_time": "2022-05-06T10:44:50.367855",
     "status": "completed"
    },
    "tags": []
   },
   "source": [
    "# Creating the Y numpy array"
   ]
  },
  {
   "cell_type": "code",
   "execution_count": 25,
   "id": "2bc9f266",
   "metadata": {
    "execution": {
     "iopub.execute_input": "2022-05-06T10:44:51.266761Z",
     "iopub.status.busy": "2022-05-06T10:44:51.266079Z",
     "iopub.status.idle": "2022-05-06T10:44:51.274303Z",
     "shell.execute_reply": "2022-05-06T10:44:51.273645Z"
    },
    "papermill": {
     "duration": 0.310651,
     "end_time": "2022-05-06T10:44:51.275972",
     "exception": false,
     "start_time": "2022-05-06T10:44:50.965321",
     "status": "completed"
    },
    "tags": []
   },
   "outputs": [
    {
     "data": {
      "text/plain": [
       "(1000, 15)"
      ]
     },
     "execution_count": 25,
     "metadata": {},
     "output_type": "execute_result"
    }
   ],
   "source": [
    "proper_sub= proper.head(1000)\n",
    "\n",
    "y = np.array(proper_sub.drop(['img_id'],axis=1))\n",
    "y.shape"
   ]
  },
  {
   "cell_type": "markdown",
   "id": "97f24126",
   "metadata": {
    "papermill": {
     "duration": 0.311323,
     "end_time": "2022-05-06T10:44:51.937133",
     "exception": false,
     "start_time": "2022-05-06T10:44:51.625810",
     "status": "completed"
    },
    "tags": []
   },
   "source": [
    "# Here I split the data into each of its part"
   ]
  },
  {
   "cell_type": "code",
   "execution_count": 26,
   "id": "f6aa0059",
   "metadata": {
    "execution": {
     "iopub.execute_input": "2022-05-06T10:44:52.537734Z",
     "iopub.status.busy": "2022-05-06T10:44:52.537469Z",
     "iopub.status.idle": "2022-05-06T10:44:53.117288Z",
     "shell.execute_reply": "2022-05-06T10:44:53.116500Z"
    },
    "papermill": {
     "duration": 0.881949,
     "end_time": "2022-05-06T10:44:53.119540",
     "exception": false,
     "start_time": "2022-05-06T10:44:52.237591",
     "status": "completed"
    },
    "tags": []
   },
   "outputs": [],
   "source": [
    "X_train, X_test, y_train, y_test = train_test_split(X, y, random_state=42, test_size=0.1)"
   ]
  },
  {
   "cell_type": "markdown",
   "id": "4e8538c8",
   "metadata": {
    "papermill": {
     "duration": 0.301794,
     "end_time": "2022-05-06T10:44:53.734552",
     "exception": false,
     "start_time": "2022-05-06T10:44:53.432758",
     "status": "completed"
    },
    "tags": []
   },
   "source": [
    "# "
   ]
  },
  {
   "cell_type": "markdown",
   "id": "cf3fb161",
   "metadata": {
    "papermill": {
     "duration": 0.299021,
     "end_time": "2022-05-06T10:44:54.334353",
     "exception": false,
     "start_time": "2022-05-06T10:44:54.035332",
     "status": "completed"
    },
    "tags": []
   },
   "source": [
    "# Creating the Model and Summary"
   ]
  },
  {
   "cell_type": "markdown",
   "id": "1eaa5f46",
   "metadata": {
    "execution": {
     "iopub.execute_input": "2022-05-04T18:01:17.383768Z",
     "iopub.status.busy": "2022-05-04T18:01:17.382886Z",
     "iopub.status.idle": "2022-05-04T18:01:19.75422Z",
     "shell.execute_reply": "2022-05-04T18:01:19.753404Z",
     "shell.execute_reply.started": "2022-05-04T18:01:17.383728Z"
    },
    "papermill": {
     "duration": 0.347767,
     "end_time": "2022-05-06T10:44:55.211354",
     "exception": false,
     "start_time": "2022-05-06T10:44:54.863587",
     "status": "completed"
    },
    "tags": []
   },
   "source": [
    "model = Sequential()\n",
    "model.add(Conv2D(filters=16, kernel_size=(5, 5), activation=\"relu\", input_shape=(400,400,3)))\n",
    "model.add(MaxPooling2D(pool_size=(2, 2)))\n",
    "model.add(Dropout(0.25))\n",
    "model.add(Conv2D(filters=32, kernel_size=(5, 5), activation='relu'))\n",
    "model.add(MaxPooling2D(pool_size=(2, 2)))\n",
    "model.add(Dropout(0.25))\n",
    "model.add(Conv2D(filters=64, kernel_size=(5, 5), activation=\"relu\"))\n",
    "model.add(MaxPooling2D(pool_size=(2, 2)))\n",
    "model.add(Dropout(0.25))\n",
    "model.add(Conv2D(filters=64, kernel_size=(5, 5), activation='relu'))\n",
    "model.add(MaxPooling2D(pool_size=(2, 2)))\n",
    "model.add(Dropout(0.25))\n",
    "model.add(Flatten())\n",
    "model.add(Dense(128, activation='relu'))\n",
    "model.add(Dropout(0.5))\n",
    "model.add(Dense(64, activation='relu'))\n",
    "model.add(Dropout(0.5))\n",
    "model.add(Dense(15, activation='sigmoid'))"
   ]
  },
  {
   "cell_type": "code",
   "execution_count": null,
   "id": "d0287adf",
   "metadata": {
    "papermill": {
     "duration": 0.302653,
     "end_time": "2022-05-06T10:44:55.814772",
     "exception": false,
     "start_time": "2022-05-06T10:44:55.512119",
     "status": "completed"
    },
    "tags": []
   },
   "outputs": [],
   "source": []
  },
  {
   "cell_type": "code",
   "execution_count": 27,
   "id": "45008789",
   "metadata": {
    "execution": {
     "iopub.execute_input": "2022-05-06T10:44:56.424008Z",
     "iopub.status.busy": "2022-05-06T10:44:56.423764Z",
     "iopub.status.idle": "2022-05-06T10:45:04.025520Z",
     "shell.execute_reply": "2022-05-06T10:45:04.024797Z"
    },
    "papermill": {
     "duration": 7.911652,
     "end_time": "2022-05-06T10:45:04.027718",
     "exception": false,
     "start_time": "2022-05-06T10:44:56.116066",
     "status": "completed"
    },
    "tags": []
   },
   "outputs": [
    {
     "name": "stderr",
     "output_type": "stream",
     "text": [
      "2022-05-06 10:44:56.523008: I tensorflow/stream_executor/cuda/cuda_gpu_executor.cc:937] successful NUMA node read from SysFS had negative value (-1), but there must be at least one NUMA node, so returning NUMA node zero\n",
      "2022-05-06 10:44:56.637889: I tensorflow/stream_executor/cuda/cuda_gpu_executor.cc:937] successful NUMA node read from SysFS had negative value (-1), but there must be at least one NUMA node, so returning NUMA node zero\n",
      "2022-05-06 10:44:56.638743: I tensorflow/stream_executor/cuda/cuda_gpu_executor.cc:937] successful NUMA node read from SysFS had negative value (-1), but there must be at least one NUMA node, so returning NUMA node zero\n",
      "2022-05-06 10:44:56.640290: I tensorflow/core/platform/cpu_feature_guard.cc:142] This TensorFlow binary is optimized with oneAPI Deep Neural Network Library (oneDNN) to use the following CPU instructions in performance-critical operations:  AVX2 AVX512F FMA\n",
      "To enable them in other operations, rebuild TensorFlow with the appropriate compiler flags.\n",
      "2022-05-06 10:44:56.640808: I tensorflow/stream_executor/cuda/cuda_gpu_executor.cc:937] successful NUMA node read from SysFS had negative value (-1), but there must be at least one NUMA node, so returning NUMA node zero\n",
      "2022-05-06 10:44:56.641756: I tensorflow/stream_executor/cuda/cuda_gpu_executor.cc:937] successful NUMA node read from SysFS had negative value (-1), but there must be at least one NUMA node, so returning NUMA node zero\n",
      "2022-05-06 10:44:56.642652: I tensorflow/stream_executor/cuda/cuda_gpu_executor.cc:937] successful NUMA node read from SysFS had negative value (-1), but there must be at least one NUMA node, so returning NUMA node zero\n",
      "2022-05-06 10:44:58.528595: I tensorflow/stream_executor/cuda/cuda_gpu_executor.cc:937] successful NUMA node read from SysFS had negative value (-1), but there must be at least one NUMA node, so returning NUMA node zero\n",
      "2022-05-06 10:44:58.529431: I tensorflow/stream_executor/cuda/cuda_gpu_executor.cc:937] successful NUMA node read from SysFS had negative value (-1), but there must be at least one NUMA node, so returning NUMA node zero\n",
      "2022-05-06 10:44:58.530105: I tensorflow/stream_executor/cuda/cuda_gpu_executor.cc:937] successful NUMA node read from SysFS had negative value (-1), but there must be at least one NUMA node, so returning NUMA node zero\n",
      "2022-05-06 10:44:58.531892: I tensorflow/core/common_runtime/gpu/gpu_device.cc:1510] Created device /job:localhost/replica:0/task:0/device:GPU:0 with 15403 MB memory:  -> device: 0, name: Tesla P100-PCIE-16GB, pci bus id: 0000:00:04.0, compute capability: 6.0\n"
     ]
    },
    {
     "name": "stdout",
     "output_type": "stream",
     "text": [
      "Downloading data from https://storage.googleapis.com/tensorflow/keras-applications/mobilenet_v2/mobilenet_v2_weights_tf_dim_ordering_tf_kernels_1.0_224_no_top.h5\n",
      "9412608/9406464 [==============================] - 0s 0us/step\n",
      "9420800/9406464 [==============================] - 0s 0us/step\n"
     ]
    }
   ],
   "source": [
    "from tensorflow.keras.initializers import HeNormal\n",
    "from tensorflow.keras.layers import Dense, GlobalAveragePooling2D\n",
    "from tensorflow.keras.models import Model\n",
    "#model2 = Sequential()\n",
    "#model2.add()\n",
    "\n",
    "base_model = MobileNetV2(input_shape = (400, 400, 3), include_top = False, weights = \"imagenet\")\n",
    "x = base_model.output\n",
    "x = GlobalAveragePooling2D()(x)\n",
    "# ADD A DENSE LAYER WITH 1024 neurons\n",
    "x = Dense(1024, activation='relu', kernel_initializer=HeNormal())(x)\n",
    "# ADD AN OUTPUT LAYER FOR BINARY CLASSIFICATION\n",
    "predictions = Dense(15, activation='sigmoid')(x)\n",
    "model2 = Model(inputs=base_model.input, outputs=predictions)\n"
   ]
  },
  {
   "cell_type": "code",
   "execution_count": 28,
   "id": "18d6544c",
   "metadata": {
    "execution": {
     "iopub.execute_input": "2022-05-06T10:45:04.631421Z",
     "iopub.status.busy": "2022-05-06T10:45:04.630850Z",
     "iopub.status.idle": "2022-05-06T10:45:04.636178Z",
     "shell.execute_reply": "2022-05-06T10:45:04.635528Z"
    },
    "papermill": {
     "duration": 0.309527,
     "end_time": "2022-05-06T10:45:04.638145",
     "exception": false,
     "start_time": "2022-05-06T10:45:04.328618",
     "status": "completed"
    },
    "tags": []
   },
   "outputs": [
    {
     "data": {
      "text/plain": [
       "<bound method Model.summary of <keras.engine.functional.Functional object at 0x7f8a14717410>>"
      ]
     },
     "execution_count": 28,
     "metadata": {},
     "output_type": "execute_result"
    }
   ],
   "source": [
    "model2.summary"
   ]
  },
  {
   "cell_type": "markdown",
   "id": "ad440b21",
   "metadata": {
    "execution": {
     "iopub.execute_input": "2022-05-04T18:01:22.020254Z",
     "iopub.status.busy": "2022-05-04T18:01:22.019501Z",
     "iopub.status.idle": "2022-05-04T18:01:22.972873Z",
     "shell.execute_reply": "2022-05-04T18:01:22.972027Z",
     "shell.execute_reply.started": "2022-05-04T18:01:22.020215Z"
    },
    "papermill": {
     "duration": 0.30646,
     "end_time": "2022-05-06T10:45:05.242259",
     "exception": false,
     "start_time": "2022-05-06T10:45:04.935799",
     "status": "completed"
    },
    "tags": []
   },
   "source": [
    "from keras.utils.vis_utils import plot_model\n",
    "model.summary()\n",
    "plot_model(model, to_file='model_plot.png', show_shapes=True, show_layer_names=True)"
   ]
  },
  {
   "cell_type": "markdown",
   "id": "0d431435",
   "metadata": {
    "papermill": {
     "duration": 0.40043,
     "end_time": "2022-05-06T10:45:06.078368",
     "exception": false,
     "start_time": "2022-05-06T10:45:05.677938",
     "status": "completed"
    },
    "tags": []
   },
   "source": [
    "# Compiling and fitting the Model"
   ]
  },
  {
   "cell_type": "code",
   "execution_count": 29,
   "id": "4c63e15c",
   "metadata": {
    "execution": {
     "iopub.execute_input": "2022-05-06T10:45:06.682782Z",
     "iopub.status.busy": "2022-05-06T10:45:06.682496Z",
     "iopub.status.idle": "2022-05-06T10:45:06.685980Z",
     "shell.execute_reply": "2022-05-06T10:45:06.685309Z"
    },
    "papermill": {
     "duration": 0.307608,
     "end_time": "2022-05-06T10:45:06.687711",
     "exception": false,
     "start_time": "2022-05-06T10:45:06.380103",
     "status": "completed"
    },
    "tags": []
   },
   "outputs": [],
   "source": [
    "#freezing layers attempt 1.0\n",
    "#accuracy -> 0\n",
    "#decision not to freeze layers\n",
    "\n",
    "#for layer in model2.layers[:172]:\n",
    "       #layer.trainable = False\n",
    "#for layer in model2.layers[172:]:\n",
    "       #layer.trainable = True"
   ]
  },
  {
   "cell_type": "code",
   "execution_count": 30,
   "id": "9afa9915",
   "metadata": {
    "execution": {
     "iopub.execute_input": "2022-05-06T10:45:07.294635Z",
     "iopub.status.busy": "2022-05-06T10:45:07.294388Z",
     "iopub.status.idle": "2022-05-06T10:45:07.310944Z",
     "shell.execute_reply": "2022-05-06T10:45:07.310272Z"
    },
    "papermill": {
     "duration": 0.325807,
     "end_time": "2022-05-06T10:45:07.313084",
     "exception": false,
     "start_time": "2022-05-06T10:45:06.987277",
     "status": "completed"
    },
    "tags": []
   },
   "outputs": [],
   "source": [
    "from tensorflow.keras.optimizers import SGD\n",
    "#model.compile(optimizer='adam', loss='binary_crossentropy', metrics=['accuracy'])\n",
    "#model.compile(optimizer='adam', loss='binary_crossentropy', metrics=['accuracy'])\n",
    "model2.compile(optimizer=SGD(learning_rate=0.0001, momentum=0.9), metrics=['accuracy'], \n",
    "              loss='binary_crossentropy')\n",
    "#restore if failure\n",
    "#model2.compile(optimizer='adam', loss='binary_crossentropy', metrics=['accuracy'])"
   ]
  },
  {
   "cell_type": "code",
   "execution_count": 31,
   "id": "15f6cad5",
   "metadata": {
    "execution": {
     "iopub.execute_input": "2022-05-06T10:45:07.918856Z",
     "iopub.status.busy": "2022-05-06T10:45:07.918377Z",
     "iopub.status.idle": "2022-05-06T10:45:07.922245Z",
     "shell.execute_reply": "2022-05-06T10:45:07.921525Z"
    },
    "papermill": {
     "duration": 0.311732,
     "end_time": "2022-05-06T10:45:07.923863",
     "exception": false,
     "start_time": "2022-05-06T10:45:07.612131",
     "status": "completed"
    },
    "tags": []
   },
   "outputs": [],
   "source": [
    "es = EarlyStopping(patience=3, restore_best_weights=True, monitor='val_accuracy') # Early stopping"
   ]
  },
  {
   "cell_type": "markdown",
   "id": "ba5c6006",
   "metadata": {
    "execution": {
     "iopub.execute_input": "2022-05-04T18:02:13.507916Z",
     "iopub.status.busy": "2022-05-04T18:02:13.507638Z",
     "iopub.status.idle": "2022-05-04T18:03:38.973218Z",
     "shell.execute_reply": "2022-05-04T18:03:38.972337Z",
     "shell.execute_reply.started": "2022-05-04T18:02:13.507885Z"
    },
    "papermill": {
     "duration": 0.299318,
     "end_time": "2022-05-06T10:45:08.528960",
     "exception": false,
     "start_time": "2022-05-06T10:45:08.229642",
     "status": "completed"
    },
    "tags": []
   },
   "source": [
    "fitted_model_0 = model.fit(X_train, y_train, batch_size=64, \n",
    "                            epochs=20, validation_split=0.2, \n",
    "                            callbacks=[es])"
   ]
  },
  {
   "cell_type": "code",
   "execution_count": 32,
   "id": "73a1d16d",
   "metadata": {
    "execution": {
     "iopub.execute_input": "2022-05-06T10:45:09.132865Z",
     "iopub.status.busy": "2022-05-06T10:45:09.132615Z",
     "iopub.status.idle": "2022-05-06T10:49:25.194792Z",
     "shell.execute_reply": "2022-05-06T10:49:25.194065Z"
    },
    "papermill": {
     "duration": 256.367482,
     "end_time": "2022-05-06T10:49:25.197169",
     "exception": false,
     "start_time": "2022-05-06T10:45:08.829687",
     "status": "completed"
    },
    "tags": []
   },
   "outputs": [
    {
     "name": "stderr",
     "output_type": "stream",
     "text": [
      "2022-05-06 10:45:09.137952: W tensorflow/core/framework/cpu_allocator_impl.cc:80] Allocation of 1382400000 exceeds 10% of free system memory.\n",
      "2022-05-06 10:45:10.612963: W tensorflow/core/framework/cpu_allocator_impl.cc:80] Allocation of 1382400000 exceeds 10% of free system memory.\n",
      "2022-05-06 10:45:11.624391: I tensorflow/compiler/mlir/mlir_graph_optimization_pass.cc:185] None of the MLIR Optimization Passes are enabled (registered 2)\n"
     ]
    },
    {
     "name": "stdout",
     "output_type": "stream",
     "text": [
      "Epoch 1/20\n"
     ]
    },
    {
     "name": "stderr",
     "output_type": "stream",
     "text": [
      "2022-05-06 10:45:15.114959: W tensorflow/core/framework/cpu_allocator_impl.cc:80] Allocation of 122880000 exceeds 10% of free system memory.\n",
      "2022-05-06 10:45:15.115669: W tensorflow/core/framework/cpu_allocator_impl.cc:80] Allocation of 122880000 exceeds 10% of free system memory.\n",
      "2022-05-06 10:45:15.272708: W tensorflow/core/framework/cpu_allocator_impl.cc:80] Allocation of 122880000 exceeds 10% of free system memory.\n",
      "2022-05-06 10:45:16.074122: I tensorflow/stream_executor/cuda/cuda_dnn.cc:369] Loaded cuDNN version 8005\n"
     ]
    },
    {
     "name": "stdout",
     "output_type": "stream",
     "text": [
      "12/12 [==============================] - 25s 1s/step - loss: 0.7352 - accuracy: 0.0028 - val_loss: 0.6639 - val_accuracy: 0.0111\n",
      "Epoch 2/20\n",
      "12/12 [==============================] - 12s 996ms/step - loss: 0.7016 - accuracy: 0.0042 - val_loss: 0.6320 - val_accuracy: 0.0111\n",
      "Epoch 3/20\n",
      "12/12 [==============================] - 12s 998ms/step - loss: 0.6595 - accuracy: 0.0042 - val_loss: 0.5988 - val_accuracy: 0.0222\n",
      "Epoch 4/20\n",
      "12/12 [==============================] - 12s 1000ms/step - loss: 0.6189 - accuracy: 0.0125 - val_loss: 0.5676 - val_accuracy: 0.0611\n",
      "Epoch 5/20\n",
      "12/12 [==============================] - 12s 1s/step - loss: 0.5821 - accuracy: 0.0472 - val_loss: 0.5393 - val_accuracy: 0.2278\n",
      "Epoch 6/20\n",
      "12/12 [==============================] - 12s 1s/step - loss: 0.5475 - accuracy: 0.1181 - val_loss: 0.5137 - val_accuracy: 0.3056\n",
      "Epoch 7/20\n",
      "12/12 [==============================] - 12s 987ms/step - loss: 0.5182 - accuracy: 0.2278 - val_loss: 0.4906 - val_accuracy: 0.4389\n",
      "Epoch 8/20\n",
      "12/12 [==============================] - 12s 1s/step - loss: 0.4916 - accuracy: 0.3819 - val_loss: 0.4698 - val_accuracy: 0.5722\n",
      "Epoch 9/20\n",
      "12/12 [==============================] - 12s 1s/step - loss: 0.4676 - accuracy: 0.5375 - val_loss: 0.4511 - val_accuracy: 0.6556\n",
      "Epoch 10/20\n",
      "12/12 [==============================] - 12s 1s/step - loss: 0.4461 - accuracy: 0.6875 - val_loss: 0.4340 - val_accuracy: 0.7278\n",
      "Epoch 11/20\n",
      "12/12 [==============================] - 12s 1s/step - loss: 0.4262 - accuracy: 0.7903 - val_loss: 0.4185 - val_accuracy: 0.7889\n",
      "Epoch 12/20\n",
      "12/12 [==============================] - 12s 999ms/step - loss: 0.4091 - accuracy: 0.8403 - val_loss: 0.4044 - val_accuracy: 0.8278\n",
      "Epoch 13/20\n",
      "12/12 [==============================] - 12s 1s/step - loss: 0.3927 - accuracy: 0.8972 - val_loss: 0.3915 - val_accuracy: 0.8722\n",
      "Epoch 14/20\n",
      "12/12 [==============================] - 12s 996ms/step - loss: 0.3785 - accuracy: 0.9264 - val_loss: 0.3797 - val_accuracy: 0.8722\n",
      "Epoch 15/20\n",
      "12/12 [==============================] - 12s 1s/step - loss: 0.3659 - accuracy: 0.9431 - val_loss: 0.3689 - val_accuracy: 0.9111\n",
      "Epoch 16/20\n",
      "12/12 [==============================] - 12s 997ms/step - loss: 0.3530 - accuracy: 0.9583 - val_loss: 0.3590 - val_accuracy: 0.9111\n",
      "Epoch 17/20\n",
      "12/12 [==============================] - 12s 1s/step - loss: 0.3427 - accuracy: 0.9611 - val_loss: 0.3498 - val_accuracy: 0.9222\n",
      "Epoch 18/20\n",
      "12/12 [==============================] - 12s 990ms/step - loss: 0.3323 - accuracy: 0.9681 - val_loss: 0.3412 - val_accuracy: 0.9278\n",
      "Epoch 19/20\n",
      "12/12 [==============================] - 12s 1s/step - loss: 0.3233 - accuracy: 0.9667 - val_loss: 0.3334 - val_accuracy: 0.9278\n",
      "Epoch 20/20\n",
      "12/12 [==============================] - 12s 998ms/step - loss: 0.3143 - accuracy: 0.9667 - val_loss: 0.3261 - val_accuracy: 0.9278\n"
     ]
    }
   ],
   "source": [
    "\n",
    "fitted_model= model2.fit(X_train, y_train, batch_size=64, \n",
    "                            epochs=20, validation_split=0.2)\n"
   ]
  },
  {
   "cell_type": "markdown",
   "id": "85d88da3",
   "metadata": {
    "execution": {
     "iopub.execute_input": "2022-05-06T09:11:51.324919Z",
     "iopub.status.busy": "2022-05-06T09:11:51.324655Z",
     "iopub.status.idle": "2022-05-06T09:11:51.329623Z",
     "shell.execute_reply": "2022-05-06T09:11:51.328108Z",
     "shell.execute_reply.started": "2022-05-06T09:11:51.324892Z"
    },
    "papermill": {
     "duration": 0.382156,
     "end_time": "2022-05-06T10:49:25.962405",
     "exception": false,
     "start_time": "2022-05-06T10:49:25.580249",
     "status": "completed"
    },
    "tags": []
   },
   "source": [
    "from keras.callbacks import History, EarlyStopping\n"
   ]
  },
  {
   "cell_type": "markdown",
   "id": "bb7644fd",
   "metadata": {
    "papermill": {
     "duration": 0.381703,
     "end_time": "2022-05-06T10:49:26.727722",
     "exception": false,
     "start_time": "2022-05-06T10:49:26.346019",
     "status": "completed"
    },
    "tags": []
   },
   "source": [
    "# Evaluating the Model\n"
   ]
  },
  {
   "cell_type": "markdown",
   "id": "4137b524",
   "metadata": {
    "execution": {
     "iopub.execute_input": "2022-05-04T14:05:53.392808Z",
     "iopub.status.busy": "2022-05-04T14:05:53.392539Z",
     "iopub.status.idle": "2022-05-04T14:06:08.346639Z",
     "shell.execute_reply": "2022-05-04T14:06:08.345943Z",
     "shell.execute_reply.started": "2022-05-04T14:05:53.392779Z"
    },
    "papermill": {
     "duration": 0.383453,
     "end_time": "2022-05-06T10:49:27.499275",
     "exception": false,
     "start_time": "2022-05-06T10:49:27.115822",
     "status": "completed"
    },
    "tags": []
   },
   "source": [
    "acc = fitted_model_0.history['accuracy']\n",
    "val_acc = fitted_model_0.history['val_accuracy']\n",
    "loss = fitted_model_0.history['loss']\n",
    "val_loss = fitted_model_0.history['val_loss']\n",
    "epochs_range = range(8)\n",
    "\n",
    "plt.figure(figsize=(15, 15))\n",
    "plt.subplot(2, 2, 1)\n",
    "plt.plot(epochs_range, acc, label='Training Accuracy')\n",
    "plt.plot(epochs_range, val_acc, label='Validation Accuracy')\n",
    "plt.legend(loc='lower right')\n",
    "plt.title('Training and Validation Accuracy')\n",
    "\n",
    "plt.subplot(2, 2, 2)\n",
    "plt.plot(epochs_range, loss, label='Training Loss')\n",
    "plt.plot(epochs_range, val_loss, label='Validation Loss')\n",
    "plt.legend(loc='upper right')\n",
    "plt.title('Training and Validation Loss')\n",
    "plt.show()"
   ]
  },
  {
   "cell_type": "code",
   "execution_count": 33,
   "id": "15b43e31",
   "metadata": {
    "execution": {
     "iopub.execute_input": "2022-05-06T10:49:28.332854Z",
     "iopub.status.busy": "2022-05-06T10:49:28.332596Z",
     "iopub.status.idle": "2022-05-06T10:49:28.635485Z",
     "shell.execute_reply": "2022-05-06T10:49:28.634821Z"
    },
    "papermill": {
     "duration": 0.699927,
     "end_time": "2022-05-06T10:49:28.637988",
     "exception": false,
     "start_time": "2022-05-06T10:49:27.938061",
     "status": "completed"
    },
    "tags": []
   },
   "outputs": [
    {
     "data": {
      "image/png": "[encoded data removed]",
      "text/plain": [
       "<Figure size 1080x1080 with 2 Axes>"
      ]
     },
     "metadata": {
      "needs_background": "light"
     },
     "output_type": "display_data"
    }
   ],
   "source": [
    "acc = fitted_model.history['accuracy']\n",
    "val_acc = fitted_model.history['val_accuracy']\n",
    "loss = fitted_model.history['loss']\n",
    "val_loss = fitted_model.history['val_loss']\n",
    "epochs_range = range(20)\n",
    "\n",
    "plt.figure(figsize=(15, 15))\n",
    "plt.subplot(2, 2, 1)\n",
    "plt.plot(epochs_range, acc, label='Training Accuracy')\n",
    "plt.plot(epochs_range, val_acc, label='Validation Accuracy')\n",
    "plt.legend(loc='lower right')\n",
    "plt.title('Training and Validation Accuracy')\n",
    "\n",
    "plt.subplot(2, 2, 2)\n",
    "plt.plot(epochs_range, loss, label='Training Loss')\n",
    "plt.plot(epochs_range, val_loss, label='Validation Loss')\n",
    "plt.legend(loc='upper right')\n",
    "plt.title('Training and Validation Loss')\n",
    "plt.show()"
   ]
  },
  {
   "cell_type": "markdown",
   "id": "a01b43e0",
   "metadata": {
    "papermill": {
     "duration": 0.433455,
     "end_time": "2022-05-06T10:49:29.459348",
     "exception": false,
     "start_time": "2022-05-06T10:49:29.025893",
     "status": "completed"
    },
    "tags": []
   },
   "source": [
    "The model seems has accuracy of 95%, which is very impressive. "
   ]
  },
  {
   "cell_type": "code",
   "execution_count": 34,
   "id": "3fe2bff3",
   "metadata": {
    "execution": {
     "iopub.execute_input": "2022-05-06T10:49:30.445748Z",
     "iopub.status.busy": "2022-05-06T10:49:30.445484Z",
     "iopub.status.idle": "2022-05-06T10:49:30.449315Z",
     "shell.execute_reply": "2022-05-06T10:49:30.448526Z"
    },
    "papermill": {
     "duration": 0.394928,
     "end_time": "2022-05-06T10:49:30.451412",
     "exception": false,
     "start_time": "2022-05-06T10:49:30.056484",
     "status": "completed"
    },
    "tags": []
   },
   "outputs": [],
   "source": [
    "from sklearn.metrics import classification_report,confusion_matrix"
   ]
  },
  {
   "cell_type": "markdown",
   "id": "c5622026",
   "metadata": {
    "execution": {
     "iopub.execute_input": "2022-05-04T13:41:01.199303Z",
     "iopub.status.busy": "2022-05-04T13:41:01.198824Z",
     "iopub.status.idle": "2022-05-04T13:41:01.872245Z",
     "shell.execute_reply": "2022-05-04T13:41:01.871391Z",
     "shell.execute_reply.started": "2022-05-04T13:41:01.199264Z"
    },
    "papermill": {
     "duration": 0.392574,
     "end_time": "2022-05-06T10:49:31.231528",
     "exception": false,
     "start_time": "2022-05-06T10:49:30.838954",
     "status": "completed"
    },
    "tags": []
   },
   "source": [
    "predict_x=model.predict(X_test) \n",
    "classes_x=np.argmax(predict_x,axis=1)"
   ]
  },
  {
   "cell_type": "markdown",
   "id": "23a2c3a2",
   "metadata": {
    "execution": {
     "iopub.execute_input": "2022-05-04T13:41:09.110611Z",
     "iopub.status.busy": "2022-05-04T13:41:09.110305Z",
     "iopub.status.idle": "2022-05-04T13:41:09.119286Z",
     "shell.execute_reply": "2022-05-04T13:41:09.118398Z",
     "shell.execute_reply.started": "2022-05-04T13:41:09.11058Z"
    },
    "papermill": {
     "duration": 0.386866,
     "end_time": "2022-05-06T10:49:32.004922",
     "exception": false,
     "start_time": "2022-05-06T10:49:31.618056",
     "status": "completed"
    },
    "tags": []
   },
   "source": [
    "classes_x"
   ]
  },
  {
   "cell_type": "markdown",
   "id": "0cd9c91f",
   "metadata": {
    "execution": {
     "iopub.execute_input": "2022-05-04T13:41:30.697143Z",
     "iopub.status.busy": "2022-05-04T13:41:30.696572Z",
     "iopub.status.idle": "2022-05-04T13:41:30.723771Z",
     "shell.execute_reply": "2022-05-04T13:41:30.722613Z",
     "shell.execute_reply.started": "2022-05-04T13:41:30.697102Z"
    },
    "papermill": {
     "duration": 0.386998,
     "end_time": "2022-05-06T10:49:32.784878",
     "exception": false,
     "start_time": "2022-05-06T10:49:32.397880",
     "status": "completed"
    },
    "tags": []
   },
   "source": [
    "predictions = classes_x\n",
    "predictions = predictions.reshape(1,-1)[0]\n"
   ]
  },
  {
   "cell_type": "markdown",
   "id": "8719f86b",
   "metadata": {
    "execution": {
     "iopub.execute_input": "2022-05-04T12:18:15.730579Z",
     "iopub.status.busy": "2022-05-04T12:18:15.730081Z",
     "iopub.status.idle": "2022-05-04T12:18:16.071807Z",
     "shell.execute_reply": "2022-05-04T12:18:16.070875Z",
     "shell.execute_reply.started": "2022-05-04T12:18:15.730531Z"
    },
    "jupyter": {
     "outputs_hidden": true
    },
    "papermill": {
     "duration": 0.403761,
     "end_time": "2022-05-06T10:49:33.587881",
     "exception": false,
     "start_time": "2022-05-06T10:49:33.184120",
     "status": "completed"
    },
    "tags": []
   },
   "source": [
    "print(model.evaluate(X_test, y_test))\n",
    "\n"
   ]
  },
  {
   "cell_type": "code",
   "execution_count": 35,
   "id": "2c52958c",
   "metadata": {
    "execution": {
     "iopub.execute_input": "2022-05-06T10:49:34.383507Z",
     "iopub.status.busy": "2022-05-06T10:49:34.383254Z",
     "iopub.status.idle": "2022-05-06T10:49:35.415494Z",
     "shell.execute_reply": "2022-05-06T10:49:35.414763Z"
    },
    "papermill": {
     "duration": 1.424527,
     "end_time": "2022-05-06T10:49:35.417235",
     "exception": false,
     "start_time": "2022-05-06T10:49:33.992708",
     "status": "completed"
    },
    "tags": []
   },
   "outputs": [
    {
     "name": "stdout",
     "output_type": "stream",
     "text": [
      "4/4 [==============================] - 1s 100ms/step - loss: 0.3308 - accuracy: 0.9500\n",
      "[0.3308255672454834, 0.949999988079071]\n"
     ]
    }
   ],
   "source": [
    "print(model2.evaluate(X_test, y_test))"
   ]
  },
  {
   "cell_type": "code",
   "execution_count": 36,
   "id": "24e9ecb4",
   "metadata": {
    "execution": {
     "iopub.execute_input": "2022-05-06T10:49:36.199471Z",
     "iopub.status.busy": "2022-05-06T10:49:36.198952Z",
     "iopub.status.idle": "2022-05-06T10:49:37.080058Z",
     "shell.execute_reply": "2022-05-06T10:49:37.079239Z"
    },
    "papermill": {
     "duration": 1.279344,
     "end_time": "2022-05-06T10:49:37.082528",
     "exception": false,
     "start_time": "2022-05-06T10:49:35.803184",
     "status": "completed"
    },
    "tags": []
   },
   "outputs": [],
   "source": [
    "preds2 = model2.predict(X_test[:10])"
   ]
  },
  {
   "cell_type": "markdown",
   "id": "1cba4c97",
   "metadata": {
    "execution": {
     "iopub.execute_input": "2022-04-29T17:21:34.529883Z",
     "iopub.status.busy": "2022-04-29T17:21:34.529607Z",
     "iopub.status.idle": "2022-04-29T17:21:34.822446Z",
     "shell.execute_reply": "2022-04-29T17:21:34.82165Z",
     "shell.execute_reply.started": "2022-04-29T17:21:34.529852Z"
    },
    "papermill": {
     "duration": 0.38942,
     "end_time": "2022-05-06T10:49:37.865067",
     "exception": false,
     "start_time": "2022-05-06T10:49:37.475647",
     "status": "completed"
    },
    "tags": []
   },
   "source": [
    "preds = model.predict(X_test[:10])"
   ]
  },
  {
   "cell_type": "markdown",
   "id": "3f522146",
   "metadata": {
    "papermill": {
     "duration": 0.395312,
     "end_time": "2022-05-06T10:49:38.668041",
     "exception": false,
     "start_time": "2022-05-06T10:49:38.272729",
     "status": "completed"
    },
    "tags": []
   },
   "source": [
    "# Model Diagnostics"
   ]
  },
  {
   "cell_type": "code",
   "execution_count": 37,
   "id": "64158c88",
   "metadata": {
    "execution": {
     "iopub.execute_input": "2022-05-06T10:49:39.452876Z",
     "iopub.status.busy": "2022-05-06T10:49:39.452489Z",
     "iopub.status.idle": "2022-05-06T10:49:39.459588Z",
     "shell.execute_reply": "2022-05-06T10:49:39.458835Z"
    },
    "papermill": {
     "duration": 0.402994,
     "end_time": "2022-05-06T10:49:39.461820",
     "exception": false,
     "start_time": "2022-05-06T10:49:39.058826",
     "status": "completed"
    },
    "tags": []
   },
   "outputs": [
    {
     "data": {
      "text/plain": [
       "array([[1., 0., 0., 0., 0., 0., 0., 0., 0., 0., 0., 0., 0., 0., 0.],\n",
       "       [1., 0., 0., 0., 0., 0., 0., 0., 0., 0., 0., 0., 0., 0., 0.],\n",
       "       [1., 0., 0., 0., 0., 0., 0., 0., 0., 0., 0., 0., 0., 0., 0.],\n",
       "       [1., 0., 0., 0., 0., 0., 0., 0., 0., 0., 0., 0., 0., 0., 0.],\n",
       "       [1., 0., 0., 0., 0., 0., 0., 0., 0., 0., 0., 0., 0., 0., 0.],\n",
       "       [1., 0., 0., 0., 0., 0., 0., 0., 0., 0., 0., 0., 0., 0., 0.],\n",
       "       [1., 0., 0., 0., 0., 0., 0., 0., 0., 0., 0., 0., 0., 0., 0.],\n",
       "       [1., 0., 1., 0., 0., 0., 0., 0., 0., 0., 0., 0., 0., 0., 0.],\n",
       "       [1., 0., 1., 1., 0., 0., 0., 0., 0., 0., 0., 0., 0., 0., 0.],\n",
       "       [1., 0., 1., 0., 0., 0., 0., 0., 0., 0., 0., 0., 0., 0., 0.]],\n",
       "      dtype=float32)"
      ]
     },
     "execution_count": 37,
     "metadata": {},
     "output_type": "execute_result"
    }
   ],
   "source": [
    "np.round(preds2)"
   ]
  },
  {
   "cell_type": "code",
   "execution_count": 38,
   "id": "df6dbae9",
   "metadata": {
    "execution": {
     "iopub.execute_input": "2022-05-06T10:49:40.275962Z",
     "iopub.status.busy": "2022-05-06T10:49:40.275714Z",
     "iopub.status.idle": "2022-05-06T10:49:40.282665Z",
     "shell.execute_reply": "2022-05-06T10:49:40.281804Z"
    },
    "papermill": {
     "duration": 0.402773,
     "end_time": "2022-05-06T10:49:40.285759",
     "exception": false,
     "start_time": "2022-05-06T10:49:39.882986",
     "status": "completed"
    },
    "tags": []
   },
   "outputs": [
    {
     "data": {
      "text/plain": [
       "array([[1., 0., 0., 0., 0., 0., 0., 0., 0., 0., 0., 0., 0., 0., 0.],\n",
       "       [1., 0., 1., 0., 0., 0., 0., 0., 0., 0., 0., 0., 0., 0., 0.],\n",
       "       [1., 0., 0., 1., 0., 0., 0., 0., 0., 0., 0., 0., 0., 0., 0.],\n",
       "       [1., 0., 0., 1., 0., 0., 0., 0., 1., 0., 0., 0., 0., 0., 0.],\n",
       "       [1., 0., 0., 0., 1., 0., 0., 0., 0., 0., 0., 0., 0., 0., 0.],\n",
       "       [1., 0., 0., 0., 0., 0., 0., 0., 0., 1., 0., 0., 0., 0., 0.],\n",
       "       [1., 0., 0., 1., 0., 0., 0., 0., 0., 0., 0., 0., 0., 0., 0.],\n",
       "       [1., 0., 0., 1., 0., 0., 0., 0., 0., 0., 0., 0., 0., 0., 0.],\n",
       "       [1., 0., 0., 0., 0., 0., 0., 0., 0., 0., 0., 0., 0., 0., 0.],\n",
       "       [1., 0., 0., 0., 0., 0., 0., 0., 0., 0., 0., 0., 0., 0., 0.]])"
      ]
     },
     "execution_count": 38,
     "metadata": {},
     "output_type": "execute_result"
    }
   ],
   "source": [
    "y_test[:10]"
   ]
  },
  {
   "cell_type": "markdown",
   "id": "625026af",
   "metadata": {
    "execution": {
     "iopub.execute_input": "2022-05-04T13:44:04.044809Z",
     "iopub.status.busy": "2022-05-04T13:44:04.044509Z",
     "iopub.status.idle": "2022-05-04T13:44:04.306389Z",
     "shell.execute_reply": "2022-05-04T13:44:04.305437Z",
     "shell.execute_reply.started": "2022-05-04T13:44:04.044774Z"
    },
    "papermill": {
     "duration": 0.398401,
     "end_time": "2022-05-06T10:49:41.339567",
     "exception": false,
     "start_time": "2022-05-06T10:49:40.941166",
     "status": "completed"
    },
    "tags": []
   },
   "source": [
    "plt.imshow(X[2])\n",
    "print(np.round(preds))\n",
    "print(y_test[:10])"
   ]
  },
  {
   "cell_type": "markdown",
   "id": "85d4d406",
   "metadata": {
    "execution": {
     "iopub.execute_input": "2022-05-04T13:44:16.461504Z",
     "iopub.status.busy": "2022-05-04T13:44:16.460969Z",
     "iopub.status.idle": "2022-05-04T13:44:16.714434Z",
     "shell.execute_reply": "2022-05-04T13:44:16.713606Z",
     "shell.execute_reply.started": "2022-05-04T13:44:16.461466Z"
    },
    "papermill": {
     "duration": 0.396045,
     "end_time": "2022-05-06T10:49:42.126020",
     "exception": false,
     "start_time": "2022-05-06T10:49:41.729975",
     "status": "completed"
    },
    "tags": []
   },
   "source": [
    "x= X[2]\n",
    "plt.imshow(X[2])\n",
    "x = np.expand_dims(x, 0)\n",
    "print(x.shape)\n",
    "x = preprocess_input(x)"
   ]
  },
  {
   "cell_type": "markdown",
   "id": "e2fee514",
   "metadata": {
    "execution": {
     "iopub.execute_input": "2022-05-04T13:46:30.03171Z",
     "iopub.status.busy": "2022-05-04T13:46:30.031449Z",
     "iopub.status.idle": "2022-05-04T13:46:30.11756Z",
     "shell.execute_reply": "2022-05-04T13:46:30.116587Z",
     "shell.execute_reply.started": "2022-05-04T13:46:30.031681Z"
    },
    "papermill": {
     "duration": 0.389117,
     "end_time": "2022-05-06T10:49:42.903941",
     "exception": false,
     "start_time": "2022-05-06T10:49:42.514824",
     "status": "completed"
    },
    "tags": []
   },
   "source": [
    "preds_singular = model2.predict(x)\n",
    "print('Predicted class:')\n",
    "preds_singular.shape\n"
   ]
  },
  {
   "cell_type": "code",
   "execution_count": 39,
   "id": "5162f100",
   "metadata": {
    "execution": {
     "iopub.execute_input": "2022-05-06T10:49:43.693289Z",
     "iopub.status.busy": "2022-05-06T10:49:43.692997Z",
     "iopub.status.idle": "2022-05-06T10:49:44.365571Z",
     "shell.execute_reply": "2022-05-06T10:49:44.362692Z"
    },
    "papermill": {
     "duration": 1.077679,
     "end_time": "2022-05-06T10:49:44.368091",
     "exception": false,
     "start_time": "2022-05-06T10:49:43.290412",
     "status": "completed"
    },
    "tags": []
   },
   "outputs": [
    {
     "data": {
      "text/plain": [
       "array([[[  0,   5],\n",
       "        [  0,  95]],\n",
       "\n",
       "       [[ 95,   0],\n",
       "        [  5,   0]],\n",
       "\n",
       "       [[ 56,  23],\n",
       "        [ 14,   7]],\n",
       "\n",
       "       [[ 62,   9],\n",
       "        [ 26,   3]],\n",
       "\n",
       "       [[ 94,   0],\n",
       "        [  6,   0]],\n",
       "\n",
       "       [[ 90,   2],\n",
       "        [  7,   1]],\n",
       "\n",
       "       [[ 95,   0],\n",
       "        [  5,   0]],\n",
       "\n",
       "       [[ 96,   0],\n",
       "        [  4,   0]],\n",
       "\n",
       "       [[ 91,   0],\n",
       "        [  9,   0]],\n",
       "\n",
       "       [[ 95,   1],\n",
       "        [  4,   0]],\n",
       "\n",
       "       [[100,   0],\n",
       "        [  0,   0]],\n",
       "\n",
       "       [[100,   0],\n",
       "        [  0,   0]],\n",
       "\n",
       "       [[100,   0],\n",
       "        [  0,   0]],\n",
       "\n",
       "       [[ 98,   0],\n",
       "        [  2,   0]],\n",
       "\n",
       "       [[100,   0],\n",
       "        [  0,   0]]])"
      ]
     },
     "execution_count": 39,
     "metadata": {},
     "output_type": "execute_result"
    }
   ],
   "source": [
    "from sklearn.metrics import multilabel_confusion_matrix\n",
    "preds = model2.predict(X_test) \n",
    "y_pred = np.round(preds)\n",
    "multilabel_confusion_matrix(y_test, y_pred)"
   ]
  },
  {
   "cell_type": "code",
   "execution_count": 40,
   "id": "46aa9656",
   "metadata": {
    "execution": {
     "iopub.execute_input": "2022-05-06T10:49:45.656909Z",
     "iopub.status.busy": "2022-05-06T10:49:45.656655Z",
     "iopub.status.idle": "2022-05-06T10:49:45.817177Z",
     "shell.execute_reply": "2022-05-06T10:49:45.816432Z"
    },
    "papermill": {
     "duration": 0.788236,
     "end_time": "2022-05-06T10:49:45.819407",
     "exception": false,
     "start_time": "2022-05-06T10:49:45.031171",
     "status": "completed"
    },
    "tags": []
   },
   "outputs": [],
   "source": [
    "import pandas as pd\n",
    "import matplotlib.pyplot as plt\n",
    "import seaborn as sns\n",
    "\n",
    "\n",
    "def print_confusion_matrix(confusion_matrix, axes, class_label, class_names, fontsize=14):\n",
    "\n",
    "    df_cm = pd.DataFrame(\n",
    "        confusion_matrix, index=class_names, columns=class_names,\n",
    "    )\n",
    "\n",
    "    try:\n",
    "        heatmap = sns.heatmap(df_cm, annot=True, fmt=\"d\", cbar=False, ax=axes)\n",
    "    except ValueError:\n",
    "        raise ValueError(\"Confusion matrix values must be integers.\")\n",
    "    heatmap.yaxis.set_ticklabels(heatmap.yaxis.get_ticklabels(), rotation=0, ha='right', fontsize=fontsize)\n",
    "    heatmap.xaxis.set_ticklabels(heatmap.xaxis.get_ticklabels(), rotation=45, ha='right', fontsize=fontsize)\n",
    "    axes.set_ylabel('True label')\n",
    "    axes.set_xlabel('Predicted label')\n",
    "    axes.set_title(\"Class:\" + class_label)"
   ]
  },
  {
   "cell_type": "code",
   "execution_count": 41,
   "id": "68967169",
   "metadata": {
    "execution": {
     "iopub.execute_input": "2022-05-06T10:49:46.599504Z",
     "iopub.status.busy": "2022-05-06T10:49:46.598603Z",
     "iopub.status.idle": "2022-05-06T10:49:49.880732Z",
     "shell.execute_reply": "2022-05-06T10:49:49.879970Z"
    },
    "papermill": {
     "duration": 3.674847,
     "end_time": "2022-05-06T10:49:49.882689",
     "exception": false,
     "start_time": "2022-05-06T10:49:46.207842",
     "status": "completed"
    },
    "tags": []
   },
   "outputs": [
    {
     "data": {
      "image/png": "[encoded data removed]",
      "text/plain": [
       "<Figure size 864x504 with 15 Axes>"
      ]
     },
     "metadata": {
      "needs_background": "light"
     },
     "output_type": "display_data"
    }
   ],
   "source": [
    "vis_arr = np.asarray(multilabel_confusion_matrix(y_test, y_pred))\n",
    "labels = ['HUMAN', 'NoF', 'YFT', 'ALB', 'OTH', 'BILL', 'DOL', 'BET', 'SKJ', 'LAG', 'SHARK', 'OIL', 'PLS', 'TUNA', 'WATER']\n",
    "fig, ax = plt.subplots(5, 3, figsize=(12, 7))\n",
    "for axes, cfs_matrix, label in zip(ax.flatten(), vis_arr, labels):\n",
    "        print_confusion_matrix(cfs_matrix, axes, label, [\"N\", \"Y\"])\n",
    "fig.tight_layout()\n",
    "plt.show()"
   ]
  },
  {
   "cell_type": "markdown",
   "id": "298412f1",
   "metadata": {
    "papermill": {
     "duration": 0.404484,
     "end_time": "2022-05-06T10:49:50.678024",
     "exception": false,
     "start_time": "2022-05-06T10:49:50.273540",
     "status": "completed"
    },
    "tags": []
   },
   "source": [
    "#['HUMAN', 'NoF', 'YFT', 'ALB', 'OTH', 'BILL', 'DOL', 'BET', 'SKJ', 'LAG', 'SHARK', 'OIL', 'PLS', 'TUNA', 'WATER']\n",
    "import numpy as np\n",
    "from sklearn.metrics import confusion_matrix\n",
    "\n",
    "preds = model2.predict(X_test)\n",
    "y_pred = np.round(preds) #<TODO: convert the probabilities to classes with numpy>\n",
    "\n",
    "conf_human=confusion_matrix(y_test[:,0], y_pred[:,0])\n",
    "conf_nof=confusion_matrix(y_test[:,1], y_pred[:,1])\n",
    "conf_yft=confusion_matrix(y_test[:,2], y_pred[:,2])\n",
    "#'ALB', 'OTH', 'BILL',\n",
    "conf_alb=confusion_matrix(y_test[:,3], y_pred[:,3])\n",
    "conf_oth=confusion_matrix(y_test[:,4], y_pred[:,4])\n",
    "conf_bill=confusion_matrix(y_test[:,5], y_pred[:,5])\n",
    "#'DOL', 'BET', 'SKJ'\n",
    "conf_dol=confusion_matrix(y_test[:,6], y_pred[:,6])\n",
    "conf_bet=confusion_matrix(y_test[:,7], y_pred[:,7])\n",
    "conf_sky=confusion_matrix(y_test[:,8], y_pred[:,8])\n",
    "#'LAG', 'SHARK', 'OIL'\n",
    "conf_lag=confusion_matrix(y_test[:,9], y_pred[:,9])\n",
    "conf_shark=confusion_matrix(y_test[:,10], y_pred[:,10])\n",
    "conf_oil=confusion_matrix(y_test[:,11], y_pred[:,11])\n",
    "#'PLS', 'TUNA', 'WATER'\n",
    "conf_pls=confusion_matrix(y_test[:,12], y_pred[:,12])\n",
    "conf_tuna=confusion_matrix(y_test[:,13], y_pred[:,13])\n",
    "conf_water=confusion_matrix(y_test[:,14], y_pred[:,14])\n",
    "\n",
    "\n",
    "print(conf_human)"
   ]
  },
  {
   "cell_type": "markdown",
   "id": "0e41078f",
   "metadata": {
    "papermill": {
     "duration": 0.499879,
     "end_time": "2022-05-06T10:49:51.567929",
     "exception": false,
     "start_time": "2022-05-06T10:49:51.068050",
     "status": "completed"
    },
    "tags": []
   },
   "source": [
    "conf_human\n",
    "conf_nof\n",
    "conf_yft\n",
    "\n",
    "conf_alb\n",
    "conf_oth\n",
    "conf_bill\n",
    "\n",
    "conf_dol\n",
    "conf_bet\n",
    "conf_sky\n",
    "\n",
    "conf_lag\n",
    "conf_shark\n",
    "conf_oil\n",
    "\n",
    "conf_pls\n",
    "conf_tuna\n",
    "conf_water"
   ]
  },
  {
   "cell_type": "markdown",
   "id": "17531ce4",
   "metadata": {
    "execution": {
     "iopub.execute_input": "2022-05-02T10:46:56.591785Z",
     "iopub.status.busy": "2022-05-02T10:46:56.591467Z",
     "iopub.status.idle": "2022-05-02T10:47:41.240677Z",
     "shell.execute_reply": "2022-05-02T10:47:41.239513Z",
     "shell.execute_reply.started": "2022-05-02T10:46:56.591755Z"
    },
    "papermill": {
     "duration": 0.390576,
     "end_time": "2022-05-06T10:49:52.533380",
     "exception": false,
     "start_time": "2022-05-06T10:49:52.142804",
     "status": "completed"
    },
    "tags": []
   },
   "source": [
    "import seaborn as sns\n",
    "ax_human = sns.heatmap(conf_human, annot=True, fmt='d', cmap='Blues') \n",
    "ax_human.set(xlabel='Predicted Label',\n",
    "       ylabel='True label', title= 'Human');\n"
   ]
  },
  {
   "cell_type": "markdown",
   "id": "b0bfa4b0",
   "metadata": {
    "execution": {
     "iopub.execute_input": "2022-04-29T18:09:20.263919Z",
     "iopub.status.busy": "2022-04-29T18:09:20.263002Z",
     "iopub.status.idle": "2022-04-29T18:09:20.493714Z",
     "shell.execute_reply": "2022-04-29T18:09:20.49289Z",
     "shell.execute_reply.started": "2022-04-29T18:09:20.263874Z"
    },
    "papermill": {
     "duration": 0.389747,
     "end_time": "2022-05-06T10:49:53.313197",
     "exception": false,
     "start_time": "2022-05-06T10:49:52.923450",
     "status": "completed"
    },
    "tags": []
   },
   "source": [
    "ax_nof = sns.heatmap(conf_nof, annot=True, fmt='d', cmap='Blues') \n",
    "ax_nof.set(xlabel='Predicted Label',\n",
    "       ylabel='True label', title= 'NoF');"
   ]
  },
  {
   "cell_type": "markdown",
   "id": "d5307340",
   "metadata": {
    "execution": {
     "iopub.execute_input": "2022-04-29T18:10:40.76687Z",
     "iopub.status.busy": "2022-04-29T18:10:40.766585Z",
     "iopub.status.idle": "2022-04-29T18:10:40.995672Z",
     "shell.execute_reply": "2022-04-29T18:10:40.994932Z",
     "shell.execute_reply.started": "2022-04-29T18:10:40.766837Z"
    },
    "papermill": {
     "duration": 0.388902,
     "end_time": "2022-05-06T10:49:54.143755",
     "exception": false,
     "start_time": "2022-05-06T10:49:53.754853",
     "status": "completed"
    },
    "tags": []
   },
   "source": [
    "ax_yft = sns.heatmap(conf_yft, annot=True, fmt='d', cmap='Blues') \n",
    "ax_yft.set(xlabel='Predicted Label',\n",
    "       ylabel='True label', title= 'YFT');"
   ]
  },
  {
   "cell_type": "markdown",
   "id": "4394380d",
   "metadata": {
    "execution": {
     "iopub.execute_input": "2022-04-29T18:11:13.359539Z",
     "iopub.status.busy": "2022-04-29T18:11:13.358917Z",
     "iopub.status.idle": "2022-04-29T18:11:13.582591Z",
     "shell.execute_reply": "2022-04-29T18:11:13.581835Z",
     "shell.execute_reply.started": "2022-04-29T18:11:13.359498Z"
    },
    "papermill": {
     "duration": 0.391656,
     "end_time": "2022-05-06T10:49:54.924587",
     "exception": false,
     "start_time": "2022-05-06T10:49:54.532931",
     "status": "completed"
    },
    "tags": []
   },
   "source": [
    "ax_alb = sns.heatmap(conf_alb, annot=True, fmt='d', cmap='Blues') \n",
    "ax_alb.set(xlabel='Predicted Label',\n",
    "       ylabel='True label', title= 'ALB');"
   ]
  },
  {
   "cell_type": "markdown",
   "id": "bdefb80b",
   "metadata": {
    "execution": {
     "iopub.execute_input": "2022-04-29T18:12:11.308825Z",
     "iopub.status.busy": "2022-04-29T18:12:11.308053Z",
     "iopub.status.idle": "2022-04-29T18:12:11.517565Z",
     "shell.execute_reply": "2022-04-29T18:12:11.51686Z",
     "shell.execute_reply.started": "2022-04-29T18:12:11.308783Z"
    },
    "papermill": {
     "duration": 0.389093,
     "end_time": "2022-05-06T10:49:55.703377",
     "exception": false,
     "start_time": "2022-05-06T10:49:55.314284",
     "status": "completed"
    },
    "tags": []
   },
   "source": [
    "ax_oth = sns.heatmap(conf_oth, annot=True, fmt='d', cmap='Blues') \n",
    "ax_oth.set(xlabel='Predicted Label',\n",
    "       ylabel='True label', title= 'OTH');"
   ]
  },
  {
   "cell_type": "markdown",
   "id": "40bdb490",
   "metadata": {
    "execution": {
     "iopub.execute_input": "2022-04-29T18:12:38.740787Z",
     "iopub.status.busy": "2022-04-29T18:12:38.740006Z",
     "iopub.status.idle": "2022-04-29T18:12:38.957657Z",
     "shell.execute_reply": "2022-04-29T18:12:38.956868Z",
     "shell.execute_reply.started": "2022-04-29T18:12:38.740746Z"
    },
    "papermill": {
     "duration": 0.39221,
     "end_time": "2022-05-06T10:49:56.495696",
     "exception": false,
     "start_time": "2022-05-06T10:49:56.103486",
     "status": "completed"
    },
    "tags": []
   },
   "source": [
    "ax_bill = sns.heatmap(conf_bill, annot=True, fmt='d', cmap='Blues') \n",
    "ax_bill.set(xlabel='Predicted Label',\n",
    "       ylabel='True label', title= 'BILL');"
   ]
  },
  {
   "cell_type": "markdown",
   "id": "c3be93d6",
   "metadata": {
    "execution": {
     "iopub.execute_input": "2022-04-29T18:13:18.537828Z",
     "iopub.status.busy": "2022-04-29T18:13:18.537016Z",
     "iopub.status.idle": "2022-04-29T18:13:18.751588Z",
     "shell.execute_reply": "2022-04-29T18:13:18.75088Z",
     "shell.execute_reply.started": "2022-04-29T18:13:18.537779Z"
    },
    "papermill": {
     "duration": 0.398174,
     "end_time": "2022-05-06T10:49:57.285170",
     "exception": false,
     "start_time": "2022-05-06T10:49:56.886996",
     "status": "completed"
    },
    "tags": []
   },
   "source": [
    "ax_dol = sns.heatmap(conf_dol, annot=True, fmt='d', cmap='Blues') \n",
    "ax_dol.set(xlabel='Predicted Label',\n",
    "       ylabel='True label', title= 'DOL');"
   ]
  },
  {
   "cell_type": "markdown",
   "id": "c6886c4c",
   "metadata": {
    "execution": {
     "iopub.execute_input": "2022-04-29T18:14:05.020203Z",
     "iopub.status.busy": "2022-04-29T18:14:05.019333Z",
     "iopub.status.idle": "2022-04-29T18:14:05.241813Z",
     "shell.execute_reply": "2022-04-29T18:14:05.241055Z",
     "shell.execute_reply.started": "2022-04-29T18:14:05.020161Z"
    },
    "papermill": {
     "duration": 0.390512,
     "end_time": "2022-05-06T10:49:58.073761",
     "exception": false,
     "start_time": "2022-05-06T10:49:57.683249",
     "status": "completed"
    },
    "tags": []
   },
   "source": [
    "ax_bet = sns.heatmap(conf_bet, annot=True, fmt='d', cmap='Blues') \n",
    "ax_bet.set(xlabel='Predicted Label',\n",
    "       ylabel='True label', title= 'BET');"
   ]
  },
  {
   "cell_type": "markdown",
   "id": "c9878101",
   "metadata": {
    "execution": {
     "iopub.execute_input": "2022-04-29T18:14:37.189812Z",
     "iopub.status.busy": "2022-04-29T18:14:37.189081Z",
     "iopub.status.idle": "2022-04-29T18:14:37.400638Z",
     "shell.execute_reply": "2022-04-29T18:14:37.399897Z",
     "shell.execute_reply.started": "2022-04-29T18:14:37.189772Z"
    },
    "papermill": {
     "duration": 0.38975,
     "end_time": "2022-05-06T10:49:58.854745",
     "exception": false,
     "start_time": "2022-05-06T10:49:58.464995",
     "status": "completed"
    },
    "tags": []
   },
   "source": [
    "ax_sky = sns.heatmap(conf_sky, annot=True, fmt='d', cmap='Blues') \n",
    "ax_sky.set(xlabel='Predicted Label',\n",
    "       ylabel='True label', title= 'SKY');"
   ]
  },
  {
   "cell_type": "markdown",
   "id": "6a184c50",
   "metadata": {
    "execution": {
     "iopub.execute_input": "2022-04-29T18:15:24.862718Z",
     "iopub.status.busy": "2022-04-29T18:15:24.861951Z",
     "iopub.status.idle": "2022-04-29T18:15:25.074551Z",
     "shell.execute_reply": "2022-04-29T18:15:25.073672Z",
     "shell.execute_reply.started": "2022-04-29T18:15:24.862673Z"
    },
    "papermill": {
     "duration": 0.391151,
     "end_time": "2022-05-06T10:49:59.636900",
     "exception": false,
     "start_time": "2022-05-06T10:49:59.245749",
     "status": "completed"
    },
    "tags": []
   },
   "source": [
    "ax_lag = sns.heatmap(conf_lag, annot=True, fmt='d', cmap='Blues') \n",
    "ax_lag.set(xlabel='Predicted Label',\n",
    "       ylabel='True label', title= 'LAG');"
   ]
  },
  {
   "cell_type": "markdown",
   "id": "83359474",
   "metadata": {
    "execution": {
     "iopub.execute_input": "2022-04-29T18:15:45.227653Z",
     "iopub.status.busy": "2022-04-29T18:15:45.226966Z",
     "iopub.status.idle": "2022-04-29T18:15:45.45457Z",
     "shell.execute_reply": "2022-04-29T18:15:45.453842Z",
     "shell.execute_reply.started": "2022-04-29T18:15:45.227611Z"
    },
    "papermill": {
     "duration": 0.395596,
     "end_time": "2022-05-06T10:50:00.421050",
     "exception": false,
     "start_time": "2022-05-06T10:50:00.025454",
     "status": "completed"
    },
    "tags": []
   },
   "source": [
    "ax_shark = sns.heatmap(conf_shark, annot=True, fmt='d', cmap='Blues') \n",
    "ax_shark.set(xlabel='Predicted Label',\n",
    "       ylabel='True label', title= 'SHARK');"
   ]
  },
  {
   "cell_type": "markdown",
   "id": "29373c74",
   "metadata": {
    "execution": {
     "iopub.execute_input": "2022-04-29T18:16:16.917724Z",
     "iopub.status.busy": "2022-04-29T18:16:16.917456Z",
     "iopub.status.idle": "2022-04-29T18:16:17.145593Z",
     "shell.execute_reply": "2022-04-29T18:16:17.144872Z",
     "shell.execute_reply.started": "2022-04-29T18:16:16.917693Z"
    },
    "papermill": {
     "duration": 0.391164,
     "end_time": "2022-05-06T10:50:01.200711",
     "exception": false,
     "start_time": "2022-05-06T10:50:00.809547",
     "status": "completed"
    },
    "tags": []
   },
   "source": [
    "ax_oil = sns.heatmap(conf_oil, annot=True, fmt='d', cmap='Blues') \n",
    "ax_oil.set(xlabel='Predicted Label',\n",
    "       ylabel='True label', title= 'OIL');"
   ]
  },
  {
   "cell_type": "markdown",
   "id": "58c1c916",
   "metadata": {
    "execution": {
     "iopub.execute_input": "2022-04-29T18:16:39.959598Z",
     "iopub.status.busy": "2022-04-29T18:16:39.958968Z",
     "iopub.status.idle": "2022-04-29T18:16:40.189319Z",
     "shell.execute_reply": "2022-04-29T18:16:40.188566Z",
     "shell.execute_reply.started": "2022-04-29T18:16:39.959561Z"
    },
    "papermill": {
     "duration": 0.387314,
     "end_time": "2022-05-06T10:50:01.986333",
     "exception": false,
     "start_time": "2022-05-06T10:50:01.599019",
     "status": "completed"
    },
    "tags": []
   },
   "source": [
    "ax_pls = sns.heatmap(conf_pls, annot=True, fmt='d', cmap='Blues') \n",
    "ax_pls.set(xlabel='Predicted Label',\n",
    "       ylabel='True label', title= 'PLS');"
   ]
  },
  {
   "cell_type": "markdown",
   "id": "9f01e054",
   "metadata": {
    "execution": {
     "iopub.execute_input": "2022-04-29T18:16:59.197034Z",
     "iopub.status.busy": "2022-04-29T18:16:59.19675Z",
     "iopub.status.idle": "2022-04-29T18:16:59.407719Z",
     "shell.execute_reply": "2022-04-29T18:16:59.40691Z",
     "shell.execute_reply.started": "2022-04-29T18:16:59.196988Z"
    },
    "papermill": {
     "duration": 0.6137,
     "end_time": "2022-05-06T10:50:03.023057",
     "exception": false,
     "start_time": "2022-05-06T10:50:02.409357",
     "status": "completed"
    },
    "tags": []
   },
   "source": [
    "ax_tuna = sns.heatmap(conf_tuna, annot=True, fmt='d', cmap='Blues') \n",
    "ax_tuna.set(xlabel='Predicted Label',\n",
    "       ylabel='True label', title= 'TUNA');"
   ]
  },
  {
   "cell_type": "markdown",
   "id": "1b435626",
   "metadata": {
    "execution": {
     "iopub.execute_input": "2022-04-29T18:17:26.871799Z",
     "iopub.status.busy": "2022-04-29T18:17:26.871516Z",
     "iopub.status.idle": "2022-04-29T18:17:27.099327Z",
     "shell.execute_reply": "2022-04-29T18:17:27.098585Z",
     "shell.execute_reply.started": "2022-04-29T18:17:26.871768Z"
    },
    "papermill": {
     "duration": 0.387832,
     "end_time": "2022-05-06T10:50:03.831408",
     "exception": false,
     "start_time": "2022-05-06T10:50:03.443576",
     "status": "completed"
    },
    "tags": []
   },
   "source": [
    "ax_water = sns.heatmap(conf_water, annot=True, fmt='d', cmap='Blues') \n",
    "ax_water.set(xlabel='Predicted Label',\n",
    "       ylabel='True label', title= 'WATER');"
   ]
  },
  {
   "cell_type": "code",
   "execution_count": 42,
   "id": "6afebb9c",
   "metadata": {
    "execution": {
     "iopub.execute_input": "2022-05-06T10:50:04.611916Z",
     "iopub.status.busy": "2022-05-06T10:50:04.611665Z",
     "iopub.status.idle": "2022-05-06T10:50:05.271542Z",
     "shell.execute_reply": "2022-05-06T10:50:05.270866Z"
    },
    "papermill": {
     "duration": 1.051723,
     "end_time": "2022-05-06T10:50:05.273342",
     "exception": false,
     "start_time": "2022-05-06T10:50:04.221619",
     "status": "completed"
    },
    "tags": []
   },
   "outputs": [
    {
     "data": {
      "text/plain": [
       "0\n",
       "0.0     34\n",
       "1.0    866\n",
       "dtype: int64"
      ]
     },
     "execution_count": 42,
     "metadata": {},
     "output_type": "execute_result"
    }
   ],
   "source": [
    "Y_train= pd.DataFrame(y_train)\n",
    "Y_test= pd.DataFrame(y_test)\n",
    "preds2 = np.round(model2.predict(X_test))\n",
    "Y_preds= pd.DataFrame(preds2)\n",
    "Y_train.columns\n",
    "(Y_train.groupby(0).size())\n",
    "\n"
   ]
  },
  {
   "cell_type": "code",
   "execution_count": 43,
   "id": "2e2d0081",
   "metadata": {
    "execution": {
     "iopub.execute_input": "2022-05-06T10:50:06.057493Z",
     "iopub.status.busy": "2022-05-06T10:50:06.056859Z",
     "iopub.status.idle": "2022-05-06T10:50:06.073916Z",
     "shell.execute_reply": "2022-05-06T10:50:06.072597Z"
    },
    "papermill": {
     "duration": 0.409418,
     "end_time": "2022-05-06T10:50:06.075647",
     "exception": false,
     "start_time": "2022-05-06T10:50:05.666229",
     "status": "completed"
    },
    "tags": []
   },
   "outputs": [
    {
     "name": "stdout",
     "output_type": "stream",
     "text": [
      "15\n",
      "[0.034, 0.882, 0.689, 0.614, 0.839, 0.866, 0.863, 0.837, 0.832, 0.884, 0.891, 0.9, 0.899, 0.898, 0.897]\n",
      "15\n",
      "[0.966, 0.118, 0.311, 0.386, 0.161, 0.134, 0.137, 0.163, 0.168, 0.116, 0.109, 0.1, 0.101, 0.102, 0.103]\n",
      "15\n"
     ]
    }
   ],
   "source": [
    "y_labels = ['HUMAN', 'NoF', 'YFT', 'ALB', 'OTH', 'BILL', 'DOL', 'BET', 'SKJ', 'LAG', 'SHARK', 'OIL', 'PLS', 'TUNA', 'WATER']\n",
    "print(len(y_labels))\n",
    "counts = []\n",
    "for i in range(0,15):\n",
    "    x = list(Y_train.groupby(i).size())\n",
    "    counts.append(x[0]/1000)\n",
    "print(counts)\n",
    "print(len(counts))\n",
    "frequency= [round(1-i, 3) for i in counts]\n",
    "print(frequency)\n",
    "print(len(frequency))"
   ]
  },
  {
   "cell_type": "code",
   "execution_count": 44,
   "id": "1ded5643",
   "metadata": {
    "execution": {
     "iopub.execute_input": "2022-05-06T10:50:06.856909Z",
     "iopub.status.busy": "2022-05-06T10:50:06.856134Z",
     "iopub.status.idle": "2022-05-06T10:50:07.185821Z",
     "shell.execute_reply": "2022-05-06T10:50:07.185099Z"
    },
    "papermill": {
     "duration": 0.720642,
     "end_time": "2022-05-06T10:50:07.187719",
     "exception": false,
     "start_time": "2022-05-06T10:50:06.467077",
     "status": "completed"
    },
    "tags": []
   },
   "outputs": [
    {
     "data": {
      "image/png": "[encoded data removed]",
      "text/plain": [
       "<Figure size 864x576 with 1 Axes>"
      ]
     },
     "metadata": {
      "needs_background": "light"
     },
     "output_type": "display_data"
    }
   ],
   "source": [
    "df_counts = pd.DataFrame({'Frequency': frequency}, index=y_labels)\n",
    "ax = df_counts.plot(kind='bar', figsize=(12, 8), title='Label Occurence in images in Train',\n",
    "             xlabel='Label', ylabel='Frequency', legend=False)\n",
    "\n",
    "# annotate\n",
    "ax.bar_label(ax.containers[0], label_type='edge')\n",
    "\n",
    "# pad the spacing between the number and the edge of the figure\n",
    "ax.margins(y=0.1)"
   ]
  },
  {
   "cell_type": "code",
   "execution_count": 45,
   "id": "cdca33ce",
   "metadata": {
    "execution": {
     "iopub.execute_input": "2022-05-06T10:50:07.972772Z",
     "iopub.status.busy": "2022-05-06T10:50:07.972507Z",
     "iopub.status.idle": "2022-05-06T10:50:07.981666Z",
     "shell.execute_reply": "2022-05-06T10:50:07.980953Z"
    },
    "papermill": {
     "duration": 0.405843,
     "end_time": "2022-05-06T10:50:07.983529",
     "exception": false,
     "start_time": "2022-05-06T10:50:07.577686",
     "status": "completed"
    },
    "tags": []
   },
   "outputs": [
    {
     "data": {
      "text/plain": [
       "3\n",
       "0.0    71\n",
       "1.0    29\n",
       "dtype: int64"
      ]
     },
     "execution_count": 45,
     "metadata": {},
     "output_type": "execute_result"
    }
   ],
   "source": [
    "Y_test.groupby(3).size()"
   ]
  },
  {
   "cell_type": "code",
   "execution_count": 46,
   "id": "d87611c3",
   "metadata": {
    "execution": {
     "iopub.execute_input": "2022-05-06T10:50:08.778261Z",
     "iopub.status.busy": "2022-05-06T10:50:08.777974Z",
     "iopub.status.idle": "2022-05-06T10:50:08.793947Z",
     "shell.execute_reply": "2022-05-06T10:50:08.793067Z"
    },
    "papermill": {
     "duration": 0.411371,
     "end_time": "2022-05-06T10:50:08.795683",
     "exception": false,
     "start_time": "2022-05-06T10:50:08.384312",
     "status": "completed"
    },
    "tags": []
   },
   "outputs": [
    {
     "name": "stdout",
     "output_type": "stream",
     "text": [
      "15\n",
      "[0.05, 0.95, 0.79, 0.71, 0.94, 0.92, 0.95, 0.96, 0.91, 0.96, 1.0, 1.0, 1.0, 0.98, 1.0]\n",
      "15\n",
      "[0.95, 0.05, 0.21, 0.29, 0.06, 0.08, 0.05, 0.04, 0.09, 0.04, 0.0, 0.0, 0.0, 0.02, 0.0]\n",
      "15\n"
     ]
    }
   ],
   "source": [
    "print(len(y_labels))\n",
    "counts = []\n",
    "for i in range(0,15):\n",
    "    x = list(Y_test.groupby(i).size())\n",
    "    counts.append(x[0]/100)\n",
    "print(counts)\n",
    "print(len(counts))\n",
    "frequency= [round(1-i, 3) for i in counts]\n",
    "print(frequency)\n",
    "print(len(frequency))"
   ]
  },
  {
   "cell_type": "code",
   "execution_count": 47,
   "id": "81bbc496",
   "metadata": {
    "execution": {
     "iopub.execute_input": "2022-05-06T10:50:09.579859Z",
     "iopub.status.busy": "2022-05-06T10:50:09.579598Z",
     "iopub.status.idle": "2022-05-06T10:50:10.156561Z",
     "shell.execute_reply": "2022-05-06T10:50:10.155887Z"
    },
    "papermill": {
     "duration": 0.970133,
     "end_time": "2022-05-06T10:50:10.158496",
     "exception": false,
     "start_time": "2022-05-06T10:50:09.188363",
     "status": "completed"
    },
    "tags": []
   },
   "outputs": [
    {
     "data": {
      "image/png": "[encoded data removed]",
      "text/plain": [
       "<Figure size 864x576 with 1 Axes>"
      ]
     },
     "metadata": {
      "needs_background": "light"
     },
     "output_type": "display_data"
    }
   ],
   "source": [
    "df_counts = pd.DataFrame({'Frequency': frequency}, index=y_labels)\n",
    "ax = df_counts.plot(kind='bar', figsize=(12, 8), title='Label Occurence in Images in Test',\n",
    "             xlabel='Label', ylabel='Frequency', legend=False)\n",
    "\n",
    "# annotate\n",
    "ax.bar_label(ax.containers[0], label_type='edge')\n",
    "\n",
    "# pad the spacing between the number and the edge of the figure\n",
    "ax.margins(y=0.1)"
   ]
  },
  {
   "cell_type": "code",
   "execution_count": 48,
   "id": "fb43550e",
   "metadata": {
    "execution": {
     "iopub.execute_input": "2022-05-06T10:50:10.941369Z",
     "iopub.status.busy": "2022-05-06T10:50:10.941093Z",
     "iopub.status.idle": "2022-05-06T10:50:10.948408Z",
     "shell.execute_reply": "2022-05-06T10:50:10.947748Z"
    },
    "papermill": {
     "duration": 0.401618,
     "end_time": "2022-05-06T10:50:10.950364",
     "exception": false,
     "start_time": "2022-05-06T10:50:10.548746",
     "status": "completed"
    },
    "tags": []
   },
   "outputs": [
    {
     "data": {
      "text/plain": [
       "True"
      ]
     },
     "execution_count": 48,
     "metadata": {},
     "output_type": "execute_result"
    }
   ],
   "source": [
    "Y_preds.groupby(0).size()[1]==100\n",
    "#list(Y_preds.groupby(0).size())"
   ]
  },
  {
   "cell_type": "code",
   "execution_count": 49,
   "id": "d5c475f4",
   "metadata": {
    "execution": {
     "iopub.execute_input": "2022-05-06T10:50:11.752433Z",
     "iopub.status.busy": "2022-05-06T10:50:11.752174Z",
     "iopub.status.idle": "2022-05-06T10:50:11.770561Z",
     "shell.execute_reply": "2022-05-06T10:50:11.769814Z"
    },
    "papermill": {
     "duration": 0.414077,
     "end_time": "2022-05-06T10:50:11.772291",
     "exception": false,
     "start_time": "2022-05-06T10:50:11.358214",
     "status": "completed"
    },
    "tags": []
   },
   "outputs": [
    {
     "name": "stdout",
     "output_type": "stream",
     "text": [
      "15\n",
      "[0, 1.0, 0.7, 0.88, 1.0, 0.97, 1.0, 1.0, 1.0, 0.99, 1.0, 1.0, 1.0, 1.0, 1.0]\n",
      "15\n",
      "[1, 0.0, 0.3, 0.12, 0.0, 0.03, 0.0, 0.0, 0.0, 0.01, 0.0, 0.0, 0.0, 0.0, 0.0]\n",
      "15\n"
     ]
    }
   ],
   "source": [
    "print(len(y_labels))\n",
    "counts = []\n",
    "for i in range(0,15):\n",
    "    x = list(Y_preds.groupby(i).size())\n",
    "    if i == 0:\n",
    "        counts.append(0)\n",
    "    else:\n",
    "        counts.append(x[0]/100)\n",
    "print(counts)\n",
    "print(len(counts))\n",
    "frequency= [round(1-i, 3) for i in counts]\n",
    "print(frequency)\n",
    "print(len(frequency))"
   ]
  },
  {
   "cell_type": "code",
   "execution_count": 50,
   "id": "c9689755",
   "metadata": {
    "execution": {
     "iopub.execute_input": "2022-05-06T10:50:12.565855Z",
     "iopub.status.busy": "2022-05-06T10:50:12.565180Z",
     "iopub.status.idle": "2022-05-06T10:50:12.861638Z",
     "shell.execute_reply": "2022-05-06T10:50:12.860902Z"
    },
    "papermill": {
     "duration": 0.698597,
     "end_time": "2022-05-06T10:50:12.863872",
     "exception": false,
     "start_time": "2022-05-06T10:50:12.165275",
     "status": "completed"
    },
    "tags": []
   },
   "outputs": [
    {
     "data": {
      "image/png": "[encoded data removed]",
      "text/plain": [
       "<Figure size 864x576 with 1 Axes>"
      ]
     },
     "metadata": {
      "needs_background": "light"
     },
     "output_type": "display_data"
    }
   ],
   "source": [
    "df_counts = pd.DataFrame({'Frequency': frequency}, index=y_labels)\n",
    "ax = df_counts.plot(kind='bar', figsize=(12, 8), title='Label Occurence in Images in Test',\n",
    "             xlabel='Label', ylabel='Frequency', legend=False)\n",
    "\n",
    "# annotate\n",
    "ax.bar_label(ax.containers[0], label_type='edge')\n",
    "\n",
    "# pad the spacing between the number and the edge of the figure\n",
    "ax.margins(y=0.1)"
   ]
  },
  {
   "cell_type": "code",
   "execution_count": null,
   "id": "ae372d30",
   "metadata": {
    "papermill": {
     "duration": 0.656934,
     "end_time": "2022-05-06T10:50:13.922484",
     "exception": false,
     "start_time": "2022-05-06T10:50:13.265550",
     "status": "completed"
    },
    "tags": []
   },
   "outputs": [],
   "source": []
  }
 ],
 "metadata": {
  "kernelspec": {
   "display_name": "Python 3",
   "language": "python",
   "name": "python3"
  },
  "language_info": {
   "codemirror_mode": {
    "name": "ipython",
    "version": 3
   },
   "file_extension": ".py",
   "mimetype": "text/x-python",
   "name": "python",
   "nbconvert_exporter": "python",
   "pygments_lexer": "ipython3",
   "version": "3.7.12"
  },
  "papermill": {
   "default_parameters": {},
   "duration": 431.472248,
   "end_time": "2022-05-06T10:50:17.453157",
   "environment_variables": {},
   "exception": null,
   "input_path": "__notebook__.ipynb",
   "output_path": "__notebook__.ipynb",
   "parameters": {},
   "start_time": "2022-05-06T10:43:05.980909",
   "version": "2.3.4"
  }
 },
 "nbformat": 4,
 "nbformat_minor": 5
}
